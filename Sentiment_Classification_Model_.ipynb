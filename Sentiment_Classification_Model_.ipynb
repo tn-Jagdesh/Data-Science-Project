{
  "cells": [
    {
      "cell_type": "markdown",
      "id": "997177a7",
      "metadata": {
        "id": "997177a7"
      },
      "source": [
        "# Sentiment -Modeling"
      ]
    },
    {
      "cell_type": "code",
      "execution_count": null,
      "id": "0c92ced7",
      "metadata": {
        "id": "0c92ced7",
        "outputId": "2362d7fa-7855-426f-c650-ec728ea9dc4b"
      },
      "outputs": [
        {
          "name": "stderr",
          "output_type": "stream",
          "text": [
            "[nltk_data] Downloading package stopwords to\n",
            "[nltk_data]     C:\\Users\\Abdul\\AppData\\Roaming\\nltk_data...\n",
            "[nltk_data]   Package stopwords is already up-to-date!\n"
          ]
        }
      ],
      "source": [
        "import nltk\n",
        "nltk.download(\"stopwords\")\n",
        "\n",
        "from nltk.corpus import stopwords\n",
        "stop = stopwords.words(\"english\")\n",
        "\n",
        "import pandas as pd\n",
        "import numpy as np\n",
        "import itertools\n",
        "from sklearn.utils import resample\n",
        "from sklearn.model_selection import train_test_split\n",
        "from sklearn.feature_extraction.text import TfidfVectorizer\n",
        "from sklearn import metrics\n",
        "\n",
        "from sklearn.tree import DecisionTreeClassifier\n",
        "from sklearn.ensemble import RandomForestClassifier\n",
        "from sklearn.neighbors import KNeighborsClassifier\n",
        "from sklearn.linear_model import LogisticRegression\n",
        "from sklearn.naive_bayes import MultinomialNB\n",
        "from sklearn.metrics import confusion_matrix\n",
        "from sklearn.pipeline import Pipeline\n",
        "from sklearn.feature_extraction.text import CountVectorizer\n",
        "from sklearn.feature_extraction.text import TfidfVectorizer\n",
        "from sklearn.metrics import classification_report, f1_score, accuracy_score, precision_score, recall_score\n",
        "from sklearn.svm import LinearSVC\n",
        "from sklearn import set_config\n",
        "from sklearn.model_selection import StratifiedKFold, cross_val_score, GridSearchCV\n",
        "import joblib\n",
        "\n",
        "set_config(display='diagram')\n",
        "\n",
        "import matplotlib.pyplot as plt"
      ]
    },
    {
      "cell_type": "markdown",
      "id": "3fecca18",
      "metadata": {
        "id": "3fecca18"
      },
      "source": [
        "## Reading the files"
      ]
    },
    {
      "cell_type": "code",
      "execution_count": null,
      "id": "3573a255",
      "metadata": {
        "id": "3573a255"
      },
      "outputs": [],
      "source": [
        "cd_sent = pd.read_csv(\"cd_data_final.csv\")\n",
        "office_sent = pd.read_csv(\"office_data_final.csv\")"
      ]
    },
    {
      "cell_type": "code",
      "execution_count": null,
      "id": "9f3d8279",
      "metadata": {
        "id": "9f3d8279",
        "outputId": "4a55daed-318c-47b9-c3fd-762c4deedcd7"
      },
      "outputs": [
        {
          "name": "stdout",
          "output_type": "stream",
          "text": [
            "CD Vinyl DATASET SHAPE: (980929, 30)\n"
          ]
        }
      ],
      "source": [
        "print(\"CD Vinyl DATASET SHAPE:\",cd_sent.shape)"
      ]
    },
    {
      "cell_type": "code",
      "execution_count": null,
      "id": "4cb99e96",
      "metadata": {
        "id": "4cb99e96",
        "outputId": "276613e4-567c-4160-93c5-37be056fdaf9"
      },
      "outputs": [
        {
          "name": "stdout",
          "output_type": "stream",
          "text": [
            "Office Products DATASET SHAPE: (562378, 30)\n"
          ]
        }
      ],
      "source": [
        "print(\"Office Products DATASET SHAPE:\",office_sent.shape)"
      ]
    },
    {
      "cell_type": "code",
      "execution_count": null,
      "id": "3a508c33",
      "metadata": {
        "id": "3a508c33",
        "outputId": "15b60cd1-38ee-4bcd-f1fd-f3284f337672"
      },
      "outputs": [
        {
          "data": {
            "text/html": [
              "<div>\n",
              "<style scoped>\n",
              "    .dataframe tbody tr th:only-of-type {\n",
              "        vertical-align: middle;\n",
              "    }\n",
              "\n",
              "    .dataframe tbody tr th {\n",
              "        vertical-align: top;\n",
              "    }\n",
              "\n",
              "    .dataframe thead th {\n",
              "        text-align: right;\n",
              "    }\n",
              "</style>\n",
              "<table border=\"1\" class=\"dataframe\">\n",
              "  <thead>\n",
              "    <tr style=\"text-align: right;\">\n",
              "      <th></th>\n",
              "      <th>reviewerID</th>\n",
              "      <th>asin</th>\n",
              "      <th>verified</th>\n",
              "      <th>review</th>\n",
              "      <th>ratings</th>\n",
              "      <th>date</th>\n",
              "      <th>summary</th>\n",
              "      <th>unixReviewTime</th>\n",
              "      <th>category</th>\n",
              "      <th>description</th>\n",
              "      <th>...</th>\n",
              "      <th>Sentiment</th>\n",
              "      <th>word_count</th>\n",
              "      <th>char_count</th>\n",
              "      <th>avg_word</th>\n",
              "      <th>polarity</th>\n",
              "      <th>label</th>\n",
              "      <th>year</th>\n",
              "      <th>rating_class_num</th>\n",
              "      <th>review_length</th>\n",
              "      <th>review_length_bin</th>\n",
              "    </tr>\n",
              "  </thead>\n",
              "  <tbody>\n",
              "    <tr>\n",
              "      <th>0</th>\n",
              "      <td>A2LBDC9ZGSCAE6</td>\n",
              "      <td>0005164885</td>\n",
              "      <td>True</td>\n",
              "      <td>christmas tso goes together like rudolph santa</td>\n",
              "      <td>5.0</td>\n",
              "      <td>2018-02-22</td>\n",
              "      <td>TSO...what more do you need to know?</td>\n",
              "      <td>1519257600</td>\n",
              "      <td>['CDs &amp; Vinyl', 'Holiday &amp; Wedding']</td>\n",
              "      <td>['This is a concept album all the way, with ta...</td>\n",
              "      <td>...</td>\n",
              "      <td>Positive</td>\n",
              "      <td>7</td>\n",
              "      <td>46</td>\n",
              "      <td>5.7</td>\n",
              "      <td>0.000000</td>\n",
              "      <td>1.0</td>\n",
              "      <td>2018</td>\n",
              "      <td>1</td>\n",
              "      <td>7</td>\n",
              "      <td>(0, 100]</td>\n",
              "    </tr>\n",
              "    <tr>\n",
              "      <th>1</th>\n",
              "      <td>A2ZB6AHRM0ZLLW</td>\n",
              "      <td>0005164885</td>\n",
              "      <td>True</td>\n",
              "      <td>good</td>\n",
              "      <td>4.0</td>\n",
              "      <td>2018-02-14</td>\n",
              "      <td>Four Stars</td>\n",
              "      <td>1518566400</td>\n",
              "      <td>['CDs &amp; Vinyl', 'Holiday &amp; Wedding']</td>\n",
              "      <td>['This is a concept album all the way, with ta...</td>\n",
              "      <td>...</td>\n",
              "      <td>Positive</td>\n",
              "      <td>1</td>\n",
              "      <td>4</td>\n",
              "      <td>4.0</td>\n",
              "      <td>0.700000</td>\n",
              "      <td>1.0</td>\n",
              "      <td>2018</td>\n",
              "      <td>1</td>\n",
              "      <td>1</td>\n",
              "      <td>(0, 100]</td>\n",
              "    </tr>\n",
              "    <tr>\n",
              "      <th>2</th>\n",
              "      <td>A1LU1VWVVCU85F</td>\n",
              "      <td>0005164885</td>\n",
              "      <td>True</td>\n",
              "      <td>good sound holiday</td>\n",
              "      <td>5.0</td>\n",
              "      <td>2018-02-10</td>\n",
              "      <td>nice</td>\n",
              "      <td>1518220800</td>\n",
              "      <td>['CDs &amp; Vinyl', 'Holiday &amp; Wedding']</td>\n",
              "      <td>['This is a concept album all the way, with ta...</td>\n",
              "      <td>...</td>\n",
              "      <td>Positive</td>\n",
              "      <td>3</td>\n",
              "      <td>18</td>\n",
              "      <td>5.3</td>\n",
              "      <td>0.550000</td>\n",
              "      <td>1.0</td>\n",
              "      <td>2018</td>\n",
              "      <td>1</td>\n",
              "      <td>3</td>\n",
              "      <td>(0, 100]</td>\n",
              "    </tr>\n",
              "    <tr>\n",
              "      <th>3</th>\n",
              "      <td>A3VUWBZF2U32TJ</td>\n",
              "      <td>0005164885</td>\n",
              "      <td>True</td>\n",
              "      <td>item arrived quickly described</td>\n",
              "      <td>5.0</td>\n",
              "      <td>2018-01-28</td>\n",
              "      <td>Five Stars</td>\n",
              "      <td>1517097600</td>\n",
              "      <td>['CDs &amp; Vinyl', 'Holiday &amp; Wedding']</td>\n",
              "      <td>['This is a concept album all the way, with ta...</td>\n",
              "      <td>...</td>\n",
              "      <td>Positive</td>\n",
              "      <td>4</td>\n",
              "      <td>30</td>\n",
              "      <td>6.7</td>\n",
              "      <td>0.333333</td>\n",
              "      <td>1.0</td>\n",
              "      <td>2018</td>\n",
              "      <td>1</td>\n",
              "      <td>4</td>\n",
              "      <td>(0, 100]</td>\n",
              "    </tr>\n",
              "    <tr>\n",
              "      <th>4</th>\n",
              "      <td>AV3DKV2TW5B3C</td>\n",
              "      <td>0005164885</td>\n",
              "      <td>True</td>\n",
              "      <td>great album</td>\n",
              "      <td>5.0</td>\n",
              "      <td>2018-01-10</td>\n",
              "      <td>Five Stars</td>\n",
              "      <td>1515542400</td>\n",
              "      <td>['CDs &amp; Vinyl', 'Holiday &amp; Wedding']</td>\n",
              "      <td>['This is a concept album all the way, with ta...</td>\n",
              "      <td>...</td>\n",
              "      <td>Positive</td>\n",
              "      <td>2</td>\n",
              "      <td>11</td>\n",
              "      <td>5.0</td>\n",
              "      <td>0.800000</td>\n",
              "      <td>1.0</td>\n",
              "      <td>2018</td>\n",
              "      <td>1</td>\n",
              "      <td>2</td>\n",
              "      <td>(0, 100]</td>\n",
              "    </tr>\n",
              "  </tbody>\n",
              "</table>\n",
              "<p>5 rows × 30 columns</p>\n",
              "</div>"
            ],
            "text/plain": [
              "       reviewerID        asin  verified  \\\n",
              "0  A2LBDC9ZGSCAE6  0005164885      True   \n",
              "1  A2ZB6AHRM0ZLLW  0005164885      True   \n",
              "2  A1LU1VWVVCU85F  0005164885      True   \n",
              "3  A3VUWBZF2U32TJ  0005164885      True   \n",
              "4   AV3DKV2TW5B3C  0005164885      True   \n",
              "\n",
              "                                           review  ratings        date  \\\n",
              "0  christmas tso goes together like rudolph santa      5.0  2018-02-22   \n",
              "1                                            good      4.0  2018-02-14   \n",
              "2                              good sound holiday      5.0  2018-02-10   \n",
              "3                  item arrived quickly described      5.0  2018-01-28   \n",
              "4                                     great album      5.0  2018-01-10   \n",
              "\n",
              "                                summary  unixReviewTime  \\\n",
              "0  TSO...what more do you need to know?      1519257600   \n",
              "1                            Four Stars      1518566400   \n",
              "2                                  nice      1518220800   \n",
              "3                            Five Stars      1517097600   \n",
              "4                            Five Stars      1515542400   \n",
              "\n",
              "                               category  \\\n",
              "0  ['CDs & Vinyl', 'Holiday & Wedding']   \n",
              "1  ['CDs & Vinyl', 'Holiday & Wedding']   \n",
              "2  ['CDs & Vinyl', 'Holiday & Wedding']   \n",
              "3  ['CDs & Vinyl', 'Holiday & Wedding']   \n",
              "4  ['CDs & Vinyl', 'Holiday & Wedding']   \n",
              "\n",
              "                                         description  ... Sentiment  \\\n",
              "0  ['This is a concept album all the way, with ta...  ...  Positive   \n",
              "1  ['This is a concept album all the way, with ta...  ...  Positive   \n",
              "2  ['This is a concept album all the way, with ta...  ...  Positive   \n",
              "3  ['This is a concept album all the way, with ta...  ...  Positive   \n",
              "4  ['This is a concept album all the way, with ta...  ...  Positive   \n",
              "\n",
              "  word_count  char_count avg_word  polarity  label  year  rating_class_num  \\\n",
              "0          7          46      5.7  0.000000    1.0  2018                 1   \n",
              "1          1           4      4.0  0.700000    1.0  2018                 1   \n",
              "2          3          18      5.3  0.550000    1.0  2018                 1   \n",
              "3          4          30      6.7  0.333333    1.0  2018                 1   \n",
              "4          2          11      5.0  0.800000    1.0  2018                 1   \n",
              "\n",
              "   review_length review_length_bin  \n",
              "0              7          (0, 100]  \n",
              "1              1          (0, 100]  \n",
              "2              3          (0, 100]  \n",
              "3              4          (0, 100]  \n",
              "4              2          (0, 100]  \n",
              "\n",
              "[5 rows x 30 columns]"
            ]
          },
          "execution_count": 5,
          "metadata": {},
          "output_type": "execute_result"
        }
      ],
      "source": [
        "cd_sent.head()"
      ]
    },
    {
      "cell_type": "code",
      "execution_count": null,
      "id": "3d424350",
      "metadata": {
        "id": "3d424350",
        "outputId": "46b25ec0-307f-48d9-ea3a-effac75fd57f"
      },
      "outputs": [
        {
          "data": {
            "text/plain": [
              "(562378, 30)"
            ]
          },
          "execution_count": 6,
          "metadata": {},
          "output_type": "execute_result"
        }
      ],
      "source": [
        "office_sent.shape"
      ]
    },
    {
      "cell_type": "code",
      "execution_count": null,
      "id": "1245fd69",
      "metadata": {
        "id": "1245fd69",
        "outputId": "681781f2-ff7a-418c-e3b3-edcd8f6d3f56"
      },
      "outputs": [
        {
          "data": {
            "text/plain": [
              "reviewerID           0\n",
              "asin                 0\n",
              "verified             0\n",
              "review               1\n",
              "ratings              0\n",
              "date                 0\n",
              "summary              0\n",
              "unixReviewTime       0\n",
              "category             0\n",
              "description          0\n",
              "title                0\n",
              "brand                0\n",
              "price                0\n",
              "imageURL             0\n",
              "subcategory          0\n",
              "stopwords            0\n",
              "punctuation          0\n",
              "numerics             0\n",
              "upper                0\n",
              "rating_class         0\n",
              "Sentiment            0\n",
              "word_count           0\n",
              "char_count           0\n",
              "avg_word             0\n",
              "polarity             0\n",
              "label                0\n",
              "year                 0\n",
              "rating_class_num     0\n",
              "review_length        0\n",
              "review_length_bin    4\n",
              "dtype: int64"
            ]
          },
          "execution_count": 7,
          "metadata": {},
          "output_type": "execute_result"
        }
      ],
      "source": [
        "cd_sent.isnull().sum()"
      ]
    },
    {
      "cell_type": "code",
      "execution_count": null,
      "id": "ff1576af",
      "metadata": {
        "id": "ff1576af",
        "outputId": "af192075-c3ba-4655-c6a8-fb1e9c544156"
      },
      "outputs": [
        {
          "data": {
            "text/plain": [
              "ratings                  0\n",
              "verified                 0\n",
              "date                     0\n",
              "reviewerID               0\n",
              "asin                     0\n",
              "review                   1\n",
              "summary                  9\n",
              "unixReviewTime           0\n",
              "category                 0\n",
              "description              0\n",
              "title                   75\n",
              "brand                  907\n",
              "price                    0\n",
              "imageURL                 0\n",
              "subcategory          22051\n",
              "stopwords                0\n",
              "punctuation              0\n",
              "numerics                 0\n",
              "upper                    0\n",
              "rating_class             0\n",
              "Sentiment                0\n",
              "word_count               0\n",
              "char_count               0\n",
              "avg_word                 0\n",
              "polarity                 0\n",
              "label                    0\n",
              "year                     0\n",
              "rating_class_num         0\n",
              "review_length            0\n",
              "review_length_bin        2\n",
              "dtype: int64"
            ]
          },
          "execution_count": 8,
          "metadata": {},
          "output_type": "execute_result"
        }
      ],
      "source": [
        "office_sent.isnull().sum()"
      ]
    },
    {
      "cell_type": "code",
      "execution_count": null,
      "id": "8daa66fa",
      "metadata": {
        "id": "8daa66fa"
      },
      "outputs": [],
      "source": [
        "\n",
        "cd_sent.dropna(inplace = True)"
      ]
    },
    {
      "cell_type": "code",
      "execution_count": null,
      "id": "246dfcbc",
      "metadata": {
        "id": "246dfcbc"
      },
      "outputs": [],
      "source": [
        "\n",
        "\n",
        "office_sent.dropna(inplace = True)"
      ]
    },
    {
      "cell_type": "code",
      "execution_count": null,
      "id": "5606f43a",
      "metadata": {
        "id": "5606f43a",
        "outputId": "b39c93c9-116b-4293-9536-ab3a8d062a9f"
      },
      "outputs": [
        {
          "data": {
            "text/plain": [
              "(980924, 30)"
            ]
          },
          "execution_count": 11,
          "metadata": {},
          "output_type": "execute_result"
        }
      ],
      "source": [
        "cd_sent.shape"
      ]
    },
    {
      "cell_type": "code",
      "execution_count": null,
      "id": "cd91b93c",
      "metadata": {
        "id": "cd91b93c",
        "outputId": "b6fef926-1c37-46e9-d4cb-48b9af462d1c"
      },
      "outputs": [
        {
          "data": {
            "text/plain": [
              "(539446, 30)"
            ]
          },
          "execution_count": 12,
          "metadata": {},
          "output_type": "execute_result"
        }
      ],
      "source": [
        "office_sent.shape"
      ]
    },
    {
      "cell_type": "markdown",
      "id": "7ac1f720",
      "metadata": {
        "id": "7ac1f720"
      },
      "source": [
        "## AMAZON REVIEWS ANALYSIS - CD-Vinyl"
      ]
    },
    {
      "cell_type": "code",
      "execution_count": null,
      "id": "c8621b7b",
      "metadata": {
        "id": "c8621b7b"
      },
      "outputs": [],
      "source": [
        "#SAMPLING THE DATA INTO A BALANCED DATASET "
      ]
    },
    {
      "cell_type": "code",
      "execution_count": null,
      "id": "9f13ad8b",
      "metadata": {
        "id": "9f13ad8b"
      },
      "outputs": [],
      "source": [
        "\n",
        "\n",
        "# Separate majority and minority classes\n",
        "cd_pos = cd_sent[cd_sent['Sentiment']=='Positive']\n",
        "cd_neu = cd_sent[cd_sent['Sentiment']=='Neutral']\n",
        "cd_neg = cd_sent[cd_sent['Sentiment']=='Negative']\n",
        " \n",
        "\n",
        "df_cd_pos = resample(cd_pos, \n",
        "                                 replace=False,    \n",
        "                                 n_samples=35000)\n",
        "\n",
        "df_cd_neu = resample(cd_neu, \n",
        "                                 replace=True,     \n",
        "                                 n_samples=35000)\n",
        "\n",
        "df_cd_neg = resample(cd_neg, \n",
        "                        replace=True, n_samples=35000)\n",
        "\n",
        "# Combine minority class with downsampled majority class\n",
        "cd_df = pd.concat([df_cd_pos, df_cd_neu,df_cd_neg])"
      ]
    },
    {
      "cell_type": "code",
      "execution_count": null,
      "id": "3124a484",
      "metadata": {
        "id": "3124a484",
        "outputId": "740f73a9-3e1d-46e4-ef36-ec1bd9703834"
      },
      "outputs": [
        {
          "data": {
            "text/plain": [
              "(105000, 30)"
            ]
          },
          "execution_count": 15,
          "metadata": {},
          "output_type": "execute_result"
        }
      ],
      "source": [
        "cd_df.shape"
      ]
    },
    {
      "cell_type": "markdown",
      "id": "3262b445",
      "metadata": {
        "id": "3262b445"
      },
      "source": [
        "## SPLITING THE DATASET INTO TRAIN AND TEST"
      ]
    },
    {
      "cell_type": "code",
      "execution_count": null,
      "id": "c81ac578",
      "metadata": {
        "id": "c81ac578"
      },
      "outputs": [],
      "source": [
        "X = cd_df[\"review\"]\n",
        "y = cd_df[\"Sentiment\"]"
      ]
    },
    {
      "cell_type": "code",
      "execution_count": null,
      "id": "2095c404",
      "metadata": {
        "id": "2095c404"
      },
      "outputs": [],
      "source": [
        "X_train, X_test, y_train, y_test = train_test_split(X,y,test_size = 0.2,random_state = 42)"
      ]
    },
    {
      "cell_type": "markdown",
      "id": "2f27969a",
      "metadata": {
        "id": "2f27969a"
      },
      "source": [
        "## Pipeline Model"
      ]
    },
    {
      "cell_type": "code",
      "execution_count": null,
      "id": "4d055d30",
      "metadata": {
        "id": "4d055d30"
      },
      "outputs": [],
      "source": [
        "f1_list = []\n",
        "recall_list = []\n",
        "precision_list = []\n",
        "train_accuracy_list = []\n",
        "test_accuracy_list = []\n",
        "\n",
        "def f1_score1(precision,recall):\n",
        "    f1 = 2*(precision * recall)/(precision + recall)\n",
        "    return f1"
      ]
    },
    {
      "cell_type": "code",
      "execution_count": null,
      "id": "e2112e6e",
      "metadata": {
        "id": "e2112e6e"
      },
      "outputs": [],
      "source": [
        "\n",
        "def evaluation(pipeline):\n",
        "    pipeline = pipeline.fit(X_train, y_train)\n",
        "    global accuracy_train, accuracy_test, precision1, recall1, f1_score, y_pred_test, y_pred_train\n",
        "  \n",
        "    y_pred_train = pipeline.predict(X_train)\n",
        "    y_pred_test = pipeline.predict(X_test)\n",
        "\n",
        "    accuracy_train=accuracy_score(y_train, y_pred_train)\n",
        "    accuracy_test=accuracy_score(y_test, y_pred_test)\n",
        "    precision1 = precision_score(y_test, y_pred_test,average=\"weighted\")\n",
        "    recall1 = recall_score(y_test, y_pred_test,average=\"weighted\")\n",
        "    f1_score2 = f1_score1(precision1, recall1)\n",
        "    \n",
        "    \n",
        "    print('Accuracy on train %f' %accuracy_train)\n",
        "    print('Accuracy on test %f' %accuracy_test)\n",
        "    print(\"F1 Score\", f1_score2)\n",
        "    print(\"Precision Score\", precision1)\n",
        "    print(\"Recall Score\", recall1)\n",
        "    \n",
        "    \n",
        "    f1_list.append(f1_score2)\n",
        "    precision_list.append(precision1)\n",
        "    recall_list.append(recall1)\n",
        "    train_accuracy_list.append(accuracy_train)\n",
        "    test_accuracy_list.append(accuracy_test)\n",
        "    \n",
        "    \n",
        "\n"
      ]
    },
    {
      "cell_type": "markdown",
      "id": "db8cd3ab",
      "metadata": {
        "id": "db8cd3ab"
      },
      "source": [
        "## LOGISTIC REGRESSION"
      ]
    },
    {
      "cell_type": "markdown",
      "id": "fcedae1d",
      "metadata": {
        "id": "fcedae1d"
      },
      "source": [
        "### With CountVectorizer"
      ]
    },
    {
      "cell_type": "code",
      "execution_count": null,
      "id": "a6066370",
      "metadata": {
        "id": "a6066370",
        "outputId": "26bdefc5-605d-408e-e336-faf493af19a6"
      },
      "outputs": [
        {
          "name": "stdout",
          "output_type": "stream",
          "text": [
            "Accuracy on train 0.996738\n",
            "Accuracy on test 0.758857\n",
            "F1 Score 0.7584766170422282\n",
            "Precision Score 0.7580964726622758\n",
            "Recall Score 0.7588571428571429\n"
          ]
        }
      ],
      "source": [
        "pipeline_lr_cv_cd = Pipeline([\n",
        "    ('vect', CountVectorizer(analyzer='word', ngram_range=(1, 2))), \n",
        "    ('clf', LogisticRegression(max_iter=500,random_state=40,solver='newton-cg',multi_class=\"ovr\"))])\n",
        "\n",
        "evaluation(pipeline_lr_cv_cd)"
      ]
    },
    {
      "cell_type": "code",
      "execution_count": null,
      "id": "2c18220b",
      "metadata": {
        "id": "2c18220b"
      },
      "outputs": [],
      "source": [
        "y_pred_cv_cd = pipeline_lr_cv_cd.predict(X_test)"
      ]
    },
    {
      "cell_type": "code",
      "execution_count": null,
      "id": "c953a128",
      "metadata": {
        "id": "c953a128"
      },
      "outputs": [],
      "source": [
        "# Assign y_pred to a variable for further process\n",
        "y_pred_cv_logreg_cd = y_pred_cv_cd"
      ]
    },
    {
      "cell_type": "code",
      "execution_count": null,
      "id": "7b5497a0",
      "metadata": {
        "id": "7b5497a0",
        "outputId": "8a5b794c-5b50-477e-d780-ab1443ff8d39"
      },
      "outputs": [
        {
          "data": {
            "text/html": [
              "<div>\n",
              "<style scoped>\n",
              "    .dataframe tbody tr th:only-of-type {\n",
              "        vertical-align: middle;\n",
              "    }\n",
              "\n",
              "    .dataframe tbody tr th {\n",
              "        vertical-align: top;\n",
              "    }\n",
              "\n",
              "    .dataframe thead th {\n",
              "        text-align: right;\n",
              "    }\n",
              "</style>\n",
              "<table border=\"1\" class=\"dataframe\">\n",
              "  <thead>\n",
              "    <tr style=\"text-align: right;\">\n",
              "      <th></th>\n",
              "      <th>Actual</th>\n",
              "      <th>predicted</th>\n",
              "    </tr>\n",
              "  </thead>\n",
              "  <tbody>\n",
              "    <tr>\n",
              "      <th>427994</th>\n",
              "      <td>Neutral</td>\n",
              "      <td>Positive</td>\n",
              "    </tr>\n",
              "    <tr>\n",
              "      <th>683622</th>\n",
              "      <td>Positive</td>\n",
              "      <td>Positive</td>\n",
              "    </tr>\n",
              "    <tr>\n",
              "      <th>338509</th>\n",
              "      <td>Neutral</td>\n",
              "      <td>Neutral</td>\n",
              "    </tr>\n",
              "    <tr>\n",
              "      <th>878580</th>\n",
              "      <td>Positive</td>\n",
              "      <td>Positive</td>\n",
              "    </tr>\n",
              "    <tr>\n",
              "      <th>675865</th>\n",
              "      <td>Positive</td>\n",
              "      <td>Positive</td>\n",
              "    </tr>\n",
              "    <tr>\n",
              "      <th>289690</th>\n",
              "      <td>Neutral</td>\n",
              "      <td>Neutral</td>\n",
              "    </tr>\n",
              "    <tr>\n",
              "      <th>544280</th>\n",
              "      <td>Neutral</td>\n",
              "      <td>Neutral</td>\n",
              "    </tr>\n",
              "    <tr>\n",
              "      <th>380218</th>\n",
              "      <td>Neutral</td>\n",
              "      <td>Neutral</td>\n",
              "    </tr>\n",
              "    <tr>\n",
              "      <th>486600</th>\n",
              "      <td>Neutral</td>\n",
              "      <td>Neutral</td>\n",
              "    </tr>\n",
              "    <tr>\n",
              "      <th>669169</th>\n",
              "      <td>Negative</td>\n",
              "      <td>Negative</td>\n",
              "    </tr>\n",
              "    <tr>\n",
              "      <th>32859</th>\n",
              "      <td>Negative</td>\n",
              "      <td>Negative</td>\n",
              "    </tr>\n",
              "    <tr>\n",
              "      <th>326667</th>\n",
              "      <td>Negative</td>\n",
              "      <td>Negative</td>\n",
              "    </tr>\n",
              "    <tr>\n",
              "      <th>328575</th>\n",
              "      <td>Neutral</td>\n",
              "      <td>Neutral</td>\n",
              "    </tr>\n",
              "    <tr>\n",
              "      <th>375822</th>\n",
              "      <td>Positive</td>\n",
              "      <td>Positive</td>\n",
              "    </tr>\n",
              "    <tr>\n",
              "      <th>842740</th>\n",
              "      <td>Positive</td>\n",
              "      <td>Positive</td>\n",
              "    </tr>\n",
              "    <tr>\n",
              "      <th>317594</th>\n",
              "      <td>Neutral</td>\n",
              "      <td>Neutral</td>\n",
              "    </tr>\n",
              "    <tr>\n",
              "      <th>135068</th>\n",
              "      <td>Neutral</td>\n",
              "      <td>Negative</td>\n",
              "    </tr>\n",
              "    <tr>\n",
              "      <th>698123</th>\n",
              "      <td>Negative</td>\n",
              "      <td>Negative</td>\n",
              "    </tr>\n",
              "    <tr>\n",
              "      <th>92119</th>\n",
              "      <td>Neutral</td>\n",
              "      <td>Neutral</td>\n",
              "    </tr>\n",
              "  </tbody>\n",
              "</table>\n",
              "</div>"
            ],
            "text/plain": [
              "          Actual predicted\n",
              "427994   Neutral  Positive\n",
              "683622  Positive  Positive\n",
              "338509   Neutral   Neutral\n",
              "878580  Positive  Positive\n",
              "675865  Positive  Positive\n",
              "289690   Neutral   Neutral\n",
              "544280   Neutral   Neutral\n",
              "380218   Neutral   Neutral\n",
              "486600   Neutral   Neutral\n",
              "669169  Negative  Negative\n",
              "32859   Negative  Negative\n",
              "326667  Negative  Negative\n",
              "328575   Neutral   Neutral\n",
              "375822  Positive  Positive\n",
              "842740  Positive  Positive\n",
              "317594   Neutral   Neutral\n",
              "135068   Neutral  Negative\n",
              "698123  Negative  Negative\n",
              "92119    Neutral   Neutral"
            ]
          },
          "execution_count": 23,
          "metadata": {},
          "output_type": "execute_result"
        }
      ],
      "source": [
        "pd.DataFrame({'Actual':y_test,\"predicted\":y_pred_cv_logreg_cd})[1:20]"
      ]
    },
    {
      "cell_type": "markdown",
      "id": "94c0c162",
      "metadata": {
        "id": "94c0c162"
      },
      "source": [
        "### With TF-IDF"
      ]
    },
    {
      "cell_type": "code",
      "execution_count": null,
      "id": "6b2e7552",
      "metadata": {
        "id": "6b2e7552",
        "outputId": "5f2fd94e-d01a-4d7e-b0e0-f7c355e11190"
      },
      "outputs": [
        {
          "name": "stdout",
          "output_type": "stream",
          "text": [
            "Accuracy on train 0.888869\n",
            "Accuracy on test 0.733667\n",
            "F1 Score 0.7334744110007225\n",
            "Precision Score 0.7332822560686931\n",
            "Recall Score 0.7336666666666667\n"
          ]
        }
      ],
      "source": [
        "pipeline_lr_tfidf_cd = Pipeline([\n",
        "    ('vect', TfidfVectorizer(analyzer='word', ngram_range=(1, 2))),\n",
        "    ('pipeline_lr_tfidf', LogisticRegression(max_iter=500,random_state=40,solver='newton-cg',multi_class=\"ovr\")),\n",
        "])\n",
        "\n",
        "evaluation(pipeline_lr_tfidf_cd)"
      ]
    },
    {
      "cell_type": "code",
      "execution_count": null,
      "id": "03c9fae3",
      "metadata": {
        "id": "03c9fae3"
      },
      "outputs": [],
      "source": [
        "y_pred_tfidf_cd = pipeline_lr_tfidf_cd.predict(X_test)"
      ]
    },
    {
      "cell_type": "code",
      "execution_count": null,
      "id": "2e8a370d",
      "metadata": {
        "id": "2e8a370d"
      },
      "outputs": [],
      "source": [
        "# Assign y_pred to a variable for further process\n",
        "y_pred_tfidf_logreg = y_pred_tfidf_cd "
      ]
    },
    {
      "cell_type": "code",
      "execution_count": null,
      "id": "512cc9d5",
      "metadata": {
        "id": "512cc9d5",
        "outputId": "f107a016-d2b5-4886-f724-905bf4ab2043"
      },
      "outputs": [
        {
          "data": {
            "text/html": [
              "<div>\n",
              "<style scoped>\n",
              "    .dataframe tbody tr th:only-of-type {\n",
              "        vertical-align: middle;\n",
              "    }\n",
              "\n",
              "    .dataframe tbody tr th {\n",
              "        vertical-align: top;\n",
              "    }\n",
              "\n",
              "    .dataframe thead th {\n",
              "        text-align: right;\n",
              "    }\n",
              "</style>\n",
              "<table border=\"1\" class=\"dataframe\">\n",
              "  <thead>\n",
              "    <tr style=\"text-align: right;\">\n",
              "      <th></th>\n",
              "      <th>Actual</th>\n",
              "      <th>predicted</th>\n",
              "    </tr>\n",
              "  </thead>\n",
              "  <tbody>\n",
              "    <tr>\n",
              "      <th>667335</th>\n",
              "      <td>Positive</td>\n",
              "      <td>Positive</td>\n",
              "    </tr>\n",
              "    <tr>\n",
              "      <th>156919</th>\n",
              "      <td>Neutral</td>\n",
              "      <td>Negative</td>\n",
              "    </tr>\n",
              "    <tr>\n",
              "      <th>589684</th>\n",
              "      <td>Neutral</td>\n",
              "      <td>Neutral</td>\n",
              "    </tr>\n",
              "    <tr>\n",
              "      <th>337605</th>\n",
              "      <td>Negative</td>\n",
              "      <td>Negative</td>\n",
              "    </tr>\n",
              "    <tr>\n",
              "      <th>556540</th>\n",
              "      <td>Positive</td>\n",
              "      <td>Neutral</td>\n",
              "    </tr>\n",
              "    <tr>\n",
              "      <th>806697</th>\n",
              "      <td>Neutral</td>\n",
              "      <td>Neutral</td>\n",
              "    </tr>\n",
              "    <tr>\n",
              "      <th>317186</th>\n",
              "      <td>Positive</td>\n",
              "      <td>Positive</td>\n",
              "    </tr>\n",
              "    <tr>\n",
              "      <th>289016</th>\n",
              "      <td>Positive</td>\n",
              "      <td>Neutral</td>\n",
              "    </tr>\n",
              "    <tr>\n",
              "      <th>611272</th>\n",
              "      <td>Negative</td>\n",
              "      <td>Negative</td>\n",
              "    </tr>\n",
              "    <tr>\n",
              "      <th>323894</th>\n",
              "      <td>Negative</td>\n",
              "      <td>Negative</td>\n",
              "    </tr>\n",
              "    <tr>\n",
              "      <th>452176</th>\n",
              "      <td>Neutral</td>\n",
              "      <td>Neutral</td>\n",
              "    </tr>\n",
              "    <tr>\n",
              "      <th>869847</th>\n",
              "      <td>Negative</td>\n",
              "      <td>Negative</td>\n",
              "    </tr>\n",
              "    <tr>\n",
              "      <th>598253</th>\n",
              "      <td>Negative</td>\n",
              "      <td>Positive</td>\n",
              "    </tr>\n",
              "    <tr>\n",
              "      <th>368093</th>\n",
              "      <td>Neutral</td>\n",
              "      <td>Neutral</td>\n",
              "    </tr>\n",
              "    <tr>\n",
              "      <th>166173</th>\n",
              "      <td>Positive</td>\n",
              "      <td>Positive</td>\n",
              "    </tr>\n",
              "    <tr>\n",
              "      <th>735078</th>\n",
              "      <td>Positive</td>\n",
              "      <td>Positive</td>\n",
              "    </tr>\n",
              "    <tr>\n",
              "      <th>615479</th>\n",
              "      <td>Neutral</td>\n",
              "      <td>Negative</td>\n",
              "    </tr>\n",
              "    <tr>\n",
              "      <th>386560</th>\n",
              "      <td>Neutral</td>\n",
              "      <td>Neutral</td>\n",
              "    </tr>\n",
              "    <tr>\n",
              "      <th>512908</th>\n",
              "      <td>Negative</td>\n",
              "      <td>Negative</td>\n",
              "    </tr>\n",
              "    <tr>\n",
              "      <th>808728</th>\n",
              "      <td>Negative</td>\n",
              "      <td>Neutral</td>\n",
              "    </tr>\n",
              "  </tbody>\n",
              "</table>\n",
              "</div>"
            ],
            "text/plain": [
              "          Actual predicted\n",
              "667335  Positive  Positive\n",
              "156919   Neutral  Negative\n",
              "589684   Neutral   Neutral\n",
              "337605  Negative  Negative\n",
              "556540  Positive   Neutral\n",
              "806697   Neutral   Neutral\n",
              "317186  Positive  Positive\n",
              "289016  Positive   Neutral\n",
              "611272  Negative  Negative\n",
              "323894  Negative  Negative\n",
              "452176   Neutral   Neutral\n",
              "869847  Negative  Negative\n",
              "598253  Negative  Positive\n",
              "368093   Neutral   Neutral\n",
              "166173  Positive  Positive\n",
              "735078  Positive  Positive\n",
              "615479   Neutral  Negative\n",
              "386560   Neutral   Neutral\n",
              "512908  Negative  Negative\n",
              "808728  Negative   Neutral"
            ]
          },
          "execution_count": 27,
          "metadata": {},
          "output_type": "execute_result"
        }
      ],
      "source": [
        "pd.DataFrame({'Actual':y_test,\"predicted\":y_pred_tfidf_logreg})[20:40]"
      ]
    },
    {
      "cell_type": "markdown",
      "id": "8661c8d3",
      "metadata": {
        "id": "8661c8d3"
      },
      "source": [
        "## DECISION TREE CLASSIFIER"
      ]
    },
    {
      "cell_type": "markdown",
      "id": "d6ff8b13",
      "metadata": {
        "id": "d6ff8b13"
      },
      "source": [
        "### With CounVectorizer"
      ]
    },
    {
      "cell_type": "code",
      "execution_count": null,
      "id": "b13122a0",
      "metadata": {
        "id": "b13122a0",
        "outputId": "7ab5b05f-53d8-4cbf-8ca1-e01828ed3057"
      },
      "outputs": [
        {
          "name": "stdout",
          "output_type": "stream",
          "text": [
            "Accuracy on train 0.999964\n",
            "Accuracy on test 0.610905\n",
            "F1 Score 0.6109635713851567\n",
            "Precision Score 0.6110223921893723\n",
            "Recall Score 0.610904761904762\n"
          ]
        }
      ],
      "source": [
        "pipeline_dt_cv_cd = Pipeline([\n",
        "    ('vect', CountVectorizer(analyzer='word', ngram_range=(1, 2))),\n",
        "    ('pipeline_dt_cv', DecisionTreeClassifier(criterion= \"entropy\")),\n",
        "])\n",
        "\n",
        "evaluation(pipeline_dt_cv_cd)"
      ]
    },
    {
      "cell_type": "code",
      "execution_count": null,
      "id": "9c8336ab",
      "metadata": {
        "id": "9c8336ab"
      },
      "outputs": [],
      "source": [
        "y_pred_cv_dt_cd = pipeline_dt_cv_cd.predict(X_test)"
      ]
    },
    {
      "cell_type": "code",
      "execution_count": null,
      "id": "ed48a5c1",
      "metadata": {
        "id": "ed48a5c1"
      },
      "outputs": [],
      "source": [
        "# Assign y_pred to a variable for further process\n",
        "y_pred_cv_dt_cd = y_pred_cv_dt_cd"
      ]
    },
    {
      "cell_type": "code",
      "execution_count": null,
      "id": "bf692d40",
      "metadata": {
        "id": "bf692d40",
        "outputId": "8269d0ec-0e3a-4cfa-e56b-26fb31975c48"
      },
      "outputs": [
        {
          "data": {
            "text/html": [
              "<div>\n",
              "<style scoped>\n",
              "    .dataframe tbody tr th:only-of-type {\n",
              "        vertical-align: middle;\n",
              "    }\n",
              "\n",
              "    .dataframe tbody tr th {\n",
              "        vertical-align: top;\n",
              "    }\n",
              "\n",
              "    .dataframe thead th {\n",
              "        text-align: right;\n",
              "    }\n",
              "</style>\n",
              "<table border=\"1\" class=\"dataframe\">\n",
              "  <thead>\n",
              "    <tr style=\"text-align: right;\">\n",
              "      <th></th>\n",
              "      <th>Actual</th>\n",
              "      <th>predicted</th>\n",
              "    </tr>\n",
              "  </thead>\n",
              "  <tbody>\n",
              "    <tr>\n",
              "      <th>667335</th>\n",
              "      <td>Positive</td>\n",
              "      <td>Positive</td>\n",
              "    </tr>\n",
              "    <tr>\n",
              "      <th>156919</th>\n",
              "      <td>Neutral</td>\n",
              "      <td>Negative</td>\n",
              "    </tr>\n",
              "    <tr>\n",
              "      <th>589684</th>\n",
              "      <td>Neutral</td>\n",
              "      <td>Neutral</td>\n",
              "    </tr>\n",
              "    <tr>\n",
              "      <th>337605</th>\n",
              "      <td>Negative</td>\n",
              "      <td>Negative</td>\n",
              "    </tr>\n",
              "    <tr>\n",
              "      <th>556540</th>\n",
              "      <td>Positive</td>\n",
              "      <td>Neutral</td>\n",
              "    </tr>\n",
              "    <tr>\n",
              "      <th>806697</th>\n",
              "      <td>Neutral</td>\n",
              "      <td>Neutral</td>\n",
              "    </tr>\n",
              "    <tr>\n",
              "      <th>317186</th>\n",
              "      <td>Positive</td>\n",
              "      <td>Positive</td>\n",
              "    </tr>\n",
              "    <tr>\n",
              "      <th>289016</th>\n",
              "      <td>Positive</td>\n",
              "      <td>Negative</td>\n",
              "    </tr>\n",
              "    <tr>\n",
              "      <th>611272</th>\n",
              "      <td>Negative</td>\n",
              "      <td>Neutral</td>\n",
              "    </tr>\n",
              "    <tr>\n",
              "      <th>323894</th>\n",
              "      <td>Negative</td>\n",
              "      <td>Negative</td>\n",
              "    </tr>\n",
              "    <tr>\n",
              "      <th>452176</th>\n",
              "      <td>Neutral</td>\n",
              "      <td>Positive</td>\n",
              "    </tr>\n",
              "    <tr>\n",
              "      <th>869847</th>\n",
              "      <td>Negative</td>\n",
              "      <td>Negative</td>\n",
              "    </tr>\n",
              "    <tr>\n",
              "      <th>598253</th>\n",
              "      <td>Negative</td>\n",
              "      <td>Positive</td>\n",
              "    </tr>\n",
              "    <tr>\n",
              "      <th>368093</th>\n",
              "      <td>Neutral</td>\n",
              "      <td>Positive</td>\n",
              "    </tr>\n",
              "    <tr>\n",
              "      <th>166173</th>\n",
              "      <td>Positive</td>\n",
              "      <td>Neutral</td>\n",
              "    </tr>\n",
              "    <tr>\n",
              "      <th>735078</th>\n",
              "      <td>Positive</td>\n",
              "      <td>Positive</td>\n",
              "    </tr>\n",
              "    <tr>\n",
              "      <th>615479</th>\n",
              "      <td>Neutral</td>\n",
              "      <td>Positive</td>\n",
              "    </tr>\n",
              "    <tr>\n",
              "      <th>386560</th>\n",
              "      <td>Neutral</td>\n",
              "      <td>Negative</td>\n",
              "    </tr>\n",
              "    <tr>\n",
              "      <th>512908</th>\n",
              "      <td>Negative</td>\n",
              "      <td>Negative</td>\n",
              "    </tr>\n",
              "    <tr>\n",
              "      <th>808728</th>\n",
              "      <td>Negative</td>\n",
              "      <td>Negative</td>\n",
              "    </tr>\n",
              "  </tbody>\n",
              "</table>\n",
              "</div>"
            ],
            "text/plain": [
              "          Actual predicted\n",
              "667335  Positive  Positive\n",
              "156919   Neutral  Negative\n",
              "589684   Neutral   Neutral\n",
              "337605  Negative  Negative\n",
              "556540  Positive   Neutral\n",
              "806697   Neutral   Neutral\n",
              "317186  Positive  Positive\n",
              "289016  Positive  Negative\n",
              "611272  Negative   Neutral\n",
              "323894  Negative  Negative\n",
              "452176   Neutral  Positive\n",
              "869847  Negative  Negative\n",
              "598253  Negative  Positive\n",
              "368093   Neutral  Positive\n",
              "166173  Positive   Neutral\n",
              "735078  Positive  Positive\n",
              "615479   Neutral  Positive\n",
              "386560   Neutral  Negative\n",
              "512908  Negative  Negative\n",
              "808728  Negative  Negative"
            ]
          },
          "execution_count": 31,
          "metadata": {},
          "output_type": "execute_result"
        }
      ],
      "source": [
        "pd.DataFrame({'Actual':y_test,\"predicted\":y_pred_cv_dt_cd})[20:40]"
      ]
    },
    {
      "cell_type": "markdown",
      "id": "9f16506d",
      "metadata": {
        "id": "9f16506d"
      },
      "source": [
        "### With TF-IDF"
      ]
    },
    {
      "cell_type": "code",
      "execution_count": null,
      "id": "b6380f55",
      "metadata": {
        "id": "b6380f55",
        "outputId": "86b8124f-dd33-4725-b546-8a839f55be79"
      },
      "outputs": [
        {
          "name": "stdout",
          "output_type": "stream",
          "text": [
            "Accuracy on train 0.999964\n",
            "Accuracy on test 0.607571\n",
            "F1 Score 0.6079886713065789\n",
            "Precision Score 0.6084064875089115\n",
            "Recall Score 0.6075714285714285\n"
          ]
        }
      ],
      "source": [
        "pipeline_dt_tfidf_cd = Pipeline([\n",
        "    ('vect',TfidfVectorizer(analyzer='word', ngram_range=(1, 2))),\n",
        "    ('pipeline_dt_tfidf', DecisionTreeClassifier()),\n",
        "])\n",
        "\n",
        "evaluation(pipeline_dt_tfidf_cd)"
      ]
    },
    {
      "cell_type": "code",
      "execution_count": null,
      "id": "0dc2b8d2",
      "metadata": {
        "id": "0dc2b8d2"
      },
      "outputs": [],
      "source": [
        "y_pred_dt_tfidf_cd =pipeline_dt_tfidf_cd .predict(X_test)"
      ]
    },
    {
      "cell_type": "code",
      "execution_count": null,
      "id": "eb8f62c2",
      "metadata": {
        "id": "eb8f62c2"
      },
      "outputs": [],
      "source": [
        "# Assign y_pred to a variable for further process\n",
        "y_pred_tfidf_dt_cd = y_pred_dt_tfidf_cd"
      ]
    },
    {
      "cell_type": "code",
      "execution_count": null,
      "id": "fb707ef5",
      "metadata": {
        "id": "fb707ef5",
        "outputId": "ec7e07c0-598e-47f0-c916-a3da7f60a81d"
      },
      "outputs": [
        {
          "data": {
            "text/html": [
              "<div>\n",
              "<style scoped>\n",
              "    .dataframe tbody tr th:only-of-type {\n",
              "        vertical-align: middle;\n",
              "    }\n",
              "\n",
              "    .dataframe tbody tr th {\n",
              "        vertical-align: top;\n",
              "    }\n",
              "\n",
              "    .dataframe thead th {\n",
              "        text-align: right;\n",
              "    }\n",
              "</style>\n",
              "<table border=\"1\" class=\"dataframe\">\n",
              "  <thead>\n",
              "    <tr style=\"text-align: right;\">\n",
              "      <th></th>\n",
              "      <th>Actual</th>\n",
              "      <th>predicted</th>\n",
              "    </tr>\n",
              "  </thead>\n",
              "  <tbody>\n",
              "    <tr>\n",
              "      <th>667335</th>\n",
              "      <td>Positive</td>\n",
              "      <td>Positive</td>\n",
              "    </tr>\n",
              "    <tr>\n",
              "      <th>156919</th>\n",
              "      <td>Neutral</td>\n",
              "      <td>Negative</td>\n",
              "    </tr>\n",
              "    <tr>\n",
              "      <th>589684</th>\n",
              "      <td>Neutral</td>\n",
              "      <td>Neutral</td>\n",
              "    </tr>\n",
              "    <tr>\n",
              "      <th>337605</th>\n",
              "      <td>Negative</td>\n",
              "      <td>Negative</td>\n",
              "    </tr>\n",
              "    <tr>\n",
              "      <th>556540</th>\n",
              "      <td>Positive</td>\n",
              "      <td>Positive</td>\n",
              "    </tr>\n",
              "    <tr>\n",
              "      <th>806697</th>\n",
              "      <td>Neutral</td>\n",
              "      <td>Neutral</td>\n",
              "    </tr>\n",
              "    <tr>\n",
              "      <th>317186</th>\n",
              "      <td>Positive</td>\n",
              "      <td>Positive</td>\n",
              "    </tr>\n",
              "    <tr>\n",
              "      <th>289016</th>\n",
              "      <td>Positive</td>\n",
              "      <td>Neutral</td>\n",
              "    </tr>\n",
              "    <tr>\n",
              "      <th>611272</th>\n",
              "      <td>Negative</td>\n",
              "      <td>Negative</td>\n",
              "    </tr>\n",
              "    <tr>\n",
              "      <th>323894</th>\n",
              "      <td>Negative</td>\n",
              "      <td>Negative</td>\n",
              "    </tr>\n",
              "    <tr>\n",
              "      <th>452176</th>\n",
              "      <td>Neutral</td>\n",
              "      <td>Positive</td>\n",
              "    </tr>\n",
              "    <tr>\n",
              "      <th>869847</th>\n",
              "      <td>Negative</td>\n",
              "      <td>Negative</td>\n",
              "    </tr>\n",
              "    <tr>\n",
              "      <th>598253</th>\n",
              "      <td>Negative</td>\n",
              "      <td>Positive</td>\n",
              "    </tr>\n",
              "    <tr>\n",
              "      <th>368093</th>\n",
              "      <td>Neutral</td>\n",
              "      <td>Neutral</td>\n",
              "    </tr>\n",
              "    <tr>\n",
              "      <th>166173</th>\n",
              "      <td>Positive</td>\n",
              "      <td>Positive</td>\n",
              "    </tr>\n",
              "    <tr>\n",
              "      <th>735078</th>\n",
              "      <td>Positive</td>\n",
              "      <td>Positive</td>\n",
              "    </tr>\n",
              "    <tr>\n",
              "      <th>615479</th>\n",
              "      <td>Neutral</td>\n",
              "      <td>Neutral</td>\n",
              "    </tr>\n",
              "    <tr>\n",
              "      <th>386560</th>\n",
              "      <td>Neutral</td>\n",
              "      <td>Positive</td>\n",
              "    </tr>\n",
              "    <tr>\n",
              "      <th>512908</th>\n",
              "      <td>Negative</td>\n",
              "      <td>Negative</td>\n",
              "    </tr>\n",
              "    <tr>\n",
              "      <th>808728</th>\n",
              "      <td>Negative</td>\n",
              "      <td>Positive</td>\n",
              "    </tr>\n",
              "  </tbody>\n",
              "</table>\n",
              "</div>"
            ],
            "text/plain": [
              "          Actual predicted\n",
              "667335  Positive  Positive\n",
              "156919   Neutral  Negative\n",
              "589684   Neutral   Neutral\n",
              "337605  Negative  Negative\n",
              "556540  Positive  Positive\n",
              "806697   Neutral   Neutral\n",
              "317186  Positive  Positive\n",
              "289016  Positive   Neutral\n",
              "611272  Negative  Negative\n",
              "323894  Negative  Negative\n",
              "452176   Neutral  Positive\n",
              "869847  Negative  Negative\n",
              "598253  Negative  Positive\n",
              "368093   Neutral   Neutral\n",
              "166173  Positive  Positive\n",
              "735078  Positive  Positive\n",
              "615479   Neutral   Neutral\n",
              "386560   Neutral  Positive\n",
              "512908  Negative  Negative\n",
              "808728  Negative  Positive"
            ]
          },
          "execution_count": 35,
          "metadata": {},
          "output_type": "execute_result"
        }
      ],
      "source": [
        "pd.DataFrame({'Actual':y_test,\"predicted\":y_pred_tfidf_dt_cd})[20:40]"
      ]
    },
    {
      "cell_type": "markdown",
      "id": "e00d9e7a",
      "metadata": {
        "id": "e00d9e7a"
      },
      "source": [
        "## MULTINOMIAL NAIVE BAYES"
      ]
    },
    {
      "cell_type": "markdown",
      "id": "08a3693b",
      "metadata": {
        "id": "08a3693b"
      },
      "source": [
        "## With CountVectorizer"
      ]
    },
    {
      "cell_type": "code",
      "execution_count": null,
      "id": "53ce00cf",
      "metadata": {
        "id": "53ce00cf",
        "outputId": "7bddf420-4d6d-47e9-84f8-26a1829631b7"
      },
      "outputs": [
        {
          "name": "stdout",
          "output_type": "stream",
          "text": [
            "Accuracy on train 0.974429\n",
            "Accuracy on test 0.704524\n",
            "F1 Score 0.7219816400170563\n",
            "Precision Score 0.7403266512319013\n",
            "Recall Score 0.7045238095238096\n"
          ]
        }
      ],
      "source": [
        "pipeline_mul_cv_cd = Pipeline([\n",
        "    ('vect', CountVectorizer(analyzer='word', ngram_range=(1, 2))),\n",
        "    ('clf', MultinomialNB()),\n",
        "])\n",
        "\n",
        "evaluation(pipeline_mul_cv_cd)"
      ]
    },
    {
      "cell_type": "code",
      "execution_count": null,
      "id": "d3a3105a",
      "metadata": {
        "id": "d3a3105a"
      },
      "outputs": [],
      "source": [
        "y_pred_mul_cv_cd = pipeline_mul_cv_cd.predict(X_test)"
      ]
    },
    {
      "cell_type": "code",
      "execution_count": null,
      "id": "5030fa55",
      "metadata": {
        "id": "5030fa55"
      },
      "outputs": [],
      "source": [
        "# Assign y_pred to a variable for further process\n",
        "y_pred_mul_cd = y_pred_mul_cv_cd"
      ]
    },
    {
      "cell_type": "code",
      "execution_count": null,
      "id": "88e9d046",
      "metadata": {
        "id": "88e9d046",
        "outputId": "88b4002b-55ba-467b-b911-59bb36049097"
      },
      "outputs": [
        {
          "data": {
            "text/html": [
              "<div>\n",
              "<style scoped>\n",
              "    .dataframe tbody tr th:only-of-type {\n",
              "        vertical-align: middle;\n",
              "    }\n",
              "\n",
              "    .dataframe tbody tr th {\n",
              "        vertical-align: top;\n",
              "    }\n",
              "\n",
              "    .dataframe thead th {\n",
              "        text-align: right;\n",
              "    }\n",
              "</style>\n",
              "<table border=\"1\" class=\"dataframe\">\n",
              "  <thead>\n",
              "    <tr style=\"text-align: right;\">\n",
              "      <th></th>\n",
              "      <th>Actual</th>\n",
              "      <th>predicted</th>\n",
              "    </tr>\n",
              "  </thead>\n",
              "  <tbody>\n",
              "    <tr>\n",
              "      <th>667335</th>\n",
              "      <td>Positive</td>\n",
              "      <td>Positive</td>\n",
              "    </tr>\n",
              "    <tr>\n",
              "      <th>156919</th>\n",
              "      <td>Neutral</td>\n",
              "      <td>Neutral</td>\n",
              "    </tr>\n",
              "    <tr>\n",
              "      <th>589684</th>\n",
              "      <td>Neutral</td>\n",
              "      <td>Neutral</td>\n",
              "    </tr>\n",
              "    <tr>\n",
              "      <th>337605</th>\n",
              "      <td>Negative</td>\n",
              "      <td>Negative</td>\n",
              "    </tr>\n",
              "    <tr>\n",
              "      <th>556540</th>\n",
              "      <td>Positive</td>\n",
              "      <td>Neutral</td>\n",
              "    </tr>\n",
              "    <tr>\n",
              "      <th>806697</th>\n",
              "      <td>Neutral</td>\n",
              "      <td>Neutral</td>\n",
              "    </tr>\n",
              "    <tr>\n",
              "      <th>317186</th>\n",
              "      <td>Positive</td>\n",
              "      <td>Positive</td>\n",
              "    </tr>\n",
              "    <tr>\n",
              "      <th>289016</th>\n",
              "      <td>Positive</td>\n",
              "      <td>Neutral</td>\n",
              "    </tr>\n",
              "    <tr>\n",
              "      <th>611272</th>\n",
              "      <td>Negative</td>\n",
              "      <td>Neutral</td>\n",
              "    </tr>\n",
              "    <tr>\n",
              "      <th>323894</th>\n",
              "      <td>Negative</td>\n",
              "      <td>Negative</td>\n",
              "    </tr>\n",
              "    <tr>\n",
              "      <th>452176</th>\n",
              "      <td>Neutral</td>\n",
              "      <td>Neutral</td>\n",
              "    </tr>\n",
              "    <tr>\n",
              "      <th>869847</th>\n",
              "      <td>Negative</td>\n",
              "      <td>Neutral</td>\n",
              "    </tr>\n",
              "    <tr>\n",
              "      <th>598253</th>\n",
              "      <td>Negative</td>\n",
              "      <td>Neutral</td>\n",
              "    </tr>\n",
              "    <tr>\n",
              "      <th>368093</th>\n",
              "      <td>Neutral</td>\n",
              "      <td>Neutral</td>\n",
              "    </tr>\n",
              "    <tr>\n",
              "      <th>166173</th>\n",
              "      <td>Positive</td>\n",
              "      <td>Positive</td>\n",
              "    </tr>\n",
              "    <tr>\n",
              "      <th>735078</th>\n",
              "      <td>Positive</td>\n",
              "      <td>Positive</td>\n",
              "    </tr>\n",
              "    <tr>\n",
              "      <th>615479</th>\n",
              "      <td>Neutral</td>\n",
              "      <td>Negative</td>\n",
              "    </tr>\n",
              "    <tr>\n",
              "      <th>386560</th>\n",
              "      <td>Neutral</td>\n",
              "      <td>Neutral</td>\n",
              "    </tr>\n",
              "    <tr>\n",
              "      <th>512908</th>\n",
              "      <td>Negative</td>\n",
              "      <td>Negative</td>\n",
              "    </tr>\n",
              "    <tr>\n",
              "      <th>808728</th>\n",
              "      <td>Negative</td>\n",
              "      <td>Neutral</td>\n",
              "    </tr>\n",
              "  </tbody>\n",
              "</table>\n",
              "</div>"
            ],
            "text/plain": [
              "          Actual predicted\n",
              "667335  Positive  Positive\n",
              "156919   Neutral   Neutral\n",
              "589684   Neutral   Neutral\n",
              "337605  Negative  Negative\n",
              "556540  Positive   Neutral\n",
              "806697   Neutral   Neutral\n",
              "317186  Positive  Positive\n",
              "289016  Positive   Neutral\n",
              "611272  Negative   Neutral\n",
              "323894  Negative  Negative\n",
              "452176   Neutral   Neutral\n",
              "869847  Negative   Neutral\n",
              "598253  Negative   Neutral\n",
              "368093   Neutral   Neutral\n",
              "166173  Positive  Positive\n",
              "735078  Positive  Positive\n",
              "615479   Neutral  Negative\n",
              "386560   Neutral   Neutral\n",
              "512908  Negative  Negative\n",
              "808728  Negative   Neutral"
            ]
          },
          "execution_count": 39,
          "metadata": {},
          "output_type": "execute_result"
        }
      ],
      "source": [
        "pd.DataFrame({'Actual':y_test,\"predicted\":y_pred_mul_cd })[20:40]"
      ]
    },
    {
      "cell_type": "markdown",
      "id": "9c509e1e",
      "metadata": {
        "id": "9c509e1e"
      },
      "source": [
        "### With TF-IDF"
      ]
    },
    {
      "cell_type": "code",
      "execution_count": null,
      "id": "2fcf5641",
      "metadata": {
        "id": "2fcf5641",
        "outputId": "23839ab9-e3f5-4198-8d45-92be493f2101"
      },
      "outputs": [
        {
          "name": "stdout",
          "output_type": "stream",
          "text": [
            "Accuracy on train 0.942238\n",
            "Accuracy on test 0.690952\n",
            "F1 Score 0.7198866050925848\n",
            "Precision Score 0.7513500327538125\n",
            "Recall Score 0.690952380952381\n"
          ]
        }
      ],
      "source": [
        "pipeline_mul_tfidf_cd = Pipeline([\n",
        "    ('vect', TfidfVectorizer(analyzer='word', ngram_range=(1, 2))),\n",
        "    ('clf', MultinomialNB()),\n",
        "])\n",
        "\n",
        "evaluation(pipeline_mul_tfidf_cd)"
      ]
    },
    {
      "cell_type": "code",
      "execution_count": null,
      "id": "501ea7b8",
      "metadata": {
        "id": "501ea7b8"
      },
      "outputs": [],
      "source": [
        "y_pred_mul_tfidf_cd = pipeline_mul_tfidf_cd.predict(X_test)"
      ]
    },
    {
      "cell_type": "code",
      "execution_count": null,
      "id": "e369381e",
      "metadata": {
        "id": "e369381e"
      },
      "outputs": [],
      "source": [
        "# Assign y_pred to a variable for further process\n",
        "y_pred_mul_cd_tfidf =y_pred_mul_tfidf_cd"
      ]
    },
    {
      "cell_type": "code",
      "execution_count": null,
      "id": "a9b2d7eb",
      "metadata": {
        "id": "a9b2d7eb",
        "outputId": "0485a661-e9bd-44dd-a4dd-8e55ce63515f"
      },
      "outputs": [
        {
          "data": {
            "text/html": [
              "<div>\n",
              "<style scoped>\n",
              "    .dataframe tbody tr th:only-of-type {\n",
              "        vertical-align: middle;\n",
              "    }\n",
              "\n",
              "    .dataframe tbody tr th {\n",
              "        vertical-align: top;\n",
              "    }\n",
              "\n",
              "    .dataframe thead th {\n",
              "        text-align: right;\n",
              "    }\n",
              "</style>\n",
              "<table border=\"1\" class=\"dataframe\">\n",
              "  <thead>\n",
              "    <tr style=\"text-align: right;\">\n",
              "      <th></th>\n",
              "      <th>Actual</th>\n",
              "      <th>predicted</th>\n",
              "    </tr>\n",
              "  </thead>\n",
              "  <tbody>\n",
              "    <tr>\n",
              "      <th>667335</th>\n",
              "      <td>Positive</td>\n",
              "      <td>Positive</td>\n",
              "    </tr>\n",
              "    <tr>\n",
              "      <th>156919</th>\n",
              "      <td>Neutral</td>\n",
              "      <td>Negative</td>\n",
              "    </tr>\n",
              "    <tr>\n",
              "      <th>589684</th>\n",
              "      <td>Neutral</td>\n",
              "      <td>Neutral</td>\n",
              "    </tr>\n",
              "    <tr>\n",
              "      <th>337605</th>\n",
              "      <td>Negative</td>\n",
              "      <td>Negative</td>\n",
              "    </tr>\n",
              "    <tr>\n",
              "      <th>556540</th>\n",
              "      <td>Positive</td>\n",
              "      <td>Neutral</td>\n",
              "    </tr>\n",
              "    <tr>\n",
              "      <th>806697</th>\n",
              "      <td>Neutral</td>\n",
              "      <td>Neutral</td>\n",
              "    </tr>\n",
              "    <tr>\n",
              "      <th>317186</th>\n",
              "      <td>Positive</td>\n",
              "      <td>Positive</td>\n",
              "    </tr>\n",
              "    <tr>\n",
              "      <th>289016</th>\n",
              "      <td>Positive</td>\n",
              "      <td>Neutral</td>\n",
              "    </tr>\n",
              "    <tr>\n",
              "      <th>611272</th>\n",
              "      <td>Negative</td>\n",
              "      <td>Negative</td>\n",
              "    </tr>\n",
              "    <tr>\n",
              "      <th>323894</th>\n",
              "      <td>Negative</td>\n",
              "      <td>Negative</td>\n",
              "    </tr>\n",
              "    <tr>\n",
              "      <th>452176</th>\n",
              "      <td>Neutral</td>\n",
              "      <td>Neutral</td>\n",
              "    </tr>\n",
              "    <tr>\n",
              "      <th>869847</th>\n",
              "      <td>Negative</td>\n",
              "      <td>Neutral</td>\n",
              "    </tr>\n",
              "    <tr>\n",
              "      <th>598253</th>\n",
              "      <td>Negative</td>\n",
              "      <td>Neutral</td>\n",
              "    </tr>\n",
              "    <tr>\n",
              "      <th>368093</th>\n",
              "      <td>Neutral</td>\n",
              "      <td>Neutral</td>\n",
              "    </tr>\n",
              "    <tr>\n",
              "      <th>166173</th>\n",
              "      <td>Positive</td>\n",
              "      <td>Positive</td>\n",
              "    </tr>\n",
              "    <tr>\n",
              "      <th>735078</th>\n",
              "      <td>Positive</td>\n",
              "      <td>Positive</td>\n",
              "    </tr>\n",
              "    <tr>\n",
              "      <th>615479</th>\n",
              "      <td>Neutral</td>\n",
              "      <td>Negative</td>\n",
              "    </tr>\n",
              "    <tr>\n",
              "      <th>386560</th>\n",
              "      <td>Neutral</td>\n",
              "      <td>Neutral</td>\n",
              "    </tr>\n",
              "    <tr>\n",
              "      <th>512908</th>\n",
              "      <td>Negative</td>\n",
              "      <td>Negative</td>\n",
              "    </tr>\n",
              "    <tr>\n",
              "      <th>808728</th>\n",
              "      <td>Negative</td>\n",
              "      <td>Neutral</td>\n",
              "    </tr>\n",
              "  </tbody>\n",
              "</table>\n",
              "</div>"
            ],
            "text/plain": [
              "          Actual predicted\n",
              "667335  Positive  Positive\n",
              "156919   Neutral  Negative\n",
              "589684   Neutral   Neutral\n",
              "337605  Negative  Negative\n",
              "556540  Positive   Neutral\n",
              "806697   Neutral   Neutral\n",
              "317186  Positive  Positive\n",
              "289016  Positive   Neutral\n",
              "611272  Negative  Negative\n",
              "323894  Negative  Negative\n",
              "452176   Neutral   Neutral\n",
              "869847  Negative   Neutral\n",
              "598253  Negative   Neutral\n",
              "368093   Neutral   Neutral\n",
              "166173  Positive  Positive\n",
              "735078  Positive  Positive\n",
              "615479   Neutral  Negative\n",
              "386560   Neutral   Neutral\n",
              "512908  Negative  Negative\n",
              "808728  Negative   Neutral"
            ]
          },
          "execution_count": 43,
          "metadata": {},
          "output_type": "execute_result"
        }
      ],
      "source": [
        "pd.DataFrame({'Actual':y_test,\"predicted\":y_pred_mul_cd_tfidf })[20:40]"
      ]
    },
    {
      "cell_type": "markdown",
      "id": "d6fb068b",
      "metadata": {
        "id": "d6fb068b"
      },
      "source": [
        "## SUPPORT VECTOR CLASSIFIER"
      ]
    },
    {
      "cell_type": "markdown",
      "id": "828a7e13",
      "metadata": {
        "id": "828a7e13"
      },
      "source": [
        "### With CountVectorizer"
      ]
    },
    {
      "cell_type": "code",
      "execution_count": null,
      "id": "b63e0f5f",
      "metadata": {
        "id": "b63e0f5f",
        "outputId": "11c3a66a-c167-4bc6-9945-8dc037089114"
      },
      "outputs": [
        {
          "name": "stderr",
          "output_type": "stream",
          "text": [
            "C:\\ProgramData\\Anaconda3\\lib\\site-packages\\sklearn\\svm\\_base.py:1206: ConvergenceWarning: Liblinear failed to converge, increase the number of iterations.\n",
            "  warnings.warn(\n"
          ]
        },
        {
          "name": "stdout",
          "output_type": "stream",
          "text": [
            "Accuracy on train 0.966714\n",
            "Accuracy on test 0.700857\n",
            "F1 Score 0.7005614407672703\n",
            "Precision Score 0.7002659880944159\n",
            "Recall Score 0.7008571428571428\n"
          ]
        }
      ],
      "source": [
        "pipeline_svc_cv_cd = Pipeline([\n",
        "    ('vect', CountVectorizer()),\n",
        "    ('pipeline_svc_cv',LinearSVC()),\n",
        "])\n",
        "\n",
        "evaluation(pipeline_svc_cv_cd)"
      ]
    },
    {
      "cell_type": "code",
      "execution_count": null,
      "id": "30ab4cab",
      "metadata": {
        "id": "30ab4cab",
        "outputId": "d498575e-f369-4cbe-dd92-90fcffea6e01"
      },
      "outputs": [
        {
          "name": "stdout",
          "output_type": "stream",
          "text": [
            "Accuracy on train 0.916119\n",
            "Accuracy on test 0.716381\n",
            "F1 Score 0.7157817816272505\n",
            "Precision Score 0.7151836123116095\n",
            "Recall Score 0.7163809523809523\n"
          ]
        }
      ],
      "source": [
        "pipeline_svc_tfidf_cd = Pipeline([\n",
        "    ('vect',TfidfVectorizer()),\n",
        "    ('pipeline_svc_tfidf',LinearSVC()),\n",
        "])\n",
        "\n",
        "evaluation(pipeline_svc_tfidf_cd)"
      ]
    },
    {
      "cell_type": "code",
      "execution_count": null,
      "id": "ee1245ca",
      "metadata": {
        "id": "ee1245ca"
      },
      "outputs": [],
      "source": [
        "pipe_dict = {0:'Logistic Regression - CV', \n",
        "             1:'Logistic Regression - TFIDF', \n",
        "             2:'Decision Tree Classifier - CV', \n",
        "             3:'Decision Tree Classifier - TFIDF', \n",
        "             4:'Multinomial Naive Bayes - CV', \n",
        "             5:'Multinomial Naive Bayes - TFIDF',\n",
        "             6:'Linear SVC - CV', \n",
        "             7:'Linear SVC - TFIDF'}"
      ]
    },
    {
      "cell_type": "code",
      "execution_count": null,
      "id": "c2a34fc2",
      "metadata": {
        "id": "c2a34fc2"
      },
      "outputs": [],
      "source": [
        "final_df_cd = pd.DataFrame(zip(pipe_dict.values(), train_accuracy_list, test_accuracy_list, f1_list, precision_list, recall_list),\n",
        "                        columns=['Classifier', 'Train Score', 'Test Score','F1 Score', 'Precision Scores', 'Recall Scores'])"
      ]
    },
    {
      "cell_type": "code",
      "execution_count": null,
      "id": "4e4a2cbd",
      "metadata": {
        "id": "4e4a2cbd",
        "outputId": "6a465b72-01a4-45be-aa7b-832f28fc0475"
      },
      "outputs": [
        {
          "data": {
            "text/html": [
              "<div>\n",
              "<style scoped>\n",
              "    .dataframe tbody tr th:only-of-type {\n",
              "        vertical-align: middle;\n",
              "    }\n",
              "\n",
              "    .dataframe tbody tr th {\n",
              "        vertical-align: top;\n",
              "    }\n",
              "\n",
              "    .dataframe thead th {\n",
              "        text-align: right;\n",
              "    }\n",
              "</style>\n",
              "<table border=\"1\" class=\"dataframe\">\n",
              "  <thead>\n",
              "    <tr style=\"text-align: right;\">\n",
              "      <th></th>\n",
              "      <th>Classifier</th>\n",
              "      <th>Train Score</th>\n",
              "      <th>Test Score</th>\n",
              "      <th>F1 Score</th>\n",
              "      <th>Precision Scores</th>\n",
              "      <th>Recall Scores</th>\n",
              "    </tr>\n",
              "  </thead>\n",
              "  <tbody>\n",
              "    <tr>\n",
              "      <th>0</th>\n",
              "      <td>Logistic Regression - CV</td>\n",
              "      <td>0.996738</td>\n",
              "      <td>0.758857</td>\n",
              "      <td>0.758477</td>\n",
              "      <td>0.758096</td>\n",
              "      <td>0.758857</td>\n",
              "    </tr>\n",
              "    <tr>\n",
              "      <th>1</th>\n",
              "      <td>Logistic Regression - TFIDF</td>\n",
              "      <td>0.888869</td>\n",
              "      <td>0.733667</td>\n",
              "      <td>0.733474</td>\n",
              "      <td>0.733282</td>\n",
              "      <td>0.733667</td>\n",
              "    </tr>\n",
              "    <tr>\n",
              "      <th>2</th>\n",
              "      <td>Decision Tree Classifier - CV</td>\n",
              "      <td>0.999964</td>\n",
              "      <td>0.610905</td>\n",
              "      <td>0.610964</td>\n",
              "      <td>0.611022</td>\n",
              "      <td>0.610905</td>\n",
              "    </tr>\n",
              "    <tr>\n",
              "      <th>3</th>\n",
              "      <td>Decision Tree Classifier - TFIDF</td>\n",
              "      <td>0.999964</td>\n",
              "      <td>0.607571</td>\n",
              "      <td>0.607989</td>\n",
              "      <td>0.608406</td>\n",
              "      <td>0.607571</td>\n",
              "    </tr>\n",
              "    <tr>\n",
              "      <th>4</th>\n",
              "      <td>Multinomial Naive Bayes - CV</td>\n",
              "      <td>0.974429</td>\n",
              "      <td>0.704524</td>\n",
              "      <td>0.721982</td>\n",
              "      <td>0.740327</td>\n",
              "      <td>0.704524</td>\n",
              "    </tr>\n",
              "    <tr>\n",
              "      <th>5</th>\n",
              "      <td>Multinomial Naive Bayes - TFIDF</td>\n",
              "      <td>0.942238</td>\n",
              "      <td>0.690952</td>\n",
              "      <td>0.719887</td>\n",
              "      <td>0.751350</td>\n",
              "      <td>0.690952</td>\n",
              "    </tr>\n",
              "    <tr>\n",
              "      <th>6</th>\n",
              "      <td>Linear SVC - CV</td>\n",
              "      <td>0.966714</td>\n",
              "      <td>0.700857</td>\n",
              "      <td>0.700561</td>\n",
              "      <td>0.700266</td>\n",
              "      <td>0.700857</td>\n",
              "    </tr>\n",
              "    <tr>\n",
              "      <th>7</th>\n",
              "      <td>Linear SVC - TFIDF</td>\n",
              "      <td>0.916119</td>\n",
              "      <td>0.716381</td>\n",
              "      <td>0.715782</td>\n",
              "      <td>0.715184</td>\n",
              "      <td>0.716381</td>\n",
              "    </tr>\n",
              "  </tbody>\n",
              "</table>\n",
              "</div>"
            ],
            "text/plain": [
              "                         Classifier  Train Score  Test Score  F1 Score  \\\n",
              "0          Logistic Regression - CV     0.996738    0.758857  0.758477   \n",
              "1       Logistic Regression - TFIDF     0.888869    0.733667  0.733474   \n",
              "2     Decision Tree Classifier - CV     0.999964    0.610905  0.610964   \n",
              "3  Decision Tree Classifier - TFIDF     0.999964    0.607571  0.607989   \n",
              "4      Multinomial Naive Bayes - CV     0.974429    0.704524  0.721982   \n",
              "5   Multinomial Naive Bayes - TFIDF     0.942238    0.690952  0.719887   \n",
              "6                   Linear SVC - CV     0.966714    0.700857  0.700561   \n",
              "7                Linear SVC - TFIDF     0.916119    0.716381  0.715782   \n",
              "\n",
              "   Precision Scores  Recall Scores  \n",
              "0          0.758096       0.758857  \n",
              "1          0.733282       0.733667  \n",
              "2          0.611022       0.610905  \n",
              "3          0.608406       0.607571  \n",
              "4          0.740327       0.704524  \n",
              "5          0.751350       0.690952  \n",
              "6          0.700266       0.700857  \n",
              "7          0.715184       0.716381  "
            ]
          },
          "execution_count": 64,
          "metadata": {},
          "output_type": "execute_result"
        }
      ],
      "source": [
        "final_df_cd"
      ]
    },
    {
      "cell_type": "code",
      "execution_count": null,
      "id": "13bdea86",
      "metadata": {
        "id": "13bdea86"
      },
      "outputs": [],
      "source": [
        "final_df_cd.sort_values(by='Test Score', ascending=False, inplace=True)"
      ]
    },
    {
      "cell_type": "code",
      "execution_count": null,
      "id": "efecce01",
      "metadata": {
        "id": "efecce01"
      },
      "outputs": [],
      "source": [
        "final_df_cd.set_index('Classifier', inplace=True)"
      ]
    },
    {
      "cell_type": "code",
      "execution_count": null,
      "id": "2931201d",
      "metadata": {
        "id": "2931201d",
        "outputId": "ec5d9067-a18e-49c8-e1a2-ef07f5529d1d"
      },
      "outputs": [
        {
          "data": {
            "text/html": [
              "<div>\n",
              "<style scoped>\n",
              "    .dataframe tbody tr th:only-of-type {\n",
              "        vertical-align: middle;\n",
              "    }\n",
              "\n",
              "    .dataframe tbody tr th {\n",
              "        vertical-align: top;\n",
              "    }\n",
              "\n",
              "    .dataframe thead th {\n",
              "        text-align: right;\n",
              "    }\n",
              "</style>\n",
              "<table border=\"1\" class=\"dataframe\">\n",
              "  <thead>\n",
              "    <tr style=\"text-align: right;\">\n",
              "      <th></th>\n",
              "      <th>Train Score</th>\n",
              "      <th>Test Score</th>\n",
              "      <th>F1 Score</th>\n",
              "      <th>Precision Scores</th>\n",
              "      <th>Recall Scores</th>\n",
              "    </tr>\n",
              "    <tr>\n",
              "      <th>Classifier</th>\n",
              "      <th></th>\n",
              "      <th></th>\n",
              "      <th></th>\n",
              "      <th></th>\n",
              "      <th></th>\n",
              "    </tr>\n",
              "  </thead>\n",
              "  <tbody>\n",
              "    <tr>\n",
              "      <th>Logistic Regression - CV</th>\n",
              "      <td>0.996738</td>\n",
              "      <td>0.758857</td>\n",
              "      <td>0.758477</td>\n",
              "      <td>0.758096</td>\n",
              "      <td>0.758857</td>\n",
              "    </tr>\n",
              "    <tr>\n",
              "      <th>Logistic Regression - TFIDF</th>\n",
              "      <td>0.888869</td>\n",
              "      <td>0.733667</td>\n",
              "      <td>0.733474</td>\n",
              "      <td>0.733282</td>\n",
              "      <td>0.733667</td>\n",
              "    </tr>\n",
              "    <tr>\n",
              "      <th>Linear SVC - TFIDF</th>\n",
              "      <td>0.916119</td>\n",
              "      <td>0.716381</td>\n",
              "      <td>0.715782</td>\n",
              "      <td>0.715184</td>\n",
              "      <td>0.716381</td>\n",
              "    </tr>\n",
              "    <tr>\n",
              "      <th>Multinomial Naive Bayes - CV</th>\n",
              "      <td>0.974429</td>\n",
              "      <td>0.704524</td>\n",
              "      <td>0.721982</td>\n",
              "      <td>0.740327</td>\n",
              "      <td>0.704524</td>\n",
              "    </tr>\n",
              "    <tr>\n",
              "      <th>Linear SVC - CV</th>\n",
              "      <td>0.966714</td>\n",
              "      <td>0.700857</td>\n",
              "      <td>0.700561</td>\n",
              "      <td>0.700266</td>\n",
              "      <td>0.700857</td>\n",
              "    </tr>\n",
              "    <tr>\n",
              "      <th>Multinomial Naive Bayes - TFIDF</th>\n",
              "      <td>0.942238</td>\n",
              "      <td>0.690952</td>\n",
              "      <td>0.719887</td>\n",
              "      <td>0.751350</td>\n",
              "      <td>0.690952</td>\n",
              "    </tr>\n",
              "    <tr>\n",
              "      <th>Decision Tree Classifier - CV</th>\n",
              "      <td>0.999964</td>\n",
              "      <td>0.610905</td>\n",
              "      <td>0.610964</td>\n",
              "      <td>0.611022</td>\n",
              "      <td>0.610905</td>\n",
              "    </tr>\n",
              "    <tr>\n",
              "      <th>Decision Tree Classifier - TFIDF</th>\n",
              "      <td>0.999964</td>\n",
              "      <td>0.607571</td>\n",
              "      <td>0.607989</td>\n",
              "      <td>0.608406</td>\n",
              "      <td>0.607571</td>\n",
              "    </tr>\n",
              "  </tbody>\n",
              "</table>\n",
              "</div>"
            ],
            "text/plain": [
              "                                  Train Score  Test Score  F1 Score  \\\n",
              "Classifier                                                            \n",
              "Logistic Regression - CV             0.996738    0.758857  0.758477   \n",
              "Logistic Regression - TFIDF          0.888869    0.733667  0.733474   \n",
              "Linear SVC - TFIDF                   0.916119    0.716381  0.715782   \n",
              "Multinomial Naive Bayes - CV         0.974429    0.704524  0.721982   \n",
              "Linear SVC - CV                      0.966714    0.700857  0.700561   \n",
              "Multinomial Naive Bayes - TFIDF      0.942238    0.690952  0.719887   \n",
              "Decision Tree Classifier - CV        0.999964    0.610905  0.610964   \n",
              "Decision Tree Classifier - TFIDF     0.999964    0.607571  0.607989   \n",
              "\n",
              "                                  Precision Scores  Recall Scores  \n",
              "Classifier                                                         \n",
              "Logistic Regression - CV                  0.758096       0.758857  \n",
              "Logistic Regression - TFIDF               0.733282       0.733667  \n",
              "Linear SVC - TFIDF                        0.715184       0.716381  \n",
              "Multinomial Naive Bayes - CV              0.740327       0.704524  \n",
              "Linear SVC - CV                           0.700266       0.700857  \n",
              "Multinomial Naive Bayes - TFIDF           0.751350       0.690952  \n",
              "Decision Tree Classifier - CV             0.611022       0.610905  \n",
              "Decision Tree Classifier - TFIDF          0.608406       0.607571  "
            ]
          },
          "execution_count": 67,
          "metadata": {},
          "output_type": "execute_result"
        }
      ],
      "source": [
        "final_df_cd"
      ]
    },
    {
      "cell_type": "code",
      "execution_count": null,
      "id": "d18d4a96",
      "metadata": {
        "id": "d18d4a96",
        "outputId": "d13b939f-4856-4b95-dc64-db8a6333129c"
      },
      "outputs": [
        {
          "name": "stdout",
          "output_type": "stream",
          "text": [
            "Model with Highest F1 Score: Logistic Regression - CV\n"
          ]
        }
      ],
      "source": [
        "print('Model with Highest F1 Score:', final_df_cd['Test Score'].idxmax())"
      ]
    },
    {
      "cell_type": "code",
      "execution_count": null,
      "id": "7937fb83",
      "metadata": {
        "id": "7937fb83",
        "outputId": "164ff925-938e-4eef-bb9b-2847b9136fc5"
      },
      "outputs": [
        {
          "data": {
            "image/png": "[encoded data removed]",
            "text/plain": [
              "<Figure size 1080x720 with 4 Axes>"
            ]
          },
          "metadata": {},
          "output_type": "display_data"
        }
      ],
      "source": [
        "fig, ((ax1,ax2),(ax3,ax4)) = plt.subplots(2,2, figsize=(15,10), facecolor='linen')\n",
        "\n",
        "ax1.barh(width=final_df_cd['Train Score'], y = final_df_cd.index, color='lightblue',edgecolor='black')\n",
        "ax1.set_title('Train score', fontweight='bold', size=15)\n",
        "\n",
        "ax2.barh(width=final_df_cd['Test Score'], y = final_df_cd.index, color='salmon', edgecolor='black')\n",
        "ax2.set_title('Test score', fontweight='bold', size=15)\n",
        "\n",
        "ax3.barh(width=final_df_cd['F1 Score'], y = final_df_cd.index, color='teal', edgecolor='black')\n",
        "ax3.set_title('F1 score', fontweight='bold', size=15)\n",
        "\n",
        "ax4.barh(width=final_df_cd['Recall Scores'], y = final_df_cd.index, color='yellowgreen', edgecolor='black')\n",
        "ax4.set_title('Recall score', fontweight='bold', size=15)\n",
        "\n",
        "\n",
        "plt.tight_layout()"
      ]
    },
    {
      "cell_type": "markdown",
      "id": "906a0348",
      "metadata": {
        "id": "906a0348"
      },
      "source": [
        "# AMAZON REVIEWS ANALYSIS - OFFICE PRODUCTS"
      ]
    },
    {
      "cell_type": "code",
      "execution_count": null,
      "id": "2ad3cb4b",
      "metadata": {
        "id": "2ad3cb4b",
        "outputId": "ae701743-e3ef-432b-9944-63c9653b4b50"
      },
      "outputs": [
        {
          "data": {
            "text/html": [
              "<div>\n",
              "<style scoped>\n",
              "    .dataframe tbody tr th:only-of-type {\n",
              "        vertical-align: middle;\n",
              "    }\n",
              "\n",
              "    .dataframe tbody tr th {\n",
              "        vertical-align: top;\n",
              "    }\n",
              "\n",
              "    .dataframe thead th {\n",
              "        text-align: right;\n",
              "    }\n",
              "</style>\n",
              "<table border=\"1\" class=\"dataframe\">\n",
              "  <thead>\n",
              "    <tr style=\"text-align: right;\">\n",
              "      <th></th>\n",
              "      <th>ratings</th>\n",
              "      <th>verified</th>\n",
              "      <th>date</th>\n",
              "      <th>reviewerID</th>\n",
              "      <th>asin</th>\n",
              "      <th>review</th>\n",
              "      <th>summary</th>\n",
              "      <th>unixReviewTime</th>\n",
              "      <th>category</th>\n",
              "      <th>description</th>\n",
              "      <th>...</th>\n",
              "      <th>Sentiment</th>\n",
              "      <th>word_count</th>\n",
              "      <th>char_count</th>\n",
              "      <th>avg_word</th>\n",
              "      <th>polarity</th>\n",
              "      <th>label</th>\n",
              "      <th>year</th>\n",
              "      <th>rating_class_num</th>\n",
              "      <th>review_length</th>\n",
              "      <th>review_length_bin</th>\n",
              "    </tr>\n",
              "  </thead>\n",
              "  <tbody>\n",
              "    <tr>\n",
              "      <th>0</th>\n",
              "      <td>4.0</td>\n",
              "      <td>True</td>\n",
              "      <td>2017-11-07</td>\n",
              "      <td>A2NIJTYWADLK57</td>\n",
              "      <td>0140503528</td>\n",
              "      <td>kids like story really wanted board book one s...</td>\n",
              "      <td>good story, small size book though</td>\n",
              "      <td>1510012800</td>\n",
              "      <td>['Office Products', 'Office &amp; School Supplies'...</td>\n",
              "      <td>['Corduroy the bear goes to the launderette wi...</td>\n",
              "      <td>...</td>\n",
              "      <td>Positive</td>\n",
              "      <td>11</td>\n",
              "      <td>62</td>\n",
              "      <td>4.7</td>\n",
              "      <td>-0.016667</td>\n",
              "      <td>1.0</td>\n",
              "      <td>2017</td>\n",
              "      <td>1</td>\n",
              "      <td>11</td>\n",
              "      <td>(0, 100]</td>\n",
              "    </tr>\n",
              "    <tr>\n",
              "      <th>1</th>\n",
              "      <td>4.0</td>\n",
              "      <td>True</td>\n",
              "      <td>2017-03-07</td>\n",
              "      <td>A2827D8EEURMP4</td>\n",
              "      <td>0140503528</td>\n",
              "      <td>bought used came great condition almost like n...</td>\n",
              "      <td>Good</td>\n",
              "      <td>1488844800</td>\n",
              "      <td>['Office Products', 'Office &amp; School Supplies'...</td>\n",
              "      <td>['Corduroy the bear goes to the launderette wi...</td>\n",
              "      <td>...</td>\n",
              "      <td>Positive</td>\n",
              "      <td>20</td>\n",
              "      <td>135</td>\n",
              "      <td>5.8</td>\n",
              "      <td>0.625000</td>\n",
              "      <td>1.0</td>\n",
              "      <td>2017</td>\n",
              "      <td>1</td>\n",
              "      <td>20</td>\n",
              "      <td>(0, 100]</td>\n",
              "    </tr>\n",
              "    <tr>\n",
              "      <th>2</th>\n",
              "      <td>5.0</td>\n",
              "      <td>True</td>\n",
              "      <td>2016-06-25</td>\n",
              "      <td>APB6087F4J09J</td>\n",
              "      <td>0140503528</td>\n",
              "      <td>every story book corduroy fantastic book great...</td>\n",
              "      <td>Best Books for All Children</td>\n",
              "      <td>1466812800</td>\n",
              "      <td>['Office Products', 'Office &amp; School Supplies'...</td>\n",
              "      <td>['Corduroy the bear goes to the launderette wi...</td>\n",
              "      <td>...</td>\n",
              "      <td>Positive</td>\n",
              "      <td>24</td>\n",
              "      <td>146</td>\n",
              "      <td>5.6</td>\n",
              "      <td>0.425000</td>\n",
              "      <td>1.0</td>\n",
              "      <td>2016</td>\n",
              "      <td>1</td>\n",
              "      <td>22</td>\n",
              "      <td>(0, 100]</td>\n",
              "    </tr>\n",
              "    <tr>\n",
              "      <th>3</th>\n",
              "      <td>5.0</td>\n",
              "      <td>True</td>\n",
              "      <td>2016-02-21</td>\n",
              "      <td>A2DHERRZIPFU7X</td>\n",
              "      <td>0140503528</td>\n",
              "      <td>purchased book first grade classroom read book...</td>\n",
              "      <td>Great for Math!</td>\n",
              "      <td>1456012800</td>\n",
              "      <td>['Office Products', 'Office &amp; School Supplies'...</td>\n",
              "      <td>['Corduroy the bear goes to the launderette wi...</td>\n",
              "      <td>...</td>\n",
              "      <td>Positive</td>\n",
              "      <td>44</td>\n",
              "      <td>306</td>\n",
              "      <td>6.0</td>\n",
              "      <td>0.233333</td>\n",
              "      <td>1.0</td>\n",
              "      <td>2016</td>\n",
              "      <td>1</td>\n",
              "      <td>44</td>\n",
              "      <td>(0, 100]</td>\n",
              "    </tr>\n",
              "    <tr>\n",
              "      <th>4</th>\n",
              "      <td>5.0</td>\n",
              "      <td>False</td>\n",
              "      <td>2015-08-02</td>\n",
              "      <td>A2XCLJRGFANRC</td>\n",
              "      <td>0140503528</td>\n",
              "      <td>spent numerous years elementary school library...</td>\n",
              "      <td>Love Corduroy</td>\n",
              "      <td>1438473600</td>\n",
              "      <td>['Office Products', 'Office &amp; School Supplies'...</td>\n",
              "      <td>['Corduroy the bear goes to the launderette wi...</td>\n",
              "      <td>...</td>\n",
              "      <td>Positive</td>\n",
              "      <td>61</td>\n",
              "      <td>447</td>\n",
              "      <td>6.3</td>\n",
              "      <td>0.405208</td>\n",
              "      <td>1.0</td>\n",
              "      <td>2015</td>\n",
              "      <td>1</td>\n",
              "      <td>61</td>\n",
              "      <td>(0, 100]</td>\n",
              "    </tr>\n",
              "  </tbody>\n",
              "</table>\n",
              "<p>5 rows × 30 columns</p>\n",
              "</div>"
            ],
            "text/plain": [
              "   ratings  verified        date      reviewerID        asin  \\\n",
              "0      4.0      True  2017-11-07  A2NIJTYWADLK57  0140503528   \n",
              "1      4.0      True  2017-03-07  A2827D8EEURMP4  0140503528   \n",
              "2      5.0      True  2016-06-25   APB6087F4J09J  0140503528   \n",
              "3      5.0      True  2016-02-21  A2DHERRZIPFU7X  0140503528   \n",
              "4      5.0     False  2015-08-02   A2XCLJRGFANRC  0140503528   \n",
              "\n",
              "                                              review  \\\n",
              "0  kids like story really wanted board book one s...   \n",
              "1  bought used came great condition almost like n...   \n",
              "2  every story book corduroy fantastic book great...   \n",
              "3  purchased book first grade classroom read book...   \n",
              "4  spent numerous years elementary school library...   \n",
              "\n",
              "                              summary  unixReviewTime  \\\n",
              "0  good story, small size book though      1510012800   \n",
              "1                                Good      1488844800   \n",
              "2         Best Books for All Children      1466812800   \n",
              "3                     Great for Math!      1456012800   \n",
              "4                       Love Corduroy      1438473600   \n",
              "\n",
              "                                            category  \\\n",
              "0  ['Office Products', 'Office & School Supplies'...   \n",
              "1  ['Office Products', 'Office & School Supplies'...   \n",
              "2  ['Office Products', 'Office & School Supplies'...   \n",
              "3  ['Office Products', 'Office & School Supplies'...   \n",
              "4  ['Office Products', 'Office & School Supplies'...   \n",
              "\n",
              "                                         description  ... Sentiment  \\\n",
              "0  ['Corduroy the bear goes to the launderette wi...  ...  Positive   \n",
              "1  ['Corduroy the bear goes to the launderette wi...  ...  Positive   \n",
              "2  ['Corduroy the bear goes to the launderette wi...  ...  Positive   \n",
              "3  ['Corduroy the bear goes to the launderette wi...  ...  Positive   \n",
              "4  ['Corduroy the bear goes to the launderette wi...  ...  Positive   \n",
              "\n",
              "  word_count  char_count avg_word  polarity  label  year  rating_class_num  \\\n",
              "0         11          62      4.7 -0.016667    1.0  2017                 1   \n",
              "1         20         135      5.8  0.625000    1.0  2017                 1   \n",
              "2         24         146      5.6  0.425000    1.0  2016                 1   \n",
              "3         44         306      6.0  0.233333    1.0  2016                 1   \n",
              "4         61         447      6.3  0.405208    1.0  2015                 1   \n",
              "\n",
              "   review_length review_length_bin  \n",
              "0             11          (0, 100]  \n",
              "1             20          (0, 100]  \n",
              "2             22          (0, 100]  \n",
              "3             44          (0, 100]  \n",
              "4             61          (0, 100]  \n",
              "\n",
              "[5 rows x 30 columns]"
            ]
          },
          "execution_count": 70,
          "metadata": {},
          "output_type": "execute_result"
        }
      ],
      "source": [
        "office_sent.head()"
      ]
    },
    {
      "cell_type": "markdown",
      "id": "41c4ac5c",
      "metadata": {
        "id": "41c4ac5c"
      },
      "source": [
        "## SPLITING THE DATASET INTO TRAIN AND TEST"
      ]
    },
    {
      "cell_type": "code",
      "execution_count": null,
      "id": "3ed7a984",
      "metadata": {
        "id": "3ed7a984"
      },
      "outputs": [],
      "source": [
        "# SAMPLING THE DATA INTO A BALANCED DATASET "
      ]
    },
    {
      "cell_type": "code",
      "execution_count": null,
      "id": "f6e997e8",
      "metadata": {
        "id": "f6e997e8"
      },
      "outputs": [],
      "source": [
        "# Separate majority and minority classes\n",
        "office_pos = office_sent[office_sent['Sentiment']=='Positive']\n",
        "office_neu = office_sent[office_sent['Sentiment']=='Neutral']\n",
        "office_neg = office_sent[office_sent['Sentiment']=='Negative']\n",
        " \n",
        "\n",
        "df_office_pos = resample(office_pos, replace=False,n_samples=35000)\n",
        "\n",
        "df_office_neu = resample(office_neu, replace=True, n_samples=35000)\n",
        "\n",
        "df_office_neg = resample(office_neg, replace=True, n_samples=35000)\n",
        "\n",
        "# Combine minority class with downsampled majority class\n",
        "office_df = pd.concat([df_office_pos, df_office_neu,df_office_neg])"
      ]
    },
    {
      "cell_type": "code",
      "execution_count": null,
      "id": "8b71cf8c",
      "metadata": {
        "id": "8b71cf8c"
      },
      "outputs": [],
      "source": [
        "X = office_df[\"review\"]\n",
        "y = office_df[\"Sentiment\"]"
      ]
    },
    {
      "cell_type": "code",
      "execution_count": null,
      "id": "f23bee3a",
      "metadata": {
        "id": "f23bee3a"
      },
      "outputs": [],
      "source": [
        "X_train, X_test, y_train, y_test = train_test_split(X,y,test_size = 0.2,random_state = 42)"
      ]
    },
    {
      "cell_type": "markdown",
      "id": "6e025888",
      "metadata": {
        "id": "6e025888"
      },
      "source": [
        "# Pipeline Model"
      ]
    },
    {
      "cell_type": "code",
      "execution_count": null,
      "id": "8e4be6b0",
      "metadata": {
        "id": "8e4be6b0"
      },
      "outputs": [],
      "source": [
        "f1_list = []\n",
        "recall_list = []\n",
        "precision_list = []\n",
        "train_accuracy_list = []\n",
        "test_accuracy_list = []\n",
        "\n",
        "def f1_score1(precision,recall):\n",
        "    f1 = 2*(precision * recall)/(precision + recall)\n",
        "    return f1"
      ]
    },
    {
      "cell_type": "code",
      "execution_count": null,
      "id": "9ff5d535",
      "metadata": {
        "id": "9ff5d535"
      },
      "outputs": [],
      "source": [
        "\n",
        "\n",
        "def evaluation(pipeline):\n",
        "    pipeline = pipeline.fit(X_train, y_train)\n",
        "    global accuracy_train, accuracy_test, precision1, recall1, f1_score, y_pred_test, y_pred_train\n",
        "  \n",
        "    y_pred_train = pipeline.predict(X_train)\n",
        "    y_pred_test = pipeline.predict(X_test)\n",
        "\n",
        "    accuracy_train=accuracy_score(y_train, y_pred_train)\n",
        "    accuracy_test=accuracy_score(y_test, y_pred_test)\n",
        "    precision1 = precision_score(y_test, y_pred_test,average=\"weighted\")\n",
        "    recall1 = recall_score(y_test, y_pred_test,average=\"weighted\")\n",
        "    f1_score2 = f1_score1(precision1, recall1)\n",
        "\n",
        "    print('Accuracy on train %f' %accuracy_train)\n",
        "    print('Accuracy on test %f' %accuracy_test)\n",
        "    print(\"F1 Score\", f1_score2)\n",
        "    print(\"Precision Score\", precision1)\n",
        "    print(\"Recall Score\", recall1)\n",
        "\n",
        "    f1_list.append(f1_score2)\n",
        "    precision_list.append(precision1)\n",
        "    recall_list.append(recall1)\n",
        "    train_accuracy_list.append(accuracy_train)\n",
        "    test_accuracy_list.append(accuracy_test)"
      ]
    },
    {
      "cell_type": "markdown",
      "id": "402b01c4",
      "metadata": {
        "id": "402b01c4"
      },
      "source": [
        "# LOGISTIC REGRESSION"
      ]
    },
    {
      "cell_type": "markdown",
      "id": "7700930e",
      "metadata": {
        "id": "7700930e"
      },
      "source": [
        "## With CountVectorizer"
      ]
    },
    {
      "cell_type": "code",
      "execution_count": null,
      "id": "772ff14f",
      "metadata": {
        "id": "772ff14f",
        "outputId": "771a7cfa-5fbd-4e72-c52b-d88f217cf6dd"
      },
      "outputs": [
        {
          "name": "stdout",
          "output_type": "stream",
          "text": [
            "Accuracy on train 0.990417\n",
            "Accuracy on test 0.811000\n",
            "F1 Score 0.8108606363766572\n",
            "Precision Score 0.8107213206420503\n",
            "Recall Score 0.811\n"
          ]
        }
      ],
      "source": [
        "pipeline_lr_cv_office = Pipeline([\n",
        "    ('vect', CountVectorizer(analyzer='word', ngram_range=(1, 2))),\n",
        "    ('clf', LogisticRegression(max_iter=500,random_state=40,solver='newton-cg',multi_class=\"ovr\")),\n",
        "])\n",
        "\n",
        "evaluation(pipeline_lr_cv_office)"
      ]
    },
    {
      "cell_type": "code",
      "execution_count": null,
      "id": "62c860c5",
      "metadata": {
        "id": "62c860c5",
        "outputId": "92e5b43a-5d71-4bfc-ff87-7727863c9bdd"
      },
      "outputs": [
        {
          "name": "stdout",
          "output_type": "stream",
          "text": [
            "Accuracy on train 0.884060\n",
            "Accuracy on test 0.761905\n",
            "F1 Score 0.7614873741209887\n",
            "Precision Score 0.7610704433948047\n",
            "Recall Score 0.7619047619047619\n"
          ]
        }
      ],
      "source": [
        "pipeline_lr_tfidf_office = Pipeline([\n",
        "    ('vect', TfidfVectorizer(analyzer='word', ngram_range=(1, 2))),\n",
        "    ('pipeline_lr_tfidf', LogisticRegression(max_iter=500,random_state=40,solver='newton-cg',multi_class=\"ovr\")),\n",
        "])\n",
        "\n",
        "evaluation(pipeline_lr_tfidf_office)"
      ]
    },
    {
      "cell_type": "markdown",
      "id": "360c1cbe",
      "metadata": {
        "id": "360c1cbe"
      },
      "source": [
        "# DECISION TREE CLASSIFIER"
      ]
    },
    {
      "cell_type": "code",
      "execution_count": null,
      "id": "38e10494",
      "metadata": {
        "id": "38e10494",
        "outputId": "481377fa-6136-4224-d9c4-d401e60ae3bb"
      },
      "outputs": [
        {
          "name": "stdout",
          "output_type": "stream",
          "text": [
            "Accuracy on train 0.999929\n",
            "Accuracy on test 0.718762\n",
            "F1 Score 0.7188680119348744\n",
            "Precision Score 0.7189741504405964\n",
            "Recall Score 0.7187619047619047\n"
          ]
        }
      ],
      "source": [
        "pipeline_dt_cv_office = Pipeline([\n",
        "    ('vect', CountVectorizer(analyzer='word', ngram_range=(1, 2))),\n",
        "    ('pipeline_dt_cv', DecisionTreeClassifier(criterion= \"entropy\")),\n",
        "])\n",
        "\n",
        "evaluation(pipeline_dt_cv_office)"
      ]
    },
    {
      "cell_type": "code",
      "execution_count": null,
      "id": "9a04ed7e",
      "metadata": {
        "id": "9a04ed7e",
        "outputId": "ec697062-28e3-4332-8221-b5712c993df9"
      },
      "outputs": [
        {
          "name": "stdout",
          "output_type": "stream",
          "text": [
            "Accuracy on train 0.999929\n",
            "Accuracy on test 0.710333\n",
            "F1 Score 0.7112387729958234\n",
            "Precision Score 0.7121465238755345\n",
            "Recall Score 0.7103333333333334\n"
          ]
        }
      ],
      "source": [
        "pipeline_dt_tfidf_office = Pipeline([\n",
        "    ('vect',TfidfVectorizer(analyzer='word', ngram_range=(1, 2))),\n",
        "    ('pipeline_dt_tfidf', DecisionTreeClassifier()),\n",
        "])\n",
        "\n",
        "evaluation(pipeline_dt_tfidf_office)"
      ]
    },
    {
      "cell_type": "markdown",
      "id": "d1085f7d",
      "metadata": {
        "id": "d1085f7d"
      },
      "source": [
        "# MULTINOMIAL NAIVE BAYES"
      ]
    },
    {
      "cell_type": "code",
      "execution_count": null,
      "id": "233527fd",
      "metadata": {
        "id": "233527fd",
        "outputId": "1b1861a0-81b4-4462-df7f-4c9b2d279311"
      },
      "outputs": [
        {
          "name": "stdout",
          "output_type": "stream",
          "text": [
            "Accuracy on train 0.938964\n",
            "Accuracy on test 0.746762\n",
            "F1 Score 0.7519313025303813\n",
            "Precision Score 0.7571727686464661\n",
            "Recall Score 0.7467619047619047\n"
          ]
        }
      ],
      "source": [
        "pipeline_mul_cv_office = Pipeline([\n",
        "    ('vect', CountVectorizer(analyzer='word', ngram_range=(1, 2))),\n",
        "    ('clf', MultinomialNB()),\n",
        "])\n",
        "\n",
        "evaluation(pipeline_mul_cv_office)\n",
        "     "
      ]
    },
    {
      "cell_type": "code",
      "execution_count": null,
      "id": "e0ae23a3",
      "metadata": {
        "id": "e0ae23a3",
        "outputId": "b2fd8c76-b175-4151-d3b1-1592a779e24d"
      },
      "outputs": [
        {
          "name": "stdout",
          "output_type": "stream",
          "text": [
            "Accuracy on train 0.921762\n",
            "Accuracy on test 0.749429\n",
            "F1 Score 0.7570336398062637\n",
            "Precision Score 0.7647946403289784\n",
            "Recall Score 0.7494285714285714\n"
          ]
        }
      ],
      "source": [
        "pipeline_mul_tfidf_office = Pipeline([\n",
        "    ('vect', TfidfVectorizer(analyzer='word', ngram_range=(1, 2))),\n",
        "    ('clf', MultinomialNB()),\n",
        "])\n",
        "\n",
        "evaluation(pipeline_mul_tfidf_office)"
      ]
    },
    {
      "cell_type": "markdown",
      "id": "8cd4dfd3",
      "metadata": {
        "id": "8cd4dfd3"
      },
      "source": [
        "# SUPPORT VECTOR CLASSIFIER"
      ]
    },
    {
      "cell_type": "code",
      "execution_count": null,
      "id": "b8b75292",
      "metadata": {
        "id": "b8b75292",
        "outputId": "faf29c80-7c15-4dcd-814e-a31c0a1f9722"
      },
      "outputs": [
        {
          "name": "stderr",
          "output_type": "stream",
          "text": [
            "C:\\ProgramData\\Anaconda3\\lib\\site-packages\\sklearn\\svm\\_base.py:1206: ConvergenceWarning: Liblinear failed to converge, increase the number of iterations.\n",
            "  warnings.warn(\n"
          ]
        },
        {
          "name": "stdout",
          "output_type": "stream",
          "text": [
            "Accuracy on train 0.879298\n",
            "Accuracy on test 0.728571\n",
            "F1 Score 0.7279185728262533\n",
            "Precision Score 0.727266886050991\n",
            "Recall Score 0.7285714285714285\n"
          ]
        }
      ],
      "source": [
        "pipeline_svc_cv_office = Pipeline([\n",
        "    ('vect', CountVectorizer()),\n",
        "    ('pipeline_svc_cv',LinearSVC()),\n",
        "])\n",
        "\n",
        "evaluation(pipeline_svc_cv_office)"
      ]
    },
    {
      "cell_type": "code",
      "execution_count": null,
      "id": "fcfa3496",
      "metadata": {
        "id": "fcfa3496",
        "outputId": "ce2f732e-251b-418d-c6c4-fa121c1f0a03"
      },
      "outputs": [
        {
          "name": "stdout",
          "output_type": "stream",
          "text": [
            "Accuracy on train 0.841762\n",
            "Accuracy on test 0.726952\n",
            "F1 Score 0.7264399055808811\n",
            "Precision Score 0.7259281522539011\n",
            "Recall Score 0.7269523809523809\n"
          ]
        }
      ],
      "source": [
        "pipeline_svc_tfidf_office = Pipeline([\n",
        "    ('vect',TfidfVectorizer()),\n",
        "    ('pipeline_svc_tfidf',LinearSVC()),\n",
        "])\n",
        "\n",
        "evaluation(pipeline_svc_tfidf_office)"
      ]
    },
    {
      "cell_type": "code",
      "execution_count": null,
      "id": "c0dd43c3",
      "metadata": {
        "id": "c0dd43c3"
      },
      "outputs": [],
      "source": [
        "pipe_dict = {0:'Logistic Regression - CV', \n",
        "             1:'Logistic Regression - TFIDF', \n",
        "             2:'Decision Tree Classifier - CV', \n",
        "             3:'Decision Tree Classifier - TFIDF', \n",
        "             4:'Multinomial Naive Bayes - CV', \n",
        "             5:'Multinomial Naive Bayes - TFIDF',\n",
        "             6:'Linear SVC - CV', \n",
        "             7:'Linear SVC - TFIDF'}"
      ]
    },
    {
      "cell_type": "code",
      "execution_count": null,
      "id": "3eb3bd12",
      "metadata": {
        "id": "3eb3bd12"
      },
      "outputs": [],
      "source": [
        "\n",
        "final_df_office = pd.DataFrame(zip(pipe_dict.values(), train_accuracy_list, test_accuracy_list, f1_list, precision_list, recall_list),\n",
        "                        columns=['Classifier', 'Train Score', 'Test Score','F1 Score', 'Precision Scores', 'Recall Scores'])"
      ]
    },
    {
      "cell_type": "code",
      "execution_count": null,
      "id": "397caef7",
      "metadata": {
        "id": "397caef7",
        "outputId": "dafdce03-0394-4fca-848c-25df92f2c9fb"
      },
      "outputs": [
        {
          "data": {
            "text/html": [
              "<div>\n",
              "<style scoped>\n",
              "    .dataframe tbody tr th:only-of-type {\n",
              "        vertical-align: middle;\n",
              "    }\n",
              "\n",
              "    .dataframe tbody tr th {\n",
              "        vertical-align: top;\n",
              "    }\n",
              "\n",
              "    .dataframe thead th {\n",
              "        text-align: right;\n",
              "    }\n",
              "</style>\n",
              "<table border=\"1\" class=\"dataframe\">\n",
              "  <thead>\n",
              "    <tr style=\"text-align: right;\">\n",
              "      <th></th>\n",
              "      <th>Classifier</th>\n",
              "      <th>Train Score</th>\n",
              "      <th>Test Score</th>\n",
              "      <th>F1 Score</th>\n",
              "      <th>Precision Scores</th>\n",
              "      <th>Recall Scores</th>\n",
              "    </tr>\n",
              "  </thead>\n",
              "  <tbody>\n",
              "    <tr>\n",
              "      <th>0</th>\n",
              "      <td>Logistic Regression - CV</td>\n",
              "      <td>0.990417</td>\n",
              "      <td>0.811000</td>\n",
              "      <td>0.810861</td>\n",
              "      <td>0.810721</td>\n",
              "      <td>0.811000</td>\n",
              "    </tr>\n",
              "    <tr>\n",
              "      <th>1</th>\n",
              "      <td>Logistic Regression - TFIDF</td>\n",
              "      <td>0.884060</td>\n",
              "      <td>0.761905</td>\n",
              "      <td>0.761487</td>\n",
              "      <td>0.761070</td>\n",
              "      <td>0.761905</td>\n",
              "    </tr>\n",
              "    <tr>\n",
              "      <th>2</th>\n",
              "      <td>Decision Tree Classifier - CV</td>\n",
              "      <td>0.999929</td>\n",
              "      <td>0.718762</td>\n",
              "      <td>0.718868</td>\n",
              "      <td>0.718974</td>\n",
              "      <td>0.718762</td>\n",
              "    </tr>\n",
              "    <tr>\n",
              "      <th>3</th>\n",
              "      <td>Decision Tree Classifier - TFIDF</td>\n",
              "      <td>0.999929</td>\n",
              "      <td>0.710333</td>\n",
              "      <td>0.711239</td>\n",
              "      <td>0.712147</td>\n",
              "      <td>0.710333</td>\n",
              "    </tr>\n",
              "    <tr>\n",
              "      <th>4</th>\n",
              "      <td>Multinomial Naive Bayes - CV</td>\n",
              "      <td>0.938964</td>\n",
              "      <td>0.746762</td>\n",
              "      <td>0.751931</td>\n",
              "      <td>0.757173</td>\n",
              "      <td>0.746762</td>\n",
              "    </tr>\n",
              "    <tr>\n",
              "      <th>5</th>\n",
              "      <td>Multinomial Naive Bayes - TFIDF</td>\n",
              "      <td>0.921762</td>\n",
              "      <td>0.749429</td>\n",
              "      <td>0.757034</td>\n",
              "      <td>0.764795</td>\n",
              "      <td>0.749429</td>\n",
              "    </tr>\n",
              "    <tr>\n",
              "      <th>6</th>\n",
              "      <td>Linear SVC - CV</td>\n",
              "      <td>0.879298</td>\n",
              "      <td>0.728571</td>\n",
              "      <td>0.727919</td>\n",
              "      <td>0.727267</td>\n",
              "      <td>0.728571</td>\n",
              "    </tr>\n",
              "    <tr>\n",
              "      <th>7</th>\n",
              "      <td>Linear SVC - TFIDF</td>\n",
              "      <td>0.841762</td>\n",
              "      <td>0.726952</td>\n",
              "      <td>0.726440</td>\n",
              "      <td>0.725928</td>\n",
              "      <td>0.726952</td>\n",
              "    </tr>\n",
              "  </tbody>\n",
              "</table>\n",
              "</div>"
            ],
            "text/plain": [
              "                         Classifier  Train Score  Test Score  F1 Score  \\\n",
              "0          Logistic Regression - CV     0.990417    0.811000  0.810861   \n",
              "1       Logistic Regression - TFIDF     0.884060    0.761905  0.761487   \n",
              "2     Decision Tree Classifier - CV     0.999929    0.718762  0.718868   \n",
              "3  Decision Tree Classifier - TFIDF     0.999929    0.710333  0.711239   \n",
              "4      Multinomial Naive Bayes - CV     0.938964    0.746762  0.751931   \n",
              "5   Multinomial Naive Bayes - TFIDF     0.921762    0.749429  0.757034   \n",
              "6                   Linear SVC - CV     0.879298    0.728571  0.727919   \n",
              "7                Linear SVC - TFIDF     0.841762    0.726952  0.726440   \n",
              "\n",
              "   Precision Scores  Recall Scores  \n",
              "0          0.810721       0.811000  \n",
              "1          0.761070       0.761905  \n",
              "2          0.718974       0.718762  \n",
              "3          0.712147       0.710333  \n",
              "4          0.757173       0.746762  \n",
              "5          0.764795       0.749429  \n",
              "6          0.727267       0.728571  \n",
              "7          0.725928       0.726952  "
            ]
          },
          "execution_count": 86,
          "metadata": {},
          "output_type": "execute_result"
        }
      ],
      "source": [
        "final_df_office"
      ]
    },
    {
      "cell_type": "code",
      "execution_count": null,
      "id": "b57cdb2b",
      "metadata": {
        "id": "b57cdb2b"
      },
      "outputs": [],
      "source": [
        "final_df_office.sort_values(by='Test Score', ascending=False, inplace=True)"
      ]
    },
    {
      "cell_type": "code",
      "execution_count": null,
      "id": "e5e46af1",
      "metadata": {
        "id": "e5e46af1"
      },
      "outputs": [],
      "source": [
        "final_df_office.set_index('Classifier', inplace=True)"
      ]
    },
    {
      "cell_type": "code",
      "execution_count": null,
      "id": "e933360c",
      "metadata": {
        "id": "e933360c",
        "outputId": "47663795-4379-4622-c496-d21ec299604e"
      },
      "outputs": [
        {
          "data": {
            "text/html": [
              "<div>\n",
              "<style scoped>\n",
              "    .dataframe tbody tr th:only-of-type {\n",
              "        vertical-align: middle;\n",
              "    }\n",
              "\n",
              "    .dataframe tbody tr th {\n",
              "        vertical-align: top;\n",
              "    }\n",
              "\n",
              "    .dataframe thead th {\n",
              "        text-align: right;\n",
              "    }\n",
              "</style>\n",
              "<table border=\"1\" class=\"dataframe\">\n",
              "  <thead>\n",
              "    <tr style=\"text-align: right;\">\n",
              "      <th></th>\n",
              "      <th>Train Score</th>\n",
              "      <th>Test Score</th>\n",
              "      <th>F1 Score</th>\n",
              "      <th>Precision Scores</th>\n",
              "      <th>Recall Scores</th>\n",
              "    </tr>\n",
              "    <tr>\n",
              "      <th>Classifier</th>\n",
              "      <th></th>\n",
              "      <th></th>\n",
              "      <th></th>\n",
              "      <th></th>\n",
              "      <th></th>\n",
              "    </tr>\n",
              "  </thead>\n",
              "  <tbody>\n",
              "    <tr>\n",
              "      <th>Logistic Regression - CV</th>\n",
              "      <td>0.990417</td>\n",
              "      <td>0.811000</td>\n",
              "      <td>0.810861</td>\n",
              "      <td>0.810721</td>\n",
              "      <td>0.811000</td>\n",
              "    </tr>\n",
              "    <tr>\n",
              "      <th>Logistic Regression - TFIDF</th>\n",
              "      <td>0.884060</td>\n",
              "      <td>0.761905</td>\n",
              "      <td>0.761487</td>\n",
              "      <td>0.761070</td>\n",
              "      <td>0.761905</td>\n",
              "    </tr>\n",
              "    <tr>\n",
              "      <th>Multinomial Naive Bayes - TFIDF</th>\n",
              "      <td>0.921762</td>\n",
              "      <td>0.749429</td>\n",
              "      <td>0.757034</td>\n",
              "      <td>0.764795</td>\n",
              "      <td>0.749429</td>\n",
              "    </tr>\n",
              "    <tr>\n",
              "      <th>Multinomial Naive Bayes - CV</th>\n",
              "      <td>0.938964</td>\n",
              "      <td>0.746762</td>\n",
              "      <td>0.751931</td>\n",
              "      <td>0.757173</td>\n",
              "      <td>0.746762</td>\n",
              "    </tr>\n",
              "    <tr>\n",
              "      <th>Linear SVC - CV</th>\n",
              "      <td>0.879298</td>\n",
              "      <td>0.728571</td>\n",
              "      <td>0.727919</td>\n",
              "      <td>0.727267</td>\n",
              "      <td>0.728571</td>\n",
              "    </tr>\n",
              "    <tr>\n",
              "      <th>Linear SVC - TFIDF</th>\n",
              "      <td>0.841762</td>\n",
              "      <td>0.726952</td>\n",
              "      <td>0.726440</td>\n",
              "      <td>0.725928</td>\n",
              "      <td>0.726952</td>\n",
              "    </tr>\n",
              "    <tr>\n",
              "      <th>Decision Tree Classifier - CV</th>\n",
              "      <td>0.999929</td>\n",
              "      <td>0.718762</td>\n",
              "      <td>0.718868</td>\n",
              "      <td>0.718974</td>\n",
              "      <td>0.718762</td>\n",
              "    </tr>\n",
              "    <tr>\n",
              "      <th>Decision Tree Classifier - TFIDF</th>\n",
              "      <td>0.999929</td>\n",
              "      <td>0.710333</td>\n",
              "      <td>0.711239</td>\n",
              "      <td>0.712147</td>\n",
              "      <td>0.710333</td>\n",
              "    </tr>\n",
              "  </tbody>\n",
              "</table>\n",
              "</div>"
            ],
            "text/plain": [
              "                                  Train Score  Test Score  F1 Score  \\\n",
              "Classifier                                                            \n",
              "Logistic Regression - CV             0.990417    0.811000  0.810861   \n",
              "Logistic Regression - TFIDF          0.884060    0.761905  0.761487   \n",
              "Multinomial Naive Bayes - TFIDF      0.921762    0.749429  0.757034   \n",
              "Multinomial Naive Bayes - CV         0.938964    0.746762  0.751931   \n",
              "Linear SVC - CV                      0.879298    0.728571  0.727919   \n",
              "Linear SVC - TFIDF                   0.841762    0.726952  0.726440   \n",
              "Decision Tree Classifier - CV        0.999929    0.718762  0.718868   \n",
              "Decision Tree Classifier - TFIDF     0.999929    0.710333  0.711239   \n",
              "\n",
              "                                  Precision Scores  Recall Scores  \n",
              "Classifier                                                         \n",
              "Logistic Regression - CV                  0.810721       0.811000  \n",
              "Logistic Regression - TFIDF               0.761070       0.761905  \n",
              "Multinomial Naive Bayes - TFIDF           0.764795       0.749429  \n",
              "Multinomial Naive Bayes - CV              0.757173       0.746762  \n",
              "Linear SVC - CV                           0.727267       0.728571  \n",
              "Linear SVC - TFIDF                        0.725928       0.726952  \n",
              "Decision Tree Classifier - CV             0.718974       0.718762  \n",
              "Decision Tree Classifier - TFIDF          0.712147       0.710333  "
            ]
          },
          "execution_count": 89,
          "metadata": {},
          "output_type": "execute_result"
        }
      ],
      "source": [
        "final_df_office"
      ]
    },
    {
      "cell_type": "code",
      "execution_count": null,
      "id": "f67ca80b",
      "metadata": {
        "id": "f67ca80b",
        "outputId": "23823376-4b8c-4fd4-9ddd-8ae7a16cb995"
      },
      "outputs": [
        {
          "name": "stdout",
          "output_type": "stream",
          "text": [
            "Model with Highest F1 Score: Logistic Regression - CV\n"
          ]
        }
      ],
      "source": [
        "print('Model with Highest F1 Score:', final_df_office['Test Score'].idxmax())"
      ]
    },
    {
      "cell_type": "code",
      "execution_count": null,
      "id": "66499ec7",
      "metadata": {
        "id": "66499ec7",
        "outputId": "8f8b6512-88b8-4af5-dd97-6a30041c4f53"
      },
      "outputs": [
        {
          "data": {
            "image/png": "[encoded data removed]",
            "text/plain": [
              "<Figure size 1080x720 with 4 Axes>"
            ]
          },
          "metadata": {},
          "output_type": "display_data"
        }
      ],
      "source": [
        "\n",
        "fig, ((ax1,ax2),(ax3,ax4)) = plt.subplots(2,2, figsize=(15,10), facecolor='linen')\n",
        "\n",
        "ax1.barh(width=final_df_office['Train Score'], y = final_df_office.index, color='lightblue',edgecolor='black')\n",
        "ax1.set_title('Train score', fontweight='bold', size=15)\n",
        "\n",
        "ax2.barh(width=final_df_office['Test Score'], y = final_df_office.index, color='salmon', edgecolor='black')\n",
        "ax2.set_title('Test score', fontweight='bold', size=15)\n",
        "\n",
        "ax3.barh(width=final_df_office['F1 Score'], y = final_df_office.index, color='teal', edgecolor='black')\n",
        "ax3.set_title('F1 score', fontweight='bold', size=15)\n",
        "\n",
        "ax4.barh(width=final_df_office['Recall Scores'], y = final_df_office.index, color='yellowgreen', edgecolor='black')\n",
        "ax4.set_title('Recall score', fontweight='bold', size=15)\n",
        "\n",
        "\n",
        "plt.tight_layout()"
      ]
    },
    {
      "cell_type": "markdown",
      "id": "8a3d7859",
      "metadata": {
        "id": "8a3d7859"
      },
      "source": [
        "# PERFORMING HYPERPARAMETER TUNING ON LOGISTIC REGRESSION CV"
      ]
    },
    {
      "cell_type": "code",
      "execution_count": null,
      "id": "fbfe68f4",
      "metadata": {
        "id": "fbfe68f4"
      },
      "outputs": [],
      "source": [
        "params_lr = {'clf__C':[0.5,1,2,,5,3,10], #regularisation parameter: As the value of C increases, it reduces the variance.\n",
        "            'clf__penalty':['l2']}"
      ]
    },
    {
      "cell_type": "code",
      "execution_count": null,
      "id": "3ff2592e",
      "metadata": {
        "id": "3ff2592e"
      },
      "outputs": [],
      "source": [
        "cv = StratifiedKFold(n_splits=7,shuffle=True, random_state=None) "
      ]
    },
    {
      "cell_type": "code",
      "execution_count": null,
      "id": "432c71b2",
      "metadata": {
        "id": "432c71b2"
      },
      "outputs": [],
      "source": [
        "\n",
        "pipeline_lr_cv = Pipeline([\n",
        "    ('vect', CountVectorizer(analyzer='word', ngram_range=(1, 2))),\n",
        "         ('clf', LogisticRegression(random_state=40,multi_class=\"ovr\"))\n",
        "])"
      ]
    },
    {
      "cell_type": "code",
      "execution_count": null,
      "id": "dd954d54",
      "metadata": {
        "id": "dd954d54",
        "outputId": "d2ad5eeb-50dd-40f9-8c79-571b836333c3"
      },
      "outputs": [
        {
          "name": "stdout",
          "output_type": "stream",
          "text": [
            "Fitting 7 folds for each of 6 candidates, totalling 42 fits\n"
          ]
        },
        {
          "name": "stderr",
          "output_type": "stream",
          "text": [
            "C:\\ProgramData\\Anaconda3\\lib\\site-packages\\sklearn\\linear_model\\_logistic.py:814: ConvergenceWarning: lbfgs failed to converge (status=1):\n",
            "STOP: TOTAL NO. of ITERATIONS REACHED LIMIT.\n",
            "\n",
            "Increase the number of iterations (max_iter) or scale the data as shown in:\n",
            "    https://scikit-learn.org/stable/modules/preprocessing.html\n",
            "Please also refer to the documentation for alternative solver options:\n",
            "    https://scikit-learn.org/stable/modules/linear_model.html#logistic-regression\n",
            "  n_iter_i = _check_optimize_result(\n",
            "C:\\ProgramData\\Anaconda3\\lib\\site-packages\\sklearn\\linear_model\\_logistic.py:814: ConvergenceWarning: lbfgs failed to converge (status=1):\n",
            "STOP: TOTAL NO. of ITERATIONS REACHED LIMIT.\n",
            "\n",
            "Increase the number of iterations (max_iter) or scale the data as shown in:\n",
            "    https://scikit-learn.org/stable/modules/preprocessing.html\n",
            "Please also refer to the documentation for alternative solver options:\n",
            "    https://scikit-learn.org/stable/modules/linear_model.html#logistic-regression\n",
            "  n_iter_i = _check_optimize_result(\n",
            "C:\\ProgramData\\Anaconda3\\lib\\site-packages\\sklearn\\linear_model\\_logistic.py:814: ConvergenceWarning: lbfgs failed to converge (status=1):\n",
            "STOP: TOTAL NO. of ITERATIONS REACHED LIMIT.\n",
            "\n",
            "Increase the number of iterations (max_iter) or scale the data as shown in:\n",
            "    https://scikit-learn.org/stable/modules/preprocessing.html\n",
            "Please also refer to the documentation for alternative solver options:\n",
            "    https://scikit-learn.org/stable/modules/linear_model.html#logistic-regression\n",
            "  n_iter_i = _check_optimize_result(\n"
          ]
        },
        {
          "data": {
            "text/html": [
              "<style>#sk-d60ae2f0-47da-41ab-acd8-22d8b47841af {color: black;background-color: white;}#sk-d60ae2f0-47da-41ab-acd8-22d8b47841af pre{padding: 0;}#sk-d60ae2f0-47da-41ab-acd8-22d8b47841af div.sk-toggleable {background-color: white;}#sk-d60ae2f0-47da-41ab-acd8-22d8b47841af label.sk-toggleable__label {cursor: pointer;display: block;width: 100%;margin-bottom: 0;padding: 0.3em;box-sizing: border-box;text-align: center;}#sk-d60ae2f0-47da-41ab-acd8-22d8b47841af label.sk-toggleable__label-arrow:before {content: \"▸\";float: left;margin-right: 0.25em;color: #696969;}#sk-d60ae2f0-47da-41ab-acd8-22d8b47841af label.sk-toggleable__label-arrow:hover:before {color: black;}#sk-d60ae2f0-47da-41ab-acd8-22d8b47841af div.sk-estimator:hover label.sk-toggleable__label-arrow:before {color: black;}#sk-d60ae2f0-47da-41ab-acd8-22d8b47841af div.sk-toggleable__content {max-height: 0;max-width: 0;overflow: hidden;text-align: left;background-color: #f0f8ff;}#sk-d60ae2f0-47da-41ab-acd8-22d8b47841af div.sk-toggleable__content pre {margin: 0.2em;color: black;border-radius: 0.25em;background-color: #f0f8ff;}#sk-d60ae2f0-47da-41ab-acd8-22d8b47841af input.sk-toggleable__control:checked~div.sk-toggleable__content {max-height: 200px;max-width: 100%;overflow: auto;}#sk-d60ae2f0-47da-41ab-acd8-22d8b47841af input.sk-toggleable__control:checked~label.sk-toggleable__label-arrow:before {content: \"▾\";}#sk-d60ae2f0-47da-41ab-acd8-22d8b47841af div.sk-estimator input.sk-toggleable__control:checked~label.sk-toggleable__label {background-color: #d4ebff;}#sk-d60ae2f0-47da-41ab-acd8-22d8b47841af div.sk-label input.sk-toggleable__control:checked~label.sk-toggleable__label {background-color: #d4ebff;}#sk-d60ae2f0-47da-41ab-acd8-22d8b47841af input.sk-hidden--visually {border: 0;clip: rect(1px 1px 1px 1px);clip: rect(1px, 1px, 1px, 1px);height: 1px;margin: -1px;overflow: hidden;padding: 0;position: absolute;width: 1px;}#sk-d60ae2f0-47da-41ab-acd8-22d8b47841af div.sk-estimator {font-family: monospace;background-color: #f0f8ff;border: 1px dotted black;border-radius: 0.25em;box-sizing: border-box;margin-bottom: 0.5em;}#sk-d60ae2f0-47da-41ab-acd8-22d8b47841af div.sk-estimator:hover {background-color: #d4ebff;}#sk-d60ae2f0-47da-41ab-acd8-22d8b47841af div.sk-parallel-item::after {content: \"\";width: 100%;border-bottom: 1px solid gray;flex-grow: 1;}#sk-d60ae2f0-47da-41ab-acd8-22d8b47841af div.sk-label:hover label.sk-toggleable__label {background-color: #d4ebff;}#sk-d60ae2f0-47da-41ab-acd8-22d8b47841af div.sk-serial::before {content: \"\";position: absolute;border-left: 1px solid gray;box-sizing: border-box;top: 2em;bottom: 0;left: 50%;}#sk-d60ae2f0-47da-41ab-acd8-22d8b47841af div.sk-serial {display: flex;flex-direction: column;align-items: center;background-color: white;padding-right: 0.2em;padding-left: 0.2em;}#sk-d60ae2f0-47da-41ab-acd8-22d8b47841af div.sk-item {z-index: 1;}#sk-d60ae2f0-47da-41ab-acd8-22d8b47841af div.sk-parallel {display: flex;align-items: stretch;justify-content: center;background-color: white;}#sk-d60ae2f0-47da-41ab-acd8-22d8b47841af div.sk-parallel::before {content: \"\";position: absolute;border-left: 1px solid gray;box-sizing: border-box;top: 2em;bottom: 0;left: 50%;}#sk-d60ae2f0-47da-41ab-acd8-22d8b47841af div.sk-parallel-item {display: flex;flex-direction: column;position: relative;background-color: white;}#sk-d60ae2f0-47da-41ab-acd8-22d8b47841af div.sk-parallel-item:first-child::after {align-self: flex-end;width: 50%;}#sk-d60ae2f0-47da-41ab-acd8-22d8b47841af div.sk-parallel-item:last-child::after {align-self: flex-start;width: 50%;}#sk-d60ae2f0-47da-41ab-acd8-22d8b47841af div.sk-parallel-item:only-child::after {width: 0;}#sk-d60ae2f0-47da-41ab-acd8-22d8b47841af div.sk-dashed-wrapped {border: 1px dashed gray;margin: 0 0.4em 0.5em 0.4em;box-sizing: border-box;padding-bottom: 0.4em;background-color: white;position: relative;}#sk-d60ae2f0-47da-41ab-acd8-22d8b47841af div.sk-label label {font-family: monospace;font-weight: bold;background-color: white;display: inline-block;line-height: 1.2em;}#sk-d60ae2f0-47da-41ab-acd8-22d8b47841af div.sk-label-container {position: relative;z-index: 2;text-align: center;}#sk-d60ae2f0-47da-41ab-acd8-22d8b47841af div.sk-container {/* jupyter's `normalize.less` sets `[hidden] { display: none; }` but bootstrap.min.css set `[hidden] { display: none !important; }` so we also need the `!important` here to be able to override the default hidden behavior on the sphinx rendered scikit-learn.org. See: https://github.com/scikit-learn/scikit-learn/issues/21755 */display: inline-block !important;position: relative;}#sk-d60ae2f0-47da-41ab-acd8-22d8b47841af div.sk-text-repr-fallback {display: none;}</style><div id=\"sk-d60ae2f0-47da-41ab-acd8-22d8b47841af\" class=\"sk-top-container\"><div class=\"sk-text-repr-fallback\"><pre>GridSearchCV(cv=StratifiedKFold(n_splits=7, random_state=None, shuffle=True),\n",
              "             estimator=Pipeline(steps=[(&#x27;vect&#x27;,\n",
              "                                        CountVectorizer(ngram_range=(1, 2))),\n",
              "                                       (&#x27;clf&#x27;,\n",
              "                                        LogisticRegression(multi_class=&#x27;ovr&#x27;,\n",
              "                                                           random_state=40))]),\n",
              "             n_jobs=-1,\n",
              "             param_grid={&#x27;clf__C&#x27;: [0.5, 1, 2, 3, 5, 10],\n",
              "                         &#x27;clf__penalty&#x27;: [&#x27;l2&#x27;]},\n",
              "             scoring=&#x27;f1_weighted&#x27;, verbose=1)</pre><b>Please rerun this cell to show the HTML repr or trust the notebook.</b></div><div class=\"sk-container\" hidden><div class=\"sk-item sk-dashed-wrapped\"><div class=\"sk-label-container\"><div class=\"sk-label sk-toggleable\"><input class=\"sk-toggleable__control sk-hidden--visually\" id=\"1865de92-2dd6-4491-89ad-7a46625e8081\" type=\"checkbox\" ><label for=\"1865de92-2dd6-4491-89ad-7a46625e8081\" class=\"sk-toggleable__label sk-toggleable__label-arrow\">GridSearchCV</label><div class=\"sk-toggleable__content\"><pre>GridSearchCV(cv=StratifiedKFold(n_splits=7, random_state=None, shuffle=True),\n",
              "             estimator=Pipeline(steps=[(&#x27;vect&#x27;,\n",
              "                                        CountVectorizer(ngram_range=(1, 2))),\n",
              "                                       (&#x27;clf&#x27;,\n",
              "                                        LogisticRegression(multi_class=&#x27;ovr&#x27;,\n",
              "                                                           random_state=40))]),\n",
              "             n_jobs=-1,\n",
              "             param_grid={&#x27;clf__C&#x27;: [0.5, 1, 2, 3, 5, 10],\n",
              "                         &#x27;clf__penalty&#x27;: [&#x27;l2&#x27;]},\n",
              "             scoring=&#x27;f1_weighted&#x27;, verbose=1)</pre></div></div></div><div class=\"sk-parallel\"><div class=\"sk-parallel-item\"><div class=\"sk-item\"><div class=\"sk-serial\"><div class=\"sk-item\"><div class=\"sk-serial\"><div class=\"sk-item\"><div class=\"sk-estimator sk-toggleable\"><input class=\"sk-toggleable__control sk-hidden--visually\" id=\"85f69d4a-f5b7-4271-bef3-d75ec3f1a42d\" type=\"checkbox\" ><label for=\"85f69d4a-f5b7-4271-bef3-d75ec3f1a42d\" class=\"sk-toggleable__label sk-toggleable__label-arrow\">CountVectorizer</label><div class=\"sk-toggleable__content\"><pre>CountVectorizer(ngram_range=(1, 2))</pre></div></div></div><div class=\"sk-item\"><div class=\"sk-estimator sk-toggleable\"><input class=\"sk-toggleable__control sk-hidden--visually\" id=\"cf52883f-110f-4564-8860-60eada815162\" type=\"checkbox\" ><label for=\"cf52883f-110f-4564-8860-60eada815162\" class=\"sk-toggleable__label sk-toggleable__label-arrow\">LogisticRegression</label><div class=\"sk-toggleable__content\"><pre>LogisticRegression(multi_class=&#x27;ovr&#x27;, random_state=40)</pre></div></div></div></div></div></div></div></div></div></div></div></div>"
            ],
            "text/plain": [
              "GridSearchCV(cv=StratifiedKFold(n_splits=7, random_state=None, shuffle=True),\n",
              "             estimator=Pipeline(steps=[('vect',\n",
              "                                        CountVectorizer(ngram_range=(1, 2))),\n",
              "                                       ('clf',\n",
              "                                        LogisticRegression(multi_class='ovr',\n",
              "                                                           random_state=40))]),\n",
              "             n_jobs=-1,\n",
              "             param_grid={'clf__C': [0.5, 1, 2, 3, 5, 10],\n",
              "                         'clf__penalty': ['l2']},\n",
              "             scoring='f1_weighted', verbose=1)"
            ]
          },
          "execution_count": 95,
          "metadata": {},
          "output_type": "execute_result"
        }
      ],
      "source": [
        "gs = GridSearchCV(pipeline_lr_cv, params_lr,cv= cv, verbose=1, n_jobs=-1,scoring='f1_weighted') # will do permutaion and combination of these parameters\n",
        "gs.fit(X_train, y_train)"
      ]
    },
    {
      "cell_type": "code",
      "execution_count": null,
      "id": "bfadbf53",
      "metadata": {
        "id": "bfadbf53",
        "outputId": "09171a18-e8c9-498a-bec0-146049fc7623"
      },
      "outputs": [
        {
          "data": {
            "text/html": [
              "<div>\n",
              "<style scoped>\n",
              "    .dataframe tbody tr th:only-of-type {\n",
              "        vertical-align: middle;\n",
              "    }\n",
              "\n",
              "    .dataframe tbody tr th {\n",
              "        vertical-align: top;\n",
              "    }\n",
              "\n",
              "    .dataframe thead th {\n",
              "        text-align: right;\n",
              "    }\n",
              "</style>\n",
              "<table border=\"1\" class=\"dataframe\">\n",
              "  <thead>\n",
              "    <tr style=\"text-align: right;\">\n",
              "      <th></th>\n",
              "      <th>mean_fit_time</th>\n",
              "      <th>std_fit_time</th>\n",
              "      <th>mean_score_time</th>\n",
              "      <th>std_score_time</th>\n",
              "      <th>param_clf__C</th>\n",
              "      <th>param_clf__penalty</th>\n",
              "      <th>params</th>\n",
              "      <th>split0_test_score</th>\n",
              "      <th>split1_test_score</th>\n",
              "      <th>split2_test_score</th>\n",
              "      <th>split3_test_score</th>\n",
              "      <th>split4_test_score</th>\n",
              "      <th>split5_test_score</th>\n",
              "      <th>split6_test_score</th>\n",
              "      <th>mean_test_score</th>\n",
              "      <th>std_test_score</th>\n",
              "      <th>rank_test_score</th>\n",
              "    </tr>\n",
              "  </thead>\n",
              "  <tbody>\n",
              "    <tr>\n",
              "      <th>0</th>\n",
              "      <td>455.607699</td>\n",
              "      <td>5.011170</td>\n",
              "      <td>3.151899</td>\n",
              "      <td>1.201471</td>\n",
              "      <td>0.5</td>\n",
              "      <td>l2</td>\n",
              "      <td>{'clf__C': 0.5, 'clf__penalty': 'l2'}</td>\n",
              "      <td>0.792910</td>\n",
              "      <td>0.787967</td>\n",
              "      <td>0.792722</td>\n",
              "      <td>0.789104</td>\n",
              "      <td>0.793514</td>\n",
              "      <td>0.790318</td>\n",
              "      <td>0.787800</td>\n",
              "      <td>0.790619</td>\n",
              "      <td>0.002249</td>\n",
              "      <td>5</td>\n",
              "    </tr>\n",
              "    <tr>\n",
              "      <th>1</th>\n",
              "      <td>447.131985</td>\n",
              "      <td>9.892271</td>\n",
              "      <td>2.878039</td>\n",
              "      <td>1.090367</td>\n",
              "      <td>1</td>\n",
              "      <td>l2</td>\n",
              "      <td>{'clf__C': 1, 'clf__penalty': 'l2'}</td>\n",
              "      <td>0.796235</td>\n",
              "      <td>0.791354</td>\n",
              "      <td>0.797421</td>\n",
              "      <td>0.792133</td>\n",
              "      <td>0.795933</td>\n",
              "      <td>0.792069</td>\n",
              "      <td>0.789692</td>\n",
              "      <td>0.793548</td>\n",
              "      <td>0.002720</td>\n",
              "      <td>1</td>\n",
              "    </tr>\n",
              "    <tr>\n",
              "      <th>2</th>\n",
              "      <td>440.626791</td>\n",
              "      <td>7.353948</td>\n",
              "      <td>3.417662</td>\n",
              "      <td>1.323333</td>\n",
              "      <td>2</td>\n",
              "      <td>l2</td>\n",
              "      <td>{'clf__C': 2, 'clf__penalty': 'l2'}</td>\n",
              "      <td>0.795162</td>\n",
              "      <td>0.792545</td>\n",
              "      <td>0.797431</td>\n",
              "      <td>0.790003</td>\n",
              "      <td>0.797522</td>\n",
              "      <td>0.792106</td>\n",
              "      <td>0.789882</td>\n",
              "      <td>0.793522</td>\n",
              "      <td>0.002990</td>\n",
              "      <td>2</td>\n",
              "    </tr>\n",
              "    <tr>\n",
              "      <th>3</th>\n",
              "      <td>438.763444</td>\n",
              "      <td>7.533893</td>\n",
              "      <td>3.279828</td>\n",
              "      <td>1.127411</td>\n",
              "      <td>3</td>\n",
              "      <td>l2</td>\n",
              "      <td>{'clf__C': 3, 'clf__penalty': 'l2'}</td>\n",
              "      <td>0.795130</td>\n",
              "      <td>0.790966</td>\n",
              "      <td>0.796839</td>\n",
              "      <td>0.790958</td>\n",
              "      <td>0.796072</td>\n",
              "      <td>0.792008</td>\n",
              "      <td>0.788698</td>\n",
              "      <td>0.792953</td>\n",
              "      <td>0.002841</td>\n",
              "      <td>3</td>\n",
              "    </tr>\n",
              "    <tr>\n",
              "      <th>4</th>\n",
              "      <td>437.219560</td>\n",
              "      <td>6.862704</td>\n",
              "      <td>4.017234</td>\n",
              "      <td>1.070048</td>\n",
              "      <td>5</td>\n",
              "      <td>l2</td>\n",
              "      <td>{'clf__C': 5, 'clf__penalty': 'l2'}</td>\n",
              "      <td>0.792593</td>\n",
              "      <td>0.789242</td>\n",
              "      <td>0.795593</td>\n",
              "      <td>0.788330</td>\n",
              "      <td>0.794668</td>\n",
              "      <td>0.791895</td>\n",
              "      <td>0.788460</td>\n",
              "      <td>0.791540</td>\n",
              "      <td>0.002739</td>\n",
              "      <td>4</td>\n",
              "    </tr>\n",
              "    <tr>\n",
              "      <th>5</th>\n",
              "      <td>353.502381</td>\n",
              "      <td>139.428811</td>\n",
              "      <td>2.190393</td>\n",
              "      <td>1.142653</td>\n",
              "      <td>10</td>\n",
              "      <td>l2</td>\n",
              "      <td>{'clf__C': 10, 'clf__penalty': 'l2'}</td>\n",
              "      <td>0.791058</td>\n",
              "      <td>0.788735</td>\n",
              "      <td>0.795586</td>\n",
              "      <td>0.788108</td>\n",
              "      <td>0.791950</td>\n",
              "      <td>0.790186</td>\n",
              "      <td>0.787407</td>\n",
              "      <td>0.790433</td>\n",
              "      <td>0.002584</td>\n",
              "      <td>6</td>\n",
              "    </tr>\n",
              "  </tbody>\n",
              "</table>\n",
              "</div>"
            ],
            "text/plain": [
              "   mean_fit_time  std_fit_time  mean_score_time  std_score_time param_clf__C  \\\n",
              "0     455.607699      5.011170         3.151899        1.201471          0.5   \n",
              "1     447.131985      9.892271         2.878039        1.090367            1   \n",
              "2     440.626791      7.353948         3.417662        1.323333            2   \n",
              "3     438.763444      7.533893         3.279828        1.127411            3   \n",
              "4     437.219560      6.862704         4.017234        1.070048            5   \n",
              "5     353.502381    139.428811         2.190393        1.142653           10   \n",
              "\n",
              "  param_clf__penalty                                 params  \\\n",
              "0                 l2  {'clf__C': 0.5, 'clf__penalty': 'l2'}   \n",
              "1                 l2    {'clf__C': 1, 'clf__penalty': 'l2'}   \n",
              "2                 l2    {'clf__C': 2, 'clf__penalty': 'l2'}   \n",
              "3                 l2    {'clf__C': 3, 'clf__penalty': 'l2'}   \n",
              "4                 l2    {'clf__C': 5, 'clf__penalty': 'l2'}   \n",
              "5                 l2   {'clf__C': 10, 'clf__penalty': 'l2'}   \n",
              "\n",
              "   split0_test_score  split1_test_score  split2_test_score  split3_test_score  \\\n",
              "0           0.792910           0.787967           0.792722           0.789104   \n",
              "1           0.796235           0.791354           0.797421           0.792133   \n",
              "2           0.795162           0.792545           0.797431           0.790003   \n",
              "3           0.795130           0.790966           0.796839           0.790958   \n",
              "4           0.792593           0.789242           0.795593           0.788330   \n",
              "5           0.791058           0.788735           0.795586           0.788108   \n",
              "\n",
              "   split4_test_score  split5_test_score  split6_test_score  mean_test_score  \\\n",
              "0           0.793514           0.790318           0.787800         0.790619   \n",
              "1           0.795933           0.792069           0.789692         0.793548   \n",
              "2           0.797522           0.792106           0.789882         0.793522   \n",
              "3           0.796072           0.792008           0.788698         0.792953   \n",
              "4           0.794668           0.791895           0.788460         0.791540   \n",
              "5           0.791950           0.790186           0.787407         0.790433   \n",
              "\n",
              "   std_test_score  rank_test_score  \n",
              "0        0.002249                5  \n",
              "1        0.002720                1  \n",
              "2        0.002990                2  \n",
              "3        0.002841                3  \n",
              "4        0.002739                4  \n",
              "5        0.002584                6  "
            ]
          },
          "execution_count": 135,
          "metadata": {},
          "output_type": "execute_result"
        }
      ],
      "source": [
        "df1=pd.DataFrame(gs.cv_results_)\n",
        "df1"
      ]
    },
    {
      "cell_type": "code",
      "execution_count": null,
      "id": "7f0516d3",
      "metadata": {
        "id": "7f0516d3",
        "outputId": "aea3fa4c-733e-47ad-a8e7-346ff069631b"
      },
      "outputs": [
        {
          "data": {
            "text/html": [
              "<div>\n",
              "<style scoped>\n",
              "    .dataframe tbody tr th:only-of-type {\n",
              "        vertical-align: middle;\n",
              "    }\n",
              "\n",
              "    .dataframe tbody tr th {\n",
              "        vertical-align: top;\n",
              "    }\n",
              "\n",
              "    .dataframe thead th {\n",
              "        text-align: right;\n",
              "    }\n",
              "</style>\n",
              "<table border=\"1\" class=\"dataframe\">\n",
              "  <thead>\n",
              "    <tr style=\"text-align: right;\">\n",
              "      <th></th>\n",
              "      <th>param_clf__C</th>\n",
              "      <th>mean_test_score</th>\n",
              "    </tr>\n",
              "  </thead>\n",
              "  <tbody>\n",
              "    <tr>\n",
              "      <th>0</th>\n",
              "      <td>0.5</td>\n",
              "      <td>0.790619</td>\n",
              "    </tr>\n",
              "    <tr>\n",
              "      <th>1</th>\n",
              "      <td>1</td>\n",
              "      <td>0.793548</td>\n",
              "    </tr>\n",
              "    <tr>\n",
              "      <th>2</th>\n",
              "      <td>2</td>\n",
              "      <td>0.793522</td>\n",
              "    </tr>\n",
              "    <tr>\n",
              "      <th>3</th>\n",
              "      <td>3</td>\n",
              "      <td>0.792953</td>\n",
              "    </tr>\n",
              "    <tr>\n",
              "      <th>4</th>\n",
              "      <td>5</td>\n",
              "      <td>0.791540</td>\n",
              "    </tr>\n",
              "    <tr>\n",
              "      <th>5</th>\n",
              "      <td>10</td>\n",
              "      <td>0.790433</td>\n",
              "    </tr>\n",
              "  </tbody>\n",
              "</table>\n",
              "</div>"
            ],
            "text/plain": [
              "  param_clf__C  mean_test_score\n",
              "0          0.5         0.790619\n",
              "1            1         0.793548\n",
              "2            2         0.793522\n",
              "3            3         0.792953\n",
              "4            5         0.791540\n",
              "5           10         0.790433"
            ]
          },
          "execution_count": 136,
          "metadata": {},
          "output_type": "execute_result"
        }
      ],
      "source": [
        "df1[['param_clf__C','mean_test_score']]"
      ]
    },
    {
      "cell_type": "code",
      "execution_count": null,
      "id": "1e3b97f1",
      "metadata": {
        "id": "1e3b97f1"
      },
      "outputs": [],
      "source": []
    },
    {
      "cell_type": "code",
      "execution_count": null,
      "id": "2843a139",
      "metadata": {
        "id": "2843a139",
        "outputId": "2e3b7670-03d3-4b92-be50-12213094a54b"
      },
      "outputs": [
        {
          "data": {
            "text/plain": [
              "{'clf__C': 1, 'clf__penalty': 'l2'}"
            ]
          },
          "execution_count": 97,
          "metadata": {},
          "output_type": "execute_result"
        }
      ],
      "source": [
        "gs.best_params_"
      ]
    },
    {
      "cell_type": "code",
      "execution_count": null,
      "id": "65a9c1e9",
      "metadata": {
        "id": "65a9c1e9"
      },
      "outputs": [],
      "source": []
    },
    {
      "cell_type": "code",
      "execution_count": null,
      "id": "f04d3270",
      "metadata": {
        "id": "f04d3270"
      },
      "outputs": [],
      "source": [
        "params_lr2 = {'clf__penalty':['l2'],\n",
        "                'clf__C':[8,9,10,12],\n",
        "                'clf__solver': ['newton-cg','saga', 'sag', 'linlinear']}"
      ]
    },
    {
      "cell_type": "code",
      "execution_count": null,
      "id": "4c4f93bb",
      "metadata": {
        "id": "4c4f93bb",
        "outputId": "a926dc70-2dbd-4b8e-e84b-3572a4c5f225"
      },
      "outputs": [
        {
          "name": "stdout",
          "output_type": "stream",
          "text": [
            "Fitting 7 folds for each of 16 candidates, totalling 112 fits\n"
          ]
        },
        {
          "name": "stderr",
          "output_type": "stream",
          "text": [
            "C:\\ProgramData\\Anaconda3\\lib\\site-packages\\sklearn\\model_selection\\_validation.py:372: FitFailedWarning: \n",
            "28 fits failed out of a total of 112.\n",
            "The score on these train-test partitions for these parameters will be set to nan.\n",
            "If these failures are not expected, you can try to debug them by setting error_score='raise'.\n",
            "\n",
            "Below are more details about the failures:\n",
            "--------------------------------------------------------------------------------\n",
            "28 fits failed with the following error:\n",
            "Traceback (most recent call last):\n",
            "  File \"C:\\ProgramData\\Anaconda3\\lib\\site-packages\\sklearn\\model_selection\\_validation.py\", line 680, in _fit_and_score\n",
            "    estimator.fit(X_train, y_train, **fit_params)\n",
            "  File \"C:\\ProgramData\\Anaconda3\\lib\\site-packages\\sklearn\\pipeline.py\", line 394, in fit\n",
            "    self._final_estimator.fit(Xt, y, **fit_params_last_step)\n",
            "  File \"C:\\ProgramData\\Anaconda3\\lib\\site-packages\\sklearn\\linear_model\\_logistic.py\", line 1461, in fit\n",
            "    solver = _check_solver(self.solver, self.penalty, self.dual)\n",
            "  File \"C:\\ProgramData\\Anaconda3\\lib\\site-packages\\sklearn\\linear_model\\_logistic.py\", line 434, in _check_solver\n",
            "    raise ValueError(\n",
            "ValueError: Logistic Regression supports only solvers in ['liblinear', 'newton-cg', 'lbfgs', 'sag', 'saga'], got linlinear.\n",
            "\n",
            "  warnings.warn(some_fits_failed_message, FitFailedWarning)\n",
            "C:\\ProgramData\\Anaconda3\\lib\\site-packages\\sklearn\\model_selection\\_search.py:969: UserWarning: One or more of the test scores are non-finite: [0.79070024 0.68420711 0.70302508        nan 0.79046322 0.68420711\n",
            " 0.70302508        nan 0.790123   0.68420711 0.70302508        nan\n",
            " 0.78966786 0.68420711 0.70303639        nan]\n",
            "  warnings.warn(\n"
          ]
        },
        {
          "data": {
            "text/html": [
              "<style>#sk-2b956f9d-7572-4b62-bb04-13b518b2e93b {color: black;background-color: white;}#sk-2b956f9d-7572-4b62-bb04-13b518b2e93b pre{padding: 0;}#sk-2b956f9d-7572-4b62-bb04-13b518b2e93b div.sk-toggleable {background-color: white;}#sk-2b956f9d-7572-4b62-bb04-13b518b2e93b label.sk-toggleable__label {cursor: pointer;display: block;width: 100%;margin-bottom: 0;padding: 0.3em;box-sizing: border-box;text-align: center;}#sk-2b956f9d-7572-4b62-bb04-13b518b2e93b label.sk-toggleable__label-arrow:before {content: \"▸\";float: left;margin-right: 0.25em;color: #696969;}#sk-2b956f9d-7572-4b62-bb04-13b518b2e93b label.sk-toggleable__label-arrow:hover:before {color: black;}#sk-2b956f9d-7572-4b62-bb04-13b518b2e93b div.sk-estimator:hover label.sk-toggleable__label-arrow:before {color: black;}#sk-2b956f9d-7572-4b62-bb04-13b518b2e93b div.sk-toggleable__content {max-height: 0;max-width: 0;overflow: hidden;text-align: left;background-color: #f0f8ff;}#sk-2b956f9d-7572-4b62-bb04-13b518b2e93b div.sk-toggleable__content pre {margin: 0.2em;color: black;border-radius: 0.25em;background-color: #f0f8ff;}#sk-2b956f9d-7572-4b62-bb04-13b518b2e93b input.sk-toggleable__control:checked~div.sk-toggleable__content {max-height: 200px;max-width: 100%;overflow: auto;}#sk-2b956f9d-7572-4b62-bb04-13b518b2e93b input.sk-toggleable__control:checked~label.sk-toggleable__label-arrow:before {content: \"▾\";}#sk-2b956f9d-7572-4b62-bb04-13b518b2e93b div.sk-estimator input.sk-toggleable__control:checked~label.sk-toggleable__label {background-color: #d4ebff;}#sk-2b956f9d-7572-4b62-bb04-13b518b2e93b div.sk-label input.sk-toggleable__control:checked~label.sk-toggleable__label {background-color: #d4ebff;}#sk-2b956f9d-7572-4b62-bb04-13b518b2e93b input.sk-hidden--visually {border: 0;clip: rect(1px 1px 1px 1px);clip: rect(1px, 1px, 1px, 1px);height: 1px;margin: -1px;overflow: hidden;padding: 0;position: absolute;width: 1px;}#sk-2b956f9d-7572-4b62-bb04-13b518b2e93b div.sk-estimator {font-family: monospace;background-color: #f0f8ff;border: 1px dotted black;border-radius: 0.25em;box-sizing: border-box;margin-bottom: 0.5em;}#sk-2b956f9d-7572-4b62-bb04-13b518b2e93b div.sk-estimator:hover {background-color: #d4ebff;}#sk-2b956f9d-7572-4b62-bb04-13b518b2e93b div.sk-parallel-item::after {content: \"\";width: 100%;border-bottom: 1px solid gray;flex-grow: 1;}#sk-2b956f9d-7572-4b62-bb04-13b518b2e93b div.sk-label:hover label.sk-toggleable__label {background-color: #d4ebff;}#sk-2b956f9d-7572-4b62-bb04-13b518b2e93b div.sk-serial::before {content: \"\";position: absolute;border-left: 1px solid gray;box-sizing: border-box;top: 2em;bottom: 0;left: 50%;}#sk-2b956f9d-7572-4b62-bb04-13b518b2e93b div.sk-serial {display: flex;flex-direction: column;align-items: center;background-color: white;padding-right: 0.2em;padding-left: 0.2em;}#sk-2b956f9d-7572-4b62-bb04-13b518b2e93b div.sk-item {z-index: 1;}#sk-2b956f9d-7572-4b62-bb04-13b518b2e93b div.sk-parallel {display: flex;align-items: stretch;justify-content: center;background-color: white;}#sk-2b956f9d-7572-4b62-bb04-13b518b2e93b div.sk-parallel::before {content: \"\";position: absolute;border-left: 1px solid gray;box-sizing: border-box;top: 2em;bottom: 0;left: 50%;}#sk-2b956f9d-7572-4b62-bb04-13b518b2e93b div.sk-parallel-item {display: flex;flex-direction: column;position: relative;background-color: white;}#sk-2b956f9d-7572-4b62-bb04-13b518b2e93b div.sk-parallel-item:first-child::after {align-self: flex-end;width: 50%;}#sk-2b956f9d-7572-4b62-bb04-13b518b2e93b div.sk-parallel-item:last-child::after {align-self: flex-start;width: 50%;}#sk-2b956f9d-7572-4b62-bb04-13b518b2e93b div.sk-parallel-item:only-child::after {width: 0;}#sk-2b956f9d-7572-4b62-bb04-13b518b2e93b div.sk-dashed-wrapped {border: 1px dashed gray;margin: 0 0.4em 0.5em 0.4em;box-sizing: border-box;padding-bottom: 0.4em;background-color: white;position: relative;}#sk-2b956f9d-7572-4b62-bb04-13b518b2e93b div.sk-label label {font-family: monospace;font-weight: bold;background-color: white;display: inline-block;line-height: 1.2em;}#sk-2b956f9d-7572-4b62-bb04-13b518b2e93b div.sk-label-container {position: relative;z-index: 2;text-align: center;}#sk-2b956f9d-7572-4b62-bb04-13b518b2e93b div.sk-container {/* jupyter's `normalize.less` sets `[hidden] { display: none; }` but bootstrap.min.css set `[hidden] { display: none !important; }` so we also need the `!important` here to be able to override the default hidden behavior on the sphinx rendered scikit-learn.org. See: https://github.com/scikit-learn/scikit-learn/issues/21755 */display: inline-block !important;position: relative;}#sk-2b956f9d-7572-4b62-bb04-13b518b2e93b div.sk-text-repr-fallback {display: none;}</style><div id=\"sk-2b956f9d-7572-4b62-bb04-13b518b2e93b\" class=\"sk-top-container\"><div class=\"sk-text-repr-fallback\"><pre>GridSearchCV(cv=StratifiedKFold(n_splits=7, random_state=None, shuffle=True),\n",
              "             estimator=Pipeline(steps=[(&#x27;vect&#x27;,\n",
              "                                        CountVectorizer(ngram_range=(1, 2))),\n",
              "                                       (&#x27;clf&#x27;,\n",
              "                                        LogisticRegression(multi_class=&#x27;ovr&#x27;,\n",
              "                                                           random_state=40))]),\n",
              "             n_jobs=-1,\n",
              "             param_grid={&#x27;clf__C&#x27;: [8, 9, 10, 12], &#x27;clf__penalty&#x27;: [&#x27;l2&#x27;],\n",
              "                         &#x27;clf__solver&#x27;: [&#x27;newton-cg&#x27;, &#x27;saga&#x27;, &#x27;sag&#x27;,\n",
              "                                         &#x27;linlinear&#x27;]},\n",
              "             scoring=&#x27;f1_weighted&#x27;, verbose=1)</pre><b>Please rerun this cell to show the HTML repr or trust the notebook.</b></div><div class=\"sk-container\" hidden><div class=\"sk-item sk-dashed-wrapped\"><div class=\"sk-label-container\"><div class=\"sk-label sk-toggleable\"><input class=\"sk-toggleable__control sk-hidden--visually\" id=\"1d918d1e-2411-4194-8ad9-4fe13fc2c10c\" type=\"checkbox\" ><label for=\"1d918d1e-2411-4194-8ad9-4fe13fc2c10c\" class=\"sk-toggleable__label sk-toggleable__label-arrow\">GridSearchCV</label><div class=\"sk-toggleable__content\"><pre>GridSearchCV(cv=StratifiedKFold(n_splits=7, random_state=None, shuffle=True),\n",
              "             estimator=Pipeline(steps=[(&#x27;vect&#x27;,\n",
              "                                        CountVectorizer(ngram_range=(1, 2))),\n",
              "                                       (&#x27;clf&#x27;,\n",
              "                                        LogisticRegression(multi_class=&#x27;ovr&#x27;,\n",
              "                                                           random_state=40))]),\n",
              "             n_jobs=-1,\n",
              "             param_grid={&#x27;clf__C&#x27;: [8, 9, 10, 12], &#x27;clf__penalty&#x27;: [&#x27;l2&#x27;],\n",
              "                         &#x27;clf__solver&#x27;: [&#x27;newton-cg&#x27;, &#x27;saga&#x27;, &#x27;sag&#x27;,\n",
              "                                         &#x27;linlinear&#x27;]},\n",
              "             scoring=&#x27;f1_weighted&#x27;, verbose=1)</pre></div></div></div><div class=\"sk-parallel\"><div class=\"sk-parallel-item\"><div class=\"sk-item\"><div class=\"sk-serial\"><div class=\"sk-item\"><div class=\"sk-serial\"><div class=\"sk-item\"><div class=\"sk-estimator sk-toggleable\"><input class=\"sk-toggleable__control sk-hidden--visually\" id=\"6722059a-c521-4f4e-9ed9-bb679592042f\" type=\"checkbox\" ><label for=\"6722059a-c521-4f4e-9ed9-bb679592042f\" class=\"sk-toggleable__label sk-toggleable__label-arrow\">CountVectorizer</label><div class=\"sk-toggleable__content\"><pre>CountVectorizer(ngram_range=(1, 2))</pre></div></div></div><div class=\"sk-item\"><div class=\"sk-estimator sk-toggleable\"><input class=\"sk-toggleable__control sk-hidden--visually\" id=\"7a181eae-f181-44ba-96aa-0253297d7467\" type=\"checkbox\" ><label for=\"7a181eae-f181-44ba-96aa-0253297d7467\" class=\"sk-toggleable__label sk-toggleable__label-arrow\">LogisticRegression</label><div class=\"sk-toggleable__content\"><pre>LogisticRegression(multi_class=&#x27;ovr&#x27;, random_state=40)</pre></div></div></div></div></div></div></div></div></div></div></div></div>"
            ],
            "text/plain": [
              "GridSearchCV(cv=StratifiedKFold(n_splits=7, random_state=None, shuffle=True),\n",
              "             estimator=Pipeline(steps=[('vect',\n",
              "                                        CountVectorizer(ngram_range=(1, 2))),\n",
              "                                       ('clf',\n",
              "                                        LogisticRegression(multi_class='ovr',\n",
              "                                                           random_state=40))]),\n",
              "             n_jobs=-1,\n",
              "             param_grid={'clf__C': [8, 9, 10, 12], 'clf__penalty': ['l2'],\n",
              "                         'clf__solver': ['newton-cg', 'saga', 'sag',\n",
              "                                         'linlinear']},\n",
              "             scoring='f1_weighted', verbose=1)"
            ]
          },
          "execution_count": 122,
          "metadata": {},
          "output_type": "execute_result"
        }
      ],
      "source": [
        "gs1 = GridSearchCV(pipeline_lr_cv, params_lr2,cv= cv, verbose=1, n_jobs=-1,scoring='f1_weighted')\n",
        "gs1.fit(X_train, y_train)"
      ]
    },
    {
      "cell_type": "code",
      "execution_count": null,
      "id": "7c04682b",
      "metadata": {
        "scrolled": false,
        "id": "7c04682b",
        "outputId": "3f8b0566-f9db-4b60-f764-ce2b0a8caf3c"
      },
      "outputs": [
        {
          "data": {
            "text/html": [
              "<div>\n",
              "<style scoped>\n",
              "    .dataframe tbody tr th:only-of-type {\n",
              "        vertical-align: middle;\n",
              "    }\n",
              "\n",
              "    .dataframe tbody tr th {\n",
              "        vertical-align: top;\n",
              "    }\n",
              "\n",
              "    .dataframe thead th {\n",
              "        text-align: right;\n",
              "    }\n",
              "</style>\n",
              "<table border=\"1\" class=\"dataframe\">\n",
              "  <thead>\n",
              "    <tr style=\"text-align: right;\">\n",
              "      <th></th>\n",
              "      <th>mean_fit_time</th>\n",
              "      <th>std_fit_time</th>\n",
              "      <th>mean_score_time</th>\n",
              "      <th>std_score_time</th>\n",
              "      <th>param_clf__C</th>\n",
              "      <th>param_clf__penalty</th>\n",
              "      <th>param_clf__solver</th>\n",
              "      <th>params</th>\n",
              "      <th>split0_test_score</th>\n",
              "      <th>split1_test_score</th>\n",
              "      <th>split2_test_score</th>\n",
              "      <th>split3_test_score</th>\n",
              "      <th>split4_test_score</th>\n",
              "      <th>split5_test_score</th>\n",
              "      <th>split6_test_score</th>\n",
              "      <th>mean_test_score</th>\n",
              "      <th>std_test_score</th>\n",
              "      <th>rank_test_score</th>\n",
              "    </tr>\n",
              "  </thead>\n",
              "  <tbody>\n",
              "    <tr>\n",
              "      <th>0</th>\n",
              "      <td>1848.889112</td>\n",
              "      <td>183.523188</td>\n",
              "      <td>4.783478</td>\n",
              "      <td>0.827854</td>\n",
              "      <td>8</td>\n",
              "      <td>l2</td>\n",
              "      <td>newton-cg</td>\n",
              "      <td>{'clf__C': 8, 'clf__penalty': 'l2', 'clf__solv...</td>\n",
              "      <td>0.790749</td>\n",
              "      <td>0.793048</td>\n",
              "      <td>0.786435</td>\n",
              "      <td>0.792331</td>\n",
              "      <td>0.794818</td>\n",
              "      <td>0.792086</td>\n",
              "      <td>0.785434</td>\n",
              "      <td>0.790700</td>\n",
              "      <td>0.003229</td>\n",
              "      <td>1</td>\n",
              "    </tr>\n",
              "    <tr>\n",
              "      <th>1</th>\n",
              "      <td>530.271629</td>\n",
              "      <td>78.306438</td>\n",
              "      <td>3.994784</td>\n",
              "      <td>1.631199</td>\n",
              "      <td>8</td>\n",
              "      <td>l2</td>\n",
              "      <td>saga</td>\n",
              "      <td>{'clf__C': 8, 'clf__penalty': 'l2', 'clf__solv...</td>\n",
              "      <td>0.684148</td>\n",
              "      <td>0.682992</td>\n",
              "      <td>0.692926</td>\n",
              "      <td>0.681740</td>\n",
              "      <td>0.685786</td>\n",
              "      <td>0.681942</td>\n",
              "      <td>0.679917</td>\n",
              "      <td>0.684207</td>\n",
              "      <td>0.003957</td>\n",
              "      <td>9</td>\n",
              "    </tr>\n",
              "    <tr>\n",
              "      <th>2</th>\n",
              "      <td>438.565735</td>\n",
              "      <td>12.996015</td>\n",
              "      <td>3.448862</td>\n",
              "      <td>0.887404</td>\n",
              "      <td>8</td>\n",
              "      <td>l2</td>\n",
              "      <td>sag</td>\n",
              "      <td>{'clf__C': 8, 'clf__penalty': 'l2', 'clf__solv...</td>\n",
              "      <td>0.703536</td>\n",
              "      <td>0.701829</td>\n",
              "      <td>0.716564</td>\n",
              "      <td>0.698598</td>\n",
              "      <td>0.703797</td>\n",
              "      <td>0.700927</td>\n",
              "      <td>0.695925</td>\n",
              "      <td>0.703025</td>\n",
              "      <td>0.006095</td>\n",
              "      <td>6</td>\n",
              "    </tr>\n",
              "    <tr>\n",
              "      <th>3</th>\n",
              "      <td>29.392948</td>\n",
              "      <td>0.681930</td>\n",
              "      <td>0.000000</td>\n",
              "      <td>0.000000</td>\n",
              "      <td>8</td>\n",
              "      <td>l2</td>\n",
              "      <td>linlinear</td>\n",
              "      <td>{'clf__C': 8, 'clf__penalty': 'l2', 'clf__solv...</td>\n",
              "      <td>NaN</td>\n",
              "      <td>NaN</td>\n",
              "      <td>NaN</td>\n",
              "      <td>NaN</td>\n",
              "      <td>NaN</td>\n",
              "      <td>NaN</td>\n",
              "      <td>NaN</td>\n",
              "      <td>NaN</td>\n",
              "      <td>NaN</td>\n",
              "      <td>13</td>\n",
              "    </tr>\n",
              "    <tr>\n",
              "      <th>4</th>\n",
              "      <td>1798.338284</td>\n",
              "      <td>186.676112</td>\n",
              "      <td>4.013648</td>\n",
              "      <td>1.051578</td>\n",
              "      <td>9</td>\n",
              "      <td>l2</td>\n",
              "      <td>newton-cg</td>\n",
              "      <td>{'clf__C': 9, 'clf__penalty': 'l2', 'clf__solv...</td>\n",
              "      <td>0.790352</td>\n",
              "      <td>0.793370</td>\n",
              "      <td>0.786454</td>\n",
              "      <td>0.792319</td>\n",
              "      <td>0.793805</td>\n",
              "      <td>0.791916</td>\n",
              "      <td>0.785026</td>\n",
              "      <td>0.790463</td>\n",
              "      <td>0.003181</td>\n",
              "      <td>2</td>\n",
              "    </tr>\n",
              "    <tr>\n",
              "      <th>5</th>\n",
              "      <td>519.355046</td>\n",
              "      <td>68.468342</td>\n",
              "      <td>3.455368</td>\n",
              "      <td>0.859849</td>\n",
              "      <td>9</td>\n",
              "      <td>l2</td>\n",
              "      <td>saga</td>\n",
              "      <td>{'clf__C': 9, 'clf__penalty': 'l2', 'clf__solv...</td>\n",
              "      <td>0.684148</td>\n",
              "      <td>0.682992</td>\n",
              "      <td>0.692926</td>\n",
              "      <td>0.681740</td>\n",
              "      <td>0.685786</td>\n",
              "      <td>0.681942</td>\n",
              "      <td>0.679917</td>\n",
              "      <td>0.684207</td>\n",
              "      <td>0.003957</td>\n",
              "      <td>9</td>\n",
              "    </tr>\n",
              "    <tr>\n",
              "      <th>6</th>\n",
              "      <td>422.494465</td>\n",
              "      <td>18.357585</td>\n",
              "      <td>3.198519</td>\n",
              "      <td>0.784459</td>\n",
              "      <td>9</td>\n",
              "      <td>l2</td>\n",
              "      <td>sag</td>\n",
              "      <td>{'clf__C': 9, 'clf__penalty': 'l2', 'clf__solv...</td>\n",
              "      <td>0.703536</td>\n",
              "      <td>0.701829</td>\n",
              "      <td>0.716564</td>\n",
              "      <td>0.698598</td>\n",
              "      <td>0.703797</td>\n",
              "      <td>0.700927</td>\n",
              "      <td>0.695925</td>\n",
              "      <td>0.703025</td>\n",
              "      <td>0.006095</td>\n",
              "      <td>6</td>\n",
              "    </tr>\n",
              "    <tr>\n",
              "      <th>7</th>\n",
              "      <td>29.914241</td>\n",
              "      <td>2.742807</td>\n",
              "      <td>0.000000</td>\n",
              "      <td>0.000000</td>\n",
              "      <td>9</td>\n",
              "      <td>l2</td>\n",
              "      <td>linlinear</td>\n",
              "      <td>{'clf__C': 9, 'clf__penalty': 'l2', 'clf__solv...</td>\n",
              "      <td>NaN</td>\n",
              "      <td>NaN</td>\n",
              "      <td>NaN</td>\n",
              "      <td>NaN</td>\n",
              "      <td>NaN</td>\n",
              "      <td>NaN</td>\n",
              "      <td>NaN</td>\n",
              "      <td>NaN</td>\n",
              "      <td>NaN</td>\n",
              "      <td>14</td>\n",
              "    </tr>\n",
              "    <tr>\n",
              "      <th>8</th>\n",
              "      <td>1805.001078</td>\n",
              "      <td>165.481779</td>\n",
              "      <td>4.083052</td>\n",
              "      <td>0.908062</td>\n",
              "      <td>10</td>\n",
              "      <td>l2</td>\n",
              "      <td>newton-cg</td>\n",
              "      <td>{'clf__C': 10, 'clf__penalty': 'l2', 'clf__sol...</td>\n",
              "      <td>0.789702</td>\n",
              "      <td>0.792790</td>\n",
              "      <td>0.785995</td>\n",
              "      <td>0.792074</td>\n",
              "      <td>0.793725</td>\n",
              "      <td>0.791799</td>\n",
              "      <td>0.784776</td>\n",
              "      <td>0.790123</td>\n",
              "      <td>0.003219</td>\n",
              "      <td>3</td>\n",
              "    </tr>\n",
              "    <tr>\n",
              "      <th>9</th>\n",
              "      <td>500.453631</td>\n",
              "      <td>77.821511</td>\n",
              "      <td>3.204224</td>\n",
              "      <td>0.769496</td>\n",
              "      <td>10</td>\n",
              "      <td>l2</td>\n",
              "      <td>saga</td>\n",
              "      <td>{'clf__C': 10, 'clf__penalty': 'l2', 'clf__sol...</td>\n",
              "      <td>0.684148</td>\n",
              "      <td>0.682992</td>\n",
              "      <td>0.692926</td>\n",
              "      <td>0.681740</td>\n",
              "      <td>0.685786</td>\n",
              "      <td>0.681942</td>\n",
              "      <td>0.679917</td>\n",
              "      <td>0.684207</td>\n",
              "      <td>0.003957</td>\n",
              "      <td>9</td>\n",
              "    </tr>\n",
              "    <tr>\n",
              "      <th>10</th>\n",
              "      <td>387.742706</td>\n",
              "      <td>18.993887</td>\n",
              "      <td>4.377863</td>\n",
              "      <td>2.757358</td>\n",
              "      <td>10</td>\n",
              "      <td>l2</td>\n",
              "      <td>sag</td>\n",
              "      <td>{'clf__C': 10, 'clf__penalty': 'l2', 'clf__sol...</td>\n",
              "      <td>0.703536</td>\n",
              "      <td>0.701829</td>\n",
              "      <td>0.716564</td>\n",
              "      <td>0.698598</td>\n",
              "      <td>0.703797</td>\n",
              "      <td>0.700927</td>\n",
              "      <td>0.695925</td>\n",
              "      <td>0.703025</td>\n",
              "      <td>0.006095</td>\n",
              "      <td>6</td>\n",
              "    </tr>\n",
              "    <tr>\n",
              "      <th>11</th>\n",
              "      <td>28.208040</td>\n",
              "      <td>0.790529</td>\n",
              "      <td>0.000000</td>\n",
              "      <td>0.000000</td>\n",
              "      <td>10</td>\n",
              "      <td>l2</td>\n",
              "      <td>linlinear</td>\n",
              "      <td>{'clf__C': 10, 'clf__penalty': 'l2', 'clf__sol...</td>\n",
              "      <td>NaN</td>\n",
              "      <td>NaN</td>\n",
              "      <td>NaN</td>\n",
              "      <td>NaN</td>\n",
              "      <td>NaN</td>\n",
              "      <td>NaN</td>\n",
              "      <td>NaN</td>\n",
              "      <td>NaN</td>\n",
              "      <td>NaN</td>\n",
              "      <td>15</td>\n",
              "    </tr>\n",
              "    <tr>\n",
              "      <th>12</th>\n",
              "      <td>1797.416995</td>\n",
              "      <td>209.851233</td>\n",
              "      <td>4.362039</td>\n",
              "      <td>0.622159</td>\n",
              "      <td>12</td>\n",
              "      <td>l2</td>\n",
              "      <td>newton-cg</td>\n",
              "      <td>{'clf__C': 12, 'clf__penalty': 'l2', 'clf__sol...</td>\n",
              "      <td>0.789285</td>\n",
              "      <td>0.792383</td>\n",
              "      <td>0.784900</td>\n",
              "      <td>0.791907</td>\n",
              "      <td>0.793606</td>\n",
              "      <td>0.791394</td>\n",
              "      <td>0.784200</td>\n",
              "      <td>0.789668</td>\n",
              "      <td>0.003457</td>\n",
              "      <td>4</td>\n",
              "    </tr>\n",
              "    <tr>\n",
              "      <th>13</th>\n",
              "      <td>518.421617</td>\n",
              "      <td>60.395060</td>\n",
              "      <td>3.487716</td>\n",
              "      <td>0.948887</td>\n",
              "      <td>12</td>\n",
              "      <td>l2</td>\n",
              "      <td>saga</td>\n",
              "      <td>{'clf__C': 12, 'clf__penalty': 'l2', 'clf__sol...</td>\n",
              "      <td>0.684148</td>\n",
              "      <td>0.682992</td>\n",
              "      <td>0.692926</td>\n",
              "      <td>0.681740</td>\n",
              "      <td>0.685786</td>\n",
              "      <td>0.681942</td>\n",
              "      <td>0.679917</td>\n",
              "      <td>0.684207</td>\n",
              "      <td>0.003957</td>\n",
              "      <td>9</td>\n",
              "    </tr>\n",
              "    <tr>\n",
              "      <th>14</th>\n",
              "      <td>369.021833</td>\n",
              "      <td>66.908396</td>\n",
              "      <td>1.729757</td>\n",
              "      <td>0.628534</td>\n",
              "      <td>12</td>\n",
              "      <td>l2</td>\n",
              "      <td>sag</td>\n",
              "      <td>{'clf__C': 12, 'clf__penalty': 'l2', 'clf__sol...</td>\n",
              "      <td>0.703536</td>\n",
              "      <td>0.701829</td>\n",
              "      <td>0.716643</td>\n",
              "      <td>0.698598</td>\n",
              "      <td>0.703797</td>\n",
              "      <td>0.700927</td>\n",
              "      <td>0.695925</td>\n",
              "      <td>0.703036</td>\n",
              "      <td>0.006120</td>\n",
              "      <td>5</td>\n",
              "    </tr>\n",
              "    <tr>\n",
              "      <th>15</th>\n",
              "      <td>25.735112</td>\n",
              "      <td>3.086097</td>\n",
              "      <td>0.000000</td>\n",
              "      <td>0.000000</td>\n",
              "      <td>12</td>\n",
              "      <td>l2</td>\n",
              "      <td>linlinear</td>\n",
              "      <td>{'clf__C': 12, 'clf__penalty': 'l2', 'clf__sol...</td>\n",
              "      <td>NaN</td>\n",
              "      <td>NaN</td>\n",
              "      <td>NaN</td>\n",
              "      <td>NaN</td>\n",
              "      <td>NaN</td>\n",
              "      <td>NaN</td>\n",
              "      <td>NaN</td>\n",
              "      <td>NaN</td>\n",
              "      <td>NaN</td>\n",
              "      <td>16</td>\n",
              "    </tr>\n",
              "  </tbody>\n",
              "</table>\n",
              "</div>"
            ],
            "text/plain": [
              "    mean_fit_time  std_fit_time  mean_score_time  std_score_time param_clf__C  \\\n",
              "0     1848.889112    183.523188         4.783478        0.827854            8   \n",
              "1      530.271629     78.306438         3.994784        1.631199            8   \n",
              "2      438.565735     12.996015         3.448862        0.887404            8   \n",
              "3       29.392948      0.681930         0.000000        0.000000            8   \n",
              "4     1798.338284    186.676112         4.013648        1.051578            9   \n",
              "5      519.355046     68.468342         3.455368        0.859849            9   \n",
              "6      422.494465     18.357585         3.198519        0.784459            9   \n",
              "7       29.914241      2.742807         0.000000        0.000000            9   \n",
              "8     1805.001078    165.481779         4.083052        0.908062           10   \n",
              "9      500.453631     77.821511         3.204224        0.769496           10   \n",
              "10     387.742706     18.993887         4.377863        2.757358           10   \n",
              "11      28.208040      0.790529         0.000000        0.000000           10   \n",
              "12    1797.416995    209.851233         4.362039        0.622159           12   \n",
              "13     518.421617     60.395060         3.487716        0.948887           12   \n",
              "14     369.021833     66.908396         1.729757        0.628534           12   \n",
              "15      25.735112      3.086097         0.000000        0.000000           12   \n",
              "\n",
              "   param_clf__penalty param_clf__solver  \\\n",
              "0                  l2         newton-cg   \n",
              "1                  l2              saga   \n",
              "2                  l2               sag   \n",
              "3                  l2         linlinear   \n",
              "4                  l2         newton-cg   \n",
              "5                  l2              saga   \n",
              "6                  l2               sag   \n",
              "7                  l2         linlinear   \n",
              "8                  l2         newton-cg   \n",
              "9                  l2              saga   \n",
              "10                 l2               sag   \n",
              "11                 l2         linlinear   \n",
              "12                 l2         newton-cg   \n",
              "13                 l2              saga   \n",
              "14                 l2               sag   \n",
              "15                 l2         linlinear   \n",
              "\n",
              "                                               params  split0_test_score  \\\n",
              "0   {'clf__C': 8, 'clf__penalty': 'l2', 'clf__solv...           0.790749   \n",
              "1   {'clf__C': 8, 'clf__penalty': 'l2', 'clf__solv...           0.684148   \n",
              "2   {'clf__C': 8, 'clf__penalty': 'l2', 'clf__solv...           0.703536   \n",
              "3   {'clf__C': 8, 'clf__penalty': 'l2', 'clf__solv...                NaN   \n",
              "4   {'clf__C': 9, 'clf__penalty': 'l2', 'clf__solv...           0.790352   \n",
              "5   {'clf__C': 9, 'clf__penalty': 'l2', 'clf__solv...           0.684148   \n",
              "6   {'clf__C': 9, 'clf__penalty': 'l2', 'clf__solv...           0.703536   \n",
              "7   {'clf__C': 9, 'clf__penalty': 'l2', 'clf__solv...                NaN   \n",
              "8   {'clf__C': 10, 'clf__penalty': 'l2', 'clf__sol...           0.789702   \n",
              "9   {'clf__C': 10, 'clf__penalty': 'l2', 'clf__sol...           0.684148   \n",
              "10  {'clf__C': 10, 'clf__penalty': 'l2', 'clf__sol...           0.703536   \n",
              "11  {'clf__C': 10, 'clf__penalty': 'l2', 'clf__sol...                NaN   \n",
              "12  {'clf__C': 12, 'clf__penalty': 'l2', 'clf__sol...           0.789285   \n",
              "13  {'clf__C': 12, 'clf__penalty': 'l2', 'clf__sol...           0.684148   \n",
              "14  {'clf__C': 12, 'clf__penalty': 'l2', 'clf__sol...           0.703536   \n",
              "15  {'clf__C': 12, 'clf__penalty': 'l2', 'clf__sol...                NaN   \n",
              "\n",
              "    split1_test_score  split2_test_score  split3_test_score  \\\n",
              "0            0.793048           0.786435           0.792331   \n",
              "1            0.682992           0.692926           0.681740   \n",
              "2            0.701829           0.716564           0.698598   \n",
              "3                 NaN                NaN                NaN   \n",
              "4            0.793370           0.786454           0.792319   \n",
              "5            0.682992           0.692926           0.681740   \n",
              "6            0.701829           0.716564           0.698598   \n",
              "7                 NaN                NaN                NaN   \n",
              "8            0.792790           0.785995           0.792074   \n",
              "9            0.682992           0.692926           0.681740   \n",
              "10           0.701829           0.716564           0.698598   \n",
              "11                NaN                NaN                NaN   \n",
              "12           0.792383           0.784900           0.791907   \n",
              "13           0.682992           0.692926           0.681740   \n",
              "14           0.701829           0.716643           0.698598   \n",
              "15                NaN                NaN                NaN   \n",
              "\n",
              "    split4_test_score  split5_test_score  split6_test_score  mean_test_score  \\\n",
              "0            0.794818           0.792086           0.785434         0.790700   \n",
              "1            0.685786           0.681942           0.679917         0.684207   \n",
              "2            0.703797           0.700927           0.695925         0.703025   \n",
              "3                 NaN                NaN                NaN              NaN   \n",
              "4            0.793805           0.791916           0.785026         0.790463   \n",
              "5            0.685786           0.681942           0.679917         0.684207   \n",
              "6            0.703797           0.700927           0.695925         0.703025   \n",
              "7                 NaN                NaN                NaN              NaN   \n",
              "8            0.793725           0.791799           0.784776         0.790123   \n",
              "9            0.685786           0.681942           0.679917         0.684207   \n",
              "10           0.703797           0.700927           0.695925         0.703025   \n",
              "11                NaN                NaN                NaN              NaN   \n",
              "12           0.793606           0.791394           0.784200         0.789668   \n",
              "13           0.685786           0.681942           0.679917         0.684207   \n",
              "14           0.703797           0.700927           0.695925         0.703036   \n",
              "15                NaN                NaN                NaN              NaN   \n",
              "\n",
              "    std_test_score  rank_test_score  \n",
              "0         0.003229                1  \n",
              "1         0.003957                9  \n",
              "2         0.006095                6  \n",
              "3              NaN               13  \n",
              "4         0.003181                2  \n",
              "5         0.003957                9  \n",
              "6         0.006095                6  \n",
              "7              NaN               14  \n",
              "8         0.003219                3  \n",
              "9         0.003957                9  \n",
              "10        0.006095                6  \n",
              "11             NaN               15  \n",
              "12        0.003457                4  \n",
              "13        0.003957                9  \n",
              "14        0.006120                5  \n",
              "15             NaN               16  "
            ]
          },
          "execution_count": 137,
          "metadata": {},
          "output_type": "execute_result"
        }
      ],
      "source": [
        "df2=pd.DataFrame(gs1.cv_results_)\n",
        "df2"
      ]
    },
    {
      "cell_type": "code",
      "execution_count": null,
      "id": "9e472e1b",
      "metadata": {
        "id": "9e472e1b",
        "outputId": "2df63f9e-a0e2-4e56-cd40-7485721f8ba0"
      },
      "outputs": [
        {
          "data": {
            "text/plain": [
              "{'clf__C': 8, 'clf__penalty': 'l2', 'clf__solver': 'newton-cg'}"
            ]
          },
          "execution_count": 123,
          "metadata": {},
          "output_type": "execute_result"
        }
      ],
      "source": [
        "gs1.best_params_"
      ]
    },
    {
      "cell_type": "markdown",
      "id": "4257c426",
      "metadata": {
        "id": "4257c426"
      },
      "source": [
        "# FINAL MODEL FOR CD-Vinyl DATASET"
      ]
    },
    {
      "cell_type": "code",
      "execution_count": null,
      "id": "fce9da3f",
      "metadata": {
        "id": "fce9da3f",
        "outputId": "b00a71f9-aaad-411e-ff96-5b2555286007"
      },
      "outputs": [
        {
          "name": "stdout",
          "output_type": "stream",
          "text": [
            "Accuracy on train 0.998869\n",
            "Accuracy on test 0.809381\n",
            "F1 Score 0.8094126273162191\n",
            "Precision Score 0.8094443047307651\n",
            "Recall Score 0.8093809523809524\n"
          ]
        }
      ],
      "source": [
        "pipeline_lr_cv_cd = Pipeline([\n",
        "    ('vect', CountVectorizer(analyzer='word', ngram_range=(1, 2))),\n",
        "         ('clf', LogisticRegression(random_state=40,multi_class=\"ovr\",C=8,penalty=\"l2\",solver=\"newton-cg\",max_iter=500))\n",
        "])\n",
        "\n",
        "evaluation(pipeline_lr_cv_cd)"
      ]
    },
    {
      "cell_type": "code",
      "execution_count": null,
      "id": "ec869ad7",
      "metadata": {
        "id": "ec869ad7",
        "outputId": "e098ffe2-109f-49e4-8a89-ce280385aa34"
      },
      "outputs": [
        {
          "name": "stdout",
          "output_type": "stream",
          "text": [
            "['Positive']\n"
          ]
        }
      ],
      "source": [
        "prediction_cd = pipeline_lr_cv_cd.predict(['this is an amazing product'])\n",
        "print(prediction_cd)"
      ]
    },
    {
      "cell_type": "code",
      "execution_count": null,
      "id": "ee909c6e",
      "metadata": {
        "id": "ee909c6e"
      },
      "outputs": [],
      "source": [
        "\n",
        "def customer_review(pipeline):\n",
        "    review = input('Enter your review:')\n",
        "    result = pipeline.predict([str(review)])\n",
        "    if result == 'Positive':\n",
        "        print('\\033[1;32mThis review is Positive\\033[0m') # green color\n",
        "    elif result == 'Neutral':\n",
        "        print('\\033[1;33mThis review is Neutral\\033[0m') # yellow color\n",
        "    else:\n",
        "        print('\\033[1;31mThis review is Negative\\033[0m') # red color\n",
        "    return result"
      ]
    },
    {
      "cell_type": "code",
      "execution_count": null,
      "id": "e2bca099",
      "metadata": {
        "id": "e2bca099",
        "outputId": "fd542e44-3786-4d5e-cd9e-429f03be385e"
      },
      "outputs": [
        {
          "name": "stdout",
          "output_type": "stream",
          "text": [
            "Enter your review:good\n",
            "\u001b[1;32mThis review is Positive\u001b[0m\n"
          ]
        },
        {
          "data": {
            "text/plain": [
              "array(['Positive'], dtype=object)"
            ]
          },
          "execution_count": 149,
          "metadata": {},
          "output_type": "execute_result"
        }
      ],
      "source": [
        "customer_review(pipeline_lr_cv_cd)\n"
      ]
    },
    {
      "cell_type": "markdown",
      "id": "91766229",
      "metadata": {
        "id": "91766229"
      },
      "source": [
        "# FINAL MODEL FOR OFFICE PRODUCT DATASET"
      ]
    },
    {
      "cell_type": "code",
      "execution_count": null,
      "id": "59bf65d4",
      "metadata": {
        "id": "59bf65d4",
        "outputId": "524042cc-74c1-4f9f-8589-0bc68d0e0321"
      },
      "outputs": [
        {
          "name": "stdout",
          "output_type": "stream",
          "text": [
            "Accuracy on train 0.998869\n",
            "Accuracy on test 0.809381\n",
            "F1 Score 0.8094126273162191\n",
            "Precision Score 0.8094443047307651\n",
            "Recall Score 0.8093809523809524\n"
          ]
        }
      ],
      "source": [
        "pipeline_lr_cv_office = Pipeline([\n",
        "    ('vect', CountVectorizer(analyzer='word', ngram_range=(1, 2))),\n",
        "         ('clf', LogisticRegression(random_state=40,multi_class=\"ovr\",C=8,penalty=\"l2\",solver=\"newton-cg\",max_iter=500))\n",
        "])\n",
        "\n",
        "evaluation(pipeline_lr_cv_office)"
      ]
    },
    {
      "cell_type": "code",
      "execution_count": null,
      "id": "2655d798",
      "metadata": {
        "id": "2655d798",
        "outputId": "5a645b27-b107-4641-c07a-0bbfaf161425"
      },
      "outputs": [
        {
          "name": "stdout",
          "output_type": "stream",
          "text": [
            "['Negative']\n"
          ]
        }
      ],
      "source": [
        "prediction_office = pipeline_lr_cv_office.predict(['this is an bad product'])\n",
        "print(prediction_office)"
      ]
    },
    {
      "cell_type": "code",
      "execution_count": null,
      "id": "def214b0",
      "metadata": {
        "id": "def214b0",
        "outputId": "0d377f15-68fc-43dd-8eb3-a354c4badd49"
      },
      "outputs": [
        {
          "name": "stdout",
          "output_type": "stream",
          "text": [
            "Enter your review:perfectly did\n",
            "\u001b[1;32mThis review is Positive\u001b[0m\n"
          ]
        },
        {
          "data": {
            "text/plain": [
              "array(['Positive'], dtype=object)"
            ]
          },
          "execution_count": 142,
          "metadata": {},
          "output_type": "execute_result"
        }
      ],
      "source": [
        "customer_review(pipeline_lr_cv_office)"
      ]
    },
    {
      "cell_type": "code",
      "execution_count": null,
      "id": "5f106094",
      "metadata": {
        "id": "5f106094"
      },
      "outputs": [],
      "source": []
    },
    {
      "cell_type": "code",
      "execution_count": null,
      "id": "d3c2e476",
      "metadata": {
        "id": "d3c2e476",
        "outputId": "3d9ec615-067e-43a6-efeb-a4cd57b3a58a"
      },
      "outputs": [
        {
          "name": "stdout",
          "output_type": "stream",
          "text": [
            "Defaulting to user installation because normal site-packages is not writeable\n",
            "Requirement already satisfied: joblib in c:\\programdata\\anaconda3\\lib\\site-packages (1.1.0)\n"
          ]
        }
      ],
      "source": [
        "\n",
        "!pip install joblib"
      ]
    },
    {
      "cell_type": "code",
      "execution_count": null,
      "id": "1d311c67",
      "metadata": {
        "id": "1d311c67",
        "outputId": "b4eab8c1-68c0-4253-a7a3-162d5bcc06d2"
      },
      "outputs": [
        {
          "data": {
            "text/plain": [
              "['sentiment_analysis_model.pkl']"
            ]
          },
          "execution_count": 194,
          "metadata": {},
          "output_type": "execute_result"
        }
      ],
      "source": [
        "\n",
        "joblib.dump(pipeline_lr_cv, 'sentiment_analysis_model.pkl')"
      ]
    },
    {
      "cell_type": "code",
      "execution_count": null,
      "id": "850e859e",
      "metadata": {
        "id": "850e859e"
      },
      "outputs": [],
      "source": [
        "\n",
        "model = joblib.load('sentiment_analysis_model.pkl')"
      ]
    },
    {
      "cell_type": "code",
      "execution_count": null,
      "id": "87f258d8",
      "metadata": {
        "id": "87f258d8",
        "outputId": "f5c1b380-8e07-42cf-c138-76f3f5203473"
      },
      "outputs": [
        {
          "data": {
            "text/html": [
              "<style>#sk-eaca7ab6-3537-4ea7-90ed-b85110290490 {color: black;background-color: white;}#sk-eaca7ab6-3537-4ea7-90ed-b85110290490 pre{padding: 0;}#sk-eaca7ab6-3537-4ea7-90ed-b85110290490 div.sk-toggleable {background-color: white;}#sk-eaca7ab6-3537-4ea7-90ed-b85110290490 label.sk-toggleable__label {cursor: pointer;display: block;width: 100%;margin-bottom: 0;padding: 0.3em;box-sizing: border-box;text-align: center;}#sk-eaca7ab6-3537-4ea7-90ed-b85110290490 label.sk-toggleable__label-arrow:before {content: \"▸\";float: left;margin-right: 0.25em;color: #696969;}#sk-eaca7ab6-3537-4ea7-90ed-b85110290490 label.sk-toggleable__label-arrow:hover:before {color: black;}#sk-eaca7ab6-3537-4ea7-90ed-b85110290490 div.sk-estimator:hover label.sk-toggleable__label-arrow:before {color: black;}#sk-eaca7ab6-3537-4ea7-90ed-b85110290490 div.sk-toggleable__content {max-height: 0;max-width: 0;overflow: hidden;text-align: left;background-color: #f0f8ff;}#sk-eaca7ab6-3537-4ea7-90ed-b85110290490 div.sk-toggleable__content pre {margin: 0.2em;color: black;border-radius: 0.25em;background-color: #f0f8ff;}#sk-eaca7ab6-3537-4ea7-90ed-b85110290490 input.sk-toggleable__control:checked~div.sk-toggleable__content {max-height: 200px;max-width: 100%;overflow: auto;}#sk-eaca7ab6-3537-4ea7-90ed-b85110290490 input.sk-toggleable__control:checked~label.sk-toggleable__label-arrow:before {content: \"▾\";}#sk-eaca7ab6-3537-4ea7-90ed-b85110290490 div.sk-estimator input.sk-toggleable__control:checked~label.sk-toggleable__label {background-color: #d4ebff;}#sk-eaca7ab6-3537-4ea7-90ed-b85110290490 div.sk-label input.sk-toggleable__control:checked~label.sk-toggleable__label {background-color: #d4ebff;}#sk-eaca7ab6-3537-4ea7-90ed-b85110290490 input.sk-hidden--visually {border: 0;clip: rect(1px 1px 1px 1px);clip: rect(1px, 1px, 1px, 1px);height: 1px;margin: -1px;overflow: hidden;padding: 0;position: absolute;width: 1px;}#sk-eaca7ab6-3537-4ea7-90ed-b85110290490 div.sk-estimator {font-family: monospace;background-color: #f0f8ff;border: 1px dotted black;border-radius: 0.25em;box-sizing: border-box;margin-bottom: 0.5em;}#sk-eaca7ab6-3537-4ea7-90ed-b85110290490 div.sk-estimator:hover {background-color: #d4ebff;}#sk-eaca7ab6-3537-4ea7-90ed-b85110290490 div.sk-parallel-item::after {content: \"\";width: 100%;border-bottom: 1px solid gray;flex-grow: 1;}#sk-eaca7ab6-3537-4ea7-90ed-b85110290490 div.sk-label:hover label.sk-toggleable__label {background-color: #d4ebff;}#sk-eaca7ab6-3537-4ea7-90ed-b85110290490 div.sk-serial::before {content: \"\";position: absolute;border-left: 1px solid gray;box-sizing: border-box;top: 2em;bottom: 0;left: 50%;}#sk-eaca7ab6-3537-4ea7-90ed-b85110290490 div.sk-serial {display: flex;flex-direction: column;align-items: center;background-color: white;padding-right: 0.2em;padding-left: 0.2em;}#sk-eaca7ab6-3537-4ea7-90ed-b85110290490 div.sk-item {z-index: 1;}#sk-eaca7ab6-3537-4ea7-90ed-b85110290490 div.sk-parallel {display: flex;align-items: stretch;justify-content: center;background-color: white;}#sk-eaca7ab6-3537-4ea7-90ed-b85110290490 div.sk-parallel::before {content: \"\";position: absolute;border-left: 1px solid gray;box-sizing: border-box;top: 2em;bottom: 0;left: 50%;}#sk-eaca7ab6-3537-4ea7-90ed-b85110290490 div.sk-parallel-item {display: flex;flex-direction: column;position: relative;background-color: white;}#sk-eaca7ab6-3537-4ea7-90ed-b85110290490 div.sk-parallel-item:first-child::after {align-self: flex-end;width: 50%;}#sk-eaca7ab6-3537-4ea7-90ed-b85110290490 div.sk-parallel-item:last-child::after {align-self: flex-start;width: 50%;}#sk-eaca7ab6-3537-4ea7-90ed-b85110290490 div.sk-parallel-item:only-child::after {width: 0;}#sk-eaca7ab6-3537-4ea7-90ed-b85110290490 div.sk-dashed-wrapped {border: 1px dashed gray;margin: 0 0.4em 0.5em 0.4em;box-sizing: border-box;padding-bottom: 0.4em;background-color: white;position: relative;}#sk-eaca7ab6-3537-4ea7-90ed-b85110290490 div.sk-label label {font-family: monospace;font-weight: bold;background-color: white;display: inline-block;line-height: 1.2em;}#sk-eaca7ab6-3537-4ea7-90ed-b85110290490 div.sk-label-container {position: relative;z-index: 2;text-align: center;}#sk-eaca7ab6-3537-4ea7-90ed-b85110290490 div.sk-container {/* jupyter's `normalize.less` sets `[hidden] { display: none; }` but bootstrap.min.css set `[hidden] { display: none !important; }` so we also need the `!important` here to be able to override the default hidden behavior on the sphinx rendered scikit-learn.org. See: https://github.com/scikit-learn/scikit-learn/issues/21755 */display: inline-block !important;position: relative;}#sk-eaca7ab6-3537-4ea7-90ed-b85110290490 div.sk-text-repr-fallback {display: none;}</style><div id=\"sk-eaca7ab6-3537-4ea7-90ed-b85110290490\" class=\"sk-top-container\"><div class=\"sk-text-repr-fallback\"><pre>Pipeline(steps=[(&#x27;vect&#x27;, CountVectorizer(ngram_range=(1, 2))),\n",
              "                (&#x27;clf&#x27;,\n",
              "                 LogisticRegression(C=8, max_iter=500, multi_class=&#x27;ovr&#x27;,\n",
              "                                    random_state=40, solver=&#x27;newton-cg&#x27;))])</pre><b>Please rerun this cell to show the HTML repr or trust the notebook.</b></div><div class=\"sk-container\" hidden><div class=\"sk-item sk-dashed-wrapped\"><div class=\"sk-label-container\"><div class=\"sk-label sk-toggleable\"><input class=\"sk-toggleable__control sk-hidden--visually\" id=\"077841eb-5c8a-4a30-87f8-d382bda932ca\" type=\"checkbox\" ><label for=\"077841eb-5c8a-4a30-87f8-d382bda932ca\" class=\"sk-toggleable__label sk-toggleable__label-arrow\">Pipeline</label><div class=\"sk-toggleable__content\"><pre>Pipeline(steps=[(&#x27;vect&#x27;, CountVectorizer(ngram_range=(1, 2))),\n",
              "                (&#x27;clf&#x27;,\n",
              "                 LogisticRegression(C=8, max_iter=500, multi_class=&#x27;ovr&#x27;,\n",
              "                                    random_state=40, solver=&#x27;newton-cg&#x27;))])</pre></div></div></div><div class=\"sk-serial\"><div class=\"sk-item\"><div class=\"sk-estimator sk-toggleable\"><input class=\"sk-toggleable__control sk-hidden--visually\" id=\"7ee2430a-96e0-41e4-928f-908085d52698\" type=\"checkbox\" ><label for=\"7ee2430a-96e0-41e4-928f-908085d52698\" class=\"sk-toggleable__label sk-toggleable__label-arrow\">CountVectorizer</label><div class=\"sk-toggleable__content\"><pre>CountVectorizer(ngram_range=(1, 2))</pre></div></div></div><div class=\"sk-item\"><div class=\"sk-estimator sk-toggleable\"><input class=\"sk-toggleable__control sk-hidden--visually\" id=\"cf244802-04ca-46bc-9457-156873a48ce0\" type=\"checkbox\" ><label for=\"cf244802-04ca-46bc-9457-156873a48ce0\" class=\"sk-toggleable__label sk-toggleable__label-arrow\">LogisticRegression</label><div class=\"sk-toggleable__content\"><pre>LogisticRegression(C=8, max_iter=500, multi_class=&#x27;ovr&#x27;, random_state=40,\n",
              "                   solver=&#x27;newton-cg&#x27;)</pre></div></div></div></div></div></div></div>"
            ],
            "text/plain": [
              "Pipeline(steps=[('vect', CountVectorizer(ngram_range=(1, 2))),\n",
              "                ('clf',\n",
              "                 LogisticRegression(C=8, max_iter=500, multi_class='ovr',\n",
              "                                    random_state=40, solver='newton-cg'))])"
            ]
          },
          "execution_count": 198,
          "metadata": {},
          "output_type": "execute_result"
        }
      ],
      "source": [
        "model"
      ]
    },
    {
      "cell_type": "code",
      "execution_count": null,
      "id": "b318ccba",
      "metadata": {
        "id": "b318ccba"
      },
      "outputs": [],
      "source": []
    }
  ],
  "metadata": {
    "kernelspec": {
      "display_name": "Python 3 (ipykernel)",
      "language": "python",
      "name": "python3"
    },
    "language_info": {
      "codemirror_mode": {
        "name": "ipython",
        "version": 3
      },
      "file_extension": ".py",
      "mimetype": "text/x-python",
      "name": "python",
      "nbconvert_exporter": "python",
      "pygments_lexer": "ipython3",
      "version": "3.9.12"
    },
    "colab": {
      "provenance": []
    }
  },
  "nbformat": 4,
  "nbformat_minor": 5
}