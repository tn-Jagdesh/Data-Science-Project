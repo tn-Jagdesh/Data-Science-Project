{
  "cells": [
    {
      "cell_type": "markdown",
      "id": "9a9de80f",
      "metadata": {
        "id": "9a9de80f"
      },
      "source": [
        "## Time Series-Sentiment forecasting"
      ]
    },
    {
      "cell_type": "markdown",
      "id": "7a8e432c",
      "metadata": {
        "id": "7a8e432c"
      },
      "source": [
        "### Importing libraries"
      ]
    },
    {
      "cell_type": "code",
      "execution_count": null,
      "id": "c211ded5",
      "metadata": {
        "id": "c211ded5"
      },
      "outputs": [],
      "source": [
        "# import libraries\n",
        "import numpy as np\n",
        "import pandas as pd\n",
        "\n",
        "#decompose\n",
        "from statsmodels.tsa.seasonal import seasonal_decompose\n",
        "\n",
        "# dickey fuller test for stationarity\n",
        "from statsmodels.tsa.stattools import acf,pacf,adfuller\n",
        "\n",
        "# ARIMA\n",
        "from statsmodels.tsa.arima.model import ARIMA\n",
        "\n",
        "# plots\n",
        "import matplotlib.pyplot as plt\n",
        "from statsmodels.graphics.tsaplots import plot_acf, plot_pacf\n",
        "\n",
        "from sklearn.metrics import mean_squared_error\n",
        "\n",
        "# Ljung-Box test for model goodness\n",
        "import statsmodels.api as sm\n",
        "# resampling\n",
        "from sklearn.utils import resample\n",
        "\n",
        "import warnings\n",
        "warnings.filterwarnings(\"ignore\")"
      ]
    },
    {
      "cell_type": "markdown",
      "id": "433d1a3d",
      "metadata": {
        "id": "433d1a3d"
      },
      "source": [
        "## Importing dataset"
      ]
    },
    {
      "cell_type": "code",
      "execution_count": null,
      "id": "78de5e36",
      "metadata": {
        "id": "78de5e36"
      },
      "outputs": [],
      "source": [
        "cd_sent = pd.read_csv(\"C:/Users/sandp/Downloads/cd_data_final.csv\")"
      ]
    },
    {
      "cell_type": "code",
      "execution_count": null,
      "id": "f4d7180b",
      "metadata": {
        "id": "f4d7180b",
        "outputId": "8a100c40-a12b-42bd-f222-5ae669749a76"
      },
      "outputs": [
        {
          "data": {
            "text/html": [
              "<div>\n",
              "<style scoped>\n",
              "    .dataframe tbody tr th:only-of-type {\n",
              "        vertical-align: middle;\n",
              "    }\n",
              "\n",
              "    .dataframe tbody tr th {\n",
              "        vertical-align: top;\n",
              "    }\n",
              "\n",
              "    .dataframe thead th {\n",
              "        text-align: right;\n",
              "    }\n",
              "</style>\n",
              "<table border=\"1\" class=\"dataframe\">\n",
              "  <thead>\n",
              "    <tr style=\"text-align: right;\">\n",
              "      <th></th>\n",
              "      <th>reviewerID</th>\n",
              "      <th>asin</th>\n",
              "      <th>verified</th>\n",
              "      <th>review</th>\n",
              "      <th>ratings</th>\n",
              "      <th>date</th>\n",
              "      <th>summary</th>\n",
              "      <th>unixReviewTime</th>\n",
              "      <th>category</th>\n",
              "      <th>description</th>\n",
              "      <th>...</th>\n",
              "      <th>Sentiment</th>\n",
              "      <th>word_count</th>\n",
              "      <th>char_count</th>\n",
              "      <th>avg_word</th>\n",
              "      <th>polarity</th>\n",
              "      <th>label</th>\n",
              "      <th>year</th>\n",
              "      <th>rating_class_num</th>\n",
              "      <th>review_length</th>\n",
              "      <th>review_length_bin</th>\n",
              "    </tr>\n",
              "  </thead>\n",
              "  <tbody>\n",
              "    <tr>\n",
              "      <th>0</th>\n",
              "      <td>A2LBDC9ZGSCAE6</td>\n",
              "      <td>0005164885</td>\n",
              "      <td>True</td>\n",
              "      <td>christmas tso goes together like rudolph santa</td>\n",
              "      <td>5.0</td>\n",
              "      <td>2018-02-22</td>\n",
              "      <td>TSO...what more do you need to know?</td>\n",
              "      <td>1519257600</td>\n",
              "      <td>['CDs &amp; Vinyl', 'Holiday &amp; Wedding']</td>\n",
              "      <td>['This is a concept album all the way, with ta...</td>\n",
              "      <td>...</td>\n",
              "      <td>Positive</td>\n",
              "      <td>7</td>\n",
              "      <td>46</td>\n",
              "      <td>5.7</td>\n",
              "      <td>0.0</td>\n",
              "      <td>1.0</td>\n",
              "      <td>2018</td>\n",
              "      <td>1</td>\n",
              "      <td>7</td>\n",
              "      <td>(0, 100]</td>\n",
              "    </tr>\n",
              "    <tr>\n",
              "      <th>1</th>\n",
              "      <td>A2ZB6AHRM0ZLLW</td>\n",
              "      <td>0005164885</td>\n",
              "      <td>True</td>\n",
              "      <td>good</td>\n",
              "      <td>4.0</td>\n",
              "      <td>2018-02-14</td>\n",
              "      <td>Four Stars</td>\n",
              "      <td>1518566400</td>\n",
              "      <td>['CDs &amp; Vinyl', 'Holiday &amp; Wedding']</td>\n",
              "      <td>['This is a concept album all the way, with ta...</td>\n",
              "      <td>...</td>\n",
              "      <td>Positive</td>\n",
              "      <td>1</td>\n",
              "      <td>4</td>\n",
              "      <td>4.0</td>\n",
              "      <td>0.7</td>\n",
              "      <td>1.0</td>\n",
              "      <td>2018</td>\n",
              "      <td>1</td>\n",
              "      <td>1</td>\n",
              "      <td>(0, 100]</td>\n",
              "    </tr>\n",
              "  </tbody>\n",
              "</table>\n",
              "<p>2 rows × 30 columns</p>\n",
              "</div>"
            ],
            "text/plain": [
              "       reviewerID        asin  verified  \\\n",
              "0  A2LBDC9ZGSCAE6  0005164885      True   \n",
              "1  A2ZB6AHRM0ZLLW  0005164885      True   \n",
              "\n",
              "                                           review  ratings        date  \\\n",
              "0  christmas tso goes together like rudolph santa      5.0  2018-02-22   \n",
              "1                                            good      4.0  2018-02-14   \n",
              "\n",
              "                                summary  unixReviewTime  \\\n",
              "0  TSO...what more do you need to know?      1519257600   \n",
              "1                            Four Stars      1518566400   \n",
              "\n",
              "                               category  \\\n",
              "0  ['CDs & Vinyl', 'Holiday & Wedding']   \n",
              "1  ['CDs & Vinyl', 'Holiday & Wedding']   \n",
              "\n",
              "                                         description  ... Sentiment  \\\n",
              "0  ['This is a concept album all the way, with ta...  ...  Positive   \n",
              "1  ['This is a concept album all the way, with ta...  ...  Positive   \n",
              "\n",
              "  word_count  char_count avg_word polarity  label  year  rating_class_num  \\\n",
              "0          7          46      5.7      0.0    1.0  2018                 1   \n",
              "1          1           4      4.0      0.7    1.0  2018                 1   \n",
              "\n",
              "   review_length review_length_bin  \n",
              "0              7          (0, 100]  \n",
              "1              1          (0, 100]  \n",
              "\n",
              "[2 rows x 30 columns]"
            ]
          },
          "execution_count": 3,
          "metadata": {},
          "output_type": "execute_result"
        }
      ],
      "source": [
        "cd_sent.head(2)"
      ]
    },
    {
      "cell_type": "code",
      "execution_count": null,
      "id": "4a758856",
      "metadata": {
        "id": "4a758856"
      },
      "outputs": [],
      "source": [
        "#Extracting month from date\n",
        "cd_sent['date']=pd.to_datetime(cd_sent['date'])\n",
        "cd_sent['Month'] = cd_sent['date'].dt.month "
      ]
    },
    {
      "cell_type": "code",
      "execution_count": null,
      "id": "fad5131d",
      "metadata": {
        "id": "fad5131d"
      },
      "outputs": [],
      "source": [
        "#Resampling to make the sentiment class balanced\n",
        "cd_pos = cd_sent[cd_sent['Sentiment']=='Positive']\n",
        "cd_neu = cd_sent[cd_sent['Sentiment']=='Neutral']\n",
        "cd_neg = cd_sent[cd_sent['Sentiment']=='Negative']\n",
        " \n",
        "\n",
        "df_cd_pos = resample(cd_pos, \n",
        "                                 replace=False,    \n",
        "                                 n_samples=35000)\n",
        "\n",
        "df_cd_neu = resample(cd_neu, \n",
        "                                 replace=True,     \n",
        "                                 n_samples=35000)\n",
        "\n",
        "df_cd_neg = resample(cd_neg, \n",
        "                        replace=True, n_samples=35000)\n",
        "\n"
      ]
    },
    {
      "cell_type": "markdown",
      "id": "0732613f",
      "metadata": {
        "id": "0732613f"
      },
      "source": [
        "##  Postive sentiment"
      ]
    },
    {
      "cell_type": "markdown",
      "id": "fadabe8f",
      "metadata": {
        "id": "fadabe8f"
      },
      "source": [
        "### Creating sentiment count "
      ]
    },
    {
      "cell_type": "code",
      "execution_count": null,
      "id": "79a7aa60",
      "metadata": {
        "id": "79a7aa60",
        "outputId": "39712f99-3635-4c61-c46d-994adf0454a7"
      },
      "outputs": [
        {
          "data": {
            "text/html": [
              "<div>\n",
              "<style scoped>\n",
              "    .dataframe tbody tr th:only-of-type {\n",
              "        vertical-align: middle;\n",
              "    }\n",
              "\n",
              "    .dataframe tbody tr th {\n",
              "        vertical-align: top;\n",
              "    }\n",
              "\n",
              "    .dataframe thead th {\n",
              "        text-align: right;\n",
              "    }\n",
              "</style>\n",
              "<table border=\"1\" class=\"dataframe\">\n",
              "  <thead>\n",
              "    <tr style=\"text-align: right;\">\n",
              "      <th></th>\n",
              "      <th>asin</th>\n",
              "      <th>Month</th>\n",
              "      <th>Sentiment</th>\n",
              "      <th>sentiment_count</th>\n",
              "    </tr>\n",
              "  </thead>\n",
              "  <tbody>\n",
              "    <tr>\n",
              "      <th>0</th>\n",
              "      <td>0005164885</td>\n",
              "      <td>2</td>\n",
              "      <td>Positive</td>\n",
              "      <td>1</td>\n",
              "    </tr>\n",
              "    <tr>\n",
              "      <th>1</th>\n",
              "      <td>0005164885</td>\n",
              "      <td>8</td>\n",
              "      <td>Positive</td>\n",
              "      <td>2</td>\n",
              "    </tr>\n",
              "    <tr>\n",
              "      <th>2</th>\n",
              "      <td>0005164885</td>\n",
              "      <td>12</td>\n",
              "      <td>Positive</td>\n",
              "      <td>4</td>\n",
              "    </tr>\n",
              "    <tr>\n",
              "      <th>3</th>\n",
              "      <td>0967680654</td>\n",
              "      <td>11</td>\n",
              "      <td>Positive</td>\n",
              "      <td>1</td>\n",
              "    </tr>\n",
              "    <tr>\n",
              "      <th>4</th>\n",
              "      <td>1450734618</td>\n",
              "      <td>12</td>\n",
              "      <td>Positive</td>\n",
              "      <td>1</td>\n",
              "    </tr>\n",
              "    <tr>\n",
              "      <th>...</th>\n",
              "      <td>...</td>\n",
              "      <td>...</td>\n",
              "      <td>...</td>\n",
              "      <td>...</td>\n",
              "    </tr>\n",
              "    <tr>\n",
              "      <th>31485</th>\n",
              "      <td>B01HHGAJJ6</td>\n",
              "      <td>10</td>\n",
              "      <td>Positive</td>\n",
              "      <td>1</td>\n",
              "    </tr>\n",
              "    <tr>\n",
              "      <th>31486</th>\n",
              "      <td>B01HHV3R5O</td>\n",
              "      <td>10</td>\n",
              "      <td>Positive</td>\n",
              "      <td>1</td>\n",
              "    </tr>\n",
              "    <tr>\n",
              "      <th>31487</th>\n",
              "      <td>B01HIDRZWM</td>\n",
              "      <td>11</td>\n",
              "      <td>Positive</td>\n",
              "      <td>1</td>\n",
              "    </tr>\n",
              "    <tr>\n",
              "      <th>31488</th>\n",
              "      <td>B01HIDSTAY</td>\n",
              "      <td>9</td>\n",
              "      <td>Positive</td>\n",
              "      <td>1</td>\n",
              "    </tr>\n",
              "    <tr>\n",
              "      <th>31489</th>\n",
              "      <td>B01HIDSULM</td>\n",
              "      <td>7</td>\n",
              "      <td>Positive</td>\n",
              "      <td>1</td>\n",
              "    </tr>\n",
              "  </tbody>\n",
              "</table>\n",
              "<p>31490 rows × 4 columns</p>\n",
              "</div>"
            ],
            "text/plain": [
              "             asin  Month Sentiment  sentiment_count\n",
              "0      0005164885      2  Positive                1\n",
              "1      0005164885      8  Positive                2\n",
              "2      0005164885     12  Positive                4\n",
              "3      0967680654     11  Positive                1\n",
              "4      1450734618     12  Positive                1\n",
              "...           ...    ...       ...              ...\n",
              "31485  B01HHGAJJ6     10  Positive                1\n",
              "31486  B01HHV3R5O     10  Positive                1\n",
              "31487  B01HIDRZWM     11  Positive                1\n",
              "31488  B01HIDSTAY      9  Positive                1\n",
              "31489  B01HIDSULM      7  Positive                1\n",
              "\n",
              "[31490 rows x 4 columns]"
            ]
          },
          "execution_count": 6,
          "metadata": {},
          "output_type": "execute_result"
        }
      ],
      "source": [
        "cd_pos_count=df_cd_pos.groupby(['asin','Month','Sentiment']).size().reset_index(name='sentiment_count')\n",
        "cd_pos_count"
      ]
    },
    {
      "cell_type": "code",
      "execution_count": null,
      "id": "ba3933da",
      "metadata": {
        "id": "ba3933da"
      },
      "outputs": [],
      "source": [
        "# Merging created sentiment count with original data frame\n",
        "cd_pos=pd.merge(df_cd_pos,cd_pos_count)"
      ]
    },
    {
      "cell_type": "markdown",
      "id": "a2a919bb",
      "metadata": {
        "id": "a2a919bb"
      },
      "source": [
        "### Time series analysis"
      ]
    },
    {
      "cell_type": "markdown",
      "id": "75b2c76c",
      "metadata": {
        "id": "75b2c76c"
      },
      "source": [
        "### Creating functions for time series"
      ]
    },
    {
      "cell_type": "code",
      "execution_count": null,
      "id": "0b65ba0a",
      "metadata": {
        "id": "0b65ba0a"
      },
      "outputs": [],
      "source": [
        "# stationarity check\n",
        "def checkStationarity(data):\n",
        "    pvalue = adfuller(data)[1]\n",
        "    print('pvalue:',pvalue)\n",
        "\n",
        "    if pvalue < 0.05:\n",
        "        msg = \"Data is Stationary. Proceed to model building\"\n",
        "    else:\n",
        "        msg = \" Data is not Stationary. Make the data stationary before model building\"\n",
        "\n",
        "    return msg\n",
        "\n",
        "# Decomposition\n",
        "def tsa_comp(df):\n",
        "    decomp = seasonal_decompose(df, period=12, model='additive')\n",
        "    d_trend = decomp.trend\n",
        "    d_seasonal = decomp.seasonal\n",
        "    d_resid = decomp.resid\n",
        "    \n",
        "    fig, (ax1,ax2,ax3,ax4) = plt.subplots(4,1,figsize=(15,8), facecolor='linen')\n",
        "    plt.suptitle('TIME SERIES COMPONENT ANALYSIS', fontweight='bold', size=20)\n",
        "    ax1.plot(df, label='Actual Sales')\n",
        "    ax2.plot(d_trend, label='Trend', c='green')\n",
        "    ax3.plot(d_seasonal, label='Seasonal', c='orange')\n",
        "    ax4.plot(d_resid, label='Irregularity', c='pink')\n",
        "    fig.legend();\n",
        "    \n",
        " # acf and pacf plots\n",
        "def p_and_q(data):\n",
        "    fig,ax=plt.subplots(1,2,figsize=(15,5))\n",
        "    plot_acf(data,lags=20,ax=ax[0])\n",
        "    plot_pacf(data,lags=20,ax=ax[1]);"
      ]
    },
    {
      "cell_type": "markdown",
      "id": "3c2e574a",
      "metadata": {
        "id": "3c2e574a"
      },
      "source": [
        "### Data preparation"
      ]
    },
    {
      "cell_type": "code",
      "execution_count": null,
      "id": "88e60577",
      "metadata": {
        "id": "88e60577",
        "outputId": "dae4d54b-c0f8-4e5c-f99c-03d6f2e55910"
      },
      "outputs": [
        {
          "data": {
            "text/html": [
              "<div>\n",
              "<style scoped>\n",
              "    .dataframe tbody tr th:only-of-type {\n",
              "        vertical-align: middle;\n",
              "    }\n",
              "\n",
              "    .dataframe tbody tr th {\n",
              "        vertical-align: top;\n",
              "    }\n",
              "\n",
              "    .dataframe thead th {\n",
              "        text-align: right;\n",
              "    }\n",
              "</style>\n",
              "<table border=\"1\" class=\"dataframe\">\n",
              "  <thead>\n",
              "    <tr style=\"text-align: right;\">\n",
              "      <th></th>\n",
              "      <th>sentiment_count</th>\n",
              "    </tr>\n",
              "    <tr>\n",
              "      <th>date</th>\n",
              "      <th></th>\n",
              "    </tr>\n",
              "  </thead>\n",
              "  <tbody>\n",
              "    <tr>\n",
              "      <th>1998-04-06</th>\n",
              "      <td>1</td>\n",
              "    </tr>\n",
              "    <tr>\n",
              "      <th>1998-05-13</th>\n",
              "      <td>2</td>\n",
              "    </tr>\n",
              "    <tr>\n",
              "      <th>1998-05-21</th>\n",
              "      <td>1</td>\n",
              "    </tr>\n",
              "    <tr>\n",
              "      <th>1998-05-27</th>\n",
              "      <td>1</td>\n",
              "    </tr>\n",
              "    <tr>\n",
              "      <th>1998-05-28</th>\n",
              "      <td>1</td>\n",
              "    </tr>\n",
              "    <tr>\n",
              "      <th>...</th>\n",
              "      <td>...</td>\n",
              "    </tr>\n",
              "    <tr>\n",
              "      <th>2018-05-16</th>\n",
              "      <td>1</td>\n",
              "    </tr>\n",
              "    <tr>\n",
              "      <th>2018-05-17</th>\n",
              "      <td>1</td>\n",
              "    </tr>\n",
              "    <tr>\n",
              "      <th>2018-05-23</th>\n",
              "      <td>2</td>\n",
              "    </tr>\n",
              "    <tr>\n",
              "      <th>2018-05-25</th>\n",
              "      <td>1</td>\n",
              "    </tr>\n",
              "    <tr>\n",
              "      <th>2018-07-20</th>\n",
              "      <td>1</td>\n",
              "    </tr>\n",
              "  </tbody>\n",
              "</table>\n",
              "<p>35000 rows × 1 columns</p>\n",
              "</div>"
            ],
            "text/plain": [
              "            sentiment_count\n",
              "date                       \n",
              "1998-04-06                1\n",
              "1998-05-13                2\n",
              "1998-05-21                1\n",
              "1998-05-27                1\n",
              "1998-05-28                1\n",
              "...                     ...\n",
              "2018-05-16                1\n",
              "2018-05-17                1\n",
              "2018-05-23                2\n",
              "2018-05-25                1\n",
              "2018-07-20                1\n",
              "\n",
              "[35000 rows x 1 columns]"
            ]
          },
          "execution_count": 9,
          "metadata": {},
          "output_type": "execute_result"
        }
      ],
      "source": [
        "cd_pos=cd_pos[['date','sentiment_count']]\n",
        "cd_pos=cd_pos.set_index('date')\n",
        "cd_pos=cd_pos.sort_values(by=['date'])\n",
        "cd_pos"
      ]
    },
    {
      "cell_type": "markdown",
      "id": "f37ca192",
      "metadata": {
        "id": "f37ca192"
      },
      "source": [
        "### Resampling month wise"
      ]
    },
    {
      "cell_type": "code",
      "execution_count": null,
      "id": "41978e6d",
      "metadata": {
        "id": "41978e6d",
        "outputId": "07a1333b-0dd7-4fe2-becd-14b933072198"
      },
      "outputs": [
        {
          "data": {
            "text/html": [
              "<div>\n",
              "<style scoped>\n",
              "    .dataframe tbody tr th:only-of-type {\n",
              "        vertical-align: middle;\n",
              "    }\n",
              "\n",
              "    .dataframe tbody tr th {\n",
              "        vertical-align: top;\n",
              "    }\n",
              "\n",
              "    .dataframe thead th {\n",
              "        text-align: right;\n",
              "    }\n",
              "</style>\n",
              "<table border=\"1\" class=\"dataframe\">\n",
              "  <thead>\n",
              "    <tr style=\"text-align: right;\">\n",
              "      <th></th>\n",
              "      <th>sentiment_count</th>\n",
              "    </tr>\n",
              "    <tr>\n",
              "      <th>date</th>\n",
              "      <th></th>\n",
              "    </tr>\n",
              "  </thead>\n",
              "  <tbody>\n",
              "    <tr>\n",
              "      <th>1998-04-30</th>\n",
              "      <td>1.000000</td>\n",
              "    </tr>\n",
              "    <tr>\n",
              "      <th>1998-05-31</th>\n",
              "      <td>1.200000</td>\n",
              "    </tr>\n",
              "    <tr>\n",
              "      <th>1998-06-30</th>\n",
              "      <td>1.000000</td>\n",
              "    </tr>\n",
              "    <tr>\n",
              "      <th>1998-07-31</th>\n",
              "      <td>1.000000</td>\n",
              "    </tr>\n",
              "    <tr>\n",
              "      <th>1998-08-31</th>\n",
              "      <td>1.117647</td>\n",
              "    </tr>\n",
              "  </tbody>\n",
              "</table>\n",
              "</div>"
            ],
            "text/plain": [
              "            sentiment_count\n",
              "date                       \n",
              "1998-04-30         1.000000\n",
              "1998-05-31         1.200000\n",
              "1998-06-30         1.000000\n",
              "1998-07-31         1.000000\n",
              "1998-08-31         1.117647"
            ]
          },
          "execution_count": 10,
          "metadata": {},
          "output_type": "execute_result"
        }
      ],
      "source": [
        "cd_pos=cd_pos.resample('M').mean()\n",
        "cd_pos.head()"
      ]
    },
    {
      "cell_type": "code",
      "execution_count": null,
      "id": "a3953924",
      "metadata": {
        "id": "a3953924",
        "outputId": "fbb8d67b-ef8b-43f5-cf4e-2796b6a1e1ca"
      },
      "outputs": [
        {
          "data": {
            "text/html": [
              "<div>\n",
              "<style scoped>\n",
              "    .dataframe tbody tr th:only-of-type {\n",
              "        vertical-align: middle;\n",
              "    }\n",
              "\n",
              "    .dataframe tbody tr th {\n",
              "        vertical-align: top;\n",
              "    }\n",
              "\n",
              "    .dataframe thead th {\n",
              "        text-align: right;\n",
              "    }\n",
              "</style>\n",
              "<table border=\"1\" class=\"dataframe\">\n",
              "  <thead>\n",
              "    <tr style=\"text-align: right;\">\n",
              "      <th></th>\n",
              "      <th>sentiment_count</th>\n",
              "    </tr>\n",
              "    <tr>\n",
              "      <th>date</th>\n",
              "      <th></th>\n",
              "    </tr>\n",
              "  </thead>\n",
              "  <tbody>\n",
              "    <tr>\n",
              "      <th>2018-03-31</th>\n",
              "      <td>1.222222</td>\n",
              "    </tr>\n",
              "    <tr>\n",
              "      <th>2018-04-30</th>\n",
              "      <td>1.200000</td>\n",
              "    </tr>\n",
              "    <tr>\n",
              "      <th>2018-05-31</th>\n",
              "      <td>1.193548</td>\n",
              "    </tr>\n",
              "    <tr>\n",
              "      <th>2018-06-30</th>\n",
              "      <td>NaN</td>\n",
              "    </tr>\n",
              "    <tr>\n",
              "      <th>2018-07-31</th>\n",
              "      <td>1.000000</td>\n",
              "    </tr>\n",
              "  </tbody>\n",
              "</table>\n",
              "</div>"
            ],
            "text/plain": [
              "            sentiment_count\n",
              "date                       \n",
              "2018-03-31         1.222222\n",
              "2018-04-30         1.200000\n",
              "2018-05-31         1.193548\n",
              "2018-06-30              NaN\n",
              "2018-07-31         1.000000"
            ]
          },
          "execution_count": 11,
          "metadata": {},
          "output_type": "execute_result"
        }
      ],
      "source": [
        "cd_pos.tail()"
      ]
    },
    {
      "cell_type": "code",
      "execution_count": null,
      "id": "97d8e692",
      "metadata": {
        "id": "97d8e692",
        "outputId": "91d9fa20-eff0-43a9-c058-bc2caf2b8d3a"
      },
      "outputs": [
        {
          "data": {
            "text/plain": [
              "sentiment_count    1\n",
              "dtype: int64"
            ]
          },
          "execution_count": 12,
          "metadata": {},
          "output_type": "execute_result"
        }
      ],
      "source": [
        "cd_pos.isnull().sum()"
      ]
    },
    {
      "cell_type": "code",
      "execution_count": null,
      "id": "eda0c099",
      "metadata": {
        "id": "eda0c099"
      },
      "outputs": [],
      "source": [
        "cd_pos.dropna(inplace=True)"
      ]
    },
    {
      "cell_type": "markdown",
      "id": "58030531",
      "metadata": {
        "id": "58030531"
      },
      "source": [
        "### Decomposition"
      ]
    },
    {
      "cell_type": "code",
      "execution_count": null,
      "id": "c3de3679",
      "metadata": {
        "id": "c3de3679",
        "outputId": "bc272118-3946-41ce-f56f-c3826c5b069d"
      },
      "outputs": [
        {
          "data": {
            "image/png": "[encoded data removed]",
            "text/plain": [
              "<Figure size 1080x576 with 4 Axes>"
            ]
          },
          "metadata": {},
          "output_type": "display_data"
        }
      ],
      "source": [
        "tsa_comp(cd_pos)"
      ]
    },
    {
      "cell_type": "markdown",
      "id": "1acb31fe",
      "metadata": {
        "id": "1acb31fe"
      },
      "source": [
        "### Checking stationarity"
      ]
    },
    {
      "cell_type": "code",
      "execution_count": null,
      "id": "4bb3c0db",
      "metadata": {
        "id": "4bb3c0db",
        "outputId": "90806cca-cfc6-4ec7-f66d-9e3fab379142"
      },
      "outputs": [
        {
          "name": "stdout",
          "output_type": "stream",
          "text": [
            "pvalue: 5.12412343886656e-26\n"
          ]
        },
        {
          "data": {
            "text/plain": [
              "'Data is Stationary. Proceed to model building'"
            ]
          },
          "execution_count": 15,
          "metadata": {},
          "output_type": "execute_result"
        }
      ],
      "source": [
        "checkStationarity(cd_pos)"
      ]
    },
    {
      "cell_type": "markdown",
      "id": "181d3340",
      "metadata": {
        "id": "181d3340"
      },
      "source": [
        "### Splitting the data"
      ]
    },
    {
      "cell_type": "code",
      "execution_count": null,
      "id": "f6e78886",
      "metadata": {
        "id": "f6e78886",
        "outputId": "0b07a878-68dd-4288-c477-7add1c6a6a7a"
      },
      "outputs": [
        {
          "name": "stdout",
          "output_type": "stream",
          "text": [
            "Total=243, Train=170, Test=73\n"
          ]
        }
      ],
      "source": [
        "ratio = 0.7\n",
        "rows = int(ratio * len(cd_pos))\n",
        "train1 =cd_pos[:rows]\n",
        "test1 = cd_pos[rows:]\n",
        "\n",
        "print(\"Total={}, Train={}, Test={}\".format(len(cd_pos), len(train1), len(test1)))"
      ]
    },
    {
      "cell_type": "markdown",
      "id": "0928e4bd",
      "metadata": {
        "id": "0928e4bd"
      },
      "source": [
        "### PACF and ACF plots"
      ]
    },
    {
      "cell_type": "code",
      "execution_count": null,
      "id": "d1a48664",
      "metadata": {
        "id": "d1a48664",
        "outputId": "3ee5d486-2f35-43af-ce61-355d6b86bd45"
      },
      "outputs": [
        {
          "data": {
            "image/png": "[encoded data removed]",
            "text/plain": [
              "<Figure size 1080x360 with 2 Axes>"
            ]
          },
          "metadata": {
            "needs_background": "light"
          },
          "output_type": "display_data"
        }
      ],
      "source": [
        "p_and_q(cd_pos)"
      ]
    },
    {
      "cell_type": "markdown",
      "id": "e96b9877",
      "metadata": {
        "id": "e96b9877"
      },
      "source": [
        "### creating models for different values of p and q"
      ]
    },
    {
      "cell_type": "code",
      "execution_count": null,
      "id": "8456183f",
      "metadata": {
        "id": "8456183f",
        "outputId": "0e7f5063-4271-49e3-bb46-ff4319159fec"
      },
      "outputs": [
        {
          "name": "stdout",
          "output_type": "stream",
          "text": [
            "Model 1 Good model\n",
            "Model 2 Good model\n",
            "Model 3 Good model\n",
            "Model 4 Good model\n",
            "Model 5 Good model\n",
            "Model 6 Good model\n",
            "Model 7 Good model\n",
            "Model 8 Good model\n",
            "Model 9 Good model\n",
            "Model 10 Good model\n",
            "Model 11 Good model\n",
            "Model 12 Good model\n"
          ]
        }
      ],
      "source": [
        "d=0;\n",
        "lis=[]\n",
        "for p in range(3):\n",
        "    for q in range(4):\n",
        "        lis.append((p,d,q))\n",
        "\n",
        "# building model\n",
        "model=[]\n",
        "for i in lis:\n",
        "    m =ARIMA(train1, order=i).fit() \n",
        "    model.append(m)\n",
        "\n",
        "# checking model is good or not\n",
        "model_st=[]\n",
        "c=1\n",
        "for i in model:\n",
        "    pvalue = sm.stats.acorr_ljungbox(i.resid, lags=[1], return_df=True)['lb_pvalue'].values\n",
        "    if pvalue < 0.05:\n",
        "        print(f'Model {c} Not a good model')\n",
        "    else:\n",
        "        print(f'Model {c} Good model')\n",
        "    c+=1"
      ]
    },
    {
      "cell_type": "code",
      "execution_count": null,
      "id": "acf390b5",
      "metadata": {
        "id": "acf390b5",
        "outputId": "4a37832b-8e8d-402f-ee19-7adfd8aba953"
      },
      "outputs": [
        {
          "data": {
            "text/html": [
              "<div>\n",
              "<style scoped>\n",
              "    .dataframe tbody tr th:only-of-type {\n",
              "        vertical-align: middle;\n",
              "    }\n",
              "\n",
              "    .dataframe tbody tr th {\n",
              "        vertical-align: top;\n",
              "    }\n",
              "\n",
              "    .dataframe thead th {\n",
              "        text-align: right;\n",
              "    }\n",
              "</style>\n",
              "<table border=\"1\" class=\"dataframe\">\n",
              "  <thead>\n",
              "    <tr style=\"text-align: right;\">\n",
              "      <th></th>\n",
              "      <th>Model No.</th>\n",
              "      <th>(p, d, q)</th>\n",
              "      <th>AIC</th>\n",
              "      <th>BIC</th>\n",
              "      <th>MSE</th>\n",
              "      <th>RMSE</th>\n",
              "    </tr>\n",
              "  </thead>\n",
              "  <tbody>\n",
              "    <tr>\n",
              "      <th>0</th>\n",
              "      <td>Model 0</td>\n",
              "      <td>(0, 0, 0)</td>\n",
              "      <td>-223.452596</td>\n",
              "      <td>-217.181000</td>\n",
              "      <td>0.007941</td>\n",
              "      <td>0.089110</td>\n",
              "    </tr>\n",
              "    <tr>\n",
              "      <th>1</th>\n",
              "      <td>Model 1</td>\n",
              "      <td>(0, 0, 1)</td>\n",
              "      <td>-223.833074</td>\n",
              "      <td>-214.425679</td>\n",
              "      <td>0.007908</td>\n",
              "      <td>0.088929</td>\n",
              "    </tr>\n",
              "    <tr>\n",
              "      <th>2</th>\n",
              "      <td>Model 2</td>\n",
              "      <td>(0, 0, 2)</td>\n",
              "      <td>-221.955464</td>\n",
              "      <td>-209.412271</td>\n",
              "      <td>0.007917</td>\n",
              "      <td>0.088977</td>\n",
              "    </tr>\n",
              "    <tr>\n",
              "      <th>3</th>\n",
              "      <td>Model 3</td>\n",
              "      <td>(0, 0, 3)</td>\n",
              "      <td>-219.962574</td>\n",
              "      <td>-204.283582</td>\n",
              "      <td>0.007914</td>\n",
              "      <td>0.088960</td>\n",
              "    </tr>\n",
              "    <tr>\n",
              "      <th>4</th>\n",
              "      <td>Model 4</td>\n",
              "      <td>(1, 0, 0)</td>\n",
              "      <td>-223.654236</td>\n",
              "      <td>-214.246841</td>\n",
              "      <td>0.007907</td>\n",
              "      <td>0.088922</td>\n",
              "    </tr>\n",
              "    <tr>\n",
              "      <th>5</th>\n",
              "      <td>Model 5</td>\n",
              "      <td>(1, 0, 1)</td>\n",
              "      <td>-221.926001</td>\n",
              "      <td>-209.382808</td>\n",
              "      <td>0.007915</td>\n",
              "      <td>0.088967</td>\n",
              "    </tr>\n",
              "    <tr>\n",
              "      <th>6</th>\n",
              "      <td>Model 6</td>\n",
              "      <td>(1, 0, 2)</td>\n",
              "      <td>-219.956312</td>\n",
              "      <td>-204.277320</td>\n",
              "      <td>0.007917</td>\n",
              "      <td>0.088975</td>\n",
              "    </tr>\n",
              "    <tr>\n",
              "      <th>7</th>\n",
              "      <td>Model 7</td>\n",
              "      <td>(1, 0, 3)</td>\n",
              "      <td>-225.786891</td>\n",
              "      <td>-206.972101</td>\n",
              "      <td>0.008051</td>\n",
              "      <td>0.089730</td>\n",
              "    </tr>\n",
              "    <tr>\n",
              "      <th>8</th>\n",
              "      <td>Model 8</td>\n",
              "      <td>(2, 0, 0)</td>\n",
              "      <td>-221.966924</td>\n",
              "      <td>-209.423730</td>\n",
              "      <td>0.007914</td>\n",
              "      <td>0.088963</td>\n",
              "    </tr>\n",
              "    <tr>\n",
              "      <th>9</th>\n",
              "      <td>Model 9</td>\n",
              "      <td>(2, 0, 1)</td>\n",
              "      <td>-219.986594</td>\n",
              "      <td>-204.307602</td>\n",
              "      <td>0.007918</td>\n",
              "      <td>0.088981</td>\n",
              "    </tr>\n",
              "    <tr>\n",
              "      <th>10</th>\n",
              "      <td>Model 10</td>\n",
              "      <td>(2, 0, 2)</td>\n",
              "      <td>-223.327833</td>\n",
              "      <td>-204.513042</td>\n",
              "      <td>0.008029</td>\n",
              "      <td>0.089604</td>\n",
              "    </tr>\n",
              "    <tr>\n",
              "      <th>11</th>\n",
              "      <td>Model 11</td>\n",
              "      <td>(2, 0, 3)</td>\n",
              "      <td>-227.070377</td>\n",
              "      <td>-205.119788</td>\n",
              "      <td>0.007848</td>\n",
              "      <td>0.088587</td>\n",
              "    </tr>\n",
              "  </tbody>\n",
              "</table>\n",
              "</div>"
            ],
            "text/plain": [
              "   Model No.  (p, d, q)         AIC         BIC       MSE      RMSE\n",
              "0    Model 0  (0, 0, 0) -223.452596 -217.181000  0.007941  0.089110\n",
              "1    Model 1  (0, 0, 1) -223.833074 -214.425679  0.007908  0.088929\n",
              "2    Model 2  (0, 0, 2) -221.955464 -209.412271  0.007917  0.088977\n",
              "3    Model 3  (0, 0, 3) -219.962574 -204.283582  0.007914  0.088960\n",
              "4    Model 4  (1, 0, 0) -223.654236 -214.246841  0.007907  0.088922\n",
              "5    Model 5  (1, 0, 1) -221.926001 -209.382808  0.007915  0.088967\n",
              "6    Model 6  (1, 0, 2) -219.956312 -204.277320  0.007917  0.088975\n",
              "7    Model 7  (1, 0, 3) -225.786891 -206.972101  0.008051  0.089730\n",
              "8    Model 8  (2, 0, 0) -221.966924 -209.423730  0.007914  0.088963\n",
              "9    Model 9  (2, 0, 1) -219.986594 -204.307602  0.007918  0.088981\n",
              "10  Model 10  (2, 0, 2) -223.327833 -204.513042  0.008029  0.089604\n",
              "11  Model 11  (2, 0, 3) -227.070377 -205.119788  0.007848  0.088587"
            ]
          },
          "execution_count": 19,
          "metadata": {},
          "output_type": "execute_result"
        }
      ],
      "source": [
        "aic=[]\n",
        "bic=[]\n",
        "for i in model[0:]:\n",
        "    aic.append(i.aic)\n",
        "    bic.append(i.bic)\n",
        "\n",
        "# predicting values\n",
        "forecast=[]\n",
        "for i in model[0:]:\n",
        "    fcast = i.predict(start=len(train1), end=len(train1)+len(test1)-1)\n",
        "    forecast.append(fcast)\n",
        "\n",
        "# calculating MSE and RMSE score\n",
        "MSE = []\n",
        "RMSE = []\n",
        "for i in forecast:\n",
        "    mse = mean_squared_error(test1, i)\n",
        "    rmse = np.sqrt(mse)\n",
        "    MSE.append(mse)\n",
        "    RMSE.append(rmse)\n",
        "\n",
        "# printing model numbers\n",
        "model_no=[]\n",
        "for i in range(0,len(model)):\n",
        "    model_no.append('Model '+str(i))\n",
        "    \n",
        "# dataframe of all results\n",
        "df_results = pd.DataFrame({'Model No.': model_no, '(p, d, q)':lis[0:], 'AIC': aic, 'BIC': bic, 'MSE': MSE, 'RMSE': RMSE})\n",
        "df_results"
      ]
    },
    {
      "cell_type": "code",
      "execution_count": null,
      "id": "93805dfe",
      "metadata": {
        "id": "93805dfe",
        "outputId": "a84228ad-9cdb-4a21-ac6f-e88e74e13ec5"
      },
      "outputs": [
        {
          "name": "stdout",
          "output_type": "stream",
          "text": [
            "Taking model with lowest RMSE score:\n"
          ]
        },
        {
          "data": {
            "text/html": [
              "<div>\n",
              "<style scoped>\n",
              "    .dataframe tbody tr th:only-of-type {\n",
              "        vertical-align: middle;\n",
              "    }\n",
              "\n",
              "    .dataframe tbody tr th {\n",
              "        vertical-align: top;\n",
              "    }\n",
              "\n",
              "    .dataframe thead th {\n",
              "        text-align: right;\n",
              "    }\n",
              "</style>\n",
              "<table border=\"1\" class=\"dataframe\">\n",
              "  <thead>\n",
              "    <tr style=\"text-align: right;\">\n",
              "      <th></th>\n",
              "      <th>Model No.</th>\n",
              "      <th>(p, d, q)</th>\n",
              "      <th>AIC</th>\n",
              "      <th>BIC</th>\n",
              "      <th>MSE</th>\n",
              "      <th>RMSE</th>\n",
              "    </tr>\n",
              "  </thead>\n",
              "  <tbody>\n",
              "    <tr>\n",
              "      <th>11</th>\n",
              "      <td>Model 11</td>\n",
              "      <td>(2, 0, 3)</td>\n",
              "      <td>-227.070377</td>\n",
              "      <td>-205.119788</td>\n",
              "      <td>0.007848</td>\n",
              "      <td>0.088587</td>\n",
              "    </tr>\n",
              "  </tbody>\n",
              "</table>\n",
              "</div>"
            ],
            "text/plain": [
              "   Model No.  (p, d, q)         AIC         BIC       MSE      RMSE\n",
              "11  Model 11  (2, 0, 3) -227.070377 -205.119788  0.007848  0.088587"
            ]
          },
          "execution_count": 20,
          "metadata": {},
          "output_type": "execute_result"
        }
      ],
      "source": [
        "print('Taking model with lowest RMSE score:')\n",
        "df_results[df_results.RMSE==df_results.RMSE.min()]\n"
      ]
    },
    {
      "cell_type": "code",
      "execution_count": null,
      "id": "c4f669e3",
      "metadata": {
        "id": "c4f669e3",
        "outputId": "f6483182-4701-4099-f9d9-017a0c98447b"
      },
      "outputs": [
        {
          "name": "stdout",
          "output_type": "stream",
          "text": [
            "Taking model with lowest BIC score:\n"
          ]
        },
        {
          "data": {
            "text/html": [
              "<div>\n",
              "<style scoped>\n",
              "    .dataframe tbody tr th:only-of-type {\n",
              "        vertical-align: middle;\n",
              "    }\n",
              "\n",
              "    .dataframe tbody tr th {\n",
              "        vertical-align: top;\n",
              "    }\n",
              "\n",
              "    .dataframe thead th {\n",
              "        text-align: right;\n",
              "    }\n",
              "</style>\n",
              "<table border=\"1\" class=\"dataframe\">\n",
              "  <thead>\n",
              "    <tr style=\"text-align: right;\">\n",
              "      <th></th>\n",
              "      <th>Model No.</th>\n",
              "      <th>(p, d, q)</th>\n",
              "      <th>AIC</th>\n",
              "      <th>BIC</th>\n",
              "      <th>MSE</th>\n",
              "      <th>RMSE</th>\n",
              "    </tr>\n",
              "  </thead>\n",
              "  <tbody>\n",
              "    <tr>\n",
              "      <th>0</th>\n",
              "      <td>Model 0</td>\n",
              "      <td>(0, 0, 0)</td>\n",
              "      <td>-223.452596</td>\n",
              "      <td>-217.181</td>\n",
              "      <td>0.007941</td>\n",
              "      <td>0.08911</td>\n",
              "    </tr>\n",
              "  </tbody>\n",
              "</table>\n",
              "</div>"
            ],
            "text/plain": [
              "  Model No.  (p, d, q)         AIC      BIC       MSE     RMSE\n",
              "0   Model 0  (0, 0, 0) -223.452596 -217.181  0.007941  0.08911"
            ]
          },
          "execution_count": 21,
          "metadata": {},
          "output_type": "execute_result"
        }
      ],
      "source": [
        "print('Taking model with lowest BIC score:')\n",
        "\n",
        "df_results[df_results.BIC==df_results.BIC.min()]"
      ]
    },
    {
      "cell_type": "code",
      "execution_count": null,
      "id": "1eaf915f",
      "metadata": {
        "id": "1eaf915f",
        "outputId": "a8d6db31-2bdd-4e8d-a60d-4333d04c435e"
      },
      "outputs": [
        {
          "name": "stdout",
          "output_type": "stream",
          "text": [
            "Taking model with lowest AIC score:\n"
          ]
        },
        {
          "data": {
            "text/html": [
              "<div>\n",
              "<style scoped>\n",
              "    .dataframe tbody tr th:only-of-type {\n",
              "        vertical-align: middle;\n",
              "    }\n",
              "\n",
              "    .dataframe tbody tr th {\n",
              "        vertical-align: top;\n",
              "    }\n",
              "\n",
              "    .dataframe thead th {\n",
              "        text-align: right;\n",
              "    }\n",
              "</style>\n",
              "<table border=\"1\" class=\"dataframe\">\n",
              "  <thead>\n",
              "    <tr style=\"text-align: right;\">\n",
              "      <th></th>\n",
              "      <th>Model No.</th>\n",
              "      <th>(p, d, q)</th>\n",
              "      <th>AIC</th>\n",
              "      <th>BIC</th>\n",
              "      <th>MSE</th>\n",
              "      <th>RMSE</th>\n",
              "    </tr>\n",
              "  </thead>\n",
              "  <tbody>\n",
              "    <tr>\n",
              "      <th>11</th>\n",
              "      <td>Model 11</td>\n",
              "      <td>(2, 0, 3)</td>\n",
              "      <td>-227.070377</td>\n",
              "      <td>-205.119788</td>\n",
              "      <td>0.007848</td>\n",
              "      <td>0.088587</td>\n",
              "    </tr>\n",
              "  </tbody>\n",
              "</table>\n",
              "</div>"
            ],
            "text/plain": [
              "   Model No.  (p, d, q)         AIC         BIC       MSE      RMSE\n",
              "11  Model 11  (2, 0, 3) -227.070377 -205.119788  0.007848  0.088587"
            ]
          },
          "execution_count": 22,
          "metadata": {},
          "output_type": "execute_result"
        }
      ],
      "source": [
        "print('Taking model with lowest AIC score:')\n",
        "df_results[df_results.AIC==df_results.AIC.min()]"
      ]
    },
    {
      "cell_type": "markdown",
      "id": "b0f94ffe",
      "metadata": {
        "id": "b0f94ffe"
      },
      "source": [
        "### Modelling"
      ]
    },
    {
      "cell_type": "code",
      "execution_count": null,
      "id": "aa96fb9f",
      "metadata": {
        "id": "aa96fb9f",
        "outputId": "1a2de244-e68d-423e-a688-670815cd03b7"
      },
      "outputs": [
        {
          "data": {
            "text/html": [
              "<table class=\"simpletable\">\n",
              "<caption>SARIMAX Results</caption>\n",
              "<tr>\n",
              "  <th>Dep. Variable:</th>            <td>sentiment_count</td>         <th>  No. Observations:  </th>    <td>243</td>  \n",
              "</tr>\n",
              "<tr>\n",
              "  <th>Model:</th>           <td>SARIMAX(2, 0, 3)x(1, 0, [1], 12)</td> <th>  Log Likelihood     </th>  <td>179.009</td>\n",
              "</tr>\n",
              "<tr>\n",
              "  <th>Date:</th>                    <td>Sun, 22 Jan 2023</td>         <th>  AIC                </th> <td>-342.018</td>\n",
              "</tr>\n",
              "<tr>\n",
              "  <th>Time:</th>                        <td>08:55:06</td>             <th>  BIC                </th> <td>-314.073</td>\n",
              "</tr>\n",
              "<tr>\n",
              "  <th>Sample:</th>                          <td>0</td>                <th>  HQIC               </th> <td>-330.762</td>\n",
              "</tr>\n",
              "<tr>\n",
              "  <th></th>                              <td> - 243</td>              <th>                     </th>     <td> </td>   \n",
              "</tr>\n",
              "<tr>\n",
              "  <th>Covariance Type:</th>                <td>opg</td>               <th>                     </th>     <td> </td>   \n",
              "</tr>\n",
              "</table>\n",
              "<table class=\"simpletable\">\n",
              "<tr>\n",
              "      <td></td>        <th>coef</th>     <th>std err</th>      <th>z</th>      <th>P>|z|</th>  <th>[0.025</th>    <th>0.975]</th>  \n",
              "</tr>\n",
              "<tr>\n",
              "  <th>ar.L1</th>    <td>    0.1971</td> <td>    0.054</td> <td>    3.683</td> <td> 0.000</td> <td>    0.092</td> <td>    0.302</td>\n",
              "</tr>\n",
              "<tr>\n",
              "  <th>ar.L2</th>    <td>    0.8028</td> <td>    0.055</td> <td>   14.490</td> <td> 0.000</td> <td>    0.694</td> <td>    0.911</td>\n",
              "</tr>\n",
              "<tr>\n",
              "  <th>ma.L1</th>    <td>   -0.0998</td> <td>    0.046</td> <td>   -2.175</td> <td> 0.030</td> <td>   -0.190</td> <td>   -0.010</td>\n",
              "</tr>\n",
              "<tr>\n",
              "  <th>ma.L2</th>    <td>   -0.7984</td> <td>    0.079</td> <td>  -10.072</td> <td> 0.000</td> <td>   -0.954</td> <td>   -0.643</td>\n",
              "</tr>\n",
              "<tr>\n",
              "  <th>ma.L3</th>    <td>   -0.0919</td> <td>    0.082</td> <td>   -1.121</td> <td> 0.262</td> <td>   -0.253</td> <td>    0.069</td>\n",
              "</tr>\n",
              "<tr>\n",
              "  <th>ar.S.L12</th> <td>    0.9992</td> <td>    0.061</td> <td>   16.455</td> <td> 0.000</td> <td>    0.880</td> <td>    1.118</td>\n",
              "</tr>\n",
              "<tr>\n",
              "  <th>ma.S.L12</th> <td>   -0.9877</td> <td>    0.497</td> <td>   -1.986</td> <td> 0.047</td> <td>   -1.962</td> <td>   -0.013</td>\n",
              "</tr>\n",
              "<tr>\n",
              "  <th>sigma2</th>   <td>    0.0124</td> <td>    0.005</td> <td>    2.468</td> <td> 0.014</td> <td>    0.003</td> <td>    0.022</td>\n",
              "</tr>\n",
              "</table>\n",
              "<table class=\"simpletable\">\n",
              "<tr>\n",
              "  <th>Ljung-Box (L1) (Q):</th>     <td>0.00</td> <th>  Jarque-Bera (JB):  </th> <td>746.17</td>\n",
              "</tr>\n",
              "<tr>\n",
              "  <th>Prob(Q):</th>                <td>0.96</td> <th>  Prob(JB):          </th>  <td>0.00</td> \n",
              "</tr>\n",
              "<tr>\n",
              "  <th>Heteroskedasticity (H):</th> <td>0.67</td> <th>  Skew:              </th>  <td>1.83</td> \n",
              "</tr>\n",
              "<tr>\n",
              "  <th>Prob(H) (two-sided):</th>    <td>0.07</td> <th>  Kurtosis:          </th>  <td>10.77</td>\n",
              "</tr>\n",
              "</table><br/><br/>Warnings:<br/>[1] Covariance matrix calculated using the outer product of gradients (complex-step)."
            ],
            "text/plain": [
              "<class 'statsmodels.iolib.summary.Summary'>\n",
              "\"\"\"\n",
              "                                      SARIMAX Results                                       \n",
              "============================================================================================\n",
              "Dep. Variable:                      sentiment_count   No. Observations:                  243\n",
              "Model:             SARIMAX(2, 0, 3)x(1, 0, [1], 12)   Log Likelihood                 179.009\n",
              "Date:                              Sun, 22 Jan 2023   AIC                           -342.018\n",
              "Time:                                      08:55:06   BIC                           -314.073\n",
              "Sample:                                           0   HQIC                          -330.762\n",
              "                                              - 243                                         \n",
              "Covariance Type:                                opg                                         \n",
              "==============================================================================\n",
              "                 coef    std err          z      P>|z|      [0.025      0.975]\n",
              "------------------------------------------------------------------------------\n",
              "ar.L1          0.1971      0.054      3.683      0.000       0.092       0.302\n",
              "ar.L2          0.8028      0.055     14.490      0.000       0.694       0.911\n",
              "ma.L1         -0.0998      0.046     -2.175      0.030      -0.190      -0.010\n",
              "ma.L2         -0.7984      0.079    -10.072      0.000      -0.954      -0.643\n",
              "ma.L3         -0.0919      0.082     -1.121      0.262      -0.253       0.069\n",
              "ar.S.L12       0.9992      0.061     16.455      0.000       0.880       1.118\n",
              "ma.S.L12      -0.9877      0.497     -1.986      0.047      -1.962      -0.013\n",
              "sigma2         0.0124      0.005      2.468      0.014       0.003       0.022\n",
              "===================================================================================\n",
              "Ljung-Box (L1) (Q):                   0.00   Jarque-Bera (JB):               746.17\n",
              "Prob(Q):                              0.96   Prob(JB):                         0.00\n",
              "Heteroskedasticity (H):               0.67   Skew:                             1.83\n",
              "Prob(H) (two-sided):                  0.07   Kurtosis:                        10.77\n",
              "===================================================================================\n",
              "\n",
              "Warnings:\n",
              "[1] Covariance matrix calculated using the outer product of gradients (complex-step).\n",
              "\"\"\""
            ]
          },
          "execution_count": 88,
          "metadata": {},
          "output_type": "execute_result"
        }
      ],
      "source": [
        "p=2;q=3;d=0\n",
        "P=1;Q=1;D=0\n",
        "m1 = sm.tsa.statespace.SARIMAX(cd_pos['sentiment_count'],order=(p,d,q),seasonal_order=(P,D,Q,12)).fit()\n",
        "# summarise the model\n",
        "m1.summary()\n"
      ]
    },
    {
      "cell_type": "code",
      "execution_count": null,
      "id": "dfbe6b6a",
      "metadata": {
        "id": "dfbe6b6a",
        "outputId": "76181765-1a57-417b-e62d-7e6694837b3a"
      },
      "outputs": [
        {
          "name": "stdout",
          "output_type": "stream",
          "text": [
            "Fail-to-Reject H0. Good model\n"
          ]
        }
      ],
      "source": [
        "# LJung-Box test\n",
        "pvalue = sm.stats.acorr_ljungbox(m1.resid,lags=[1],return_df=True)['lb_pvalue'].values\n",
        "if pvalue < 0.05:\n",
        "    print(\"Reject H0. Bad model\")\n",
        "else:\n",
        "    print(\"Fail-to-Reject H0. Good model\")"
      ]
    },
    {
      "cell_type": "code",
      "execution_count": null,
      "id": "e0df2388",
      "metadata": {
        "id": "e0df2388",
        "outputId": "3b13cfdd-27c8-4316-e9fe-c75670a6f6c7"
      },
      "outputs": [
        {
          "name": "stdout",
          "output_type": "stream",
          "text": [
            "start = 170, end = 242\n"
          ]
        }
      ],
      "source": [
        "start = len(train1) \n",
        "end = len(train1) + len(test1) - 1\n",
        "\n",
        "print('start = {}, end = {}'.format(start,end))"
      ]
    },
    {
      "cell_type": "code",
      "execution_count": null,
      "id": "67535010",
      "metadata": {
        "id": "67535010",
        "outputId": "6c4a6353-e39d-473e-ab0d-3f958947dd03"
      },
      "outputs": [
        {
          "name": "stdout",
          "output_type": "stream",
          "text": [
            "date\n",
            "2012-06-30    1.262712\n",
            "2012-07-31    1.218697\n",
            "2012-08-31    1.185215\n",
            "2012-09-30    1.268885\n",
            "2012-10-31    1.266120\n",
            "                ...   \n",
            "2018-02-28    1.234081\n",
            "2018-03-31    1.242683\n",
            "2018-04-30    1.248091\n",
            "2018-05-31    1.282275\n",
            "2018-07-31    1.257950\n",
            "Name: predicted_mean, Length: 73, dtype: float64\n"
          ]
        }
      ],
      "source": [
        "predictions = m1.predict(start,end)\n",
        "predictions.index=test1.index\n",
        "print(predictions)"
      ]
    },
    {
      "cell_type": "code",
      "execution_count": null,
      "id": "005407ef",
      "metadata": {
        "id": "005407ef",
        "outputId": "448d7ada-6283-4577-c323-e8d25bb5e37b"
      },
      "outputs": [
        {
          "name": "stdout",
          "output_type": "stream",
          "text": [
            "              actual  predicted     error\n",
            "date                                     \n",
            "2012-06-30  1.122807   1.262712 -0.139905\n",
            "2012-07-31  1.100000   1.218697 -0.118697\n",
            "2012-08-31  1.208333   1.185215  0.023118\n",
            "2012-09-30  1.342105   1.268885  0.073220\n",
            "2012-10-31  1.194444   1.266120 -0.071676\n",
            "...              ...        ...       ...\n",
            "2018-02-28  1.312500   1.234081  0.078419\n",
            "2018-03-31  1.222222   1.242683 -0.020461\n",
            "2018-04-30  1.200000   1.248091 -0.048091\n",
            "2018-05-31  1.193548   1.282275 -0.088727\n",
            "2018-07-31  1.000000   1.257950 -0.257950\n",
            "\n",
            "[73 rows x 3 columns]\n"
          ]
        }
      ],
      "source": [
        "actual = []; pred = []\n",
        "test1.reset_index(drop=True)\n",
        "for i in range(len(predictions)):\n",
        "    actual.append(test1['sentiment_count'][i])\n",
        "    pred.append(predictions[i])\n",
        "\n",
        "df_res1 = pd.DataFrame({'actual':actual, 'predicted':pred})\n",
        "df_res1['error'] = df_res1.actual - df_res1.predicted\n",
        "df_res1.index=test1.index\n",
        "print(df_res1)"
      ]
    },
    {
      "cell_type": "code",
      "execution_count": null,
      "id": "92ac7606",
      "metadata": {
        "id": "92ac7606",
        "outputId": "e6220a42-ddba-4c09-823e-c7d92f18a76c"
      },
      "outputs": [
        {
          "name": "stdout",
          "output_type": "stream",
          "text": [
            "mse: 0.008241401702643428\n",
            "rmse: 0.09078216621475513\n"
          ]
        }
      ],
      "source": [
        "mse1=mean_squared_error(df_res1.actual,df_res1.predicted)\n",
        "rmse1=np.sqrt(mse1)\n",
        "print('mse:',mse1)\n",
        "print('rmse:',rmse1)"
      ]
    },
    {
      "cell_type": "code",
      "execution_count": null,
      "id": "4d133df1",
      "metadata": {
        "id": "4d133df1",
        "outputId": "3fa62a47-20fe-47b1-86c6-2e7d7d9c0320"
      },
      "outputs": [
        {
          "data": {
            "text/plain": [
              "Text(0.5, 1.0, 'SARIMA Model. Order=(2,0,3)')"
            ]
          },
          "execution_count": 94,
          "metadata": {},
          "output_type": "execute_result"
        },
        {
          "data": {
            "image/png": "[encoded data removed]",
            "text/plain": [
              "<Figure size 720x576 with 1 Axes>"
            ]
          },
          "metadata": {
            "needs_background": "light"
          },
          "output_type": "display_data"
        }
      ],
      "source": [
        "msg = 'SARIMA Model. Order=(' + str(p) + ',' + str(d) + ',' + str(q) + ')'\n",
        "df_res1.actual.plot(figsize=(10,8),legend=True)\n",
        "df_res1.predicted.plot(legend=True)\n",
        "plt.title(msg)"
      ]
    },
    {
      "cell_type": "code",
      "execution_count": null,
      "id": "86880a13",
      "metadata": {
        "id": "86880a13"
      },
      "outputs": [],
      "source": [
        "future_dates=pd.DataFrame()\n",
        "future_dates['date']=['2018-06-30',    \n",
        "'2018-07-31',    \n",
        "'2018-08-31',  \n",
        "'2018-09-30',  \n",
        "'2018-10-31',    \n",
        "'2018-11-30',   \n",
        "'2018-12-31',    \n",
        "'2019-01-31',    \n",
        "'2019-02-28',  \n",
        "'2019-03-31',   \n",
        "'2019-04-30',    \n",
        "'2019-05-31',    \n",
        "'2019-06-30',  \n",
        "'2019-07-31',    \n",
        "'2019-08-31',   \n",
        "'2019-09-30',  \n",
        "'2019-10-31',   \n",
        "'2019-11-30',    \n",
        "'2019-12-31',    \n",
        "'2020-01-31',  \n",
        "'2020-02-29',    \n",
        "'2020-03-31',   \n",
        "'2020-04-30',   \n",
        "'2020-05-31',   \n",
        "'2020-06-30',   \n",
        "'2020-07-31',    \n",
        "'2020-08-31',   \n",
        "'2020-09-30',  \n",
        "'2020-10-31',    \n",
        "'2020-11-30',    \n",
        "'2020-12-31',    \n",
        "'2021-01-31',    \n",
        "'2021-02-28', \n",
        "'2021-03-31',    \n",
        "'2021-04-30',   \n",
        "'2021-05-31',   \n",
        "'2021-06-30']      \n",
        "future_dates=pd.to_datetime(future_dates['date'])\n",
        "future_dates=pd.DataFrame(future_dates)\n"
      ]
    },
    {
      "cell_type": "code",
      "execution_count": null,
      "id": "2c66804b",
      "metadata": {
        "id": "2c66804b",
        "outputId": "97e39b75-b98f-4ca1-f14d-ade046c0495a"
      },
      "outputs": [
        {
          "name": "stdout",
          "output_type": "stream",
          "text": [
            "date\n",
            "2018-06-30    1.198773\n",
            "2018-07-31    1.206711\n",
            "2018-08-31    1.268204\n",
            "2018-09-30    1.252776\n",
            "2018-10-31    1.288348\n",
            "Name: Forecast, dtype: float64\n"
          ]
        }
      ],
      "source": [
        "fcast1 = m1.predict(start=len(cd_pos),end=len(cd_pos)+36).rename('Forecast')\n",
        "fcast1.index=future_dates.date\n",
        "print(fcast1.head())"
      ]
    },
    {
      "cell_type": "code",
      "execution_count": null,
      "id": "c9e760c9",
      "metadata": {
        "id": "c9e760c9",
        "outputId": "c4b27a2b-44ae-41b2-e424-edcf491c0441"
      },
      "outputs": [
        {
          "data": {
            "text/plain": [
              "<AxesSubplot:xlabel='date', ylabel='count of positive sentiment'>"
            ]
          },
          "execution_count": 97,
          "metadata": {},
          "output_type": "execute_result"
        },
        {
          "data": {
            "image/png": "[encoded data removed]",
            "text/plain": [
              "<Figure size 720x576 with 1 Axes>"
            ]
          },
          "metadata": {
            "needs_background": "light"
          },
          "output_type": "display_data"
        }
      ],
      "source": [
        "df_res1.actual.plot(figsize=(10,8),legend=True)\n",
        "df_res1.predicted.plot(legend=True)\n",
        "plt.ylabel('count of positive sentiment')\n",
        "fcast1.plot(legend=True)"
      ]
    },
    {
      "cell_type": "markdown",
      "id": "073e2ad3",
      "metadata": {
        "id": "073e2ad3"
      },
      "source": [
        "## Neutral Sentiment"
      ]
    },
    {
      "cell_type": "code",
      "execution_count": null,
      "id": "a39f0918",
      "metadata": {
        "id": "a39f0918",
        "outputId": "733f73a4-20dc-4a36-a627-3df06f47b4d3"
      },
      "outputs": [
        {
          "data": {
            "text/html": [
              "<div>\n",
              "<style scoped>\n",
              "    .dataframe tbody tr th:only-of-type {\n",
              "        vertical-align: middle;\n",
              "    }\n",
              "\n",
              "    .dataframe tbody tr th {\n",
              "        vertical-align: top;\n",
              "    }\n",
              "\n",
              "    .dataframe thead th {\n",
              "        text-align: right;\n",
              "    }\n",
              "</style>\n",
              "<table border=\"1\" class=\"dataframe\">\n",
              "  <thead>\n",
              "    <tr style=\"text-align: right;\">\n",
              "      <th></th>\n",
              "      <th>reviewerID</th>\n",
              "      <th>asin</th>\n",
              "      <th>verified</th>\n",
              "      <th>review</th>\n",
              "      <th>ratings</th>\n",
              "      <th>date</th>\n",
              "      <th>summary</th>\n",
              "      <th>unixReviewTime</th>\n",
              "      <th>category</th>\n",
              "      <th>description</th>\n",
              "      <th>...</th>\n",
              "      <th>word_count</th>\n",
              "      <th>char_count</th>\n",
              "      <th>avg_word</th>\n",
              "      <th>polarity</th>\n",
              "      <th>label</th>\n",
              "      <th>year</th>\n",
              "      <th>rating_class_num</th>\n",
              "      <th>review_length</th>\n",
              "      <th>review_length_bin</th>\n",
              "      <th>Month</th>\n",
              "    </tr>\n",
              "  </thead>\n",
              "  <tbody>\n",
              "    <tr>\n",
              "      <th>328318</th>\n",
              "      <td>A25G05CBB2GF09</td>\n",
              "      <td>B00003G1KQ</td>\n",
              "      <td>False</td>\n",
              "      <td>far compilations go acostas awake energetic li...</td>\n",
              "      <td>3.0</td>\n",
              "      <td>2000-07-06</td>\n",
              "      <td>Better than many, not as good as some...</td>\n",
              "      <td>962841600</td>\n",
              "      <td>['CDs &amp; Vinyl', 'Dance &amp; Electronic', 'Trance']</td>\n",
              "      <td>['Dubbed the It genre of 1999, trance music sa...</td>\n",
              "      <td>...</td>\n",
              "      <td>37</td>\n",
              "      <td>264</td>\n",
              "      <td>6.2</td>\n",
              "      <td>0.100000</td>\n",
              "      <td>0.0</td>\n",
              "      <td>2000</td>\n",
              "      <td>1</td>\n",
              "      <td>37</td>\n",
              "      <td>(0, 100]</td>\n",
              "      <td>7</td>\n",
              "    </tr>\n",
              "    <tr>\n",
              "      <th>796322</th>\n",
              "      <td>A1KWPQ71V4DJ92</td>\n",
              "      <td>B00SJ9U1IU</td>\n",
              "      <td>True</td>\n",
              "      <td>song wanted hear</td>\n",
              "      <td>3.0</td>\n",
              "      <td>2017-08-15</td>\n",
              "      <td>Three Stars</td>\n",
              "      <td>1502755200</td>\n",
              "      <td>['CDs &amp; Vinyl', 'Christian', 'Pop &amp; Contempora...</td>\n",
              "      <td>['ANY GIVEN SUNDAY, the sophomore release to t...</td>\n",
              "      <td>...</td>\n",
              "      <td>3</td>\n",
              "      <td>16</td>\n",
              "      <td>4.7</td>\n",
              "      <td>0.000000</td>\n",
              "      <td>0.0</td>\n",
              "      <td>2017</td>\n",
              "      <td>1</td>\n",
              "      <td>3</td>\n",
              "      <td>(0, 100]</td>\n",
              "      <td>8</td>\n",
              "    </tr>\n",
              "    <tr>\n",
              "      <th>148822</th>\n",
              "      <td>A3T9IX8EDFDX4G</td>\n",
              "      <td>B000002J5Z</td>\n",
              "      <td>False</td>\n",
              "      <td>foreigners fifth studio album agent provocateu...</td>\n",
              "      <td>3.0</td>\n",
              "      <td>2012-10-07</td>\n",
              "      <td>Decent Foreigner album</td>\n",
              "      <td>1349568000</td>\n",
              "      <td>['CDs &amp; Vinyl', 'Classic Rock', 'Album-Oriente...</td>\n",
              "      <td>['Certified at 3 million units by the RIAA. (2...</td>\n",
              "      <td>...</td>\n",
              "      <td>102</td>\n",
              "      <td>664</td>\n",
              "      <td>5.6</td>\n",
              "      <td>0.250289</td>\n",
              "      <td>0.0</td>\n",
              "      <td>2012</td>\n",
              "      <td>1</td>\n",
              "      <td>100</td>\n",
              "      <td>(0, 100]</td>\n",
              "      <td>10</td>\n",
              "    </tr>\n",
              "  </tbody>\n",
              "</table>\n",
              "<p>3 rows × 31 columns</p>\n",
              "</div>"
            ],
            "text/plain": [
              "            reviewerID        asin  verified  \\\n",
              "328318  A25G05CBB2GF09  B00003G1KQ     False   \n",
              "796322  A1KWPQ71V4DJ92  B00SJ9U1IU      True   \n",
              "148822  A3T9IX8EDFDX4G  B000002J5Z     False   \n",
              "\n",
              "                                                   review  ratings       date  \\\n",
              "328318  far compilations go acostas awake energetic li...      3.0 2000-07-06   \n",
              "796322                                   song wanted hear      3.0 2017-08-15   \n",
              "148822  foreigners fifth studio album agent provocateu...      3.0 2012-10-07   \n",
              "\n",
              "                                         summary  unixReviewTime  \\\n",
              "328318  Better than many, not as good as some...       962841600   \n",
              "796322                               Three Stars      1502755200   \n",
              "148822                    Decent Foreigner album      1349568000   \n",
              "\n",
              "                                                 category  \\\n",
              "328318    ['CDs & Vinyl', 'Dance & Electronic', 'Trance']   \n",
              "796322  ['CDs & Vinyl', 'Christian', 'Pop & Contempora...   \n",
              "148822  ['CDs & Vinyl', 'Classic Rock', 'Album-Oriente...   \n",
              "\n",
              "                                              description  ... word_count  \\\n",
              "328318  ['Dubbed the It genre of 1999, trance music sa...  ...         37   \n",
              "796322  ['ANY GIVEN SUNDAY, the sophomore release to t...  ...          3   \n",
              "148822  ['Certified at 3 million units by the RIAA. (2...  ...        102   \n",
              "\n",
              "       char_count  avg_word  polarity label  year  rating_class_num  \\\n",
              "328318        264       6.2  0.100000   0.0  2000                 1   \n",
              "796322         16       4.7  0.000000   0.0  2017                 1   \n",
              "148822        664       5.6  0.250289   0.0  2012                 1   \n",
              "\n",
              "        review_length  review_length_bin Month  \n",
              "328318             37           (0, 100]     7  \n",
              "796322              3           (0, 100]     8  \n",
              "148822            100           (0, 100]    10  \n",
              "\n",
              "[3 rows x 31 columns]"
            ]
          },
          "execution_count": 33,
          "metadata": {},
          "output_type": "execute_result"
        }
      ],
      "source": [
        "df_cd_neu.head(3)"
      ]
    },
    {
      "cell_type": "code",
      "execution_count": null,
      "id": "d3a0d9bd",
      "metadata": {
        "id": "d3a0d9bd",
        "outputId": "2b1a9438-725b-4cbc-8895-c2fac38bf481"
      },
      "outputs": [
        {
          "data": {
            "text/html": [
              "<div>\n",
              "<style scoped>\n",
              "    .dataframe tbody tr th:only-of-type {\n",
              "        vertical-align: middle;\n",
              "    }\n",
              "\n",
              "    .dataframe tbody tr th {\n",
              "        vertical-align: top;\n",
              "    }\n",
              "\n",
              "    .dataframe thead th {\n",
              "        text-align: right;\n",
              "    }\n",
              "</style>\n",
              "<table border=\"1\" class=\"dataframe\">\n",
              "  <thead>\n",
              "    <tr style=\"text-align: right;\">\n",
              "      <th></th>\n",
              "      <th>asin</th>\n",
              "      <th>Month</th>\n",
              "      <th>Sentiment</th>\n",
              "      <th>sentiment_count</th>\n",
              "    </tr>\n",
              "  </thead>\n",
              "  <tbody>\n",
              "    <tr>\n",
              "      <th>0</th>\n",
              "      <td>0005164885</td>\n",
              "      <td>2</td>\n",
              "      <td>Neutral</td>\n",
              "      <td>2</td>\n",
              "    </tr>\n",
              "    <tr>\n",
              "      <th>1</th>\n",
              "      <td>0967680654</td>\n",
              "      <td>1</td>\n",
              "      <td>Neutral</td>\n",
              "      <td>1</td>\n",
              "    </tr>\n",
              "    <tr>\n",
              "      <th>2</th>\n",
              "      <td>1566054109</td>\n",
              "      <td>6</td>\n",
              "      <td>Neutral</td>\n",
              "      <td>2</td>\n",
              "    </tr>\n",
              "    <tr>\n",
              "      <th>3</th>\n",
              "      <td>1858703883</td>\n",
              "      <td>6</td>\n",
              "      <td>Neutral</td>\n",
              "      <td>1</td>\n",
              "    </tr>\n",
              "    <tr>\n",
              "      <th>4</th>\n",
              "      <td>1858704553</td>\n",
              "      <td>2</td>\n",
              "      <td>Neutral</td>\n",
              "      <td>1</td>\n",
              "    </tr>\n",
              "    <tr>\n",
              "      <th>...</th>\n",
              "      <td>...</td>\n",
              "      <td>...</td>\n",
              "      <td>...</td>\n",
              "      <td>...</td>\n",
              "    </tr>\n",
              "    <tr>\n",
              "      <th>25439</th>\n",
              "      <td>B01HE8WDP0</td>\n",
              "      <td>6</td>\n",
              "      <td>Neutral</td>\n",
              "      <td>2</td>\n",
              "    </tr>\n",
              "    <tr>\n",
              "      <th>25440</th>\n",
              "      <td>B01HEYDFJC</td>\n",
              "      <td>10</td>\n",
              "      <td>Neutral</td>\n",
              "      <td>1</td>\n",
              "    </tr>\n",
              "    <tr>\n",
              "      <th>25441</th>\n",
              "      <td>B01HHV3R5O</td>\n",
              "      <td>10</td>\n",
              "      <td>Neutral</td>\n",
              "      <td>1</td>\n",
              "    </tr>\n",
              "    <tr>\n",
              "      <th>25442</th>\n",
              "      <td>B01HIDRZWM</td>\n",
              "      <td>8</td>\n",
              "      <td>Neutral</td>\n",
              "      <td>1</td>\n",
              "    </tr>\n",
              "    <tr>\n",
              "      <th>25443</th>\n",
              "      <td>B01HJG3VZI</td>\n",
              "      <td>9</td>\n",
              "      <td>Neutral</td>\n",
              "      <td>1</td>\n",
              "    </tr>\n",
              "  </tbody>\n",
              "</table>\n",
              "<p>25444 rows × 4 columns</p>\n",
              "</div>"
            ],
            "text/plain": [
              "             asin  Month Sentiment  sentiment_count\n",
              "0      0005164885      2   Neutral                2\n",
              "1      0967680654      1   Neutral                1\n",
              "2      1566054109      6   Neutral                2\n",
              "3      1858703883      6   Neutral                1\n",
              "4      1858704553      2   Neutral                1\n",
              "...           ...    ...       ...              ...\n",
              "25439  B01HE8WDP0      6   Neutral                2\n",
              "25440  B01HEYDFJC     10   Neutral                1\n",
              "25441  B01HHV3R5O     10   Neutral                1\n",
              "25442  B01HIDRZWM      8   Neutral                1\n",
              "25443  B01HJG3VZI      9   Neutral                1\n",
              "\n",
              "[25444 rows x 4 columns]"
            ]
          },
          "execution_count": 34,
          "metadata": {},
          "output_type": "execute_result"
        }
      ],
      "source": [
        "cd_neu_count=df_cd_neu.groupby(['asin','Month','Sentiment']).size().reset_index(name='sentiment_count')\n",
        "cd_neu_count"
      ]
    },
    {
      "cell_type": "code",
      "execution_count": null,
      "id": "b09de695",
      "metadata": {
        "id": "b09de695"
      },
      "outputs": [],
      "source": [
        "cd_neu=pd.merge(df_cd_neu,cd_neu_count)"
      ]
    },
    {
      "cell_type": "code",
      "execution_count": null,
      "id": "4906d945",
      "metadata": {
        "id": "4906d945",
        "outputId": "a2a1efbd-2e20-4fb7-c02e-0ee012b37dbf"
      },
      "outputs": [
        {
          "data": {
            "text/html": [
              "<div>\n",
              "<style scoped>\n",
              "    .dataframe tbody tr th:only-of-type {\n",
              "        vertical-align: middle;\n",
              "    }\n",
              "\n",
              "    .dataframe tbody tr th {\n",
              "        vertical-align: top;\n",
              "    }\n",
              "\n",
              "    .dataframe thead th {\n",
              "        text-align: right;\n",
              "    }\n",
              "</style>\n",
              "<table border=\"1\" class=\"dataframe\">\n",
              "  <thead>\n",
              "    <tr style=\"text-align: right;\">\n",
              "      <th></th>\n",
              "      <th>sentiment_count</th>\n",
              "    </tr>\n",
              "    <tr>\n",
              "      <th>date</th>\n",
              "      <th></th>\n",
              "    </tr>\n",
              "  </thead>\n",
              "  <tbody>\n",
              "    <tr>\n",
              "      <th>1998-05-27</th>\n",
              "      <td>2</td>\n",
              "    </tr>\n",
              "    <tr>\n",
              "      <th>1998-05-27</th>\n",
              "      <td>2</td>\n",
              "    </tr>\n",
              "    <tr>\n",
              "      <th>1998-06-03</th>\n",
              "      <td>1</td>\n",
              "    </tr>\n",
              "    <tr>\n",
              "      <th>1998-06-13</th>\n",
              "      <td>1</td>\n",
              "    </tr>\n",
              "    <tr>\n",
              "      <th>1998-06-15</th>\n",
              "      <td>2</td>\n",
              "    </tr>\n",
              "    <tr>\n",
              "      <th>...</th>\n",
              "      <td>...</td>\n",
              "    </tr>\n",
              "    <tr>\n",
              "      <th>2018-05-14</th>\n",
              "      <td>1</td>\n",
              "    </tr>\n",
              "    <tr>\n",
              "      <th>2018-05-14</th>\n",
              "      <td>1</td>\n",
              "    </tr>\n",
              "    <tr>\n",
              "      <th>2018-05-14</th>\n",
              "      <td>1</td>\n",
              "    </tr>\n",
              "    <tr>\n",
              "      <th>2018-05-16</th>\n",
              "      <td>1</td>\n",
              "    </tr>\n",
              "    <tr>\n",
              "      <th>2018-07-04</th>\n",
              "      <td>3</td>\n",
              "    </tr>\n",
              "  </tbody>\n",
              "</table>\n",
              "<p>35000 rows × 1 columns</p>\n",
              "</div>"
            ],
            "text/plain": [
              "            sentiment_count\n",
              "date                       \n",
              "1998-05-27                2\n",
              "1998-05-27                2\n",
              "1998-06-03                1\n",
              "1998-06-13                1\n",
              "1998-06-15                2\n",
              "...                     ...\n",
              "2018-05-14                1\n",
              "2018-05-14                1\n",
              "2018-05-14                1\n",
              "2018-05-16                1\n",
              "2018-07-04                3\n",
              "\n",
              "[35000 rows x 1 columns]"
            ]
          },
          "execution_count": 36,
          "metadata": {},
          "output_type": "execute_result"
        }
      ],
      "source": [
        "cd_neu=cd_neu[['date','sentiment_count']]\n",
        "cd_neu=cd_neu.set_index('date')\n",
        "cd_neu=cd_neu.sort_values(by=['date'])\n",
        "cd_neu"
      ]
    },
    {
      "cell_type": "code",
      "execution_count": null,
      "id": "20ea5338",
      "metadata": {
        "id": "20ea5338",
        "outputId": "fdc1e39c-ba72-46b6-b683-39bc64da2560"
      },
      "outputs": [
        {
          "data": {
            "text/html": [
              "<div>\n",
              "<style scoped>\n",
              "    .dataframe tbody tr th:only-of-type {\n",
              "        vertical-align: middle;\n",
              "    }\n",
              "\n",
              "    .dataframe tbody tr th {\n",
              "        vertical-align: top;\n",
              "    }\n",
              "\n",
              "    .dataframe thead th {\n",
              "        text-align: right;\n",
              "    }\n",
              "</style>\n",
              "<table border=\"1\" class=\"dataframe\">\n",
              "  <thead>\n",
              "    <tr style=\"text-align: right;\">\n",
              "      <th></th>\n",
              "      <th>sentiment_count</th>\n",
              "    </tr>\n",
              "    <tr>\n",
              "      <th>date</th>\n",
              "      <th></th>\n",
              "    </tr>\n",
              "  </thead>\n",
              "  <tbody>\n",
              "    <tr>\n",
              "      <th>1998-05-31</th>\n",
              "      <td>2.000000</td>\n",
              "    </tr>\n",
              "    <tr>\n",
              "      <th>1998-06-30</th>\n",
              "      <td>1.428571</td>\n",
              "    </tr>\n",
              "    <tr>\n",
              "      <th>1998-07-31</th>\n",
              "      <td>1.428571</td>\n",
              "    </tr>\n",
              "    <tr>\n",
              "      <th>1998-08-31</th>\n",
              "      <td>1.800000</td>\n",
              "    </tr>\n",
              "    <tr>\n",
              "      <th>1998-09-30</th>\n",
              "      <td>1.444444</td>\n",
              "    </tr>\n",
              "  </tbody>\n",
              "</table>\n",
              "</div>"
            ],
            "text/plain": [
              "            sentiment_count\n",
              "date                       \n",
              "1998-05-31         2.000000\n",
              "1998-06-30         1.428571\n",
              "1998-07-31         1.428571\n",
              "1998-08-31         1.800000\n",
              "1998-09-30         1.444444"
            ]
          },
          "execution_count": 37,
          "metadata": {},
          "output_type": "execute_result"
        }
      ],
      "source": [
        "cd_neu=cd_neu.resample('M').mean()\n",
        "cd_neu.head()"
      ]
    },
    {
      "cell_type": "code",
      "execution_count": null,
      "id": "d3a3ceb3",
      "metadata": {
        "id": "d3a3ceb3",
        "outputId": "62791a1e-dcdc-41ca-cc6b-52acc45541ec"
      },
      "outputs": [
        {
          "data": {
            "text/plain": [
              "sentiment_count    1\n",
              "dtype: int64"
            ]
          },
          "execution_count": 38,
          "metadata": {},
          "output_type": "execute_result"
        }
      ],
      "source": [
        "cd_neu.isnull().sum()"
      ]
    },
    {
      "cell_type": "code",
      "execution_count": null,
      "id": "7f8b7423",
      "metadata": {
        "id": "7f8b7423"
      },
      "outputs": [],
      "source": [
        "cd_neu.dropna(inplace=True)"
      ]
    },
    {
      "cell_type": "code",
      "execution_count": null,
      "id": "ff12f824",
      "metadata": {
        "id": "ff12f824",
        "outputId": "30e07bce-3ab8-4ac2-a689-1364de94bd9a"
      },
      "outputs": [
        {
          "data": {
            "image/png": "[encoded data removed]",
            "text/plain": [
              "<Figure size 1080x576 with 4 Axes>"
            ]
          },
          "metadata": {},
          "output_type": "display_data"
        }
      ],
      "source": [
        "tsa_comp(cd_neu)"
      ]
    },
    {
      "cell_type": "code",
      "execution_count": null,
      "id": "e5654597",
      "metadata": {
        "id": "e5654597",
        "outputId": "72bfe625-9cba-428d-85af-183649e437e1"
      },
      "outputs": [
        {
          "name": "stdout",
          "output_type": "stream",
          "text": [
            "pvalue: 9.202811926219588e-07\n"
          ]
        },
        {
          "data": {
            "text/plain": [
              "'Data is Stationary. Proceed to model building'"
            ]
          },
          "execution_count": 42,
          "metadata": {},
          "output_type": "execute_result"
        }
      ],
      "source": [
        "checkStationarity(cd_neu)"
      ]
    },
    {
      "cell_type": "code",
      "execution_count": null,
      "id": "d6b2db9e",
      "metadata": {
        "id": "d6b2db9e",
        "outputId": "ea68869d-9886-4ff3-e85a-ef58afac330b"
      },
      "outputs": [
        {
          "name": "stdout",
          "output_type": "stream",
          "text": [
            "            sentiment_count\n",
            "date                       \n",
            "1998-05-31              NaN\n",
            "1998-06-30        -0.571429\n",
            "1998-07-31         0.000000\n",
            "1998-08-31         0.371429\n",
            "1998-09-30        -0.355556\n",
            "...                     ...\n",
            "2018-02-28        -0.251192\n",
            "2018-03-31        -0.013514\n",
            "2018-04-30         0.047170\n",
            "2018-05-31        -0.065688\n",
            "2018-07-31         1.518519\n",
            "\n",
            "[242 rows x 1 columns]\n"
          ]
        }
      ],
      "source": [
        "diff_cd_neu = cd_neu-cd_neu.shift(1)\n",
        "print(diff_cd_neu)"
      ]
    },
    {
      "cell_type": "code",
      "execution_count": null,
      "id": "438e3e99",
      "metadata": {
        "id": "438e3e99"
      },
      "outputs": [],
      "source": [
        "diff_cd_neu.dropna(inplace=True)"
      ]
    },
    {
      "cell_type": "code",
      "execution_count": null,
      "id": "e92ab335",
      "metadata": {
        "id": "e92ab335",
        "outputId": "00921551-02bd-4254-8219-54ced1288192"
      },
      "outputs": [
        {
          "name": "stdout",
          "output_type": "stream",
          "text": [
            "pvalue: 3.2785178334525948e-12\n"
          ]
        },
        {
          "data": {
            "text/plain": [
              "'Data is Stationary. Proceed to model building'"
            ]
          },
          "execution_count": 45,
          "metadata": {},
          "output_type": "execute_result"
        }
      ],
      "source": [
        "checkStationarity(diff_cd_neu)"
      ]
    },
    {
      "cell_type": "code",
      "execution_count": null,
      "id": "3090d7a2",
      "metadata": {
        "id": "3090d7a2",
        "outputId": "2d0fe89f-c306-4c7b-f689-c1c3c13e7a09"
      },
      "outputs": [
        {
          "name": "stdout",
          "output_type": "stream",
          "text": [
            "Total=242, Train=169, Test=73\n"
          ]
        }
      ],
      "source": [
        "ratio = 0.7\n",
        "rows = int(ratio * len(cd_neu))\n",
        "train2 =cd_neu[:rows]\n",
        "test2 = cd_neu[rows:]\n",
        "\n",
        "print(\"Total={}, Train={}, Test={}\".format(len(cd_neu), len(train2), len(test2)))"
      ]
    },
    {
      "cell_type": "code",
      "execution_count": null,
      "id": "3bd63266",
      "metadata": {
        "id": "3bd63266",
        "outputId": "693d4eaf-d2ca-4927-fe00-0be212da2845"
      },
      "outputs": [
        {
          "data": {
            "image/png": "[encoded data removed]",
            "text/plain": [
              "<Figure size 1080x360 with 2 Axes>"
            ]
          },
          "metadata": {
            "needs_background": "light"
          },
          "output_type": "display_data"
        }
      ],
      "source": [
        "p_and_q(diff_cd_neu)"
      ]
    },
    {
      "cell_type": "code",
      "execution_count": null,
      "id": "46128c81",
      "metadata": {
        "id": "46128c81",
        "outputId": "d3cb746a-217d-4a90-9337-fb0ca142305f"
      },
      "outputs": [
        {
          "name": "stdout",
          "output_type": "stream",
          "text": [
            "Model 1 Not a good model\n",
            "Model 2 Good model\n",
            "Model 3 Good model\n",
            "Model 4 Good model\n",
            "Model 5 Good model\n",
            "Model 6 Not a good model\n",
            "Model 7 Good model\n",
            "Model 8 Good model\n",
            "Model 9 Good model\n",
            "Model 10 Good model\n",
            "Model 11 Not a good model\n",
            "Model 12 Good model\n",
            "Model 13 Good model\n",
            "Model 14 Good model\n",
            "Model 15 Good model\n",
            "Model 16 Good model\n",
            "Model 17 Good model\n",
            "Model 18 Good model\n",
            "Model 19 Good model\n",
            "Model 20 Good model\n",
            "Model 21 Good model\n",
            "Model 22 Good model\n",
            "Model 23 Good model\n",
            "Model 24 Good model\n",
            "Model 25 Good model\n",
            "Model 26 Good model\n",
            "Model 27 Good model\n",
            "Model 28 Good model\n",
            "Model 29 Good model\n",
            "Model 30 Good model\n",
            "Model 31 Good model\n",
            "Model 32 Good model\n",
            "Model 33 Good model\n",
            "Model 34 Good model\n",
            "Model 35 Good model\n",
            "Model 36 Good model\n",
            "Model 37 Good model\n",
            "Model 38 Good model\n",
            "Model 39 Good model\n",
            "Model 40 Good model\n"
          ]
        }
      ],
      "source": [
        "d=1;\n",
        "lis=[]\n",
        "for p in range(8):\n",
        "    for q in range(5):\n",
        "        lis.append((p,d,q))\n",
        "\n",
        "# building model\n",
        "model=[]\n",
        "for i in lis:\n",
        "    m =ARIMA(train2, order=i).fit() \n",
        "    model.append(m)\n",
        "\n",
        "# checking model is good or not\n",
        "model_st=[]\n",
        "c=1\n",
        "for i in model:\n",
        "    pvalue = sm.stats.acorr_ljungbox(i.resid, lags=[1], return_df=True)['lb_pvalue'].values\n",
        "    if pvalue < 0.05:\n",
        "        print(f'Model {c} Not a good model')\n",
        "    else:\n",
        "        print(f'Model {c} Good model')\n",
        "    c+=1"
      ]
    },
    {
      "cell_type": "code",
      "execution_count": null,
      "id": "6bb7cb58",
      "metadata": {
        "id": "6bb7cb58",
        "outputId": "6cc63f45-151d-4aa3-fc7d-a8626ef7365b"
      },
      "outputs": [
        {
          "data": {
            "text/html": [
              "<div>\n",
              "<style scoped>\n",
              "    .dataframe tbody tr th:only-of-type {\n",
              "        vertical-align: middle;\n",
              "    }\n",
              "\n",
              "    .dataframe tbody tr th {\n",
              "        vertical-align: top;\n",
              "    }\n",
              "\n",
              "    .dataframe thead th {\n",
              "        text-align: right;\n",
              "    }\n",
              "</style>\n",
              "<table border=\"1\" class=\"dataframe\">\n",
              "  <thead>\n",
              "    <tr style=\"text-align: right;\">\n",
              "      <th></th>\n",
              "      <th>Model No.</th>\n",
              "      <th>(p, d, q)</th>\n",
              "      <th>AIC</th>\n",
              "      <th>BIC</th>\n",
              "      <th>MSE</th>\n",
              "      <th>RMSE</th>\n",
              "    </tr>\n",
              "  </thead>\n",
              "  <tbody>\n",
              "    <tr>\n",
              "      <th>0</th>\n",
              "      <td>Model 0</td>\n",
              "      <td>(0, 1, 0)</td>\n",
              "      <td>114.830486</td>\n",
              "      <td>117.954450</td>\n",
              "      <td>0.057938</td>\n",
              "      <td>0.240703</td>\n",
              "    </tr>\n",
              "    <tr>\n",
              "      <th>1</th>\n",
              "      <td>Model 1</td>\n",
              "      <td>(0, 1, 1)</td>\n",
              "      <td>17.860564</td>\n",
              "      <td>24.108492</td>\n",
              "      <td>0.063845</td>\n",
              "      <td>0.252676</td>\n",
              "    </tr>\n",
              "    <tr>\n",
              "      <th>2</th>\n",
              "      <td>Model 2</td>\n",
              "      <td>(0, 1, 2)</td>\n",
              "      <td>19.703849</td>\n",
              "      <td>29.075741</td>\n",
              "      <td>0.063976</td>\n",
              "      <td>0.252935</td>\n",
              "    </tr>\n",
              "    <tr>\n",
              "      <th>3</th>\n",
              "      <td>Model 3</td>\n",
              "      <td>(0, 1, 3)</td>\n",
              "      <td>19.243575</td>\n",
              "      <td>31.739431</td>\n",
              "      <td>0.063942</td>\n",
              "      <td>0.252868</td>\n",
              "    </tr>\n",
              "    <tr>\n",
              "      <th>4</th>\n",
              "      <td>Model 4</td>\n",
              "      <td>(0, 1, 4)</td>\n",
              "      <td>20.674859</td>\n",
              "      <td>36.294679</td>\n",
              "      <td>0.064451</td>\n",
              "      <td>0.253872</td>\n",
              "    </tr>\n",
              "    <tr>\n",
              "      <th>5</th>\n",
              "      <td>Model 5</td>\n",
              "      <td>(1, 1, 0)</td>\n",
              "      <td>84.395602</td>\n",
              "      <td>90.643530</td>\n",
              "      <td>0.060528</td>\n",
              "      <td>0.246024</td>\n",
              "    </tr>\n",
              "    <tr>\n",
              "      <th>6</th>\n",
              "      <td>Model 6</td>\n",
              "      <td>(1, 1, 1)</td>\n",
              "      <td>19.747299</td>\n",
              "      <td>29.119191</td>\n",
              "      <td>0.063939</td>\n",
              "      <td>0.252861</td>\n",
              "    </tr>\n",
              "    <tr>\n",
              "      <th>7</th>\n",
              "      <td>Model 7</td>\n",
              "      <td>(1, 1, 2)</td>\n",
              "      <td>21.728435</td>\n",
              "      <td>34.224291</td>\n",
              "      <td>0.063622</td>\n",
              "      <td>0.252235</td>\n",
              "    </tr>\n",
              "    <tr>\n",
              "      <th>8</th>\n",
              "      <td>Model 8</td>\n",
              "      <td>(1, 1, 3)</td>\n",
              "      <td>20.992151</td>\n",
              "      <td>36.611970</td>\n",
              "      <td>0.064181</td>\n",
              "      <td>0.253340</td>\n",
              "    </tr>\n",
              "    <tr>\n",
              "      <th>9</th>\n",
              "      <td>Model 9</td>\n",
              "      <td>(1, 1, 4)</td>\n",
              "      <td>20.201752</td>\n",
              "      <td>38.945535</td>\n",
              "      <td>0.064908</td>\n",
              "      <td>0.254770</td>\n",
              "    </tr>\n",
              "    <tr>\n",
              "      <th>10</th>\n",
              "      <td>Model 10</td>\n",
              "      <td>(2, 1, 0)</td>\n",
              "      <td>59.913731</td>\n",
              "      <td>69.285623</td>\n",
              "      <td>0.059567</td>\n",
              "      <td>0.244064</td>\n",
              "    </tr>\n",
              "    <tr>\n",
              "      <th>11</th>\n",
              "      <td>Model 11</td>\n",
              "      <td>(2, 1, 1)</td>\n",
              "      <td>18.791617</td>\n",
              "      <td>31.287473</td>\n",
              "      <td>0.063984</td>\n",
              "      <td>0.252951</td>\n",
              "    </tr>\n",
              "    <tr>\n",
              "      <th>12</th>\n",
              "      <td>Model 12</td>\n",
              "      <td>(2, 1, 2)</td>\n",
              "      <td>23.635292</td>\n",
              "      <td>39.255112</td>\n",
              "      <td>0.063702</td>\n",
              "      <td>0.252393</td>\n",
              "    </tr>\n",
              "    <tr>\n",
              "      <th>13</th>\n",
              "      <td>Model 13</td>\n",
              "      <td>(2, 1, 3)</td>\n",
              "      <td>11.911292</td>\n",
              "      <td>30.655075</td>\n",
              "      <td>0.063915</td>\n",
              "      <td>0.252814</td>\n",
              "    </tr>\n",
              "    <tr>\n",
              "      <th>14</th>\n",
              "      <td>Model 14</td>\n",
              "      <td>(2, 1, 4)</td>\n",
              "      <td>13.411272</td>\n",
              "      <td>35.279020</td>\n",
              "      <td>0.063941</td>\n",
              "      <td>0.252865</td>\n",
              "    </tr>\n",
              "    <tr>\n",
              "      <th>15</th>\n",
              "      <td>Model 15</td>\n",
              "      <td>(3, 1, 0)</td>\n",
              "      <td>43.249444</td>\n",
              "      <td>55.745300</td>\n",
              "      <td>0.057594</td>\n",
              "      <td>0.239988</td>\n",
              "    </tr>\n",
              "    <tr>\n",
              "      <th>16</th>\n",
              "      <td>Model 16</td>\n",
              "      <td>(3, 1, 1)</td>\n",
              "      <td>20.731063</td>\n",
              "      <td>36.350883</td>\n",
              "      <td>0.064091</td>\n",
              "      <td>0.253162</td>\n",
              "    </tr>\n",
              "    <tr>\n",
              "      <th>17</th>\n",
              "      <td>Model 17</td>\n",
              "      <td>(3, 1, 2)</td>\n",
              "      <td>21.467543</td>\n",
              "      <td>40.211326</td>\n",
              "      <td>0.064380</td>\n",
              "      <td>0.253732</td>\n",
              "    </tr>\n",
              "    <tr>\n",
              "      <th>18</th>\n",
              "      <td>Model 18</td>\n",
              "      <td>(3, 1, 3)</td>\n",
              "      <td>13.610239</td>\n",
              "      <td>35.477987</td>\n",
              "      <td>0.063973</td>\n",
              "      <td>0.252928</td>\n",
              "    </tr>\n",
              "    <tr>\n",
              "      <th>19</th>\n",
              "      <td>Model 19</td>\n",
              "      <td>(3, 1, 4)</td>\n",
              "      <td>14.730065</td>\n",
              "      <td>39.721777</td>\n",
              "      <td>0.063861</td>\n",
              "      <td>0.252708</td>\n",
              "    </tr>\n",
              "    <tr>\n",
              "      <th>20</th>\n",
              "      <td>Model 20</td>\n",
              "      <td>(4, 1, 0)</td>\n",
              "      <td>44.094409</td>\n",
              "      <td>59.714229</td>\n",
              "      <td>0.058003</td>\n",
              "      <td>0.240839</td>\n",
              "    </tr>\n",
              "    <tr>\n",
              "      <th>21</th>\n",
              "      <td>Model 21</td>\n",
              "      <td>(4, 1, 1)</td>\n",
              "      <td>22.137268</td>\n",
              "      <td>40.881052</td>\n",
              "      <td>0.064024</td>\n",
              "      <td>0.253030</td>\n",
              "    </tr>\n",
              "    <tr>\n",
              "      <th>22</th>\n",
              "      <td>Model 22</td>\n",
              "      <td>(4, 1, 2)</td>\n",
              "      <td>22.294015</td>\n",
              "      <td>44.161763</td>\n",
              "      <td>0.064165</td>\n",
              "      <td>0.253309</td>\n",
              "    </tr>\n",
              "    <tr>\n",
              "      <th>23</th>\n",
              "      <td>Model 23</td>\n",
              "      <td>(4, 1, 3)</td>\n",
              "      <td>15.377616</td>\n",
              "      <td>40.369328</td>\n",
              "      <td>0.063681</td>\n",
              "      <td>0.252351</td>\n",
              "    </tr>\n",
              "    <tr>\n",
              "      <th>24</th>\n",
              "      <td>Model 24</td>\n",
              "      <td>(4, 1, 4)</td>\n",
              "      <td>16.817889</td>\n",
              "      <td>44.933565</td>\n",
              "      <td>0.063826</td>\n",
              "      <td>0.252638</td>\n",
              "    </tr>\n",
              "    <tr>\n",
              "      <th>25</th>\n",
              "      <td>Model 25</td>\n",
              "      <td>(5, 1, 0)</td>\n",
              "      <td>33.328769</td>\n",
              "      <td>52.072553</td>\n",
              "      <td>0.060164</td>\n",
              "      <td>0.245283</td>\n",
              "    </tr>\n",
              "    <tr>\n",
              "      <th>26</th>\n",
              "      <td>Model 26</td>\n",
              "      <td>(5, 1, 1)</td>\n",
              "      <td>20.061314</td>\n",
              "      <td>41.929062</td>\n",
              "      <td>0.065002</td>\n",
              "      <td>0.254954</td>\n",
              "    </tr>\n",
              "    <tr>\n",
              "      <th>27</th>\n",
              "      <td>Model 27</td>\n",
              "      <td>(5, 1, 2)</td>\n",
              "      <td>21.793073</td>\n",
              "      <td>46.784785</td>\n",
              "      <td>0.064838</td>\n",
              "      <td>0.254633</td>\n",
              "    </tr>\n",
              "    <tr>\n",
              "      <th>28</th>\n",
              "      <td>Model 28</td>\n",
              "      <td>(5, 1, 3)</td>\n",
              "      <td>16.988953</td>\n",
              "      <td>45.104629</td>\n",
              "      <td>0.063984</td>\n",
              "      <td>0.252950</td>\n",
              "    </tr>\n",
              "    <tr>\n",
              "      <th>29</th>\n",
              "      <td>Model 29</td>\n",
              "      <td>(5, 1, 4)</td>\n",
              "      <td>18.834901</td>\n",
              "      <td>50.074541</td>\n",
              "      <td>0.063753</td>\n",
              "      <td>0.252493</td>\n",
              "    </tr>\n",
              "    <tr>\n",
              "      <th>30</th>\n",
              "      <td>Model 30</td>\n",
              "      <td>(6, 1, 0)</td>\n",
              "      <td>29.061682</td>\n",
              "      <td>50.929430</td>\n",
              "      <td>0.062217</td>\n",
              "      <td>0.249434</td>\n",
              "    </tr>\n",
              "    <tr>\n",
              "      <th>31</th>\n",
              "      <td>Model 31</td>\n",
              "      <td>(6, 1, 1)</td>\n",
              "      <td>21.520692</td>\n",
              "      <td>46.512404</td>\n",
              "      <td>0.064674</td>\n",
              "      <td>0.254311</td>\n",
              "    </tr>\n",
              "    <tr>\n",
              "      <th>32</th>\n",
              "      <td>Model 32</td>\n",
              "      <td>(6, 1, 2)</td>\n",
              "      <td>23.378399</td>\n",
              "      <td>51.494075</td>\n",
              "      <td>0.064664</td>\n",
              "      <td>0.254291</td>\n",
              "    </tr>\n",
              "    <tr>\n",
              "      <th>33</th>\n",
              "      <td>Model 33</td>\n",
              "      <td>(6, 1, 3)</td>\n",
              "      <td>18.844427</td>\n",
              "      <td>50.084067</td>\n",
              "      <td>0.063929</td>\n",
              "      <td>0.252843</td>\n",
              "    </tr>\n",
              "    <tr>\n",
              "      <th>34</th>\n",
              "      <td>Model 34</td>\n",
              "      <td>(6, 1, 4)</td>\n",
              "      <td>20.357326</td>\n",
              "      <td>54.720930</td>\n",
              "      <td>0.063981</td>\n",
              "      <td>0.252946</td>\n",
              "    </tr>\n",
              "    <tr>\n",
              "      <th>35</th>\n",
              "      <td>Model 35</td>\n",
              "      <td>(7, 1, 0)</td>\n",
              "      <td>30.541286</td>\n",
              "      <td>55.532998</td>\n",
              "      <td>0.062344</td>\n",
              "      <td>0.249688</td>\n",
              "    </tr>\n",
              "    <tr>\n",
              "      <th>36</th>\n",
              "      <td>Model 36</td>\n",
              "      <td>(7, 1, 1)</td>\n",
              "      <td>23.101689</td>\n",
              "      <td>51.217365</td>\n",
              "      <td>0.064778</td>\n",
              "      <td>0.254516</td>\n",
              "    </tr>\n",
              "    <tr>\n",
              "      <th>37</th>\n",
              "      <td>Model 37</td>\n",
              "      <td>(7, 1, 2)</td>\n",
              "      <td>23.890960</td>\n",
              "      <td>55.130600</td>\n",
              "      <td>0.064850</td>\n",
              "      <td>0.254657</td>\n",
              "    </tr>\n",
              "    <tr>\n",
              "      <th>38</th>\n",
              "      <td>Model 38</td>\n",
              "      <td>(7, 1, 3)</td>\n",
              "      <td>27.313635</td>\n",
              "      <td>61.677239</td>\n",
              "      <td>0.066791</td>\n",
              "      <td>0.258439</td>\n",
              "    </tr>\n",
              "    <tr>\n",
              "      <th>39</th>\n",
              "      <td>Model 39</td>\n",
              "      <td>(7, 1, 4)</td>\n",
              "      <td>22.480586</td>\n",
              "      <td>59.968154</td>\n",
              "      <td>0.064032</td>\n",
              "      <td>0.253045</td>\n",
              "    </tr>\n",
              "  </tbody>\n",
              "</table>\n",
              "</div>"
            ],
            "text/plain": [
              "   Model No.  (p, d, q)         AIC         BIC       MSE      RMSE\n",
              "0    Model 0  (0, 1, 0)  114.830486  117.954450  0.057938  0.240703\n",
              "1    Model 1  (0, 1, 1)   17.860564   24.108492  0.063845  0.252676\n",
              "2    Model 2  (0, 1, 2)   19.703849   29.075741  0.063976  0.252935\n",
              "3    Model 3  (0, 1, 3)   19.243575   31.739431  0.063942  0.252868\n",
              "4    Model 4  (0, 1, 4)   20.674859   36.294679  0.064451  0.253872\n",
              "5    Model 5  (1, 1, 0)   84.395602   90.643530  0.060528  0.246024\n",
              "6    Model 6  (1, 1, 1)   19.747299   29.119191  0.063939  0.252861\n",
              "7    Model 7  (1, 1, 2)   21.728435   34.224291  0.063622  0.252235\n",
              "8    Model 8  (1, 1, 3)   20.992151   36.611970  0.064181  0.253340\n",
              "9    Model 9  (1, 1, 4)   20.201752   38.945535  0.064908  0.254770\n",
              "10  Model 10  (2, 1, 0)   59.913731   69.285623  0.059567  0.244064\n",
              "11  Model 11  (2, 1, 1)   18.791617   31.287473  0.063984  0.252951\n",
              "12  Model 12  (2, 1, 2)   23.635292   39.255112  0.063702  0.252393\n",
              "13  Model 13  (2, 1, 3)   11.911292   30.655075  0.063915  0.252814\n",
              "14  Model 14  (2, 1, 4)   13.411272   35.279020  0.063941  0.252865\n",
              "15  Model 15  (3, 1, 0)   43.249444   55.745300  0.057594  0.239988\n",
              "16  Model 16  (3, 1, 1)   20.731063   36.350883  0.064091  0.253162\n",
              "17  Model 17  (3, 1, 2)   21.467543   40.211326  0.064380  0.253732\n",
              "18  Model 18  (3, 1, 3)   13.610239   35.477987  0.063973  0.252928\n",
              "19  Model 19  (3, 1, 4)   14.730065   39.721777  0.063861  0.252708\n",
              "20  Model 20  (4, 1, 0)   44.094409   59.714229  0.058003  0.240839\n",
              "21  Model 21  (4, 1, 1)   22.137268   40.881052  0.064024  0.253030\n",
              "22  Model 22  (4, 1, 2)   22.294015   44.161763  0.064165  0.253309\n",
              "23  Model 23  (4, 1, 3)   15.377616   40.369328  0.063681  0.252351\n",
              "24  Model 24  (4, 1, 4)   16.817889   44.933565  0.063826  0.252638\n",
              "25  Model 25  (5, 1, 0)   33.328769   52.072553  0.060164  0.245283\n",
              "26  Model 26  (5, 1, 1)   20.061314   41.929062  0.065002  0.254954\n",
              "27  Model 27  (5, 1, 2)   21.793073   46.784785  0.064838  0.254633\n",
              "28  Model 28  (5, 1, 3)   16.988953   45.104629  0.063984  0.252950\n",
              "29  Model 29  (5, 1, 4)   18.834901   50.074541  0.063753  0.252493\n",
              "30  Model 30  (6, 1, 0)   29.061682   50.929430  0.062217  0.249434\n",
              "31  Model 31  (6, 1, 1)   21.520692   46.512404  0.064674  0.254311\n",
              "32  Model 32  (6, 1, 2)   23.378399   51.494075  0.064664  0.254291\n",
              "33  Model 33  (6, 1, 3)   18.844427   50.084067  0.063929  0.252843\n",
              "34  Model 34  (6, 1, 4)   20.357326   54.720930  0.063981  0.252946\n",
              "35  Model 35  (7, 1, 0)   30.541286   55.532998  0.062344  0.249688\n",
              "36  Model 36  (7, 1, 1)   23.101689   51.217365  0.064778  0.254516\n",
              "37  Model 37  (7, 1, 2)   23.890960   55.130600  0.064850  0.254657\n",
              "38  Model 38  (7, 1, 3)   27.313635   61.677239  0.066791  0.258439\n",
              "39  Model 39  (7, 1, 4)   22.480586   59.968154  0.064032  0.253045"
            ]
          },
          "execution_count": 49,
          "metadata": {},
          "output_type": "execute_result"
        }
      ],
      "source": [
        "aic=[]\n",
        "bic=[]\n",
        "for i in model[0:]:\n",
        "    aic.append(i.aic)\n",
        "    bic.append(i.bic)\n",
        "\n",
        "# predicting values\n",
        "forecast=[]\n",
        "for i in model[0:]:\n",
        "    fcast = i.predict(start=len(train2), end=len(train2)+len(test2)-1)\n",
        "    forecast.append(fcast)\n",
        "\n",
        "# calculating MSE and RMSE score\n",
        "MSE = []\n",
        "RMSE = []\n",
        "for i in forecast:\n",
        "    mse = mean_squared_error(test2, i)\n",
        "    rmse = np.sqrt(mse)\n",
        "    MSE.append(mse)\n",
        "    RMSE.append(rmse)\n",
        "\n",
        "# printing model numbers\n",
        "model_no=[]\n",
        "for i in range(0,len(model)):\n",
        "    model_no.append('Model '+str(i))\n",
        "    \n",
        "# dataframe of all results\n",
        "df_results2 = pd.DataFrame({'Model No.': model_no, '(p, d, q)':lis[0:], 'AIC': aic, 'BIC': bic, 'MSE': MSE, 'RMSE': RMSE})\n",
        "df_results2"
      ]
    },
    {
      "cell_type": "code",
      "execution_count": null,
      "id": "9c23ae2d",
      "metadata": {
        "id": "9c23ae2d",
        "outputId": "204765df-0c78-4596-8ea8-1086f9dc742d"
      },
      "outputs": [
        {
          "name": "stdout",
          "output_type": "stream",
          "text": [
            "Taking model with lowest RMSE score:\n"
          ]
        },
        {
          "data": {
            "text/html": [
              "<div>\n",
              "<style scoped>\n",
              "    .dataframe tbody tr th:only-of-type {\n",
              "        vertical-align: middle;\n",
              "    }\n",
              "\n",
              "    .dataframe tbody tr th {\n",
              "        vertical-align: top;\n",
              "    }\n",
              "\n",
              "    .dataframe thead th {\n",
              "        text-align: right;\n",
              "    }\n",
              "</style>\n",
              "<table border=\"1\" class=\"dataframe\">\n",
              "  <thead>\n",
              "    <tr style=\"text-align: right;\">\n",
              "      <th></th>\n",
              "      <th>Model No.</th>\n",
              "      <th>(p, d, q)</th>\n",
              "      <th>AIC</th>\n",
              "      <th>BIC</th>\n",
              "      <th>MSE</th>\n",
              "      <th>RMSE</th>\n",
              "    </tr>\n",
              "  </thead>\n",
              "  <tbody>\n",
              "    <tr>\n",
              "      <th>15</th>\n",
              "      <td>Model 15</td>\n",
              "      <td>(3, 1, 0)</td>\n",
              "      <td>43.249444</td>\n",
              "      <td>55.7453</td>\n",
              "      <td>0.057594</td>\n",
              "      <td>0.239988</td>\n",
              "    </tr>\n",
              "  </tbody>\n",
              "</table>\n",
              "</div>"
            ],
            "text/plain": [
              "   Model No.  (p, d, q)        AIC      BIC       MSE      RMSE\n",
              "15  Model 15  (3, 1, 0)  43.249444  55.7453  0.057594  0.239988"
            ]
          },
          "execution_count": 50,
          "metadata": {},
          "output_type": "execute_result"
        }
      ],
      "source": [
        "print('Taking model with lowest RMSE score:')\n",
        "df_results2[df_results2.RMSE==df_results2.RMSE.min()]\n"
      ]
    },
    {
      "cell_type": "code",
      "execution_count": null,
      "id": "7fb48a22",
      "metadata": {
        "id": "7fb48a22",
        "outputId": "bea6aa23-b782-4dd6-992c-21eaf3c91584"
      },
      "outputs": [
        {
          "name": "stdout",
          "output_type": "stream",
          "text": [
            "Taking model with lowest BIC score:\n"
          ]
        },
        {
          "data": {
            "text/html": [
              "<div>\n",
              "<style scoped>\n",
              "    .dataframe tbody tr th:only-of-type {\n",
              "        vertical-align: middle;\n",
              "    }\n",
              "\n",
              "    .dataframe tbody tr th {\n",
              "        vertical-align: top;\n",
              "    }\n",
              "\n",
              "    .dataframe thead th {\n",
              "        text-align: right;\n",
              "    }\n",
              "</style>\n",
              "<table border=\"1\" class=\"dataframe\">\n",
              "  <thead>\n",
              "    <tr style=\"text-align: right;\">\n",
              "      <th></th>\n",
              "      <th>Model No.</th>\n",
              "      <th>(p, d, q)</th>\n",
              "      <th>AIC</th>\n",
              "      <th>BIC</th>\n",
              "      <th>MSE</th>\n",
              "      <th>RMSE</th>\n",
              "    </tr>\n",
              "  </thead>\n",
              "  <tbody>\n",
              "    <tr>\n",
              "      <th>1</th>\n",
              "      <td>Model 1</td>\n",
              "      <td>(0, 1, 1)</td>\n",
              "      <td>17.860564</td>\n",
              "      <td>24.108492</td>\n",
              "      <td>0.063845</td>\n",
              "      <td>0.252676</td>\n",
              "    </tr>\n",
              "  </tbody>\n",
              "</table>\n",
              "</div>"
            ],
            "text/plain": [
              "  Model No.  (p, d, q)        AIC        BIC       MSE      RMSE\n",
              "1   Model 1  (0, 1, 1)  17.860564  24.108492  0.063845  0.252676"
            ]
          },
          "execution_count": 51,
          "metadata": {},
          "output_type": "execute_result"
        }
      ],
      "source": [
        "print('Taking model with lowest BIC score:')\n",
        "\n",
        "df_results2[df_results2.BIC==df_results2.BIC.min()]"
      ]
    },
    {
      "cell_type": "code",
      "execution_count": null,
      "id": "03470ef1",
      "metadata": {
        "id": "03470ef1",
        "outputId": "fd2755b0-8ce3-49a8-b9b1-ca965afa2f6a"
      },
      "outputs": [
        {
          "name": "stdout",
          "output_type": "stream",
          "text": [
            "Taking model with lowest AIC score:\n"
          ]
        },
        {
          "data": {
            "text/html": [
              "<div>\n",
              "<style scoped>\n",
              "    .dataframe tbody tr th:only-of-type {\n",
              "        vertical-align: middle;\n",
              "    }\n",
              "\n",
              "    .dataframe tbody tr th {\n",
              "        vertical-align: top;\n",
              "    }\n",
              "\n",
              "    .dataframe thead th {\n",
              "        text-align: right;\n",
              "    }\n",
              "</style>\n",
              "<table border=\"1\" class=\"dataframe\">\n",
              "  <thead>\n",
              "    <tr style=\"text-align: right;\">\n",
              "      <th></th>\n",
              "      <th>Model No.</th>\n",
              "      <th>(p, d, q)</th>\n",
              "      <th>AIC</th>\n",
              "      <th>BIC</th>\n",
              "      <th>MSE</th>\n",
              "      <th>RMSE</th>\n",
              "    </tr>\n",
              "  </thead>\n",
              "  <tbody>\n",
              "    <tr>\n",
              "      <th>13</th>\n",
              "      <td>Model 13</td>\n",
              "      <td>(2, 1, 3)</td>\n",
              "      <td>11.911292</td>\n",
              "      <td>30.655075</td>\n",
              "      <td>0.063915</td>\n",
              "      <td>0.252814</td>\n",
              "    </tr>\n",
              "  </tbody>\n",
              "</table>\n",
              "</div>"
            ],
            "text/plain": [
              "   Model No.  (p, d, q)        AIC        BIC       MSE      RMSE\n",
              "13  Model 13  (2, 1, 3)  11.911292  30.655075  0.063915  0.252814"
            ]
          },
          "execution_count": 52,
          "metadata": {},
          "output_type": "execute_result"
        }
      ],
      "source": [
        "print('Taking model with lowest AIC score:')\n",
        "df_results2[df_results2.AIC==df_results2.AIC.min()]"
      ]
    },
    {
      "cell_type": "code",
      "execution_count": null,
      "id": "8d8b7989",
      "metadata": {
        "id": "8d8b7989",
        "outputId": "0731528f-9451-46a5-e092-879dbf106b36"
      },
      "outputs": [
        {
          "data": {
            "text/html": [
              "<table class=\"simpletable\">\n",
              "<caption>SARIMAX Results</caption>\n",
              "<tr>\n",
              "  <th>Dep. Variable:</th>            <td>sentiment_count</td>         <th>  No. Observations:  </th>   <td>242</td>  \n",
              "</tr>\n",
              "<tr>\n",
              "  <th>Model:</th>           <td>SARIMAX(2, 1, 3)x(1, 1, [1], 12)</td> <th>  Log Likelihood     </th> <td>-17.543</td>\n",
              "</tr>\n",
              "<tr>\n",
              "  <th>Date:</th>                    <td>Sun, 22 Jan 2023</td>         <th>  AIC                </th> <td>51.085</td> \n",
              "</tr>\n",
              "<tr>\n",
              "  <th>Time:</th>                        <td>08:56:04</td>             <th>  BIC                </th> <td>78.555</td> \n",
              "</tr>\n",
              "<tr>\n",
              "  <th>Sample:</th>                          <td>0</td>                <th>  HQIC               </th> <td>62.167</td> \n",
              "</tr>\n",
              "<tr>\n",
              "  <th></th>                              <td> - 242</td>              <th>                     </th>    <td> </td>   \n",
              "</tr>\n",
              "<tr>\n",
              "  <th>Covariance Type:</th>                <td>opg</td>               <th>                     </th>    <td> </td>   \n",
              "</tr>\n",
              "</table>\n",
              "<table class=\"simpletable\">\n",
              "<tr>\n",
              "      <td></td>        <th>coef</th>     <th>std err</th>      <th>z</th>      <th>P>|z|</th>  <th>[0.025</th>    <th>0.975]</th>  \n",
              "</tr>\n",
              "<tr>\n",
              "  <th>ar.L1</th>    <td>   -1.1713</td> <td>    0.057</td> <td>  -20.699</td> <td> 0.000</td> <td>   -1.282</td> <td>   -1.060</td>\n",
              "</tr>\n",
              "<tr>\n",
              "  <th>ar.L2</th>    <td>   -0.9237</td> <td>    0.046</td> <td>  -20.238</td> <td> 0.000</td> <td>   -1.013</td> <td>   -0.834</td>\n",
              "</tr>\n",
              "<tr>\n",
              "  <th>ma.L1</th>    <td>    0.3370</td> <td>    0.054</td> <td>    6.248</td> <td> 0.000</td> <td>    0.231</td> <td>    0.443</td>\n",
              "</tr>\n",
              "<tr>\n",
              "  <th>ma.L2</th>    <td>   -0.2089</td> <td>    0.053</td> <td>   -3.960</td> <td> 0.000</td> <td>   -0.312</td> <td>   -0.106</td>\n",
              "</tr>\n",
              "<tr>\n",
              "  <th>ma.L3</th>    <td>   -0.9203</td> <td>    0.052</td> <td>  -17.795</td> <td> 0.000</td> <td>   -1.022</td> <td>   -0.819</td>\n",
              "</tr>\n",
              "<tr>\n",
              "  <th>ar.S.L12</th> <td>   -0.0355</td> <td>    0.089</td> <td>   -0.400</td> <td> 0.689</td> <td>   -0.210</td> <td>    0.139</td>\n",
              "</tr>\n",
              "<tr>\n",
              "  <th>ma.S.L12</th> <td>   -0.8383</td> <td>    0.081</td> <td>  -10.304</td> <td> 0.000</td> <td>   -0.998</td> <td>   -0.679</td>\n",
              "</tr>\n",
              "<tr>\n",
              "  <th>sigma2</th>   <td>    0.0620</td> <td>    0.006</td> <td>   11.182</td> <td> 0.000</td> <td>    0.051</td> <td>    0.073</td>\n",
              "</tr>\n",
              "</table>\n",
              "<table class=\"simpletable\">\n",
              "<tr>\n",
              "  <th>Ljung-Box (L1) (Q):</th>     <td>0.74</td> <th>  Jarque-Bera (JB):  </th> <td>368.11</td>\n",
              "</tr>\n",
              "<tr>\n",
              "  <th>Prob(Q):</th>                <td>0.39</td> <th>  Prob(JB):          </th>  <td>0.00</td> \n",
              "</tr>\n",
              "<tr>\n",
              "  <th>Heteroskedasticity (H):</th> <td>1.34</td> <th>  Skew:              </th>  <td>1.45</td> \n",
              "</tr>\n",
              "<tr>\n",
              "  <th>Prob(H) (two-sided):</th>    <td>0.20</td> <th>  Kurtosis:          </th>  <td>8.49</td> \n",
              "</tr>\n",
              "</table><br/><br/>Warnings:<br/>[1] Covariance matrix calculated using the outer product of gradients (complex-step)."
            ],
            "text/plain": [
              "<class 'statsmodels.iolib.summary.Summary'>\n",
              "\"\"\"\n",
              "                                      SARIMAX Results                                       \n",
              "============================================================================================\n",
              "Dep. Variable:                      sentiment_count   No. Observations:                  242\n",
              "Model:             SARIMAX(2, 1, 3)x(1, 1, [1], 12)   Log Likelihood                 -17.543\n",
              "Date:                              Sun, 22 Jan 2023   AIC                             51.085\n",
              "Time:                                      08:56:04   BIC                             78.555\n",
              "Sample:                                           0   HQIC                            62.167\n",
              "                                              - 242                                         \n",
              "Covariance Type:                                opg                                         \n",
              "==============================================================================\n",
              "                 coef    std err          z      P>|z|      [0.025      0.975]\n",
              "------------------------------------------------------------------------------\n",
              "ar.L1         -1.1713      0.057    -20.699      0.000      -1.282      -1.060\n",
              "ar.L2         -0.9237      0.046    -20.238      0.000      -1.013      -0.834\n",
              "ma.L1          0.3370      0.054      6.248      0.000       0.231       0.443\n",
              "ma.L2         -0.2089      0.053     -3.960      0.000      -0.312      -0.106\n",
              "ma.L3         -0.9203      0.052    -17.795      0.000      -1.022      -0.819\n",
              "ar.S.L12      -0.0355      0.089     -0.400      0.689      -0.210       0.139\n",
              "ma.S.L12      -0.8383      0.081    -10.304      0.000      -0.998      -0.679\n",
              "sigma2         0.0620      0.006     11.182      0.000       0.051       0.073\n",
              "===================================================================================\n",
              "Ljung-Box (L1) (Q):                   0.74   Jarque-Bera (JB):               368.11\n",
              "Prob(Q):                              0.39   Prob(JB):                         0.00\n",
              "Heteroskedasticity (H):               1.34   Skew:                             1.45\n",
              "Prob(H) (two-sided):                  0.20   Kurtosis:                         8.49\n",
              "===================================================================================\n",
              "\n",
              "Warnings:\n",
              "[1] Covariance matrix calculated using the outer product of gradients (complex-step).\n",
              "\"\"\""
            ]
          },
          "execution_count": 98,
          "metadata": {},
          "output_type": "execute_result"
        }
      ],
      "source": [
        "p=2;q=3;d=1\n",
        "P=1;Q=1;D=1\n",
        "m2 = sm.tsa.statespace.SARIMAX(cd_neu['sentiment_count'],order=(p,d,q),seasonal_order=(P,D,Q,12)).fit()\n",
        "# summarise the model\n",
        "m2.summary()\n"
      ]
    },
    {
      "cell_type": "code",
      "execution_count": null,
      "id": "cf1fede8",
      "metadata": {
        "id": "cf1fede8",
        "outputId": "2d41d73c-93f3-4742-d53d-317a7d534b1b"
      },
      "outputs": [
        {
          "name": "stdout",
          "output_type": "stream",
          "text": [
            "Fail-to-Reject H0. Good model\n"
          ]
        }
      ],
      "source": [
        "# LJung-Box test\n",
        "pvalue = sm.stats.acorr_ljungbox(m2.resid,lags=[1],return_df=True)['lb_pvalue'].values\n",
        "if pvalue < 0.05:\n",
        "    print(\"Reject H0. Bad model\")\n",
        "else:\n",
        "    print(\"Fail-to-Reject H0. Good model\")"
      ]
    },
    {
      "cell_type": "code",
      "execution_count": null,
      "id": "7717834c",
      "metadata": {
        "id": "7717834c",
        "outputId": "c474457d-22b2-4b11-c5dd-67cb6b507d51"
      },
      "outputs": [
        {
          "name": "stdout",
          "output_type": "stream",
          "text": [
            "start = 169, end = 241\n"
          ]
        }
      ],
      "source": [
        "start = len(train2) \n",
        "end = len(train2) + len(test2) - 1\n",
        "\n",
        "print('start = {}, end = {}'.format(start,end))"
      ]
    },
    {
      "cell_type": "code",
      "execution_count": null,
      "id": "5368e57d",
      "metadata": {
        "id": "5368e57d",
        "outputId": "0194a40f-ff58-442c-d46d-c54291842312"
      },
      "outputs": [
        {
          "name": "stdout",
          "output_type": "stream",
          "text": [
            "date\n",
            "2012-06-30    1.759863\n",
            "2012-07-31    1.748687\n",
            "2012-08-31    1.838099\n",
            "2012-09-30    1.806580\n",
            "2012-10-31    1.761889\n",
            "                ...   \n",
            "2018-02-28    1.498510\n",
            "2018-03-31    1.690847\n",
            "2018-04-30    1.621527\n",
            "2018-05-31    1.503314\n",
            "2018-07-31    1.687460\n",
            "Name: predicted_mean, Length: 73, dtype: float64\n"
          ]
        }
      ],
      "source": [
        "predictions = m2.predict(start,end)\n",
        "predictions.index=test2.index\n",
        "print(predictions)"
      ]
    },
    {
      "cell_type": "code",
      "execution_count": null,
      "id": "6c7c9838",
      "metadata": {
        "id": "6c7c9838",
        "outputId": "a852213c-cd97-41e1-d9c9-5227628e809c"
      },
      "outputs": [
        {
          "name": "stdout",
          "output_type": "stream",
          "text": [
            "              actual  predicted     error\n",
            "date                                     \n",
            "2012-06-30  1.830357   1.759863  0.070494\n",
            "2012-07-31  1.756757   1.748687  0.008070\n",
            "2012-08-31  1.589286   1.838099 -0.248813\n",
            "2012-09-30  1.877358   1.806580  0.070778\n",
            "2012-10-31  1.814159   1.761889  0.052270\n",
            "...              ...        ...       ...\n",
            "2018-02-28  1.513514   1.498510  0.015003\n",
            "2018-03-31  1.500000   1.690847 -0.190847\n",
            "2018-04-30  1.547170   1.621527 -0.074357\n",
            "2018-05-31  1.481481   1.503314 -0.021833\n",
            "2018-07-31  3.000000   1.687460  1.312540\n",
            "\n",
            "[73 rows x 3 columns]\n"
          ]
        }
      ],
      "source": [
        "actual = []; pred = []\n",
        "for i in range(len(predictions)):\n",
        "    actual.append(test2['sentiment_count'][i])\n",
        "    pred.append(predictions[i])\n",
        "\n",
        "df_res2 = pd.DataFrame({'actual':actual, 'predicted':pred})\n",
        "df_res2['error'] = df_res2.actual - df_res2.predicted\n",
        "df_res2.index=test2.index\n",
        "print(df_res2)"
      ]
    },
    {
      "cell_type": "code",
      "execution_count": null,
      "id": "7b351b2e",
      "metadata": {
        "id": "7b351b2e",
        "outputId": "39c3637c-64d8-4a61-ca6f-0a07b921d51f"
      },
      "outputs": [
        {
          "name": "stdout",
          "output_type": "stream",
          "text": [
            "mse: 0.06073917886903217\n",
            "rmse: 0.24645319813106945\n"
          ]
        }
      ],
      "source": [
        "mse2=mean_squared_error(df_res2.actual,df_res2.predicted)\n",
        "rmse2=np.sqrt(mse2)\n",
        "print('mse:',mse2)\n",
        "print('rmse:',rmse2)"
      ]
    },
    {
      "cell_type": "code",
      "execution_count": null,
      "id": "8e72ebd1",
      "metadata": {
        "id": "8e72ebd1",
        "outputId": "52cf9c67-e9d8-4167-a090-96bbe8a54d05"
      },
      "outputs": [
        {
          "data": {
            "text/plain": [
              "Text(0.5, 1.0, 'SARIMA Model. Order=(2,1,3)')"
            ]
          },
          "execution_count": 105,
          "metadata": {},
          "output_type": "execute_result"
        },
        {
          "data": {
            "image/png": "[encoded data removed]",
            "text/plain": [
              "<Figure size 720x576 with 1 Axes>"
            ]
          },
          "metadata": {
            "needs_background": "light"
          },
          "output_type": "display_data"
        }
      ],
      "source": [
        "msg = 'SARIMA Model. Order=(' + str(p) + ',' + str(d) + ',' + str(q) + ')'\n",
        "df_res2.actual.plot(figsize=(10,8),legend=True)\n",
        "df_res2.predicted.plot(legend=True)\n",
        "plt.title(msg)"
      ]
    },
    {
      "cell_type": "code",
      "execution_count": null,
      "id": "8c536d81",
      "metadata": {
        "id": "8c536d81",
        "outputId": "65a1fb58-16f0-4fac-b926-96d9b97b87b8"
      },
      "outputs": [
        {
          "name": "stdout",
          "output_type": "stream",
          "text": [
            "date\n",
            "2018-06-30    1.654255\n",
            "2018-07-31    1.539762\n",
            "2018-08-31    1.738438\n",
            "2018-09-30    1.650834\n",
            "2018-10-31    1.575357\n",
            "Name: Forecast, dtype: float64\n"
          ]
        }
      ],
      "source": [
        "fcast2 = m2.predict(start=len(cd_neu),end=len(cd_neu)+36).rename('Forecast')\n",
        "fcast2.index=future_dates.date\n",
        "print(fcast2.head())"
      ]
    },
    {
      "cell_type": "code",
      "execution_count": null,
      "id": "61ce8efa",
      "metadata": {
        "id": "61ce8efa",
        "outputId": "236206dd-1f1d-49ec-d6e7-54971bbe81dc"
      },
      "outputs": [
        {
          "data": {
            "text/plain": [
              "<AxesSubplot:xlabel='date', ylabel='count of neutral sentiment'>"
            ]
          },
          "execution_count": 107,
          "metadata": {},
          "output_type": "execute_result"
        },
        {
          "data": {
            "image/png": "[encoded data removed]",
            "text/plain": [
              "<Figure size 720x576 with 1 Axes>"
            ]
          },
          "metadata": {
            "needs_background": "light"
          },
          "output_type": "display_data"
        }
      ],
      "source": [
        "df_res2.actual.plot(figsize=(10,8),legend=True)\n",
        "df_res2.predicted.plot(legend=True)\n",
        "plt.ylabel('count of neutral sentiment')\n",
        "fcast2.plot(legend=True)"
      ]
    },
    {
      "cell_type": "markdown",
      "id": "edea35d7",
      "metadata": {
        "id": "edea35d7"
      },
      "source": [
        "## Negative"
      ]
    },
    {
      "cell_type": "code",
      "execution_count": null,
      "id": "3389e046",
      "metadata": {
        "id": "3389e046",
        "outputId": "5ee3801d-6f09-4d48-cfd6-9566ed33a92b"
      },
      "outputs": [
        {
          "data": {
            "text/html": [
              "<div>\n",
              "<style scoped>\n",
              "    .dataframe tbody tr th:only-of-type {\n",
              "        vertical-align: middle;\n",
              "    }\n",
              "\n",
              "    .dataframe tbody tr th {\n",
              "        vertical-align: top;\n",
              "    }\n",
              "\n",
              "    .dataframe thead th {\n",
              "        text-align: right;\n",
              "    }\n",
              "</style>\n",
              "<table border=\"1\" class=\"dataframe\">\n",
              "  <thead>\n",
              "    <tr style=\"text-align: right;\">\n",
              "      <th></th>\n",
              "      <th>asin</th>\n",
              "      <th>Month</th>\n",
              "      <th>Sentiment</th>\n",
              "      <th>sentiment_count</th>\n",
              "    </tr>\n",
              "  </thead>\n",
              "  <tbody>\n",
              "    <tr>\n",
              "      <th>0</th>\n",
              "      <td>0005164885</td>\n",
              "      <td>1</td>\n",
              "      <td>Negative</td>\n",
              "      <td>1</td>\n",
              "    </tr>\n",
              "    <tr>\n",
              "      <th>1</th>\n",
              "      <td>0005164885</td>\n",
              "      <td>7</td>\n",
              "      <td>Negative</td>\n",
              "      <td>1</td>\n",
              "    </tr>\n",
              "    <tr>\n",
              "      <th>2</th>\n",
              "      <td>1570195013</td>\n",
              "      <td>9</td>\n",
              "      <td>Negative</td>\n",
              "      <td>1</td>\n",
              "    </tr>\n",
              "    <tr>\n",
              "      <th>3</th>\n",
              "      <td>1858703883</td>\n",
              "      <td>4</td>\n",
              "      <td>Negative</td>\n",
              "      <td>2</td>\n",
              "    </tr>\n",
              "    <tr>\n",
              "      <th>4</th>\n",
              "      <td>1858703883</td>\n",
              "      <td>7</td>\n",
              "      <td>Negative</td>\n",
              "      <td>1</td>\n",
              "    </tr>\n",
              "    <tr>\n",
              "      <th>...</th>\n",
              "      <td>...</td>\n",
              "      <td>...</td>\n",
              "      <td>...</td>\n",
              "      <td>...</td>\n",
              "    </tr>\n",
              "    <tr>\n",
              "      <th>22225</th>\n",
              "      <td>B01HCEBIMU</td>\n",
              "      <td>11</td>\n",
              "      <td>Negative</td>\n",
              "      <td>1</td>\n",
              "    </tr>\n",
              "    <tr>\n",
              "      <th>22226</th>\n",
              "      <td>B01HCR8QWW</td>\n",
              "      <td>10</td>\n",
              "      <td>Negative</td>\n",
              "      <td>1</td>\n",
              "    </tr>\n",
              "    <tr>\n",
              "      <th>22227</th>\n",
              "      <td>B01HE3JKEW</td>\n",
              "      <td>10</td>\n",
              "      <td>Negative</td>\n",
              "      <td>1</td>\n",
              "    </tr>\n",
              "    <tr>\n",
              "      <th>22228</th>\n",
              "      <td>B01HEYDFJC</td>\n",
              "      <td>11</td>\n",
              "      <td>Negative</td>\n",
              "      <td>1</td>\n",
              "    </tr>\n",
              "    <tr>\n",
              "      <th>22229</th>\n",
              "      <td>B01HIDSTAY</td>\n",
              "      <td>8</td>\n",
              "      <td>Negative</td>\n",
              "      <td>2</td>\n",
              "    </tr>\n",
              "  </tbody>\n",
              "</table>\n",
              "<p>22230 rows × 4 columns</p>\n",
              "</div>"
            ],
            "text/plain": [
              "             asin  Month Sentiment  sentiment_count\n",
              "0      0005164885      1  Negative                1\n",
              "1      0005164885      7  Negative                1\n",
              "2      1570195013      9  Negative                1\n",
              "3      1858703883      4  Negative                2\n",
              "4      1858703883      7  Negative                1\n",
              "...           ...    ...       ...              ...\n",
              "22225  B01HCEBIMU     11  Negative                1\n",
              "22226  B01HCR8QWW     10  Negative                1\n",
              "22227  B01HE3JKEW     10  Negative                1\n",
              "22228  B01HEYDFJC     11  Negative                1\n",
              "22229  B01HIDSTAY      8  Negative                2\n",
              "\n",
              "[22230 rows x 4 columns]"
            ]
          },
          "execution_count": 62,
          "metadata": {},
          "output_type": "execute_result"
        }
      ],
      "source": [
        "cd_neg_count=df_cd_neg.groupby(['asin','Month','Sentiment']).size().reset_index(name='sentiment_count')\n",
        "cd_neg_count"
      ]
    },
    {
      "cell_type": "code",
      "execution_count": null,
      "id": "a3dd69aa",
      "metadata": {
        "id": "a3dd69aa"
      },
      "outputs": [],
      "source": [
        "cd_neg=pd.merge(df_cd_neg,cd_neg_count)"
      ]
    },
    {
      "cell_type": "code",
      "execution_count": null,
      "id": "4365b84c",
      "metadata": {
        "id": "4365b84c",
        "outputId": "079e94d2-25a4-4d27-d635-fdc4dedd2201"
      },
      "outputs": [
        {
          "data": {
            "text/html": [
              "<div>\n",
              "<style scoped>\n",
              "    .dataframe tbody tr th:only-of-type {\n",
              "        vertical-align: middle;\n",
              "    }\n",
              "\n",
              "    .dataframe tbody tr th {\n",
              "        vertical-align: top;\n",
              "    }\n",
              "\n",
              "    .dataframe thead th {\n",
              "        text-align: right;\n",
              "    }\n",
              "</style>\n",
              "<table border=\"1\" class=\"dataframe\">\n",
              "  <thead>\n",
              "    <tr style=\"text-align: right;\">\n",
              "      <th></th>\n",
              "      <th>sentiment_count</th>\n",
              "    </tr>\n",
              "    <tr>\n",
              "      <th>date</th>\n",
              "      <th></th>\n",
              "    </tr>\n",
              "  </thead>\n",
              "  <tbody>\n",
              "    <tr>\n",
              "      <th>1997-12-31</th>\n",
              "      <td>1</td>\n",
              "    </tr>\n",
              "    <tr>\n",
              "      <th>1998-05-15</th>\n",
              "      <td>1</td>\n",
              "    </tr>\n",
              "    <tr>\n",
              "      <th>1998-05-15</th>\n",
              "      <td>1</td>\n",
              "    </tr>\n",
              "    <tr>\n",
              "      <th>1998-05-25</th>\n",
              "      <td>1</td>\n",
              "    </tr>\n",
              "    <tr>\n",
              "      <th>1998-05-31</th>\n",
              "      <td>1</td>\n",
              "    </tr>\n",
              "    <tr>\n",
              "      <th>...</th>\n",
              "      <td>...</td>\n",
              "    </tr>\n",
              "    <tr>\n",
              "      <th>2018-05-16</th>\n",
              "      <td>2</td>\n",
              "    </tr>\n",
              "    <tr>\n",
              "      <th>2018-05-16</th>\n",
              "      <td>2</td>\n",
              "    </tr>\n",
              "    <tr>\n",
              "      <th>2018-05-16</th>\n",
              "      <td>2</td>\n",
              "    </tr>\n",
              "    <tr>\n",
              "      <th>2018-05-16</th>\n",
              "      <td>2</td>\n",
              "    </tr>\n",
              "    <tr>\n",
              "      <th>2018-06-16</th>\n",
              "      <td>1</td>\n",
              "    </tr>\n",
              "  </tbody>\n",
              "</table>\n",
              "<p>35000 rows × 1 columns</p>\n",
              "</div>"
            ],
            "text/plain": [
              "            sentiment_count\n",
              "date                       \n",
              "1997-12-31                1\n",
              "1998-05-15                1\n",
              "1998-05-15                1\n",
              "1998-05-25                1\n",
              "1998-05-31                1\n",
              "...                     ...\n",
              "2018-05-16                2\n",
              "2018-05-16                2\n",
              "2018-05-16                2\n",
              "2018-05-16                2\n",
              "2018-06-16                1\n",
              "\n",
              "[35000 rows x 1 columns]"
            ]
          },
          "execution_count": 64,
          "metadata": {},
          "output_type": "execute_result"
        }
      ],
      "source": [
        "cd_neg=cd_neg[['date','sentiment_count']]\n",
        "cd_neg=cd_neg.set_index('date')\n",
        "cd_neg=cd_neg.sort_values(by=['date'])\n",
        "cd_neg"
      ]
    },
    {
      "cell_type": "code",
      "execution_count": null,
      "id": "5dfc5e57",
      "metadata": {
        "id": "5dfc5e57",
        "outputId": "da936f07-850c-4edc-c9be-745cf017b8db"
      },
      "outputs": [
        {
          "data": {
            "text/html": [
              "<div>\n",
              "<style scoped>\n",
              "    .dataframe tbody tr th:only-of-type {\n",
              "        vertical-align: middle;\n",
              "    }\n",
              "\n",
              "    .dataframe tbody tr th {\n",
              "        vertical-align: top;\n",
              "    }\n",
              "\n",
              "    .dataframe thead th {\n",
              "        text-align: right;\n",
              "    }\n",
              "</style>\n",
              "<table border=\"1\" class=\"dataframe\">\n",
              "  <thead>\n",
              "    <tr style=\"text-align: right;\">\n",
              "      <th></th>\n",
              "      <th>sentiment_count</th>\n",
              "    </tr>\n",
              "    <tr>\n",
              "      <th>date</th>\n",
              "      <th></th>\n",
              "    </tr>\n",
              "  </thead>\n",
              "  <tbody>\n",
              "    <tr>\n",
              "      <th>1997-12-31</th>\n",
              "      <td>1.0</td>\n",
              "    </tr>\n",
              "    <tr>\n",
              "      <th>1998-01-31</th>\n",
              "      <td>NaN</td>\n",
              "    </tr>\n",
              "    <tr>\n",
              "      <th>1998-02-28</th>\n",
              "      <td>NaN</td>\n",
              "    </tr>\n",
              "    <tr>\n",
              "      <th>1998-03-31</th>\n",
              "      <td>NaN</td>\n",
              "    </tr>\n",
              "    <tr>\n",
              "      <th>1998-04-30</th>\n",
              "      <td>NaN</td>\n",
              "    </tr>\n",
              "  </tbody>\n",
              "</table>\n",
              "</div>"
            ],
            "text/plain": [
              "            sentiment_count\n",
              "date                       \n",
              "1997-12-31              1.0\n",
              "1998-01-31              NaN\n",
              "1998-02-28              NaN\n",
              "1998-03-31              NaN\n",
              "1998-04-30              NaN"
            ]
          },
          "execution_count": 65,
          "metadata": {},
          "output_type": "execute_result"
        }
      ],
      "source": [
        "cd_neg=cd_neg.resample('M').mean()\n",
        "cd_neg.head()"
      ]
    },
    {
      "cell_type": "code",
      "execution_count": null,
      "id": "76057d30",
      "metadata": {
        "id": "76057d30",
        "outputId": "993c3a78-ccbf-4cc0-c675-e063c590fb22"
      },
      "outputs": [
        {
          "data": {
            "text/plain": [
              "sentiment_count    4\n",
              "dtype: int64"
            ]
          },
          "execution_count": 66,
          "metadata": {},
          "output_type": "execute_result"
        }
      ],
      "source": [
        "cd_neg.isnull().sum()"
      ]
    },
    {
      "cell_type": "code",
      "execution_count": null,
      "id": "327e3a6a",
      "metadata": {
        "id": "327e3a6a"
      },
      "outputs": [],
      "source": [
        "cd_neg.dropna(inplace=True)"
      ]
    },
    {
      "cell_type": "code",
      "execution_count": null,
      "id": "99a6b034",
      "metadata": {
        "id": "99a6b034",
        "outputId": "3f9dfd4d-2c21-479b-dce9-08ef107aef4e"
      },
      "outputs": [
        {
          "name": "stdout",
          "output_type": "stream",
          "text": [
            "pvalue: 0.19707593379880184\n"
          ]
        },
        {
          "data": {
            "text/plain": [
              "' Data is not Stationary. Make the data stationary before model building'"
            ]
          },
          "execution_count": 68,
          "metadata": {},
          "output_type": "execute_result"
        }
      ],
      "source": [
        "checkStationarity(cd_neg)"
      ]
    },
    {
      "cell_type": "code",
      "execution_count": null,
      "id": "b53e85e4",
      "metadata": {
        "id": "b53e85e4",
        "outputId": "99253020-388b-4557-fc81-69daf6b5caca"
      },
      "outputs": [
        {
          "name": "stdout",
          "output_type": "stream",
          "text": [
            "            sentiment_count\n",
            "date                       \n",
            "1997-12-31              NaN\n",
            "1998-05-31         0.000000\n",
            "1998-06-30         0.142857\n",
            "1998-07-31         0.790476\n",
            "1998-08-31        -0.433333\n",
            "...                     ...\n",
            "2018-02-28        -0.171395\n",
            "2018-03-31         0.206349\n",
            "2018-04-30        -0.296992\n",
            "2018-05-31         0.024671\n",
            "2018-06-30        -0.656250\n",
            "\n",
            "[243 rows x 1 columns]\n"
          ]
        }
      ],
      "source": [
        "diff_cd_neg = cd_neg-cd_neg.shift(1)\n",
        "print(diff_cd_neg)"
      ]
    },
    {
      "cell_type": "code",
      "execution_count": null,
      "id": "1bfffdbd",
      "metadata": {
        "id": "1bfffdbd"
      },
      "outputs": [],
      "source": [
        "diff_cd_neg.dropna(inplace=True)"
      ]
    },
    {
      "cell_type": "code",
      "execution_count": null,
      "id": "2bf42317",
      "metadata": {
        "id": "2bf42317",
        "outputId": "9146ea6a-314f-4f98-d3f4-d5ab83bf4e81"
      },
      "outputs": [
        {
          "name": "stdout",
          "output_type": "stream",
          "text": [
            "pvalue: 1.9276743512147565e-09\n"
          ]
        },
        {
          "data": {
            "text/plain": [
              "'Data is Stationary. Proceed to model building'"
            ]
          },
          "execution_count": 71,
          "metadata": {},
          "output_type": "execute_result"
        }
      ],
      "source": [
        "checkStationarity(diff_cd_neg)"
      ]
    },
    {
      "cell_type": "code",
      "execution_count": null,
      "id": "59ef41fb",
      "metadata": {
        "id": "59ef41fb",
        "outputId": "89a78c38-ce77-42ac-9bc8-61570eed6e8f"
      },
      "outputs": [
        {
          "name": "stdout",
          "output_type": "stream",
          "text": [
            "Total=243, Train=170, Test=73\n"
          ]
        }
      ],
      "source": [
        "ratio = 0.7\n",
        "rows = int(ratio * len(cd_neg))\n",
        "train3 =cd_neg[:rows]\n",
        "test3 = cd_neg[rows:]\n",
        "\n",
        "print(\"Total={}, Train={}, Test={}\".format(len(cd_neg), len(train3), len(test3)))"
      ]
    },
    {
      "cell_type": "code",
      "execution_count": null,
      "id": "a5e2ea72",
      "metadata": {
        "id": "a5e2ea72",
        "outputId": "cc3ff6c7-2e95-420b-cac4-bc5da199f810"
      },
      "outputs": [
        {
          "data": {
            "image/png": "[encoded data removed]",
            "text/plain": [
              "<Figure size 1080x360 with 2 Axes>"
            ]
          },
          "metadata": {
            "needs_background": "light"
          },
          "output_type": "display_data"
        }
      ],
      "source": [
        "p_and_q(diff_cd_neg)"
      ]
    },
    {
      "cell_type": "code",
      "execution_count": null,
      "id": "2731fc24",
      "metadata": {
        "id": "2731fc24",
        "outputId": "031f368a-8fe1-4271-f139-3eb73a5ae42a"
      },
      "outputs": [
        {
          "name": "stdout",
          "output_type": "stream",
          "text": [
            "Model 1 Not a good model\n",
            "Model 2 Good model\n",
            "Model 3 Good model\n",
            "Model 4 Good model\n",
            "Model 5 Good model\n",
            "Model 6 Good model\n",
            "Model 7 Good model\n",
            "Model 8 Good model\n",
            "Model 9 Good model\n",
            "Model 10 Good model\n",
            "Model 11 Good model\n",
            "Model 12 Good model\n",
            "Model 13 Good model\n",
            "Model 14 Good model\n",
            "Model 15 Good model\n",
            "Model 16 Good model\n",
            "Model 17 Good model\n",
            "Model 18 Good model\n",
            "Model 19 Good model\n",
            "Model 20 Good model\n",
            "Model 21 Good model\n",
            "Model 22 Good model\n",
            "Model 23 Good model\n",
            "Model 24 Good model\n",
            "Model 25 Good model\n",
            "Model 26 Good model\n",
            "Model 27 Good model\n",
            "Model 28 Good model\n",
            "Model 29 Good model\n",
            "Model 30 Good model\n",
            "Model 31 Good model\n",
            "Model 32 Good model\n"
          ]
        }
      ],
      "source": [
        "d=1;\n",
        "lis=[]\n",
        "for p in range(8):\n",
        "    for q in range(4):\n",
        "        lis.append((p,d,q))\n",
        "\n",
        "# building model\n",
        "model=[]\n",
        "for i in lis:\n",
        "    m =ARIMA(train3, order=i).fit() \n",
        "    model.append(m)\n",
        "\n",
        "# checking model is good or not\n",
        "model_st=[]\n",
        "c=1\n",
        "for i in model:\n",
        "    pvalue = sm.stats.acorr_ljungbox(i.resid, lags=[1], return_df=True)['lb_pvalue'].values\n",
        "    if pvalue < 0.05:\n",
        "        print(f'Model {c} Not a good model')\n",
        "    else:\n",
        "        print(f'Model {c} Good model')\n",
        "    c+=1"
      ]
    },
    {
      "cell_type": "code",
      "execution_count": null,
      "id": "e823a828",
      "metadata": {
        "id": "e823a828",
        "outputId": "58740b00-2a2c-4174-eed7-fab212040c8f"
      },
      "outputs": [
        {
          "data": {
            "text/html": [
              "<div>\n",
              "<style scoped>\n",
              "    .dataframe tbody tr th:only-of-type {\n",
              "        vertical-align: middle;\n",
              "    }\n",
              "\n",
              "    .dataframe tbody tr th {\n",
              "        vertical-align: top;\n",
              "    }\n",
              "\n",
              "    .dataframe thead th {\n",
              "        text-align: right;\n",
              "    }\n",
              "</style>\n",
              "<table border=\"1\" class=\"dataframe\">\n",
              "  <thead>\n",
              "    <tr style=\"text-align: right;\">\n",
              "      <th></th>\n",
              "      <th>Model No.</th>\n",
              "      <th>(p, d, q)</th>\n",
              "      <th>AIC</th>\n",
              "      <th>BIC</th>\n",
              "      <th>MSE</th>\n",
              "      <th>RMSE</th>\n",
              "    </tr>\n",
              "  </thead>\n",
              "  <tbody>\n",
              "    <tr>\n",
              "      <th>0</th>\n",
              "      <td>Model 0</td>\n",
              "      <td>(0, 1, 0)</td>\n",
              "      <td>505.170647</td>\n",
              "      <td>508.300545</td>\n",
              "      <td>0.508429</td>\n",
              "      <td>0.713042</td>\n",
              "    </tr>\n",
              "    <tr>\n",
              "      <th>1</th>\n",
              "      <td>Model 1</td>\n",
              "      <td>(0, 1, 1)</td>\n",
              "      <td>414.770278</td>\n",
              "      <td>421.030075</td>\n",
              "      <td>0.792044</td>\n",
              "      <td>0.889969</td>\n",
              "    </tr>\n",
              "    <tr>\n",
              "      <th>2</th>\n",
              "      <td>Model 2</td>\n",
              "      <td>(0, 1, 2)</td>\n",
              "      <td>416.231216</td>\n",
              "      <td>425.620912</td>\n",
              "      <td>0.779501</td>\n",
              "      <td>0.882894</td>\n",
              "    </tr>\n",
              "    <tr>\n",
              "      <th>3</th>\n",
              "      <td>Model 3</td>\n",
              "      <td>(0, 1, 3)</td>\n",
              "      <td>417.396938</td>\n",
              "      <td>429.916533</td>\n",
              "      <td>0.809705</td>\n",
              "      <td>0.899836</td>\n",
              "    </tr>\n",
              "    <tr>\n",
              "      <th>4</th>\n",
              "      <td>Model 4</td>\n",
              "      <td>(1, 1, 0)</td>\n",
              "      <td>473.221326</td>\n",
              "      <td>479.481123</td>\n",
              "      <td>0.418682</td>\n",
              "      <td>0.647056</td>\n",
              "    </tr>\n",
              "    <tr>\n",
              "      <th>5</th>\n",
              "      <td>Model 5</td>\n",
              "      <td>(1, 1, 1)</td>\n",
              "      <td>416.329298</td>\n",
              "      <td>425.718994</td>\n",
              "      <td>0.780520</td>\n",
              "      <td>0.883470</td>\n",
              "    </tr>\n",
              "    <tr>\n",
              "      <th>6</th>\n",
              "      <td>Model 6</td>\n",
              "      <td>(1, 1, 2)</td>\n",
              "      <td>418.066326</td>\n",
              "      <td>430.585921</td>\n",
              "      <td>0.782769</td>\n",
              "      <td>0.884742</td>\n",
              "    </tr>\n",
              "    <tr>\n",
              "      <th>7</th>\n",
              "      <td>Model 7</td>\n",
              "      <td>(1, 1, 3)</td>\n",
              "      <td>418.979771</td>\n",
              "      <td>434.629265</td>\n",
              "      <td>0.837650</td>\n",
              "      <td>0.915232</td>\n",
              "    </tr>\n",
              "    <tr>\n",
              "      <th>8</th>\n",
              "      <td>Model 8</td>\n",
              "      <td>(2, 1, 0)</td>\n",
              "      <td>457.494257</td>\n",
              "      <td>466.883953</td>\n",
              "      <td>0.452603</td>\n",
              "      <td>0.672758</td>\n",
              "    </tr>\n",
              "    <tr>\n",
              "      <th>9</th>\n",
              "      <td>Model 9</td>\n",
              "      <td>(2, 1, 1)</td>\n",
              "      <td>416.829501</td>\n",
              "      <td>429.349096</td>\n",
              "      <td>0.816654</td>\n",
              "      <td>0.903689</td>\n",
              "    </tr>\n",
              "    <tr>\n",
              "      <th>10</th>\n",
              "      <td>Model 10</td>\n",
              "      <td>(2, 1, 2)</td>\n",
              "      <td>419.055374</td>\n",
              "      <td>434.704867</td>\n",
              "      <td>0.777354</td>\n",
              "      <td>0.881677</td>\n",
              "    </tr>\n",
              "    <tr>\n",
              "      <th>11</th>\n",
              "      <td>Model 11</td>\n",
              "      <td>(2, 1, 3)</td>\n",
              "      <td>410.257174</td>\n",
              "      <td>429.036566</td>\n",
              "      <td>0.804646</td>\n",
              "      <td>0.897021</td>\n",
              "    </tr>\n",
              "    <tr>\n",
              "      <th>12</th>\n",
              "      <td>Model 12</td>\n",
              "      <td>(3, 1, 0)</td>\n",
              "      <td>429.658982</td>\n",
              "      <td>442.178577</td>\n",
              "      <td>0.458874</td>\n",
              "      <td>0.677402</td>\n",
              "    </tr>\n",
              "    <tr>\n",
              "      <th>13</th>\n",
              "      <td>Model 13</td>\n",
              "      <td>(3, 1, 1)</td>\n",
              "      <td>417.420796</td>\n",
              "      <td>433.070290</td>\n",
              "      <td>0.853458</td>\n",
              "      <td>0.923828</td>\n",
              "    </tr>\n",
              "    <tr>\n",
              "      <th>14</th>\n",
              "      <td>Model 14</td>\n",
              "      <td>(3, 1, 2)</td>\n",
              "      <td>416.810152</td>\n",
              "      <td>435.589545</td>\n",
              "      <td>0.831860</td>\n",
              "      <td>0.912064</td>\n",
              "    </tr>\n",
              "    <tr>\n",
              "      <th>15</th>\n",
              "      <td>Model 15</td>\n",
              "      <td>(3, 1, 3)</td>\n",
              "      <td>412.128876</td>\n",
              "      <td>434.038167</td>\n",
              "      <td>0.812225</td>\n",
              "      <td>0.901235</td>\n",
              "    </tr>\n",
              "    <tr>\n",
              "      <th>16</th>\n",
              "      <td>Model 16</td>\n",
              "      <td>(4, 1, 0)</td>\n",
              "      <td>428.887509</td>\n",
              "      <td>444.537003</td>\n",
              "      <td>0.455021</td>\n",
              "      <td>0.674553</td>\n",
              "    </tr>\n",
              "    <tr>\n",
              "      <th>17</th>\n",
              "      <td>Model 17</td>\n",
              "      <td>(4, 1, 1)</td>\n",
              "      <td>415.606340</td>\n",
              "      <td>434.385733</td>\n",
              "      <td>0.765006</td>\n",
              "      <td>0.874646</td>\n",
              "    </tr>\n",
              "    <tr>\n",
              "      <th>18</th>\n",
              "      <td>Model 18</td>\n",
              "      <td>(4, 1, 2)</td>\n",
              "      <td>417.275196</td>\n",
              "      <td>439.184487</td>\n",
              "      <td>0.782783</td>\n",
              "      <td>0.884750</td>\n",
              "    </tr>\n",
              "    <tr>\n",
              "      <th>19</th>\n",
              "      <td>Model 19</td>\n",
              "      <td>(4, 1, 3)</td>\n",
              "      <td>413.067424</td>\n",
              "      <td>438.106614</td>\n",
              "      <td>0.847897</td>\n",
              "      <td>0.920813</td>\n",
              "    </tr>\n",
              "    <tr>\n",
              "      <th>20</th>\n",
              "      <td>Model 20</td>\n",
              "      <td>(5, 1, 0)</td>\n",
              "      <td>426.632896</td>\n",
              "      <td>445.412288</td>\n",
              "      <td>0.453801</td>\n",
              "      <td>0.673648</td>\n",
              "    </tr>\n",
              "    <tr>\n",
              "      <th>21</th>\n",
              "      <td>Model 21</td>\n",
              "      <td>(5, 1, 1)</td>\n",
              "      <td>417.208423</td>\n",
              "      <td>439.117714</td>\n",
              "      <td>0.800731</td>\n",
              "      <td>0.894835</td>\n",
              "    </tr>\n",
              "    <tr>\n",
              "      <th>22</th>\n",
              "      <td>Model 22</td>\n",
              "      <td>(5, 1, 2)</td>\n",
              "      <td>419.208423</td>\n",
              "      <td>444.247612</td>\n",
              "      <td>0.800756</td>\n",
              "      <td>0.894850</td>\n",
              "    </tr>\n",
              "    <tr>\n",
              "      <th>23</th>\n",
              "      <td>Model 23</td>\n",
              "      <td>(5, 1, 3)</td>\n",
              "      <td>419.610528</td>\n",
              "      <td>447.779616</td>\n",
              "      <td>0.866315</td>\n",
              "      <td>0.930760</td>\n",
              "    </tr>\n",
              "    <tr>\n",
              "      <th>24</th>\n",
              "      <td>Model 24</td>\n",
              "      <td>(6, 1, 0)</td>\n",
              "      <td>424.481465</td>\n",
              "      <td>446.390756</td>\n",
              "      <td>0.628811</td>\n",
              "      <td>0.792976</td>\n",
              "    </tr>\n",
              "    <tr>\n",
              "      <th>25</th>\n",
              "      <td>Model 25</td>\n",
              "      <td>(6, 1, 1)</td>\n",
              "      <td>419.208422</td>\n",
              "      <td>444.247612</td>\n",
              "      <td>0.800754</td>\n",
              "      <td>0.894849</td>\n",
              "    </tr>\n",
              "    <tr>\n",
              "      <th>26</th>\n",
              "      <td>Model 26</td>\n",
              "      <td>(6, 1, 2)</td>\n",
              "      <td>421.124538</td>\n",
              "      <td>449.293626</td>\n",
              "      <td>0.820297</td>\n",
              "      <td>0.905702</td>\n",
              "    </tr>\n",
              "    <tr>\n",
              "      <th>27</th>\n",
              "      <td>Model 27</td>\n",
              "      <td>(6, 1, 3)</td>\n",
              "      <td>416.245447</td>\n",
              "      <td>447.544434</td>\n",
              "      <td>0.783758</td>\n",
              "      <td>0.885301</td>\n",
              "    </tr>\n",
              "    <tr>\n",
              "      <th>28</th>\n",
              "      <td>Model 28</td>\n",
              "      <td>(7, 1, 0)</td>\n",
              "      <td>426.413442</td>\n",
              "      <td>451.452632</td>\n",
              "      <td>0.643579</td>\n",
              "      <td>0.802234</td>\n",
              "    </tr>\n",
              "    <tr>\n",
              "      <th>29</th>\n",
              "      <td>Model 29</td>\n",
              "      <td>(7, 1, 1)</td>\n",
              "      <td>421.032757</td>\n",
              "      <td>449.201845</td>\n",
              "      <td>0.797101</td>\n",
              "      <td>0.892805</td>\n",
              "    </tr>\n",
              "    <tr>\n",
              "      <th>30</th>\n",
              "      <td>Model 30</td>\n",
              "      <td>(7, 1, 2)</td>\n",
              "      <td>422.762468</td>\n",
              "      <td>454.061455</td>\n",
              "      <td>0.800346</td>\n",
              "      <td>0.894621</td>\n",
              "    </tr>\n",
              "    <tr>\n",
              "      <th>31</th>\n",
              "      <td>Model 31</td>\n",
              "      <td>(7, 1, 3)</td>\n",
              "      <td>419.071865</td>\n",
              "      <td>453.500751</td>\n",
              "      <td>0.786117</td>\n",
              "      <td>0.886632</td>\n",
              "    </tr>\n",
              "  </tbody>\n",
              "</table>\n",
              "</div>"
            ],
            "text/plain": [
              "   Model No.  (p, d, q)         AIC         BIC       MSE      RMSE\n",
              "0    Model 0  (0, 1, 0)  505.170647  508.300545  0.508429  0.713042\n",
              "1    Model 1  (0, 1, 1)  414.770278  421.030075  0.792044  0.889969\n",
              "2    Model 2  (0, 1, 2)  416.231216  425.620912  0.779501  0.882894\n",
              "3    Model 3  (0, 1, 3)  417.396938  429.916533  0.809705  0.899836\n",
              "4    Model 4  (1, 1, 0)  473.221326  479.481123  0.418682  0.647056\n",
              "5    Model 5  (1, 1, 1)  416.329298  425.718994  0.780520  0.883470\n",
              "6    Model 6  (1, 1, 2)  418.066326  430.585921  0.782769  0.884742\n",
              "7    Model 7  (1, 1, 3)  418.979771  434.629265  0.837650  0.915232\n",
              "8    Model 8  (2, 1, 0)  457.494257  466.883953  0.452603  0.672758\n",
              "9    Model 9  (2, 1, 1)  416.829501  429.349096  0.816654  0.903689\n",
              "10  Model 10  (2, 1, 2)  419.055374  434.704867  0.777354  0.881677\n",
              "11  Model 11  (2, 1, 3)  410.257174  429.036566  0.804646  0.897021\n",
              "12  Model 12  (3, 1, 0)  429.658982  442.178577  0.458874  0.677402\n",
              "13  Model 13  (3, 1, 1)  417.420796  433.070290  0.853458  0.923828\n",
              "14  Model 14  (3, 1, 2)  416.810152  435.589545  0.831860  0.912064\n",
              "15  Model 15  (3, 1, 3)  412.128876  434.038167  0.812225  0.901235\n",
              "16  Model 16  (4, 1, 0)  428.887509  444.537003  0.455021  0.674553\n",
              "17  Model 17  (4, 1, 1)  415.606340  434.385733  0.765006  0.874646\n",
              "18  Model 18  (4, 1, 2)  417.275196  439.184487  0.782783  0.884750\n",
              "19  Model 19  (4, 1, 3)  413.067424  438.106614  0.847897  0.920813\n",
              "20  Model 20  (5, 1, 0)  426.632896  445.412288  0.453801  0.673648\n",
              "21  Model 21  (5, 1, 1)  417.208423  439.117714  0.800731  0.894835\n",
              "22  Model 22  (5, 1, 2)  419.208423  444.247612  0.800756  0.894850\n",
              "23  Model 23  (5, 1, 3)  419.610528  447.779616  0.866315  0.930760\n",
              "24  Model 24  (6, 1, 0)  424.481465  446.390756  0.628811  0.792976\n",
              "25  Model 25  (6, 1, 1)  419.208422  444.247612  0.800754  0.894849\n",
              "26  Model 26  (6, 1, 2)  421.124538  449.293626  0.820297  0.905702\n",
              "27  Model 27  (6, 1, 3)  416.245447  447.544434  0.783758  0.885301\n",
              "28  Model 28  (7, 1, 0)  426.413442  451.452632  0.643579  0.802234\n",
              "29  Model 29  (7, 1, 1)  421.032757  449.201845  0.797101  0.892805\n",
              "30  Model 30  (7, 1, 2)  422.762468  454.061455  0.800346  0.894621\n",
              "31  Model 31  (7, 1, 3)  419.071865  453.500751  0.786117  0.886632"
            ]
          },
          "execution_count": 75,
          "metadata": {},
          "output_type": "execute_result"
        }
      ],
      "source": [
        "aic=[]\n",
        "bic=[]\n",
        "for i in model[0:]:\n",
        "    aic.append(i.aic)\n",
        "    bic.append(i.bic)\n",
        "\n",
        "# predicting values\n",
        "forecast=[]\n",
        "for i in model[0:]:\n",
        "    fcast = i.predict(start=len(train3), end=len(train3)+len(test3)-1)\n",
        "    forecast.append(fcast)\n",
        "\n",
        "# calculating MSE and RMSE score\n",
        "MSE = []\n",
        "RMSE = []\n",
        "for i in forecast:\n",
        "    mse = mean_squared_error(test3, i)\n",
        "    rmse = np.sqrt(mse)\n",
        "    MSE.append(mse)\n",
        "    RMSE.append(rmse)\n",
        "\n",
        "# printing model numbers\n",
        "model_no=[]\n",
        "for i in range(0,len(model)):\n",
        "    model_no.append('Model '+str(i))\n",
        "    \n",
        "# dataframe of all results\n",
        "df_results3 = pd.DataFrame({'Model No.': model_no, '(p, d, q)':lis[0:], 'AIC': aic, 'BIC': bic, 'MSE': MSE, 'RMSE': RMSE})\n",
        "df_results3"
      ]
    },
    {
      "cell_type": "code",
      "execution_count": null,
      "id": "bcc6e389",
      "metadata": {
        "id": "bcc6e389",
        "outputId": "5233fdc9-b6c5-45b9-fc2e-ca68ef63d037"
      },
      "outputs": [
        {
          "name": "stdout",
          "output_type": "stream",
          "text": [
            "Taking model with lowest RMSE score:\n"
          ]
        },
        {
          "data": {
            "text/html": [
              "<div>\n",
              "<style scoped>\n",
              "    .dataframe tbody tr th:only-of-type {\n",
              "        vertical-align: middle;\n",
              "    }\n",
              "\n",
              "    .dataframe tbody tr th {\n",
              "        vertical-align: top;\n",
              "    }\n",
              "\n",
              "    .dataframe thead th {\n",
              "        text-align: right;\n",
              "    }\n",
              "</style>\n",
              "<table border=\"1\" class=\"dataframe\">\n",
              "  <thead>\n",
              "    <tr style=\"text-align: right;\">\n",
              "      <th></th>\n",
              "      <th>Model No.</th>\n",
              "      <th>(p, d, q)</th>\n",
              "      <th>AIC</th>\n",
              "      <th>BIC</th>\n",
              "      <th>MSE</th>\n",
              "      <th>RMSE</th>\n",
              "    </tr>\n",
              "  </thead>\n",
              "  <tbody>\n",
              "    <tr>\n",
              "      <th>4</th>\n",
              "      <td>Model 4</td>\n",
              "      <td>(1, 1, 0)</td>\n",
              "      <td>473.221326</td>\n",
              "      <td>479.481123</td>\n",
              "      <td>0.418682</td>\n",
              "      <td>0.647056</td>\n",
              "    </tr>\n",
              "  </tbody>\n",
              "</table>\n",
              "</div>"
            ],
            "text/plain": [
              "  Model No.  (p, d, q)         AIC         BIC       MSE      RMSE\n",
              "4   Model 4  (1, 1, 0)  473.221326  479.481123  0.418682  0.647056"
            ]
          },
          "execution_count": 76,
          "metadata": {},
          "output_type": "execute_result"
        }
      ],
      "source": [
        "print('Taking model with lowest RMSE score:')\n",
        "df_results3[df_results3.RMSE==df_results3.RMSE.min()]\n"
      ]
    },
    {
      "cell_type": "code",
      "execution_count": null,
      "id": "d5406995",
      "metadata": {
        "id": "d5406995",
        "outputId": "e5cab6a9-138f-4158-a3e2-5d99f5c5360f"
      },
      "outputs": [
        {
          "name": "stdout",
          "output_type": "stream",
          "text": [
            "Taking model with lowest BIC score:\n"
          ]
        },
        {
          "data": {
            "text/html": [
              "<div>\n",
              "<style scoped>\n",
              "    .dataframe tbody tr th:only-of-type {\n",
              "        vertical-align: middle;\n",
              "    }\n",
              "\n",
              "    .dataframe tbody tr th {\n",
              "        vertical-align: top;\n",
              "    }\n",
              "\n",
              "    .dataframe thead th {\n",
              "        text-align: right;\n",
              "    }\n",
              "</style>\n",
              "<table border=\"1\" class=\"dataframe\">\n",
              "  <thead>\n",
              "    <tr style=\"text-align: right;\">\n",
              "      <th></th>\n",
              "      <th>Model No.</th>\n",
              "      <th>(p, d, q)</th>\n",
              "      <th>AIC</th>\n",
              "      <th>BIC</th>\n",
              "      <th>MSE</th>\n",
              "      <th>RMSE</th>\n",
              "    </tr>\n",
              "  </thead>\n",
              "  <tbody>\n",
              "    <tr>\n",
              "      <th>1</th>\n",
              "      <td>Model 1</td>\n",
              "      <td>(0, 1, 1)</td>\n",
              "      <td>414.770278</td>\n",
              "      <td>421.030075</td>\n",
              "      <td>0.792044</td>\n",
              "      <td>0.889969</td>\n",
              "    </tr>\n",
              "  </tbody>\n",
              "</table>\n",
              "</div>"
            ],
            "text/plain": [
              "  Model No.  (p, d, q)         AIC         BIC       MSE      RMSE\n",
              "1   Model 1  (0, 1, 1)  414.770278  421.030075  0.792044  0.889969"
            ]
          },
          "execution_count": 77,
          "metadata": {},
          "output_type": "execute_result"
        }
      ],
      "source": [
        "print('Taking model with lowest BIC score:')\n",
        "\n",
        "df_results3[df_results3.BIC==df_results3.BIC.min()]"
      ]
    },
    {
      "cell_type": "code",
      "execution_count": null,
      "id": "26462351",
      "metadata": {
        "id": "26462351",
        "outputId": "3c19ac80-c0a3-4cea-cf99-c97168d2f378"
      },
      "outputs": [
        {
          "name": "stdout",
          "output_type": "stream",
          "text": [
            "Taking model with lowest AIC score:\n"
          ]
        },
        {
          "data": {
            "text/html": [
              "<div>\n",
              "<style scoped>\n",
              "    .dataframe tbody tr th:only-of-type {\n",
              "        vertical-align: middle;\n",
              "    }\n",
              "\n",
              "    .dataframe tbody tr th {\n",
              "        vertical-align: top;\n",
              "    }\n",
              "\n",
              "    .dataframe thead th {\n",
              "        text-align: right;\n",
              "    }\n",
              "</style>\n",
              "<table border=\"1\" class=\"dataframe\">\n",
              "  <thead>\n",
              "    <tr style=\"text-align: right;\">\n",
              "      <th></th>\n",
              "      <th>Model No.</th>\n",
              "      <th>(p, d, q)</th>\n",
              "      <th>AIC</th>\n",
              "      <th>BIC</th>\n",
              "      <th>MSE</th>\n",
              "      <th>RMSE</th>\n",
              "    </tr>\n",
              "  </thead>\n",
              "  <tbody>\n",
              "    <tr>\n",
              "      <th>11</th>\n",
              "      <td>Model 11</td>\n",
              "      <td>(2, 1, 3)</td>\n",
              "      <td>410.257174</td>\n",
              "      <td>429.036566</td>\n",
              "      <td>0.804646</td>\n",
              "      <td>0.897021</td>\n",
              "    </tr>\n",
              "  </tbody>\n",
              "</table>\n",
              "</div>"
            ],
            "text/plain": [
              "   Model No.  (p, d, q)         AIC         BIC       MSE      RMSE\n",
              "11  Model 11  (2, 1, 3)  410.257174  429.036566  0.804646  0.897021"
            ]
          },
          "execution_count": 78,
          "metadata": {},
          "output_type": "execute_result"
        }
      ],
      "source": [
        "print('Taking model with lowest AIC score:')\n",
        "df_results3[df_results3.AIC==df_results3.AIC.min()]"
      ]
    },
    {
      "cell_type": "code",
      "execution_count": null,
      "id": "ceda7ecf",
      "metadata": {
        "id": "ceda7ecf",
        "outputId": "8730dc5e-5d89-4e0e-e6e6-8fd603c7f7a5"
      },
      "outputs": [
        {
          "data": {
            "text/html": [
              "<table class=\"simpletable\">\n",
              "<caption>SARIMAX Results</caption>\n",
              "<tr>\n",
              "  <th>Dep. Variable:</th>            <td>sentiment_count</td>         <th>  No. Observations:  </th>    <td>243</td>  \n",
              "</tr>\n",
              "<tr>\n",
              "  <th>Model:</th>           <td>SARIMAX(2, 1, 3)x(1, 1, [1], 12)</td> <th>  Log Likelihood     </th> <td>-267.908</td>\n",
              "</tr>\n",
              "<tr>\n",
              "  <th>Date:</th>                    <td>Sun, 22 Jan 2023</td>         <th>  AIC                </th>  <td>551.816</td>\n",
              "</tr>\n",
              "<tr>\n",
              "  <th>Time:</th>                        <td>08:57:01</td>             <th>  BIC                </th>  <td>579.321</td>\n",
              "</tr>\n",
              "<tr>\n",
              "  <th>Sample:</th>                          <td>0</td>                <th>  HQIC               </th>  <td>562.911</td>\n",
              "</tr>\n",
              "<tr>\n",
              "  <th></th>                              <td> - 243</td>              <th>                     </th>     <td> </td>   \n",
              "</tr>\n",
              "<tr>\n",
              "  <th>Covariance Type:</th>                <td>opg</td>               <th>                     </th>     <td> </td>   \n",
              "</tr>\n",
              "</table>\n",
              "<table class=\"simpletable\">\n",
              "<tr>\n",
              "      <td></td>        <th>coef</th>     <th>std err</th>      <th>z</th>      <th>P>|z|</th>  <th>[0.025</th>    <th>0.975]</th>  \n",
              "</tr>\n",
              "<tr>\n",
              "  <th>ar.L1</th>    <td>   -1.4894</td> <td>    0.089</td> <td>  -16.689</td> <td> 0.000</td> <td>   -1.664</td> <td>   -1.314</td>\n",
              "</tr>\n",
              "<tr>\n",
              "  <th>ar.L2</th>    <td>   -0.9240</td> <td>    0.077</td> <td>  -12.050</td> <td> 0.000</td> <td>   -1.074</td> <td>   -0.774</td>\n",
              "</tr>\n",
              "<tr>\n",
              "  <th>ma.L1</th>    <td>    0.6244</td> <td>    0.073</td> <td>    8.533</td> <td> 0.000</td> <td>    0.481</td> <td>    0.768</td>\n",
              "</tr>\n",
              "<tr>\n",
              "  <th>ma.L2</th>    <td>   -0.3916</td> <td>    0.058</td> <td>   -6.753</td> <td> 0.000</td> <td>   -0.505</td> <td>   -0.278</td>\n",
              "</tr>\n",
              "<tr>\n",
              "  <th>ma.L3</th>    <td>   -0.8744</td> <td>    0.052</td> <td>  -16.918</td> <td> 0.000</td> <td>   -0.976</td> <td>   -0.773</td>\n",
              "</tr>\n",
              "<tr>\n",
              "  <th>ar.S.L12</th> <td>    0.0638</td> <td>    0.093</td> <td>    0.684</td> <td> 0.494</td> <td>   -0.119</td> <td>    0.247</td>\n",
              "</tr>\n",
              "<tr>\n",
              "  <th>ma.S.L12</th> <td>   -0.9998</td> <td>   41.972</td> <td>   -0.024</td> <td> 0.981</td> <td>  -83.263</td> <td>   81.264</td>\n",
              "</tr>\n",
              "<tr>\n",
              "  <th>sigma2</th>   <td>    0.5112</td> <td>   21.435</td> <td>    0.024</td> <td> 0.981</td> <td>  -41.500</td> <td>   42.523</td>\n",
              "</tr>\n",
              "</table>\n",
              "<table class=\"simpletable\">\n",
              "<tr>\n",
              "  <th>Ljung-Box (L1) (Q):</th>     <td>0.12</td> <th>  Jarque-Bera (JB):  </th> <td>2497.68</td>\n",
              "</tr>\n",
              "<tr>\n",
              "  <th>Prob(Q):</th>                <td>0.72</td> <th>  Prob(JB):          </th>  <td>0.00</td>  \n",
              "</tr>\n",
              "<tr>\n",
              "  <th>Heteroskedasticity (H):</th> <td>1.04</td> <th>  Skew:              </th>  <td>3.11</td>  \n",
              "</tr>\n",
              "<tr>\n",
              "  <th>Prob(H) (two-sided):</th>    <td>0.88</td> <th>  Kurtosis:          </th>  <td>17.90</td> \n",
              "</tr>\n",
              "</table><br/><br/>Warnings:<br/>[1] Covariance matrix calculated using the outer product of gradients (complex-step)."
            ],
            "text/plain": [
              "<class 'statsmodels.iolib.summary.Summary'>\n",
              "\"\"\"\n",
              "                                      SARIMAX Results                                       \n",
              "============================================================================================\n",
              "Dep. Variable:                      sentiment_count   No. Observations:                  243\n",
              "Model:             SARIMAX(2, 1, 3)x(1, 1, [1], 12)   Log Likelihood                -267.908\n",
              "Date:                              Sun, 22 Jan 2023   AIC                            551.816\n",
              "Time:                                      08:57:01   BIC                            579.321\n",
              "Sample:                                           0   HQIC                           562.911\n",
              "                                              - 243                                         \n",
              "Covariance Type:                                opg                                         \n",
              "==============================================================================\n",
              "                 coef    std err          z      P>|z|      [0.025      0.975]\n",
              "------------------------------------------------------------------------------\n",
              "ar.L1         -1.4894      0.089    -16.689      0.000      -1.664      -1.314\n",
              "ar.L2         -0.9240      0.077    -12.050      0.000      -1.074      -0.774\n",
              "ma.L1          0.6244      0.073      8.533      0.000       0.481       0.768\n",
              "ma.L2         -0.3916      0.058     -6.753      0.000      -0.505      -0.278\n",
              "ma.L3         -0.8744      0.052    -16.918      0.000      -0.976      -0.773\n",
              "ar.S.L12       0.0638      0.093      0.684      0.494      -0.119       0.247\n",
              "ma.S.L12      -0.9998     41.972     -0.024      0.981     -83.263      81.264\n",
              "sigma2         0.5112     21.435      0.024      0.981     -41.500      42.523\n",
              "===================================================================================\n",
              "Ljung-Box (L1) (Q):                   0.12   Jarque-Bera (JB):              2497.68\n",
              "Prob(Q):                              0.72   Prob(JB):                         0.00\n",
              "Heteroskedasticity (H):               1.04   Skew:                             3.11\n",
              "Prob(H) (two-sided):                  0.88   Kurtosis:                        17.90\n",
              "===================================================================================\n",
              "\n",
              "Warnings:\n",
              "[1] Covariance matrix calculated using the outer product of gradients (complex-step).\n",
              "\"\"\""
            ]
          },
          "execution_count": 108,
          "metadata": {},
          "output_type": "execute_result"
        }
      ],
      "source": [
        "p=2;q=3;d=1\n",
        "P=1;Q=1;D=1\n",
        "m3 = sm.tsa.statespace.SARIMAX(cd_neg['sentiment_count'],order=(p,d,q),seasonal_order=(P,D,Q,12)).fit()\n",
        "# summarise the model\n",
        "m3.summary()\n"
      ]
    },
    {
      "cell_type": "code",
      "execution_count": null,
      "id": "10ca8dde",
      "metadata": {
        "id": "10ca8dde",
        "outputId": "9de386f8-390f-4b77-e21f-4355139c5643"
      },
      "outputs": [
        {
          "name": "stdout",
          "output_type": "stream",
          "text": [
            "Fail-to-Reject H0. Good model\n"
          ]
        }
      ],
      "source": [
        "# LJung-Box test\n",
        "pvalue = sm.stats.acorr_ljungbox(m3.resid,lags=[1],return_df=True)['lb_pvalue'].values\n",
        "if pvalue < 0.05:\n",
        "    print(\"Reject H0. Bad model\")\n",
        "else:\n",
        "    print(\"Fail-to-Reject H0. Good model\")"
      ]
    },
    {
      "cell_type": "code",
      "execution_count": null,
      "id": "237f60e9",
      "metadata": {
        "id": "237f60e9",
        "outputId": "1951b603-720f-41e8-ac42-96bd427131c0"
      },
      "outputs": [
        {
          "name": "stdout",
          "output_type": "stream",
          "text": [
            "start = 170, end = 242\n"
          ]
        }
      ],
      "source": [
        "start = len(train3) \n",
        "end = len(train3) + len(test3) - 1\n",
        "\n",
        "print('start = {}, end = {}'.format(start,end))"
      ]
    },
    {
      "cell_type": "code",
      "execution_count": null,
      "id": "80e3554a",
      "metadata": {
        "id": "80e3554a",
        "outputId": "3cbd9a23-66ea-47ff-a181-62054d5eeb2d"
      },
      "outputs": [
        {
          "name": "stdout",
          "output_type": "stream",
          "text": [
            "date\n",
            "2012-06-30    3.017437\n",
            "2012-07-31    2.702513\n",
            "2012-08-31    2.548413\n",
            "2012-09-30    2.526526\n",
            "2012-10-31    2.575371\n",
            "                ...   \n",
            "2018-02-28    1.591891\n",
            "2018-03-31    1.977651\n",
            "2018-04-30    1.803353\n",
            "2018-05-31    1.760808\n",
            "2018-06-30    1.618708\n",
            "Name: predicted_mean, Length: 73, dtype: float64\n"
          ]
        }
      ],
      "source": [
        "predictions = m3.predict(start,end)\n",
        "predictions.index=test3.index\n",
        "print(predictions)"
      ]
    },
    {
      "cell_type": "code",
      "execution_count": null,
      "id": "cd311c59",
      "metadata": {
        "id": "cd311c59",
        "outputId": "bc6bb360-aed1-426a-bff6-ea5079e56e08"
      },
      "outputs": [
        {
          "name": "stdout",
          "output_type": "stream",
          "text": [
            "              actual  predicted     error\n",
            "date                                     \n",
            "2012-06-30  1.931298   3.017437 -1.086139\n",
            "2012-07-31  2.317073   2.702513 -0.385440\n",
            "2012-08-31  1.590909   2.548413 -0.957504\n",
            "2012-09-30  2.260870   2.526526 -0.265656\n",
            "2012-10-31  2.810811   2.575371  0.235440\n",
            "...              ...        ...       ...\n",
            "2018-02-28  1.722222   1.591891  0.130331\n",
            "2018-03-31  1.928571   1.977651 -0.049079\n",
            "2018-04-30  1.631579   1.803353 -0.171774\n",
            "2018-05-31  1.656250   1.760808 -0.104558\n",
            "2018-06-30  1.000000   1.618708 -0.618708\n",
            "\n",
            "[73 rows x 3 columns]\n"
          ]
        }
      ],
      "source": [
        "actual = []; pred = []\n",
        "for i in range(len(predictions)):\n",
        "    actual.append(test3['sentiment_count'][i])\n",
        "    pred.append(predictions[i])\n",
        "\n",
        "df_res3 = pd.DataFrame({'actual':actual, 'predicted':pred})\n",
        "df_res3['error'] = df_res3.actual - df_res3.predicted\n",
        "df_res3.index=test3.index\n",
        "print(df_res3)"
      ]
    },
    {
      "cell_type": "code",
      "execution_count": null,
      "id": "dd2b25ff",
      "metadata": {
        "id": "dd2b25ff",
        "outputId": "7eab593e-d777-4787-d5a9-126e05843c97"
      },
      "outputs": [
        {
          "name": "stdout",
          "output_type": "stream",
          "text": [
            "mse: 0.35314138309754745\n",
            "rmse: 0.594257000882234\n"
          ]
        }
      ],
      "source": [
        "mse3=mean_squared_error(df_res3.actual,df_res3.predicted)\n",
        "rmse3=np.sqrt(mse3)\n",
        "print('mse:',mse3)\n",
        "print('rmse:',rmse3)"
      ]
    },
    {
      "cell_type": "code",
      "execution_count": null,
      "id": "e0f89428",
      "metadata": {
        "id": "e0f89428",
        "outputId": "32b31947-10f6-46cd-acb0-ecd96219aae2"
      },
      "outputs": [
        {
          "data": {
            "text/plain": [
              "Text(0.5, 1.0, 'SARIMA Model. Order=(2,1,3)')"
            ]
          },
          "execution_count": 114,
          "metadata": {},
          "output_type": "execute_result"
        },
        {
          "data": {
            "image/png": "[encoded data removed]",
            "text/plain": [
              "<Figure size 720x576 with 1 Axes>"
            ]
          },
          "metadata": {
            "needs_background": "light"
          },
          "output_type": "display_data"
        }
      ],
      "source": [
        "msg = 'SARIMA Model. Order=(' + str(p) + ',' + str(d) + ',' + str(q) + ')'\n",
        "df_res3.actual.plot(figsize=(10,8),legend=True)\n",
        "df_res3.predicted.plot(legend=True)\n",
        "plt.title(msg)"
      ]
    },
    {
      "cell_type": "code",
      "execution_count": null,
      "id": "a4ecb4b9",
      "metadata": {
        "id": "a4ecb4b9",
        "outputId": "3567790c-a32e-457e-d4b2-e06fed313ad4"
      },
      "outputs": [
        {
          "name": "stdout",
          "output_type": "stream",
          "text": [
            "date\n",
            "2018-06-30    1.818342\n",
            "2018-07-31    1.409346\n",
            "2018-08-31    1.790627\n",
            "2018-09-30    1.862968\n",
            "2018-10-31    2.132692\n",
            "Name: Forecast, dtype: float64\n"
          ]
        }
      ],
      "source": [
        "fcast3 = m3.predict(start=len(cd_neg),end=len(cd_neg)+36).rename('Forecast')\n",
        "fcast3.index=future_dates.date\n",
        "print(fcast3.head())"
      ]
    },
    {
      "cell_type": "code",
      "execution_count": null,
      "id": "9371d02a",
      "metadata": {
        "id": "9371d02a",
        "outputId": "c710f87c-1f45-45fb-8c53-7e1c7435aa7f"
      },
      "outputs": [
        {
          "data": {
            "text/plain": [
              "<AxesSubplot:xlabel='date', ylabel='count of negative sentiment'>"
            ]
          },
          "execution_count": 116,
          "metadata": {},
          "output_type": "execute_result"
        },
        {
          "data": {
            "image/png": "[encoded data removed]",
            "text/plain": [
              "<Figure size 720x576 with 1 Axes>"
            ]
          },
          "metadata": {
            "needs_background": "light"
          },
          "output_type": "display_data"
        }
      ],
      "source": [
        "df_res3.actual.plot(figsize=(10,8),legend=True)\n",
        "df_res3.predicted.plot(legend=True)\n",
        "plt.ylabel('count of negative sentiment')\n",
        "fcast3.plot(legend=True)"
      ]
    },
    {
      "cell_type": "code",
      "execution_count": null,
      "id": "224303c5",
      "metadata": {
        "id": "224303c5"
      },
      "outputs": [],
      "source": []
    }
  ],
  "metadata": {
    "kernelspec": {
      "display_name": "Python 3 (ipykernel)",
      "language": "python",
      "name": "python3"
    },
    "language_info": {
      "codemirror_mode": {
        "name": "ipython",
        "version": 3
      },
      "file_extension": ".py",
      "mimetype": "text/x-python",
      "name": "python",
      "nbconvert_exporter": "python",
      "pygments_lexer": "ipython3",
      "version": "3.9.12"
    },
    "colab": {
      "provenance": []
    }
  },
  "nbformat": 4,
  "nbformat_minor": 5
}