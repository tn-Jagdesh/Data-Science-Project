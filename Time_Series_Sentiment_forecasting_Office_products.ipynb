{
  "cells": [
    {
      "cell_type": "markdown",
      "id": "9b3bfc11",
      "metadata": {
        "id": "9b3bfc11"
      },
      "source": [
        "## Time Series-Sentiment forecasting"
      ]
    },
    {
      "cell_type": "markdown",
      "id": "7d1dd1ad",
      "metadata": {
        "id": "7d1dd1ad"
      },
      "source": [
        "### Import libraries"
      ]
    },
    {
      "cell_type": "code",
      "execution_count": null,
      "id": "c211ded5",
      "metadata": {
        "id": "c211ded5"
      },
      "outputs": [],
      "source": [
        "\n",
        "import numpy as np\n",
        "import pandas as pd\n",
        "import gzip                            # to extract file from zip file\n",
        "import json  \n",
        "\n",
        "#decompose\n",
        "from statsmodels.tsa.seasonal import seasonal_decompose\n",
        "\n",
        "# dickey fuller test for stationarity\n",
        "from statsmodels.tsa.stattools import acf,pacf,adfuller\n",
        "\n",
        "# ARIMA\n",
        "from statsmodels.tsa.arima.model import ARIMA\n",
        "\n",
        "# plots\n",
        "import matplotlib.pyplot as plt\n",
        "from statsmodels.graphics.tsaplots import plot_acf, plot_pacf\n",
        "\n",
        "from sklearn.metrics import mean_squared_error\n",
        "\n",
        "# Ljung-Box test for model goodness\n",
        "import statsmodels.api as sm\n",
        "# resampling\n",
        "from sklearn.utils import resample\n",
        "\n",
        "import warnings\n",
        "warnings.filterwarnings(\"ignore\")"
      ]
    },
    {
      "cell_type": "markdown",
      "id": "55c7ad36",
      "metadata": {
        "id": "55c7ad36"
      },
      "source": [
        "### Importing data set"
      ]
    },
    {
      "cell_type": "code",
      "execution_count": null,
      "id": "78de5e36",
      "metadata": {
        "id": "78de5e36"
      },
      "outputs": [],
      "source": [
        "office_sent = pd.read_csv(\"C:/Users/sandp/Downloads/office_data_final.csv\")"
      ]
    },
    {
      "cell_type": "code",
      "execution_count": null,
      "id": "0e3abff9",
      "metadata": {
        "id": "0e3abff9",
        "outputId": "df3cd88e-4d67-4e78-bcb0-b84216774b70"
      },
      "outputs": [
        {
          "data": {
            "text/html": [
              "<div>\n",
              "<style scoped>\n",
              "    .dataframe tbody tr th:only-of-type {\n",
              "        vertical-align: middle;\n",
              "    }\n",
              "\n",
              "    .dataframe tbody tr th {\n",
              "        vertical-align: top;\n",
              "    }\n",
              "\n",
              "    .dataframe thead th {\n",
              "        text-align: right;\n",
              "    }\n",
              "</style>\n",
              "<table border=\"1\" class=\"dataframe\">\n",
              "  <thead>\n",
              "    <tr style=\"text-align: right;\">\n",
              "      <th></th>\n",
              "      <th>ratings</th>\n",
              "      <th>verified</th>\n",
              "      <th>date</th>\n",
              "      <th>reviewerID</th>\n",
              "      <th>asin</th>\n",
              "      <th>review</th>\n",
              "      <th>summary</th>\n",
              "      <th>unixReviewTime</th>\n",
              "      <th>category</th>\n",
              "      <th>description</th>\n",
              "      <th>...</th>\n",
              "      <th>Sentiment</th>\n",
              "      <th>word_count</th>\n",
              "      <th>char_count</th>\n",
              "      <th>avg_word</th>\n",
              "      <th>polarity</th>\n",
              "      <th>label</th>\n",
              "      <th>year</th>\n",
              "      <th>rating_class_num</th>\n",
              "      <th>review_length</th>\n",
              "      <th>review_length_bin</th>\n",
              "    </tr>\n",
              "  </thead>\n",
              "  <tbody>\n",
              "    <tr>\n",
              "      <th>0</th>\n",
              "      <td>4.0</td>\n",
              "      <td>True</td>\n",
              "      <td>2017-11-07</td>\n",
              "      <td>A2NIJTYWADLK57</td>\n",
              "      <td>0140503528</td>\n",
              "      <td>kids like story really wanted board book one s...</td>\n",
              "      <td>good story, small size book though</td>\n",
              "      <td>1510012800</td>\n",
              "      <td>['Office Products', 'Office &amp; School Supplies'...</td>\n",
              "      <td>['Corduroy the bear goes to the launderette wi...</td>\n",
              "      <td>...</td>\n",
              "      <td>Positive</td>\n",
              "      <td>11</td>\n",
              "      <td>62</td>\n",
              "      <td>4.7</td>\n",
              "      <td>-0.016667</td>\n",
              "      <td>1.0</td>\n",
              "      <td>2017</td>\n",
              "      <td>1</td>\n",
              "      <td>11</td>\n",
              "      <td>(0, 100]</td>\n",
              "    </tr>\n",
              "    <tr>\n",
              "      <th>1</th>\n",
              "      <td>4.0</td>\n",
              "      <td>True</td>\n",
              "      <td>2017-03-07</td>\n",
              "      <td>A2827D8EEURMP4</td>\n",
              "      <td>0140503528</td>\n",
              "      <td>bought used came great condition almost like n...</td>\n",
              "      <td>Good</td>\n",
              "      <td>1488844800</td>\n",
              "      <td>['Office Products', 'Office &amp; School Supplies'...</td>\n",
              "      <td>['Corduroy the bear goes to the launderette wi...</td>\n",
              "      <td>...</td>\n",
              "      <td>Positive</td>\n",
              "      <td>20</td>\n",
              "      <td>135</td>\n",
              "      <td>5.8</td>\n",
              "      <td>0.625000</td>\n",
              "      <td>1.0</td>\n",
              "      <td>2017</td>\n",
              "      <td>1</td>\n",
              "      <td>20</td>\n",
              "      <td>(0, 100]</td>\n",
              "    </tr>\n",
              "  </tbody>\n",
              "</table>\n",
              "<p>2 rows × 30 columns</p>\n",
              "</div>"
            ],
            "text/plain": [
              "   ratings  verified        date      reviewerID        asin  \\\n",
              "0      4.0      True  2017-11-07  A2NIJTYWADLK57  0140503528   \n",
              "1      4.0      True  2017-03-07  A2827D8EEURMP4  0140503528   \n",
              "\n",
              "                                              review  \\\n",
              "0  kids like story really wanted board book one s...   \n",
              "1  bought used came great condition almost like n...   \n",
              "\n",
              "                              summary  unixReviewTime  \\\n",
              "0  good story, small size book though      1510012800   \n",
              "1                                Good      1488844800   \n",
              "\n",
              "                                            category  \\\n",
              "0  ['Office Products', 'Office & School Supplies'...   \n",
              "1  ['Office Products', 'Office & School Supplies'...   \n",
              "\n",
              "                                         description  ... Sentiment  \\\n",
              "0  ['Corduroy the bear goes to the launderette wi...  ...  Positive   \n",
              "1  ['Corduroy the bear goes to the launderette wi...  ...  Positive   \n",
              "\n",
              "  word_count  char_count avg_word  polarity  label  year  rating_class_num  \\\n",
              "0         11          62      4.7 -0.016667    1.0  2017                 1   \n",
              "1         20         135      5.8  0.625000    1.0  2017                 1   \n",
              "\n",
              "   review_length review_length_bin  \n",
              "0             11          (0, 100]  \n",
              "1             20          (0, 100]  \n",
              "\n",
              "[2 rows x 30 columns]"
            ]
          },
          "execution_count": 3,
          "metadata": {},
          "output_type": "execute_result"
        }
      ],
      "source": [
        "office_sent.head(2)"
      ]
    },
    {
      "cell_type": "code",
      "execution_count": null,
      "id": "b101fec6",
      "metadata": {
        "id": "b101fec6"
      },
      "outputs": [],
      "source": [
        "#Extracting month from date\n",
        "office_sent['date']=pd.to_datetime(office_sent['date'])\n",
        "office_sent['Month'] = office_sent['date'].dt.month "
      ]
    },
    {
      "cell_type": "code",
      "execution_count": null,
      "id": "fad5131d",
      "metadata": {
        "id": "fad5131d"
      },
      "outputs": [],
      "source": [
        "# Resampling\n",
        "office_pos = office_sent[office_sent['Sentiment']=='Positive']\n",
        "office_neu = office_sent[office_sent['Sentiment']=='Neutral']\n",
        "office_neg = office_sent[office_sent['Sentiment']=='Negative']\n",
        " \n",
        "\n",
        "df_office_pos = resample(office_pos, \n",
        "                                 replace=False,    \n",
        "                                 n_samples=35000)\n",
        "\n",
        "df_office_neu = resample(office_neu, \n",
        "                                 replace=True,     \n",
        "                                 n_samples=35000)\n",
        "\n",
        "df_office_neg = resample(office_neg, \n",
        "                        replace=True, n_samples=35000)\n",
        "\n"
      ]
    },
    {
      "cell_type": "code",
      "execution_count": null,
      "id": "e7682ab3",
      "metadata": {
        "id": "e7682ab3",
        "outputId": "26847554-9da7-48a7-e8da-fe94911d501e"
      },
      "outputs": [
        {
          "data": {
            "text/html": [
              "<div>\n",
              "<style scoped>\n",
              "    .dataframe tbody tr th:only-of-type {\n",
              "        vertical-align: middle;\n",
              "    }\n",
              "\n",
              "    .dataframe tbody tr th {\n",
              "        vertical-align: top;\n",
              "    }\n",
              "\n",
              "    .dataframe thead th {\n",
              "        text-align: right;\n",
              "    }\n",
              "</style>\n",
              "<table border=\"1\" class=\"dataframe\">\n",
              "  <thead>\n",
              "    <tr style=\"text-align: right;\">\n",
              "      <th></th>\n",
              "      <th>ratings</th>\n",
              "      <th>verified</th>\n",
              "      <th>date</th>\n",
              "      <th>reviewerID</th>\n",
              "      <th>asin</th>\n",
              "      <th>review</th>\n",
              "      <th>summary</th>\n",
              "      <th>unixReviewTime</th>\n",
              "      <th>category</th>\n",
              "      <th>description</th>\n",
              "      <th>...</th>\n",
              "      <th>word_count</th>\n",
              "      <th>char_count</th>\n",
              "      <th>avg_word</th>\n",
              "      <th>polarity</th>\n",
              "      <th>label</th>\n",
              "      <th>year</th>\n",
              "      <th>rating_class_num</th>\n",
              "      <th>review_length</th>\n",
              "      <th>review_length_bin</th>\n",
              "      <th>Month</th>\n",
              "    </tr>\n",
              "  </thead>\n",
              "  <tbody>\n",
              "    <tr>\n",
              "      <th>160925</th>\n",
              "      <td>5.0</td>\n",
              "      <td>True</td>\n",
              "      <td>2017-05-15</td>\n",
              "      <td>A3SXRYRS188QZ3</td>\n",
              "      <td>B000XAORTC</td>\n",
              "      <td>really nice lettering calligraphy pen took min...</td>\n",
              "      <td>Really nice lettering. I do calligraphy</td>\n",
              "      <td>1494806400</td>\n",
              "      <td>['Office Products', 'Office &amp; School Supplies'...</td>\n",
              "      <td>[\"Flexible brush tip and fine tip in one marke...</td>\n",
              "      <td>...</td>\n",
              "      <td>18</td>\n",
              "      <td>115</td>\n",
              "      <td>5.4</td>\n",
              "      <td>0.175000</td>\n",
              "      <td>1.0</td>\n",
              "      <td>2017</td>\n",
              "      <td>1</td>\n",
              "      <td>18</td>\n",
              "      <td>(0, 100]</td>\n",
              "      <td>5</td>\n",
              "    </tr>\n",
              "    <tr>\n",
              "      <th>549111</th>\n",
              "      <td>5.0</td>\n",
              "      <td>False</td>\n",
              "      <td>2016-03-07</td>\n",
              "      <td>AIN73XQ0LYBTF</td>\n",
              "      <td>B00GX1W3KA</td>\n",
              "      <td>color pencils pens colors light erase easily</td>\n",
              "      <td>Great!</td>\n",
              "      <td>1457308800</td>\n",
              "      <td>['Office Products', 'Office &amp; School Supplies'...</td>\n",
              "      <td>['Like the popular Pilot FriXion pens, these F...</td>\n",
              "      <td>...</td>\n",
              "      <td>7</td>\n",
              "      <td>44</td>\n",
              "      <td>5.4</td>\n",
              "      <td>0.416667</td>\n",
              "      <td>1.0</td>\n",
              "      <td>2016</td>\n",
              "      <td>1</td>\n",
              "      <td>7</td>\n",
              "      <td>(0, 100]</td>\n",
              "      <td>3</td>\n",
              "    </tr>\n",
              "    <tr>\n",
              "      <th>116288</th>\n",
              "      <td>5.0</td>\n",
              "      <td>True</td>\n",
              "      <td>2014-01-11</td>\n",
              "      <td>A2GYV87WW0DMSN</td>\n",
              "      <td>B000E7AIA6</td>\n",
              "      <td>several desk using years jumbo size hold large...</td>\n",
              "      <td>Excellent Value</td>\n",
              "      <td>1389398400</td>\n",
              "      <td>['Office Products', 'Office &amp; School Supplies'...</td>\n",
              "      <td>[\"Extra capacity and added heiight easily hold...</td>\n",
              "      <td>...</td>\n",
              "      <td>37</td>\n",
              "      <td>237</td>\n",
              "      <td>5.4</td>\n",
              "      <td>0.201265</td>\n",
              "      <td>1.0</td>\n",
              "      <td>2014</td>\n",
              "      <td>1</td>\n",
              "      <td>37</td>\n",
              "      <td>(0, 100]</td>\n",
              "      <td>1</td>\n",
              "    </tr>\n",
              "    <tr>\n",
              "      <th>462742</th>\n",
              "      <td>5.0</td>\n",
              "      <td>True</td>\n",
              "      <td>2016-10-19</td>\n",
              "      <td>A2ABP506X7KEW0</td>\n",
              "      <td>B00YDG4ND2</td>\n",
              "      <td>amazing deal best multifunction printer ever b...</td>\n",
              "      <td>Amazing deal, the best multi-function printer ...</td>\n",
              "      <td>1476835200</td>\n",
              "      <td>['Office Products', 'Office Electronics', 'Pri...</td>\n",
              "      <td>['A complete multifunction printer for easy, e...</td>\n",
              "      <td>...</td>\n",
              "      <td>12</td>\n",
              "      <td>84</td>\n",
              "      <td>6.1</td>\n",
              "      <td>0.550000</td>\n",
              "      <td>1.0</td>\n",
              "      <td>2016</td>\n",
              "      <td>1</td>\n",
              "      <td>12</td>\n",
              "      <td>(0, 100]</td>\n",
              "      <td>10</td>\n",
              "    </tr>\n",
              "    <tr>\n",
              "      <th>109385</th>\n",
              "      <td>5.0</td>\n",
              "      <td>True</td>\n",
              "      <td>2016-01-29</td>\n",
              "      <td>A2PJCHN6IGG9DR</td>\n",
              "      <td>B000ANLD1M</td>\n",
              "      <td>described great packages</td>\n",
              "      <td>Great</td>\n",
              "      <td>1454025600</td>\n",
              "      <td>['Office Products', 'Office &amp;amp; School Suppl...</td>\n",
              "      <td>[\"Not your basic label. UltraHold permanent ad...</td>\n",
              "      <td>...</td>\n",
              "      <td>3</td>\n",
              "      <td>24</td>\n",
              "      <td>7.3</td>\n",
              "      <td>0.800000</td>\n",
              "      <td>1.0</td>\n",
              "      <td>2016</td>\n",
              "      <td>1</td>\n",
              "      <td>3</td>\n",
              "      <td>(0, 100]</td>\n",
              "      <td>1</td>\n",
              "    </tr>\n",
              "  </tbody>\n",
              "</table>\n",
              "<p>5 rows × 31 columns</p>\n",
              "</div>"
            ],
            "text/plain": [
              "        ratings  verified       date      reviewerID        asin  \\\n",
              "160925      5.0      True 2017-05-15  A3SXRYRS188QZ3  B000XAORTC   \n",
              "549111      5.0     False 2016-03-07   AIN73XQ0LYBTF  B00GX1W3KA   \n",
              "116288      5.0      True 2014-01-11  A2GYV87WW0DMSN  B000E7AIA6   \n",
              "462742      5.0      True 2016-10-19  A2ABP506X7KEW0  B00YDG4ND2   \n",
              "109385      5.0      True 2016-01-29  A2PJCHN6IGG9DR  B000ANLD1M   \n",
              "\n",
              "                                                   review  \\\n",
              "160925  really nice lettering calligraphy pen took min...   \n",
              "549111       color pencils pens colors light erase easily   \n",
              "116288  several desk using years jumbo size hold large...   \n",
              "462742  amazing deal best multifunction printer ever b...   \n",
              "109385                           described great packages   \n",
              "\n",
              "                                                  summary  unixReviewTime  \\\n",
              "160925            Really nice lettering. I do calligraphy      1494806400   \n",
              "549111                                             Great!      1457308800   \n",
              "116288                                    Excellent Value      1389398400   \n",
              "462742  Amazing deal, the best multi-function printer ...      1476835200   \n",
              "109385                                              Great      1454025600   \n",
              "\n",
              "                                                 category  \\\n",
              "160925  ['Office Products', 'Office & School Supplies'...   \n",
              "549111  ['Office Products', 'Office & School Supplies'...   \n",
              "116288  ['Office Products', 'Office & School Supplies'...   \n",
              "462742  ['Office Products', 'Office Electronics', 'Pri...   \n",
              "109385  ['Office Products', 'Office &amp; School Suppl...   \n",
              "\n",
              "                                              description  ... word_count  \\\n",
              "160925  [\"Flexible brush tip and fine tip in one marke...  ...         18   \n",
              "549111  ['Like the popular Pilot FriXion pens, these F...  ...          7   \n",
              "116288  [\"Extra capacity and added heiight easily hold...  ...         37   \n",
              "462742  ['A complete multifunction printer for easy, e...  ...         12   \n",
              "109385  [\"Not your basic label. UltraHold permanent ad...  ...          3   \n",
              "\n",
              "       char_count  avg_word  polarity label  year  rating_class_num  \\\n",
              "160925        115       5.4  0.175000   1.0  2017                 1   \n",
              "549111         44       5.4  0.416667   1.0  2016                 1   \n",
              "116288        237       5.4  0.201265   1.0  2014                 1   \n",
              "462742         84       6.1  0.550000   1.0  2016                 1   \n",
              "109385         24       7.3  0.800000   1.0  2016                 1   \n",
              "\n",
              "        review_length  review_length_bin Month  \n",
              "160925             18           (0, 100]     5  \n",
              "549111              7           (0, 100]     3  \n",
              "116288             37           (0, 100]     1  \n",
              "462742             12           (0, 100]    10  \n",
              "109385              3           (0, 100]     1  \n",
              "\n",
              "[5 rows x 31 columns]"
            ]
          },
          "execution_count": 7,
          "metadata": {},
          "output_type": "execute_result"
        }
      ],
      "source": [
        "df_office_pos.head()"
      ]
    },
    {
      "cell_type": "markdown",
      "id": "a4a6e4b4",
      "metadata": {
        "id": "a4a6e4b4"
      },
      "source": [
        "### Taking month wise count of sentiment for products"
      ]
    },
    {
      "cell_type": "code",
      "execution_count": null,
      "id": "79a7aa60",
      "metadata": {
        "id": "79a7aa60",
        "outputId": "f7b1bb03-c5bc-435b-9fcd-16e5c6426ae3"
      },
      "outputs": [
        {
          "data": {
            "text/html": [
              "<div>\n",
              "<style scoped>\n",
              "    .dataframe tbody tr th:only-of-type {\n",
              "        vertical-align: middle;\n",
              "    }\n",
              "\n",
              "    .dataframe tbody tr th {\n",
              "        vertical-align: top;\n",
              "    }\n",
              "\n",
              "    .dataframe thead th {\n",
              "        text-align: right;\n",
              "    }\n",
              "</style>\n",
              "<table border=\"1\" class=\"dataframe\">\n",
              "  <thead>\n",
              "    <tr style=\"text-align: right;\">\n",
              "      <th></th>\n",
              "      <th>asin</th>\n",
              "      <th>Month</th>\n",
              "      <th>Sentiment</th>\n",
              "      <th>sentiment_count</th>\n",
              "    </tr>\n",
              "  </thead>\n",
              "  <tbody>\n",
              "    <tr>\n",
              "      <th>0</th>\n",
              "      <td>0140503528</td>\n",
              "      <td>8</td>\n",
              "      <td>Positive</td>\n",
              "      <td>1</td>\n",
              "    </tr>\n",
              "    <tr>\n",
              "      <th>1</th>\n",
              "      <td>0310432065</td>\n",
              "      <td>8</td>\n",
              "      <td>Positive</td>\n",
              "      <td>1</td>\n",
              "    </tr>\n",
              "    <tr>\n",
              "      <th>2</th>\n",
              "      <td>0310520347</td>\n",
              "      <td>7</td>\n",
              "      <td>Positive</td>\n",
              "      <td>1</td>\n",
              "    </tr>\n",
              "    <tr>\n",
              "      <th>3</th>\n",
              "      <td>0310520347</td>\n",
              "      <td>10</td>\n",
              "      <td>Positive</td>\n",
              "      <td>1</td>\n",
              "    </tr>\n",
              "    <tr>\n",
              "      <th>4</th>\n",
              "      <td>0310520347</td>\n",
              "      <td>11</td>\n",
              "      <td>Positive</td>\n",
              "      <td>1</td>\n",
              "    </tr>\n",
              "    <tr>\n",
              "      <th>...</th>\n",
              "      <td>...</td>\n",
              "      <td>...</td>\n",
              "      <td>...</td>\n",
              "      <td>...</td>\n",
              "    </tr>\n",
              "    <tr>\n",
              "      <th>27686</th>\n",
              "      <td>B01HGD8OYM</td>\n",
              "      <td>7</td>\n",
              "      <td>Positive</td>\n",
              "      <td>1</td>\n",
              "    </tr>\n",
              "    <tr>\n",
              "      <th>27687</th>\n",
              "      <td>B01HH3964I</td>\n",
              "      <td>11</td>\n",
              "      <td>Positive</td>\n",
              "      <td>1</td>\n",
              "    </tr>\n",
              "    <tr>\n",
              "      <th>27688</th>\n",
              "      <td>B01HH8E2QA</td>\n",
              "      <td>7</td>\n",
              "      <td>Positive</td>\n",
              "      <td>1</td>\n",
              "    </tr>\n",
              "    <tr>\n",
              "      <th>27689</th>\n",
              "      <td>B01HHLLLIO</td>\n",
              "      <td>11</td>\n",
              "      <td>Positive</td>\n",
              "      <td>1</td>\n",
              "    </tr>\n",
              "    <tr>\n",
              "      <th>27690</th>\n",
              "      <td>B01HIL946E</td>\n",
              "      <td>1</td>\n",
              "      <td>Positive</td>\n",
              "      <td>2</td>\n",
              "    </tr>\n",
              "  </tbody>\n",
              "</table>\n",
              "<p>27691 rows × 4 columns</p>\n",
              "</div>"
            ],
            "text/plain": [
              "             asin  Month Sentiment  sentiment_count\n",
              "0      0140503528      8  Positive                1\n",
              "1      0310432065      8  Positive                1\n",
              "2      0310520347      7  Positive                1\n",
              "3      0310520347     10  Positive                1\n",
              "4      0310520347     11  Positive                1\n",
              "...           ...    ...       ...              ...\n",
              "27686  B01HGD8OYM      7  Positive                1\n",
              "27687  B01HH3964I     11  Positive                1\n",
              "27688  B01HH8E2QA      7  Positive                1\n",
              "27689  B01HHLLLIO     11  Positive                1\n",
              "27690  B01HIL946E      1  Positive                2\n",
              "\n",
              "[27691 rows x 4 columns]"
            ]
          },
          "execution_count": 8,
          "metadata": {},
          "output_type": "execute_result"
        }
      ],
      "source": [
        "office_pos_count=df_office_pos.groupby(['asin','Month','Sentiment']).size().reset_index(name='sentiment_count')\n",
        "office_pos_count"
      ]
    },
    {
      "cell_type": "code",
      "execution_count": null,
      "id": "ba3933da",
      "metadata": {
        "id": "ba3933da"
      },
      "outputs": [],
      "source": [
        "office_pos=pd.merge(df_office_pos,office_pos_count)"
      ]
    },
    {
      "cell_type": "markdown",
      "id": "a3dba55a",
      "metadata": {
        "id": "a3dba55a"
      },
      "source": [
        "### Time series analysis"
      ]
    },
    {
      "cell_type": "code",
      "execution_count": null,
      "id": "d39a3d0c",
      "metadata": {
        "id": "d39a3d0c",
        "outputId": "010fa8a5-571c-4be5-ce6e-43ff4e5efbc5"
      },
      "outputs": [
        {
          "data": {
            "text/html": [
              "<div>\n",
              "<style scoped>\n",
              "    .dataframe tbody tr th:only-of-type {\n",
              "        vertical-align: middle;\n",
              "    }\n",
              "\n",
              "    .dataframe tbody tr th {\n",
              "        vertical-align: top;\n",
              "    }\n",
              "\n",
              "    .dataframe thead th {\n",
              "        text-align: right;\n",
              "    }\n",
              "</style>\n",
              "<table border=\"1\" class=\"dataframe\">\n",
              "  <thead>\n",
              "    <tr style=\"text-align: right;\">\n",
              "      <th></th>\n",
              "      <th>sentiment_count</th>\n",
              "    </tr>\n",
              "    <tr>\n",
              "      <th>date</th>\n",
              "      <th></th>\n",
              "    </tr>\n",
              "  </thead>\n",
              "  <tbody>\n",
              "    <tr>\n",
              "      <th>2000-03-21</th>\n",
              "      <td>1</td>\n",
              "    </tr>\n",
              "    <tr>\n",
              "      <th>2000-04-07</th>\n",
              "      <td>1</td>\n",
              "    </tr>\n",
              "    <tr>\n",
              "      <th>2000-08-19</th>\n",
              "      <td>1</td>\n",
              "    </tr>\n",
              "    <tr>\n",
              "      <th>2000-09-18</th>\n",
              "      <td>1</td>\n",
              "    </tr>\n",
              "    <tr>\n",
              "      <th>2000-12-06</th>\n",
              "      <td>1</td>\n",
              "    </tr>\n",
              "    <tr>\n",
              "      <th>...</th>\n",
              "      <td>...</td>\n",
              "    </tr>\n",
              "    <tr>\n",
              "      <th>2018-09-18</th>\n",
              "      <td>1</td>\n",
              "    </tr>\n",
              "    <tr>\n",
              "      <th>2018-09-21</th>\n",
              "      <td>3</td>\n",
              "    </tr>\n",
              "    <tr>\n",
              "      <th>2018-09-24</th>\n",
              "      <td>1</td>\n",
              "    </tr>\n",
              "    <tr>\n",
              "      <th>2018-09-25</th>\n",
              "      <td>1</td>\n",
              "    </tr>\n",
              "    <tr>\n",
              "      <th>2018-09-29</th>\n",
              "      <td>1</td>\n",
              "    </tr>\n",
              "  </tbody>\n",
              "</table>\n",
              "<p>35000 rows × 1 columns</p>\n",
              "</div>"
            ],
            "text/plain": [
              "            sentiment_count\n",
              "date                       \n",
              "2000-03-21                1\n",
              "2000-04-07                1\n",
              "2000-08-19                1\n",
              "2000-09-18                1\n",
              "2000-12-06                1\n",
              "...                     ...\n",
              "2018-09-18                1\n",
              "2018-09-21                3\n",
              "2018-09-24                1\n",
              "2018-09-25                1\n",
              "2018-09-29                1\n",
              "\n",
              "[35000 rows x 1 columns]"
            ]
          },
          "execution_count": 10,
          "metadata": {},
          "output_type": "execute_result"
        }
      ],
      "source": [
        "office_pos=office_pos[['date','sentiment_count']]\n",
        "office_pos=office_pos.set_index('date')\n",
        "office_pos=office_pos.sort_values(by=['date'])\n",
        "office_pos"
      ]
    },
    {
      "cell_type": "markdown",
      "id": "7773d26e",
      "metadata": {
        "id": "7773d26e"
      },
      "source": [
        "### Resampling monthwise"
      ]
    },
    {
      "cell_type": "code",
      "execution_count": null,
      "id": "c7fffe8e",
      "metadata": {
        "id": "c7fffe8e",
        "outputId": "51b346d6-3c72-4e36-bb2d-5e60f3a9384a"
      },
      "outputs": [
        {
          "data": {
            "text/html": [
              "<div>\n",
              "<style scoped>\n",
              "    .dataframe tbody tr th:only-of-type {\n",
              "        vertical-align: middle;\n",
              "    }\n",
              "\n",
              "    .dataframe tbody tr th {\n",
              "        vertical-align: top;\n",
              "    }\n",
              "\n",
              "    .dataframe thead th {\n",
              "        text-align: right;\n",
              "    }\n",
              "</style>\n",
              "<table border=\"1\" class=\"dataframe\">\n",
              "  <thead>\n",
              "    <tr style=\"text-align: right;\">\n",
              "      <th></th>\n",
              "      <th>sentiment_count</th>\n",
              "    </tr>\n",
              "    <tr>\n",
              "      <th>date</th>\n",
              "      <th></th>\n",
              "    </tr>\n",
              "  </thead>\n",
              "  <tbody>\n",
              "    <tr>\n",
              "      <th>2000-03-31</th>\n",
              "      <td>1.0</td>\n",
              "    </tr>\n",
              "    <tr>\n",
              "      <th>2000-04-30</th>\n",
              "      <td>1.0</td>\n",
              "    </tr>\n",
              "    <tr>\n",
              "      <th>2000-05-31</th>\n",
              "      <td>NaN</td>\n",
              "    </tr>\n",
              "    <tr>\n",
              "      <th>2000-06-30</th>\n",
              "      <td>NaN</td>\n",
              "    </tr>\n",
              "    <tr>\n",
              "      <th>2000-07-31</th>\n",
              "      <td>NaN</td>\n",
              "    </tr>\n",
              "  </tbody>\n",
              "</table>\n",
              "</div>"
            ],
            "text/plain": [
              "            sentiment_count\n",
              "date                       \n",
              "2000-03-31              1.0\n",
              "2000-04-30              1.0\n",
              "2000-05-31              NaN\n",
              "2000-06-30              NaN\n",
              "2000-07-31              NaN"
            ]
          },
          "execution_count": 11,
          "metadata": {},
          "output_type": "execute_result"
        }
      ],
      "source": [
        "office_pos=office_pos.resample('M').mean()\n",
        "office_pos.head()"
      ]
    },
    {
      "cell_type": "code",
      "execution_count": null,
      "id": "e46dac5d",
      "metadata": {
        "id": "e46dac5d",
        "outputId": "5b536dc6-0967-4cb0-a849-79af3d4e22e0"
      },
      "outputs": [
        {
          "data": {
            "text/html": [
              "<div>\n",
              "<style scoped>\n",
              "    .dataframe tbody tr th:only-of-type {\n",
              "        vertical-align: middle;\n",
              "    }\n",
              "\n",
              "    .dataframe tbody tr th {\n",
              "        vertical-align: top;\n",
              "    }\n",
              "\n",
              "    .dataframe thead th {\n",
              "        text-align: right;\n",
              "    }\n",
              "</style>\n",
              "<table border=\"1\" class=\"dataframe\">\n",
              "  <thead>\n",
              "    <tr style=\"text-align: right;\">\n",
              "      <th></th>\n",
              "      <th>sentiment_count</th>\n",
              "    </tr>\n",
              "    <tr>\n",
              "      <th>date</th>\n",
              "      <th></th>\n",
              "    </tr>\n",
              "  </thead>\n",
              "  <tbody>\n",
              "    <tr>\n",
              "      <th>2018-05-31</th>\n",
              "      <td>1.454545</td>\n",
              "    </tr>\n",
              "    <tr>\n",
              "      <th>2018-06-30</th>\n",
              "      <td>1.272189</td>\n",
              "    </tr>\n",
              "    <tr>\n",
              "      <th>2018-07-31</th>\n",
              "      <td>1.286822</td>\n",
              "    </tr>\n",
              "    <tr>\n",
              "      <th>2018-08-31</th>\n",
              "      <td>1.243243</td>\n",
              "    </tr>\n",
              "    <tr>\n",
              "      <th>2018-09-30</th>\n",
              "      <td>1.391304</td>\n",
              "    </tr>\n",
              "  </tbody>\n",
              "</table>\n",
              "</div>"
            ],
            "text/plain": [
              "            sentiment_count\n",
              "date                       \n",
              "2018-05-31         1.454545\n",
              "2018-06-30         1.272189\n",
              "2018-07-31         1.286822\n",
              "2018-08-31         1.243243\n",
              "2018-09-30         1.391304"
            ]
          },
          "execution_count": 12,
          "metadata": {},
          "output_type": "execute_result"
        }
      ],
      "source": [
        "office_pos.tail()"
      ]
    },
    {
      "cell_type": "code",
      "execution_count": null,
      "id": "4e18a85b",
      "metadata": {
        "id": "4e18a85b",
        "outputId": "d8e03f6c-043f-4aa6-8405-0d9ccfe30b4b"
      },
      "outputs": [
        {
          "data": {
            "text/plain": [
              "sentiment_count    26\n",
              "dtype: int64"
            ]
          },
          "execution_count": 13,
          "metadata": {},
          "output_type": "execute_result"
        }
      ],
      "source": [
        "office_pos.isnull().sum()"
      ]
    },
    {
      "cell_type": "code",
      "execution_count": null,
      "id": "a510be1f",
      "metadata": {
        "id": "a510be1f"
      },
      "outputs": [],
      "source": [
        "office_pos.dropna(inplace=True)"
      ]
    },
    {
      "cell_type": "markdown",
      "id": "8a777bfa",
      "metadata": {
        "id": "8a777bfa"
      },
      "source": [
        "### Defining functions for time series analysis"
      ]
    },
    {
      "cell_type": "code",
      "execution_count": null,
      "id": "817f84a0",
      "metadata": {
        "id": "817f84a0"
      },
      "outputs": [],
      "source": [
        "# stationarity check\n",
        "def checkStationarity(data):\n",
        "    pvalue = adfuller(data)[1]\n",
        "    print('pvalue:',pvalue)\n",
        "\n",
        "    if pvalue < 0.05:\n",
        "        msg = \"Data is Stationary. Proceed to model building\"\n",
        "    else:\n",
        "        msg = \" Data is not Stationary. Make the data stationary before model building\"\n",
        "\n",
        "    return msg\n",
        "\n",
        "# Decomposition\n",
        "def tsa_comp(df):\n",
        "    decomp = seasonal_decompose(df, period=12, model='additive')\n",
        "    d_trend = decomp.trend\n",
        "    d_seasonal = decomp.seasonal\n",
        "    d_resid = decomp.resid\n",
        "    \n",
        "    fig, (ax1,ax2,ax3,ax4) = plt.subplots(4,1,figsize=(15,8), facecolor='linen')\n",
        "    plt.xlabel('date')\n",
        "    plt.ylabel('count of sentiment')\n",
        "    plt.suptitle('TIME SERIES COMPONENT ANALYSIS', fontweight='bold', size=20)\n",
        "    ax1.plot(df, label='Actual Sales')\n",
        "    ax2.plot(d_trend, label='Trend', c='green')\n",
        "    ax3.plot(d_seasonal, label='Seasonal', c='orange')\n",
        "    ax4.plot(d_resid, label='Irregularity', c='pink')\n",
        "    fig.legend();\n",
        "    \n",
        " # acf and pacf plots\n",
        "def p_and_q(data):\n",
        "    fig,ax=plt.subplots(1,2,figsize=(15,5))\n",
        "    plot_acf(data,lags=20,ax=ax[0])\n",
        "    plot_pacf(data,lags=20,ax=ax[1]);"
      ]
    },
    {
      "cell_type": "code",
      "execution_count": null,
      "id": "283c1614",
      "metadata": {
        "id": "283c1614",
        "outputId": "fddb40ba-d58d-4132-be83-873fc1be39c0"
      },
      "outputs": [
        {
          "data": {
            "image/png": "[encoded data removed]",
            "text/plain": [
              "<Figure size 1080x576 with 4 Axes>"
            ]
          },
          "metadata": {},
          "output_type": "display_data"
        }
      ],
      "source": [
        "tsa_comp(office_pos)"
      ]
    },
    {
      "cell_type": "code",
      "execution_count": null,
      "id": "c45dc54a",
      "metadata": {
        "id": "c45dc54a",
        "outputId": "54f862f7-cb02-484e-8aad-229c562ef259"
      },
      "outputs": [
        {
          "name": "stdout",
          "output_type": "stream",
          "text": [
            "pvalue: 0.2745359834923668\n"
          ]
        },
        {
          "data": {
            "text/plain": [
              "' Data is not Stationary. Make the data stationary before model building'"
            ]
          },
          "execution_count": 17,
          "metadata": {},
          "output_type": "execute_result"
        }
      ],
      "source": [
        "checkStationarity(office_pos)"
      ]
    },
    {
      "cell_type": "code",
      "execution_count": null,
      "id": "4e890b93",
      "metadata": {
        "id": "4e890b93",
        "outputId": "b11b73d4-dcad-4e90-92d7-73318ce5dea9"
      },
      "outputs": [
        {
          "name": "stdout",
          "output_type": "stream",
          "text": [
            "            sentiment_count\n",
            "date                       \n",
            "2000-03-31              NaN\n",
            "2000-04-30         0.000000\n",
            "2000-08-31         0.000000\n",
            "2000-09-30         0.000000\n",
            "2000-12-31         0.000000\n",
            "...                     ...\n",
            "2018-05-31        -0.410189\n",
            "2018-06-30        -0.182356\n",
            "2018-07-31         0.014632\n",
            "2018-08-31        -0.043578\n",
            "2018-09-30         0.148061\n",
            "\n",
            "[197 rows x 1 columns]\n"
          ]
        }
      ],
      "source": [
        "diff_office_pos = office_pos-office_pos.shift(1)\n",
        "print(diff_office_pos)"
      ]
    },
    {
      "cell_type": "code",
      "execution_count": null,
      "id": "f3cd29e1",
      "metadata": {
        "id": "f3cd29e1"
      },
      "outputs": [],
      "source": [
        "diff_office_pos.dropna(inplace=True)"
      ]
    },
    {
      "cell_type": "code",
      "execution_count": null,
      "id": "58838e2a",
      "metadata": {
        "id": "58838e2a",
        "outputId": "12d9bbed-d5df-453a-9c4e-5e8f7f4d27ea"
      },
      "outputs": [
        {
          "name": "stdout",
          "output_type": "stream",
          "text": [
            "pvalue: 1.0093167722934733e-12\n"
          ]
        },
        {
          "data": {
            "text/plain": [
              "'Data is Stationary. Proceed to model building'"
            ]
          },
          "execution_count": 20,
          "metadata": {},
          "output_type": "execute_result"
        }
      ],
      "source": [
        "checkStationarity(diff_office_pos)"
      ]
    },
    {
      "cell_type": "markdown",
      "id": "f5341e60",
      "metadata": {
        "id": "f5341e60"
      },
      "source": [
        "### Splitting"
      ]
    },
    {
      "cell_type": "code",
      "execution_count": null,
      "id": "e38f6fed",
      "metadata": {
        "id": "e38f6fed",
        "outputId": "3d3ec434-543b-4417-f014-4627016a248b"
      },
      "outputs": [
        {
          "name": "stdout",
          "output_type": "stream",
          "text": [
            "Total=197, Train=137, Test=60\n"
          ]
        }
      ],
      "source": [
        "ratio = 0.7\n",
        "rows = int(ratio * len(office_pos))\n",
        "train1 =office_pos[:rows]\n",
        "test1 = office_pos[rows:]\n",
        "\n",
        "print(\"Total={}, Train={}, Test={}\".format(len(office_pos), len(train1), len(test1)))"
      ]
    },
    {
      "cell_type": "code",
      "execution_count": null,
      "id": "d19c6a43",
      "metadata": {
        "id": "d19c6a43",
        "outputId": "bb5b90ff-2908-4544-c593-2f3ac5401c0c"
      },
      "outputs": [
        {
          "data": {
            "image/png": "[encoded data removed]",
            "text/plain": [
              "<Figure size 1080x360 with 2 Axes>"
            ]
          },
          "metadata": {
            "needs_background": "light"
          },
          "output_type": "display_data"
        }
      ],
      "source": [
        "p_and_q(diff_office_pos)"
      ]
    },
    {
      "cell_type": "code",
      "execution_count": null,
      "id": "9e8f04a1",
      "metadata": {
        "id": "9e8f04a1",
        "outputId": "cbf14c0c-7389-4e30-d9f2-e165ccaee2b7"
      },
      "outputs": [
        {
          "name": "stdout",
          "output_type": "stream",
          "text": [
            "Model 1 Not a good model\n",
            "Model 2 Good model\n",
            "Model 3 Good model\n",
            "Model 4 Good model\n",
            "Model 5 Good model\n",
            "Model 6 Good model\n",
            "Model 7 Good model\n",
            "Model 8 Not a good model\n",
            "Model 9 Good model\n",
            "Model 10 Good model\n",
            "Model 11 Good model\n",
            "Model 12 Good model\n",
            "Model 13 Good model\n",
            "Model 14 Good model\n",
            "Model 15 Good model\n",
            "Model 16 Good model\n",
            "Model 17 Good model\n",
            "Model 18 Good model\n",
            "Model 19 Good model\n",
            "Model 20 Good model\n",
            "Model 21 Good model\n",
            "Model 22 Good model\n",
            "Model 23 Good model\n",
            "Model 24 Good model\n",
            "Model 25 Good model\n",
            "Model 26 Good model\n",
            "Model 27 Good model\n",
            "Model 28 Good model\n",
            "Model 29 Good model\n",
            "Model 30 Good model\n",
            "Model 31 Good model\n",
            "Model 32 Good model\n",
            "Model 33 Good model\n",
            "Model 34 Good model\n",
            "Model 35 Good model\n"
          ]
        }
      ],
      "source": [
        "d=1;\n",
        "lis=[]\n",
        "for p in range(5):\n",
        "    for q in range(7):\n",
        "        lis.append((p,d,q))\n",
        "\n",
        "# building model\n",
        "model=[]\n",
        "for i in lis:\n",
        "    m =ARIMA(train1, order=i).fit() \n",
        "    model.append(m)\n",
        "\n",
        "# checking model is good or not\n",
        "model_st=[]\n",
        "c=1\n",
        "for i in model:\n",
        "    pvalue = sm.stats.acorr_ljungbox(i.resid, lags=[1], return_df=True)['lb_pvalue'].values\n",
        "    if pvalue < 0.05:\n",
        "        print(f'Model {c} Not a good model')\n",
        "    else:\n",
        "        print(f'Model {c} Good model')\n",
        "    c+=1"
      ]
    },
    {
      "cell_type": "code",
      "execution_count": null,
      "id": "45c1ea37",
      "metadata": {
        "id": "45c1ea37",
        "outputId": "12a78997-d9f2-47ee-95b3-f1358f477e85"
      },
      "outputs": [
        {
          "data": {
            "text/html": [
              "<div>\n",
              "<style scoped>\n",
              "    .dataframe tbody tr th:only-of-type {\n",
              "        vertical-align: middle;\n",
              "    }\n",
              "\n",
              "    .dataframe tbody tr th {\n",
              "        vertical-align: top;\n",
              "    }\n",
              "\n",
              "    .dataframe thead th {\n",
              "        text-align: right;\n",
              "    }\n",
              "</style>\n",
              "<table border=\"1\" class=\"dataframe\">\n",
              "  <thead>\n",
              "    <tr style=\"text-align: right;\">\n",
              "      <th></th>\n",
              "      <th>Model No.</th>\n",
              "      <th>(p, d, q)</th>\n",
              "      <th>AIC</th>\n",
              "      <th>BIC</th>\n",
              "      <th>MSE</th>\n",
              "      <th>RMSE</th>\n",
              "    </tr>\n",
              "  </thead>\n",
              "  <tbody>\n",
              "    <tr>\n",
              "      <th>0</th>\n",
              "      <td>Model 0</td>\n",
              "      <td>(0, 1, 0)</td>\n",
              "      <td>242.627042</td>\n",
              "      <td>245.539697</td>\n",
              "      <td>0.038323</td>\n",
              "      <td>0.195763</td>\n",
              "    </tr>\n",
              "    <tr>\n",
              "      <th>1</th>\n",
              "      <td>Model 1</td>\n",
              "      <td>(0, 1, 1)</td>\n",
              "      <td>155.156271</td>\n",
              "      <td>160.981581</td>\n",
              "      <td>0.033846</td>\n",
              "      <td>0.183974</td>\n",
              "    </tr>\n",
              "    <tr>\n",
              "      <th>2</th>\n",
              "      <td>Model 2</td>\n",
              "      <td>(0, 1, 2)</td>\n",
              "      <td>156.784841</td>\n",
              "      <td>165.522806</td>\n",
              "      <td>0.033458</td>\n",
              "      <td>0.182915</td>\n",
              "    </tr>\n",
              "    <tr>\n",
              "      <th>3</th>\n",
              "      <td>Model 3</td>\n",
              "      <td>(0, 1, 3)</td>\n",
              "      <td>158.475302</td>\n",
              "      <td>170.125922</td>\n",
              "      <td>0.033247</td>\n",
              "      <td>0.182337</td>\n",
              "    </tr>\n",
              "    <tr>\n",
              "      <th>4</th>\n",
              "      <td>Model 4</td>\n",
              "      <td>(0, 1, 4)</td>\n",
              "      <td>160.379011</td>\n",
              "      <td>174.942285</td>\n",
              "      <td>0.033086</td>\n",
              "      <td>0.181897</td>\n",
              "    </tr>\n",
              "    <tr>\n",
              "      <th>5</th>\n",
              "      <td>Model 5</td>\n",
              "      <td>(0, 1, 5)</td>\n",
              "      <td>159.786343</td>\n",
              "      <td>177.262272</td>\n",
              "      <td>0.034452</td>\n",
              "      <td>0.185612</td>\n",
              "    </tr>\n",
              "    <tr>\n",
              "      <th>6</th>\n",
              "      <td>Model 6</td>\n",
              "      <td>(0, 1, 6)</td>\n",
              "      <td>155.727084</td>\n",
              "      <td>176.115668</td>\n",
              "      <td>0.032273</td>\n",
              "      <td>0.179648</td>\n",
              "    </tr>\n",
              "    <tr>\n",
              "      <th>7</th>\n",
              "      <td>Model 7</td>\n",
              "      <td>(1, 1, 0)</td>\n",
              "      <td>205.723617</td>\n",
              "      <td>211.548927</td>\n",
              "      <td>0.030591</td>\n",
              "      <td>0.174903</td>\n",
              "    </tr>\n",
              "    <tr>\n",
              "      <th>8</th>\n",
              "      <td>Model 8</td>\n",
              "      <td>(1, 1, 1)</td>\n",
              "      <td>156.826525</td>\n",
              "      <td>165.564490</td>\n",
              "      <td>0.033512</td>\n",
              "      <td>0.183063</td>\n",
              "    </tr>\n",
              "    <tr>\n",
              "      <th>9</th>\n",
              "      <td>Model 9</td>\n",
              "      <td>(1, 1, 2)</td>\n",
              "      <td>156.711346</td>\n",
              "      <td>168.361965</td>\n",
              "      <td>0.033731</td>\n",
              "      <td>0.183660</td>\n",
              "    </tr>\n",
              "    <tr>\n",
              "      <th>10</th>\n",
              "      <td>Model 10</td>\n",
              "      <td>(1, 1, 3)</td>\n",
              "      <td>158.701281</td>\n",
              "      <td>173.264555</td>\n",
              "      <td>0.033686</td>\n",
              "      <td>0.183537</td>\n",
              "    </tr>\n",
              "    <tr>\n",
              "      <th>11</th>\n",
              "      <td>Model 11</td>\n",
              "      <td>(1, 1, 4)</td>\n",
              "      <td>160.870351</td>\n",
              "      <td>178.346280</td>\n",
              "      <td>0.033052</td>\n",
              "      <td>0.181801</td>\n",
              "    </tr>\n",
              "    <tr>\n",
              "      <th>12</th>\n",
              "      <td>Model 12</td>\n",
              "      <td>(1, 1, 5)</td>\n",
              "      <td>160.351333</td>\n",
              "      <td>180.739918</td>\n",
              "      <td>0.034257</td>\n",
              "      <td>0.185087</td>\n",
              "    </tr>\n",
              "    <tr>\n",
              "      <th>13</th>\n",
              "      <td>Model 13</td>\n",
              "      <td>(1, 1, 6)</td>\n",
              "      <td>162.293566</td>\n",
              "      <td>185.594805</td>\n",
              "      <td>0.035388</td>\n",
              "      <td>0.188117</td>\n",
              "    </tr>\n",
              "    <tr>\n",
              "      <th>14</th>\n",
              "      <td>Model 14</td>\n",
              "      <td>(2, 1, 0)</td>\n",
              "      <td>189.983958</td>\n",
              "      <td>198.721922</td>\n",
              "      <td>0.031142</td>\n",
              "      <td>0.176470</td>\n",
              "    </tr>\n",
              "    <tr>\n",
              "      <th>15</th>\n",
              "      <td>Model 15</td>\n",
              "      <td>(2, 1, 1)</td>\n",
              "      <td>158.429927</td>\n",
              "      <td>170.080547</td>\n",
              "      <td>0.033264</td>\n",
              "      <td>0.182385</td>\n",
              "    </tr>\n",
              "    <tr>\n",
              "      <th>16</th>\n",
              "      <td>Model 16</td>\n",
              "      <td>(2, 1, 2)</td>\n",
              "      <td>158.703820</td>\n",
              "      <td>173.267095</td>\n",
              "      <td>0.033695</td>\n",
              "      <td>0.183563</td>\n",
              "    </tr>\n",
              "    <tr>\n",
              "      <th>17</th>\n",
              "      <td>Model 17</td>\n",
              "      <td>(2, 1, 3)</td>\n",
              "      <td>151.125600</td>\n",
              "      <td>168.601529</td>\n",
              "      <td>0.033539</td>\n",
              "      <td>0.183137</td>\n",
              "    </tr>\n",
              "    <tr>\n",
              "      <th>18</th>\n",
              "      <td>Model 18</td>\n",
              "      <td>(2, 1, 4)</td>\n",
              "      <td>159.397574</td>\n",
              "      <td>179.786158</td>\n",
              "      <td>0.033358</td>\n",
              "      <td>0.182641</td>\n",
              "    </tr>\n",
              "    <tr>\n",
              "      <th>19</th>\n",
              "      <td>Model 19</td>\n",
              "      <td>(2, 1, 5)</td>\n",
              "      <td>155.173348</td>\n",
              "      <td>178.474587</td>\n",
              "      <td>0.035504</td>\n",
              "      <td>0.188424</td>\n",
              "    </tr>\n",
              "    <tr>\n",
              "      <th>20</th>\n",
              "      <td>Model 20</td>\n",
              "      <td>(2, 1, 6)</td>\n",
              "      <td>153.996849</td>\n",
              "      <td>180.210743</td>\n",
              "      <td>0.033025</td>\n",
              "      <td>0.181729</td>\n",
              "    </tr>\n",
              "    <tr>\n",
              "      <th>21</th>\n",
              "      <td>Model 21</td>\n",
              "      <td>(3, 1, 0)</td>\n",
              "      <td>171.918562</td>\n",
              "      <td>183.569181</td>\n",
              "      <td>0.031716</td>\n",
              "      <td>0.178089</td>\n",
              "    </tr>\n",
              "    <tr>\n",
              "      <th>22</th>\n",
              "      <td>Model 22</td>\n",
              "      <td>(3, 1, 1)</td>\n",
              "      <td>160.312298</td>\n",
              "      <td>174.875572</td>\n",
              "      <td>0.033124</td>\n",
              "      <td>0.182000</td>\n",
              "    </tr>\n",
              "    <tr>\n",
              "      <th>23</th>\n",
              "      <td>Model 23</td>\n",
              "      <td>(3, 1, 2)</td>\n",
              "      <td>159.146598</td>\n",
              "      <td>176.622528</td>\n",
              "      <td>0.033184</td>\n",
              "      <td>0.182165</td>\n",
              "    </tr>\n",
              "    <tr>\n",
              "      <th>24</th>\n",
              "      <td>Model 24</td>\n",
              "      <td>(3, 1, 3)</td>\n",
              "      <td>152.461219</td>\n",
              "      <td>172.849804</td>\n",
              "      <td>0.033311</td>\n",
              "      <td>0.182513</td>\n",
              "    </tr>\n",
              "    <tr>\n",
              "      <th>25</th>\n",
              "      <td>Model 25</td>\n",
              "      <td>(3, 1, 4)</td>\n",
              "      <td>161.309217</td>\n",
              "      <td>184.610456</td>\n",
              "      <td>0.033327</td>\n",
              "      <td>0.182558</td>\n",
              "    </tr>\n",
              "    <tr>\n",
              "      <th>26</th>\n",
              "      <td>Model 26</td>\n",
              "      <td>(3, 1, 5)</td>\n",
              "      <td>160.025467</td>\n",
              "      <td>186.239361</td>\n",
              "      <td>0.034531</td>\n",
              "      <td>0.185824</td>\n",
              "    </tr>\n",
              "    <tr>\n",
              "      <th>27</th>\n",
              "      <td>Model 27</td>\n",
              "      <td>(3, 1, 6)</td>\n",
              "      <td>160.935182</td>\n",
              "      <td>190.061731</td>\n",
              "      <td>0.035807</td>\n",
              "      <td>0.189227</td>\n",
              "    </tr>\n",
              "    <tr>\n",
              "      <th>28</th>\n",
              "      <td>Model 28</td>\n",
              "      <td>(4, 1, 0)</td>\n",
              "      <td>173.306574</td>\n",
              "      <td>187.869849</td>\n",
              "      <td>0.031794</td>\n",
              "      <td>0.178310</td>\n",
              "    </tr>\n",
              "    <tr>\n",
              "      <th>29</th>\n",
              "      <td>Model 29</td>\n",
              "      <td>(4, 1, 1)</td>\n",
              "      <td>159.823933</td>\n",
              "      <td>177.299862</td>\n",
              "      <td>0.033825</td>\n",
              "      <td>0.183916</td>\n",
              "    </tr>\n",
              "    <tr>\n",
              "      <th>30</th>\n",
              "      <td>Model 30</td>\n",
              "      <td>(4, 1, 2)</td>\n",
              "      <td>161.011171</td>\n",
              "      <td>181.399755</td>\n",
              "      <td>0.033736</td>\n",
              "      <td>0.183675</td>\n",
              "    </tr>\n",
              "    <tr>\n",
              "      <th>31</th>\n",
              "      <td>Model 31</td>\n",
              "      <td>(4, 1, 3)</td>\n",
              "      <td>162.178880</td>\n",
              "      <td>185.480119</td>\n",
              "      <td>0.033630</td>\n",
              "      <td>0.183384</td>\n",
              "    </tr>\n",
              "    <tr>\n",
              "      <th>32</th>\n",
              "      <td>Model 32</td>\n",
              "      <td>(4, 1, 4)</td>\n",
              "      <td>162.973514</td>\n",
              "      <td>189.187408</td>\n",
              "      <td>0.039339</td>\n",
              "      <td>0.198340</td>\n",
              "    </tr>\n",
              "    <tr>\n",
              "      <th>33</th>\n",
              "      <td>Model 33</td>\n",
              "      <td>(4, 1, 5)</td>\n",
              "      <td>150.816171</td>\n",
              "      <td>179.942720</td>\n",
              "      <td>0.033843</td>\n",
              "      <td>0.183965</td>\n",
              "    </tr>\n",
              "    <tr>\n",
              "      <th>34</th>\n",
              "      <td>Model 34</td>\n",
              "      <td>(4, 1, 6)</td>\n",
              "      <td>162.669067</td>\n",
              "      <td>194.708270</td>\n",
              "      <td>0.035109</td>\n",
              "      <td>0.187375</td>\n",
              "    </tr>\n",
              "  </tbody>\n",
              "</table>\n",
              "</div>"
            ],
            "text/plain": [
              "   Model No.  (p, d, q)         AIC         BIC       MSE      RMSE\n",
              "0    Model 0  (0, 1, 0)  242.627042  245.539697  0.038323  0.195763\n",
              "1    Model 1  (0, 1, 1)  155.156271  160.981581  0.033846  0.183974\n",
              "2    Model 2  (0, 1, 2)  156.784841  165.522806  0.033458  0.182915\n",
              "3    Model 3  (0, 1, 3)  158.475302  170.125922  0.033247  0.182337\n",
              "4    Model 4  (0, 1, 4)  160.379011  174.942285  0.033086  0.181897\n",
              "5    Model 5  (0, 1, 5)  159.786343  177.262272  0.034452  0.185612\n",
              "6    Model 6  (0, 1, 6)  155.727084  176.115668  0.032273  0.179648\n",
              "7    Model 7  (1, 1, 0)  205.723617  211.548927  0.030591  0.174903\n",
              "8    Model 8  (1, 1, 1)  156.826525  165.564490  0.033512  0.183063\n",
              "9    Model 9  (1, 1, 2)  156.711346  168.361965  0.033731  0.183660\n",
              "10  Model 10  (1, 1, 3)  158.701281  173.264555  0.033686  0.183537\n",
              "11  Model 11  (1, 1, 4)  160.870351  178.346280  0.033052  0.181801\n",
              "12  Model 12  (1, 1, 5)  160.351333  180.739918  0.034257  0.185087\n",
              "13  Model 13  (1, 1, 6)  162.293566  185.594805  0.035388  0.188117\n",
              "14  Model 14  (2, 1, 0)  189.983958  198.721922  0.031142  0.176470\n",
              "15  Model 15  (2, 1, 1)  158.429927  170.080547  0.033264  0.182385\n",
              "16  Model 16  (2, 1, 2)  158.703820  173.267095  0.033695  0.183563\n",
              "17  Model 17  (2, 1, 3)  151.125600  168.601529  0.033539  0.183137\n",
              "18  Model 18  (2, 1, 4)  159.397574  179.786158  0.033358  0.182641\n",
              "19  Model 19  (2, 1, 5)  155.173348  178.474587  0.035504  0.188424\n",
              "20  Model 20  (2, 1, 6)  153.996849  180.210743  0.033025  0.181729\n",
              "21  Model 21  (3, 1, 0)  171.918562  183.569181  0.031716  0.178089\n",
              "22  Model 22  (3, 1, 1)  160.312298  174.875572  0.033124  0.182000\n",
              "23  Model 23  (3, 1, 2)  159.146598  176.622528  0.033184  0.182165\n",
              "24  Model 24  (3, 1, 3)  152.461219  172.849804  0.033311  0.182513\n",
              "25  Model 25  (3, 1, 4)  161.309217  184.610456  0.033327  0.182558\n",
              "26  Model 26  (3, 1, 5)  160.025467  186.239361  0.034531  0.185824\n",
              "27  Model 27  (3, 1, 6)  160.935182  190.061731  0.035807  0.189227\n",
              "28  Model 28  (4, 1, 0)  173.306574  187.869849  0.031794  0.178310\n",
              "29  Model 29  (4, 1, 1)  159.823933  177.299862  0.033825  0.183916\n",
              "30  Model 30  (4, 1, 2)  161.011171  181.399755  0.033736  0.183675\n",
              "31  Model 31  (4, 1, 3)  162.178880  185.480119  0.033630  0.183384\n",
              "32  Model 32  (4, 1, 4)  162.973514  189.187408  0.039339  0.198340\n",
              "33  Model 33  (4, 1, 5)  150.816171  179.942720  0.033843  0.183965\n",
              "34  Model 34  (4, 1, 6)  162.669067  194.708270  0.035109  0.187375"
            ]
          },
          "execution_count": 24,
          "metadata": {},
          "output_type": "execute_result"
        }
      ],
      "source": [
        "aic=[]\n",
        "bic=[]\n",
        "for i in model[0:]:\n",
        "    aic.append(i.aic)\n",
        "    bic.append(i.bic)\n",
        "\n",
        "# predicting values\n",
        "forecast=[]\n",
        "for i in model[0:]:\n",
        "    fcast = i.predict(start=len(train1), end=len(train1)+len(test1)-1)\n",
        "    forecast.append(fcast)\n",
        "\n",
        "# calculating MSE and RMSE score\n",
        "MSE = []\n",
        "RMSE = []\n",
        "for i in forecast:\n",
        "    mse = mean_squared_error(test1, i)\n",
        "    rmse = np.sqrt(mse)\n",
        "    MSE.append(mse)\n",
        "    RMSE.append(rmse)\n",
        "\n",
        "# printing model numbers\n",
        "model_no=[]\n",
        "for i in range(0,len(model)):\n",
        "    model_no.append('Model '+str(i))\n",
        "    \n",
        "# dataframe of all results\n",
        "df_results1 = pd.DataFrame({'Model No.': model_no, '(p, d, q)':lis[0:], 'AIC': aic, 'BIC': bic, 'MSE': MSE, 'RMSE': RMSE})\n",
        "df_results1"
      ]
    },
    {
      "cell_type": "code",
      "execution_count": null,
      "id": "c1759f97",
      "metadata": {
        "id": "c1759f97",
        "outputId": "b7797bc2-dacb-461e-ceb5-1db87fd38792"
      },
      "outputs": [
        {
          "name": "stdout",
          "output_type": "stream",
          "text": [
            "Taking model with lowest RMSE score:\n"
          ]
        },
        {
          "data": {
            "text/html": [
              "<div>\n",
              "<style scoped>\n",
              "    .dataframe tbody tr th:only-of-type {\n",
              "        vertical-align: middle;\n",
              "    }\n",
              "\n",
              "    .dataframe tbody tr th {\n",
              "        vertical-align: top;\n",
              "    }\n",
              "\n",
              "    .dataframe thead th {\n",
              "        text-align: right;\n",
              "    }\n",
              "</style>\n",
              "<table border=\"1\" class=\"dataframe\">\n",
              "  <thead>\n",
              "    <tr style=\"text-align: right;\">\n",
              "      <th></th>\n",
              "      <th>Model No.</th>\n",
              "      <th>(p, d, q)</th>\n",
              "      <th>AIC</th>\n",
              "      <th>BIC</th>\n",
              "      <th>MSE</th>\n",
              "      <th>RMSE</th>\n",
              "    </tr>\n",
              "  </thead>\n",
              "  <tbody>\n",
              "    <tr>\n",
              "      <th>7</th>\n",
              "      <td>Model 7</td>\n",
              "      <td>(1, 1, 0)</td>\n",
              "      <td>205.723617</td>\n",
              "      <td>211.548927</td>\n",
              "      <td>0.030591</td>\n",
              "      <td>0.174903</td>\n",
              "    </tr>\n",
              "  </tbody>\n",
              "</table>\n",
              "</div>"
            ],
            "text/plain": [
              "  Model No.  (p, d, q)         AIC         BIC       MSE      RMSE\n",
              "7   Model 7  (1, 1, 0)  205.723617  211.548927  0.030591  0.174903"
            ]
          },
          "execution_count": 25,
          "metadata": {},
          "output_type": "execute_result"
        }
      ],
      "source": [
        "print('Taking model with lowest RMSE score:')\n",
        "df_results1[df_results1.RMSE==df_results1.RMSE.min()]\n"
      ]
    },
    {
      "cell_type": "code",
      "execution_count": null,
      "id": "0b066466",
      "metadata": {
        "id": "0b066466",
        "outputId": "ec3680b2-4bb4-4db4-a4ed-fa9f1dd18267"
      },
      "outputs": [
        {
          "name": "stdout",
          "output_type": "stream",
          "text": [
            "Taking model with lowest BIC score:\n"
          ]
        },
        {
          "data": {
            "text/html": [
              "<div>\n",
              "<style scoped>\n",
              "    .dataframe tbody tr th:only-of-type {\n",
              "        vertical-align: middle;\n",
              "    }\n",
              "\n",
              "    .dataframe tbody tr th {\n",
              "        vertical-align: top;\n",
              "    }\n",
              "\n",
              "    .dataframe thead th {\n",
              "        text-align: right;\n",
              "    }\n",
              "</style>\n",
              "<table border=\"1\" class=\"dataframe\">\n",
              "  <thead>\n",
              "    <tr style=\"text-align: right;\">\n",
              "      <th></th>\n",
              "      <th>Model No.</th>\n",
              "      <th>(p, d, q)</th>\n",
              "      <th>AIC</th>\n",
              "      <th>BIC</th>\n",
              "      <th>MSE</th>\n",
              "      <th>RMSE</th>\n",
              "    </tr>\n",
              "  </thead>\n",
              "  <tbody>\n",
              "    <tr>\n",
              "      <th>1</th>\n",
              "      <td>Model 1</td>\n",
              "      <td>(0, 1, 1)</td>\n",
              "      <td>155.156271</td>\n",
              "      <td>160.981581</td>\n",
              "      <td>0.033846</td>\n",
              "      <td>0.183974</td>\n",
              "    </tr>\n",
              "  </tbody>\n",
              "</table>\n",
              "</div>"
            ],
            "text/plain": [
              "  Model No.  (p, d, q)         AIC         BIC       MSE      RMSE\n",
              "1   Model 1  (0, 1, 1)  155.156271  160.981581  0.033846  0.183974"
            ]
          },
          "execution_count": 26,
          "metadata": {},
          "output_type": "execute_result"
        }
      ],
      "source": [
        "print('Taking model with lowest BIC score:')\n",
        "\n",
        "df_results1[df_results1.BIC==df_results1.BIC.min()]"
      ]
    },
    {
      "cell_type": "code",
      "execution_count": null,
      "id": "61904631",
      "metadata": {
        "id": "61904631",
        "outputId": "ca5e8182-612a-4f82-d12b-d0d0a6223f7f"
      },
      "outputs": [
        {
          "name": "stdout",
          "output_type": "stream",
          "text": [
            "Taking model with lowest AIC score:\n"
          ]
        },
        {
          "data": {
            "text/html": [
              "<div>\n",
              "<style scoped>\n",
              "    .dataframe tbody tr th:only-of-type {\n",
              "        vertical-align: middle;\n",
              "    }\n",
              "\n",
              "    .dataframe tbody tr th {\n",
              "        vertical-align: top;\n",
              "    }\n",
              "\n",
              "    .dataframe thead th {\n",
              "        text-align: right;\n",
              "    }\n",
              "</style>\n",
              "<table border=\"1\" class=\"dataframe\">\n",
              "  <thead>\n",
              "    <tr style=\"text-align: right;\">\n",
              "      <th></th>\n",
              "      <th>Model No.</th>\n",
              "      <th>(p, d, q)</th>\n",
              "      <th>AIC</th>\n",
              "      <th>BIC</th>\n",
              "      <th>MSE</th>\n",
              "      <th>RMSE</th>\n",
              "    </tr>\n",
              "  </thead>\n",
              "  <tbody>\n",
              "    <tr>\n",
              "      <th>33</th>\n",
              "      <td>Model 33</td>\n",
              "      <td>(4, 1, 5)</td>\n",
              "      <td>150.816171</td>\n",
              "      <td>179.94272</td>\n",
              "      <td>0.033843</td>\n",
              "      <td>0.183965</td>\n",
              "    </tr>\n",
              "  </tbody>\n",
              "</table>\n",
              "</div>"
            ],
            "text/plain": [
              "   Model No.  (p, d, q)         AIC        BIC       MSE      RMSE\n",
              "33  Model 33  (4, 1, 5)  150.816171  179.94272  0.033843  0.183965"
            ]
          },
          "execution_count": 27,
          "metadata": {},
          "output_type": "execute_result"
        }
      ],
      "source": [
        "print('Taking model with lowest AIC score:')\n",
        "df_results1[df_results1.AIC==df_results1.AIC.min()]"
      ]
    },
    {
      "cell_type": "code",
      "execution_count": null,
      "id": "9c7bd2a4",
      "metadata": {
        "id": "9c7bd2a4",
        "outputId": "f0f13756-e08a-4d70-f462-7c5ba7b6f7aa"
      },
      "outputs": [
        {
          "data": {
            "text/html": [
              "<table class=\"simpletable\">\n",
              "<caption>SARIMAX Results</caption>\n",
              "<tr>\n",
              "  <th>Dep. Variable:</th>            <td>sentiment_count</td>         <th>  No. Observations:  </th>   <td>197</td>  \n",
              "</tr>\n",
              "<tr>\n",
              "  <th>Model:</th>           <td>SARIMAX(4, 1, 5)x(1, 0, [1], 12)</td> <th>  Log Likelihood     </th> <td>-59.673</td>\n",
              "</tr>\n",
              "<tr>\n",
              "  <th>Date:</th>                    <td>Sun, 22 Jan 2023</td>         <th>  AIC                </th> <td>143.345</td>\n",
              "</tr>\n",
              "<tr>\n",
              "  <th>Time:</th>                        <td>10:42:47</td>             <th>  BIC                </th> <td>182.683</td>\n",
              "</tr>\n",
              "<tr>\n",
              "  <th>Sample:</th>                          <td>0</td>                <th>  HQIC               </th> <td>159.271</td>\n",
              "</tr>\n",
              "<tr>\n",
              "  <th></th>                              <td> - 197</td>              <th>                     </th>    <td> </td>   \n",
              "</tr>\n",
              "<tr>\n",
              "  <th>Covariance Type:</th>                <td>opg</td>               <th>                     </th>    <td> </td>   \n",
              "</tr>\n",
              "</table>\n",
              "<table class=\"simpletable\">\n",
              "<tr>\n",
              "      <td></td>        <th>coef</th>     <th>std err</th>      <th>z</th>      <th>P>|z|</th>  <th>[0.025</th>    <th>0.975]</th>  \n",
              "</tr>\n",
              "<tr>\n",
              "  <th>ar.L1</th>    <td>   -1.2830</td> <td>    0.300</td> <td>   -4.275</td> <td> 0.000</td> <td>   -1.871</td> <td>   -0.695</td>\n",
              "</tr>\n",
              "<tr>\n",
              "  <th>ar.L2</th>    <td>   -1.3777</td> <td>    0.376</td> <td>   -3.666</td> <td> 0.000</td> <td>   -2.114</td> <td>   -0.641</td>\n",
              "</tr>\n",
              "<tr>\n",
              "  <th>ar.L3</th>    <td>   -1.0724</td> <td>    0.329</td> <td>   -3.261</td> <td> 0.001</td> <td>   -1.717</td> <td>   -0.428</td>\n",
              "</tr>\n",
              "<tr>\n",
              "  <th>ar.L4</th>    <td>   -0.6529</td> <td>    0.200</td> <td>   -3.258</td> <td> 0.001</td> <td>   -1.046</td> <td>   -0.260</td>\n",
              "</tr>\n",
              "<tr>\n",
              "  <th>ma.L1</th>    <td>    0.4101</td> <td>    0.288</td> <td>    1.422</td> <td> 0.155</td> <td>   -0.155</td> <td>    0.975</td>\n",
              "</tr>\n",
              "<tr>\n",
              "  <th>ma.L2</th>    <td>    0.1922</td> <td>    0.205</td> <td>    0.938</td> <td> 0.348</td> <td>   -0.209</td> <td>    0.594</td>\n",
              "</tr>\n",
              "<tr>\n",
              "  <th>ma.L3</th>    <td>   -0.2396</td> <td>    0.224</td> <td>   -1.068</td> <td> 0.285</td> <td>   -0.679</td> <td>    0.200</td>\n",
              "</tr>\n",
              "<tr>\n",
              "  <th>ma.L4</th>    <td>   -0.1610</td> <td>    0.191</td> <td>   -0.843</td> <td> 0.399</td> <td>   -0.535</td> <td>    0.213</td>\n",
              "</tr>\n",
              "<tr>\n",
              "  <th>ma.L5</th>    <td>   -0.7496</td> <td>    0.210</td> <td>   -3.574</td> <td> 0.000</td> <td>   -1.161</td> <td>   -0.339</td>\n",
              "</tr>\n",
              "<tr>\n",
              "  <th>ar.S.L12</th> <td>   -0.1512</td> <td>    0.327</td> <td>   -0.463</td> <td> 0.644</td> <td>   -0.792</td> <td>    0.489</td>\n",
              "</tr>\n",
              "<tr>\n",
              "  <th>ma.S.L12</th> <td>    0.4349</td> <td>    0.314</td> <td>    1.383</td> <td> 0.167</td> <td>   -0.181</td> <td>    1.051</td>\n",
              "</tr>\n",
              "<tr>\n",
              "  <th>sigma2</th>   <td>    0.1044</td> <td>    0.007</td> <td>   15.883</td> <td> 0.000</td> <td>    0.091</td> <td>    0.117</td>\n",
              "</tr>\n",
              "</table>\n",
              "<table class=\"simpletable\">\n",
              "<tr>\n",
              "  <th>Ljung-Box (L1) (Q):</th>     <td>0.12</td> <th>  Jarque-Bera (JB):  </th> <td>3380.89</td>\n",
              "</tr>\n",
              "<tr>\n",
              "  <th>Prob(Q):</th>                <td>0.72</td> <th>  Prob(JB):          </th>  <td>0.00</td>  \n",
              "</tr>\n",
              "<tr>\n",
              "  <th>Heteroskedasticity (H):</th> <td>0.15</td> <th>  Skew:              </th>  <td>3.38</td>  \n",
              "</tr>\n",
              "<tr>\n",
              "  <th>Prob(H) (two-sided):</th>    <td>0.00</td> <th>  Kurtosis:          </th>  <td>22.19</td> \n",
              "</tr>\n",
              "</table><br/><br/>Warnings:<br/>[1] Covariance matrix calculated using the outer product of gradients (complex-step)."
            ],
            "text/plain": [
              "<class 'statsmodels.iolib.summary.Summary'>\n",
              "\"\"\"\n",
              "                                      SARIMAX Results                                       \n",
              "============================================================================================\n",
              "Dep. Variable:                      sentiment_count   No. Observations:                  197\n",
              "Model:             SARIMAX(4, 1, 5)x(1, 0, [1], 12)   Log Likelihood                 -59.673\n",
              "Date:                              Sun, 22 Jan 2023   AIC                            143.345\n",
              "Time:                                      10:42:47   BIC                            182.683\n",
              "Sample:                                           0   HQIC                           159.271\n",
              "                                              - 197                                         \n",
              "Covariance Type:                                opg                                         \n",
              "==============================================================================\n",
              "                 coef    std err          z      P>|z|      [0.025      0.975]\n",
              "------------------------------------------------------------------------------\n",
              "ar.L1         -1.2830      0.300     -4.275      0.000      -1.871      -0.695\n",
              "ar.L2         -1.3777      0.376     -3.666      0.000      -2.114      -0.641\n",
              "ar.L3         -1.0724      0.329     -3.261      0.001      -1.717      -0.428\n",
              "ar.L4         -0.6529      0.200     -3.258      0.001      -1.046      -0.260\n",
              "ma.L1          0.4101      0.288      1.422      0.155      -0.155       0.975\n",
              "ma.L2          0.1922      0.205      0.938      0.348      -0.209       0.594\n",
              "ma.L3         -0.2396      0.224     -1.068      0.285      -0.679       0.200\n",
              "ma.L4         -0.1610      0.191     -0.843      0.399      -0.535       0.213\n",
              "ma.L5         -0.7496      0.210     -3.574      0.000      -1.161      -0.339\n",
              "ar.S.L12      -0.1512      0.327     -0.463      0.644      -0.792       0.489\n",
              "ma.S.L12       0.4349      0.314      1.383      0.167      -0.181       1.051\n",
              "sigma2         0.1044      0.007     15.883      0.000       0.091       0.117\n",
              "===================================================================================\n",
              "Ljung-Box (L1) (Q):                   0.12   Jarque-Bera (JB):              3380.89\n",
              "Prob(Q):                              0.72   Prob(JB):                         0.00\n",
              "Heteroskedasticity (H):               0.15   Skew:                             3.38\n",
              "Prob(H) (two-sided):                  0.00   Kurtosis:                        22.19\n",
              "===================================================================================\n",
              "\n",
              "Warnings:\n",
              "[1] Covariance matrix calculated using the outer product of gradients (complex-step).\n",
              "\"\"\""
            ]
          },
          "execution_count": 49,
          "metadata": {},
          "output_type": "execute_result"
        }
      ],
      "source": [
        "p=4;q=5;d=1\n",
        "P=1;Q=1;D=0\n",
        "m1 = sm.tsa.statespace.SARIMAX(office_pos['sentiment_count'],order=(p,d,q),seasonal_order=(P,D,Q,12)).fit()\n",
        "# summarise the model\n",
        "m1.summary()\n"
      ]
    },
    {
      "cell_type": "code",
      "execution_count": null,
      "id": "e5ee0fb9",
      "metadata": {
        "id": "e5ee0fb9",
        "outputId": "553a8c92-7aa8-4080-aac1-c85ee243d38c"
      },
      "outputs": [
        {
          "name": "stdout",
          "output_type": "stream",
          "text": [
            "Fail-to-Reject H0. Good model\n"
          ]
        }
      ],
      "source": [
        "# LJung-Box test\n",
        "pvalue = sm.stats.acorr_ljungbox(m1.resid,lags=[1],return_df=True)['lb_pvalue'].values\n",
        "if pvalue < 0.05:\n",
        "    print(\"Reject H0. Bad model\")\n",
        "else:\n",
        "    print(\"Fail-to-Reject H0. Good model\")"
      ]
    },
    {
      "cell_type": "code",
      "execution_count": null,
      "id": "9ca56eda",
      "metadata": {
        "id": "9ca56eda",
        "outputId": "6980765b-f0a8-4154-ac65-dbaeac906c1b"
      },
      "outputs": [
        {
          "name": "stdout",
          "output_type": "stream",
          "text": [
            "start = 137, end = 196\n"
          ]
        }
      ],
      "source": [
        "start = len(train1) \n",
        "end = len(train1) + len(test1) - 1\n",
        "\n",
        "print('start = {}, end = {}'.format(start,end))"
      ]
    },
    {
      "cell_type": "code",
      "execution_count": null,
      "id": "58370bac",
      "metadata": {
        "id": "58370bac",
        "outputId": "8602a313-24bf-456e-83a9-9704253c0504"
      },
      "outputs": [
        {
          "name": "stdout",
          "output_type": "stream",
          "text": [
            "date\n",
            "2013-10-31    1.839140\n",
            "2013-11-30    1.634356\n",
            "2013-12-31    1.753350\n",
            "2014-01-31    1.561900\n",
            "2014-02-28    1.736571\n",
            "Name: predicted_mean, dtype: float64\n"
          ]
        }
      ],
      "source": [
        "predictions = m1.predict(start,end)\n",
        "predictions.index=test1.index\n",
        "print(predictions.head(5))"
      ]
    },
    {
      "cell_type": "code",
      "execution_count": null,
      "id": "e3cf2e45",
      "metadata": {
        "id": "e3cf2e45",
        "outputId": "6abfd56e-41d9-476c-ee4a-6a9f7fb1058b"
      },
      "outputs": [
        {
          "name": "stdout",
          "output_type": "stream",
          "text": [
            "              actual  predicted     error\n",
            "date                                     \n",
            "2013-10-31  1.704167   1.839140 -0.134974\n",
            "2013-11-30  1.731449   1.634356  0.097093\n",
            "2013-12-31  1.792651   1.753350  0.039301\n",
            "2014-01-31  1.866477   1.561900  0.304577\n",
            "2014-02-28  1.840532   1.736571  0.103960\n"
          ]
        }
      ],
      "source": [
        "actual = []; pred = []\n",
        "test1.reset_index(drop=True)\n",
        "for i in range(len(predictions)):\n",
        "    actual.append(test1['sentiment_count'][i])\n",
        "    pred.append(predictions[i])\n",
        "\n",
        "df_res1 = pd.DataFrame({'actual':actual, 'predicted':pred})\n",
        "df_res1['error'] = df_res1.actual - df_res1.predicted\n",
        "df_res1.index=test1.index\n",
        "print(df_res1.head())"
      ]
    },
    {
      "cell_type": "code",
      "execution_count": null,
      "id": "34776699",
      "metadata": {
        "id": "34776699",
        "outputId": "e5e1f09b-e8d2-47b8-9494-983605da26c2"
      },
      "outputs": [
        {
          "name": "stdout",
          "output_type": "stream",
          "text": [
            "mse: 0.025625330158851958\n",
            "rmse: 0.16007913717549815\n"
          ]
        }
      ],
      "source": [
        "mse1=mean_squared_error(df_res1.actual,df_res1.predicted)\n",
        "rmse1=np.sqrt(mse1)\n",
        "print('mse:',mse1)\n",
        "print('rmse:',rmse1)"
      ]
    },
    {
      "cell_type": "code",
      "execution_count": null,
      "id": "de6ba9f4",
      "metadata": {
        "id": "de6ba9f4",
        "outputId": "0e751ea5-8267-461f-d02a-9057330536be"
      },
      "outputs": [
        {
          "data": {
            "text/plain": [
              "Text(0.5, 1.0, 'SARIMA Model. Order=(4,1,5)')"
            ]
          },
          "execution_count": 55,
          "metadata": {},
          "output_type": "execute_result"
        },
        {
          "data": {
            "image/png": "[encoded data removed]",
            "text/plain": [
              "<Figure size 720x576 with 1 Axes>"
            ]
          },
          "metadata": {
            "needs_background": "light"
          },
          "output_type": "display_data"
        }
      ],
      "source": [
        "msg = 'SARIMA Model. Order=(' + str(p) + ',' + str(d) + ',' + str(q) + ')'\n",
        "df_res1.actual.plot(figsize=(10,8),legend=True)\n",
        "df_res1.predicted.plot(legend=True)\n",
        "plt.title(msg)"
      ]
    },
    {
      "cell_type": "code",
      "execution_count": null,
      "id": "c6333829",
      "metadata": {
        "id": "c6333829"
      },
      "outputs": [],
      "source": [
        "future_dates=pd.DataFrame()\n",
        "future_dates['date']=[     \n",
        "'2018-10-31',    \n",
        "'2018-11-30',   \n",
        "'2018-12-31',    \n",
        "'2019-01-31',    \n",
        "'2019-02-28',  \n",
        "'2019-03-31',   \n",
        "'2019-04-30',    \n",
        "'2019-05-31',    \n",
        "'2019-06-30',  \n",
        "'2019-07-31',    \n",
        "'2019-08-31',   \n",
        "'2019-09-30',  \n",
        "'2019-10-31',   \n",
        "'2019-11-30',    \n",
        "'2019-12-31',    \n",
        "'2020-01-31',  \n",
        "'2020-02-29',    \n",
        "'2020-03-31',   \n",
        "'2020-04-30',   \n",
        "'2020-05-31',   \n",
        "'2020-06-30',   \n",
        "'2020-07-31',    \n",
        "'2020-08-31',   \n",
        "'2020-09-30',  \n",
        "'2020-10-31',    \n",
        "'2020-11-30',    \n",
        "'2020-12-31',    \n",
        "'2021-01-31',    \n",
        "'2021-02-28', \n",
        "'2021-03-31',    \n",
        "'2021-04-30',   \n",
        "'2021-05-31',   \n",
        "'2021-06-30',\n",
        "'2021-07-31',\n",
        "'2021-08-31',\n",
        "'2021-09-30',\n",
        "'2021-10-31']      \n",
        "future_dates=pd.to_datetime(future_dates['date'])\n",
        "future_dates=pd.DataFrame(future_dates)\n"
      ]
    },
    {
      "cell_type": "code",
      "execution_count": null,
      "id": "3e46ee8f",
      "metadata": {
        "id": "3e46ee8f",
        "outputId": "356bb8d1-4357-45dd-a884-e012b4e26845"
      },
      "outputs": [
        {
          "name": "stdout",
          "output_type": "stream",
          "text": [
            "date\n",
            "2018-10-31    1.664962\n",
            "2018-11-30    1.549933\n",
            "2018-12-31    1.634321\n",
            "2019-01-31    1.675101\n",
            "2019-02-28    1.522851\n",
            "Name: Forecast, dtype: float64\n"
          ]
        }
      ],
      "source": [
        "fcast1 = m1.predict(start=len(office_pos),end=len(office_pos)+36).rename('Forecast')\n",
        "fcast1.index=future_dates.date\n",
        "print(fcast1.head())"
      ]
    },
    {
      "cell_type": "code",
      "execution_count": null,
      "id": "2eb99a31",
      "metadata": {
        "id": "2eb99a31",
        "outputId": "a8a8abce-b598-4cfd-f124-1b6fcf8af5e6"
      },
      "outputs": [
        {
          "data": {
            "text/plain": [
              "<AxesSubplot:xlabel='date', ylabel='count of positive sentiment'>"
            ]
          },
          "execution_count": 58,
          "metadata": {},
          "output_type": "execute_result"
        },
        {
          "data": {
            "image/png": "[encoded data removed]",
            "text/plain": [
              "<Figure size 720x576 with 1 Axes>"
            ]
          },
          "metadata": {
            "needs_background": "light"
          },
          "output_type": "display_data"
        }
      ],
      "source": [
        "\n",
        "df_res1.actual.plot(figsize=(10,8),legend=True)\n",
        "df_res1.predicted.plot(legend=True)\n",
        "plt.ylabel('count of positive sentiment')\n",
        "fcast1.plot(legend=True)"
      ]
    },
    {
      "cell_type": "markdown",
      "id": "b468689f",
      "metadata": {
        "id": "b468689f"
      },
      "source": [
        "### Neutral"
      ]
    },
    {
      "cell_type": "code",
      "execution_count": null,
      "id": "8c790403",
      "metadata": {
        "id": "8c790403",
        "outputId": "013079c2-3b3f-4db7-e80f-85b3c51854f9"
      },
      "outputs": [
        {
          "data": {
            "text/html": [
              "<div>\n",
              "<style scoped>\n",
              "    .dataframe tbody tr th:only-of-type {\n",
              "        vertical-align: middle;\n",
              "    }\n",
              "\n",
              "    .dataframe tbody tr th {\n",
              "        vertical-align: top;\n",
              "    }\n",
              "\n",
              "    .dataframe thead th {\n",
              "        text-align: right;\n",
              "    }\n",
              "</style>\n",
              "<table border=\"1\" class=\"dataframe\">\n",
              "  <thead>\n",
              "    <tr style=\"text-align: right;\">\n",
              "      <th></th>\n",
              "      <th>ratings</th>\n",
              "      <th>verified</th>\n",
              "      <th>date</th>\n",
              "      <th>reviewerID</th>\n",
              "      <th>asin</th>\n",
              "      <th>review</th>\n",
              "      <th>summary</th>\n",
              "      <th>unixReviewTime</th>\n",
              "      <th>category</th>\n",
              "      <th>description</th>\n",
              "      <th>...</th>\n",
              "      <th>word_count</th>\n",
              "      <th>char_count</th>\n",
              "      <th>avg_word</th>\n",
              "      <th>polarity</th>\n",
              "      <th>label</th>\n",
              "      <th>year</th>\n",
              "      <th>rating_class_num</th>\n",
              "      <th>review_length</th>\n",
              "      <th>review_length_bin</th>\n",
              "      <th>Month</th>\n",
              "    </tr>\n",
              "  </thead>\n",
              "  <tbody>\n",
              "    <tr>\n",
              "      <th>367299</th>\n",
              "      <td>3.0</td>\n",
              "      <td>True</td>\n",
              "      <td>2015-09-30</td>\n",
              "      <td>A2Y37RG9KURYR5</td>\n",
              "      <td>B00DXOS27S</td>\n",
              "      <td>runs batteries fast glitches could charge full...</td>\n",
              "      <td>batteries</td>\n",
              "      <td>1443571200</td>\n",
              "      <td>['Office Products', 'Office Electronics', 'Cal...</td>\n",
              "      <td>[\"Texas Instruments TI-84 Plus C Silver Editio...</td>\n",
              "      <td>...</td>\n",
              "      <td>18</td>\n",
              "      <td>118</td>\n",
              "      <td>5.6</td>\n",
              "      <td>0.183333</td>\n",
              "      <td>0.0</td>\n",
              "      <td>2015</td>\n",
              "      <td>1</td>\n",
              "      <td>18</td>\n",
              "      <td>(0, 100]</td>\n",
              "      <td>9</td>\n",
              "    </tr>\n",
              "    <tr>\n",
              "      <th>238147</th>\n",
              "      <td>3.0</td>\n",
              "      <td>True</td>\n",
              "      <td>2011-11-17</td>\n",
              "      <td>A263DRVW6SIFNC</td>\n",
              "      <td>B002FPTJS2</td>\n",
              "      <td>ordered one relatively new  printer first prob...</td>\n",
              "      <td>Seems luck of the draw. . .</td>\n",
              "      <td>1321488000</td>\n",
              "      <td>['Office Products', 'Office &amp; School Supplies'...</td>\n",
              "      <td>['Save even more with our compatible laser ton...</td>\n",
              "      <td>...</td>\n",
              "      <td>64</td>\n",
              "      <td>461</td>\n",
              "      <td>6.4</td>\n",
              "      <td>0.145691</td>\n",
              "      <td>0.0</td>\n",
              "      <td>2011</td>\n",
              "      <td>1</td>\n",
              "      <td>62</td>\n",
              "      <td>(0, 100]</td>\n",
              "      <td>11</td>\n",
              "    </tr>\n",
              "    <tr>\n",
              "      <th>192211</th>\n",
              "      <td>3.0</td>\n",
              "      <td>True</td>\n",
              "      <td>2017-03-18</td>\n",
              "      <td>AYAL8PLI8WM37</td>\n",
              "      <td>B0018RHUM0</td>\n",
              "      <td>writes intended</td>\n",
              "      <td>Three Stars</td>\n",
              "      <td>1489795200</td>\n",
              "      <td>['Office Products', 'Office &amp; School Supplies'...</td>\n",
              "      <td>['My Store is The goods of High quality and po...</td>\n",
              "      <td>...</td>\n",
              "      <td>2</td>\n",
              "      <td>15</td>\n",
              "      <td>7.0</td>\n",
              "      <td>0.000000</td>\n",
              "      <td>0.0</td>\n",
              "      <td>2017</td>\n",
              "      <td>1</td>\n",
              "      <td>2</td>\n",
              "      <td>(0, 100]</td>\n",
              "      <td>3</td>\n",
              "    </tr>\n",
              "  </tbody>\n",
              "</table>\n",
              "<p>3 rows × 31 columns</p>\n",
              "</div>"
            ],
            "text/plain": [
              "        ratings  verified       date      reviewerID        asin  \\\n",
              "367299      3.0      True 2015-09-30  A2Y37RG9KURYR5  B00DXOS27S   \n",
              "238147      3.0      True 2011-11-17  A263DRVW6SIFNC  B002FPTJS2   \n",
              "192211      3.0      True 2017-03-18   AYAL8PLI8WM37  B0018RHUM0   \n",
              "\n",
              "                                                   review  \\\n",
              "367299  runs batteries fast glitches could charge full...   \n",
              "238147  ordered one relatively new  printer first prob...   \n",
              "192211                                    writes intended   \n",
              "\n",
              "                            summary  unixReviewTime  \\\n",
              "367299                    batteries      1443571200   \n",
              "238147  Seems luck of the draw. . .      1321488000   \n",
              "192211                  Three Stars      1489795200   \n",
              "\n",
              "                                                 category  \\\n",
              "367299  ['Office Products', 'Office Electronics', 'Cal...   \n",
              "238147  ['Office Products', 'Office & School Supplies'...   \n",
              "192211  ['Office Products', 'Office & School Supplies'...   \n",
              "\n",
              "                                              description  ... word_count  \\\n",
              "367299  [\"Texas Instruments TI-84 Plus C Silver Editio...  ...         18   \n",
              "238147  ['Save even more with our compatible laser ton...  ...         64   \n",
              "192211  ['My Store is The goods of High quality and po...  ...          2   \n",
              "\n",
              "       char_count  avg_word  polarity label  year  rating_class_num  \\\n",
              "367299        118       5.6  0.183333   0.0  2015                 1   \n",
              "238147        461       6.4  0.145691   0.0  2011                 1   \n",
              "192211         15       7.0  0.000000   0.0  2017                 1   \n",
              "\n",
              "        review_length  review_length_bin Month  \n",
              "367299             18           (0, 100]     9  \n",
              "238147             62           (0, 100]    11  \n",
              "192211              2           (0, 100]     3  \n",
              "\n",
              "[3 rows x 31 columns]"
            ]
          },
          "execution_count": 59,
          "metadata": {},
          "output_type": "execute_result"
        }
      ],
      "source": [
        "df_office_neu.head(3)"
      ]
    },
    {
      "cell_type": "code",
      "execution_count": null,
      "id": "faf9a80e",
      "metadata": {
        "id": "faf9a80e",
        "outputId": "322b5942-4125-4c9c-9fbe-977f22f92a6a"
      },
      "outputs": [
        {
          "data": {
            "text/html": [
              "<div>\n",
              "<style scoped>\n",
              "    .dataframe tbody tr th:only-of-type {\n",
              "        vertical-align: middle;\n",
              "    }\n",
              "\n",
              "    .dataframe tbody tr th {\n",
              "        vertical-align: top;\n",
              "    }\n",
              "\n",
              "    .dataframe thead th {\n",
              "        text-align: right;\n",
              "    }\n",
              "</style>\n",
              "<table border=\"1\" class=\"dataframe\">\n",
              "  <thead>\n",
              "    <tr style=\"text-align: right;\">\n",
              "      <th></th>\n",
              "      <th>asin</th>\n",
              "      <th>Month</th>\n",
              "      <th>Sentiment</th>\n",
              "      <th>sentiment_count</th>\n",
              "    </tr>\n",
              "  </thead>\n",
              "  <tbody>\n",
              "    <tr>\n",
              "      <th>0</th>\n",
              "      <td>0310432065</td>\n",
              "      <td>6</td>\n",
              "      <td>Neutral</td>\n",
              "      <td>2</td>\n",
              "    </tr>\n",
              "    <tr>\n",
              "      <th>1</th>\n",
              "      <td>0310432065</td>\n",
              "      <td>9</td>\n",
              "      <td>Neutral</td>\n",
              "      <td>2</td>\n",
              "    </tr>\n",
              "    <tr>\n",
              "      <th>2</th>\n",
              "      <td>0310802636</td>\n",
              "      <td>10</td>\n",
              "      <td>Neutral</td>\n",
              "      <td>2</td>\n",
              "    </tr>\n",
              "    <tr>\n",
              "      <th>3</th>\n",
              "      <td>0310818621</td>\n",
              "      <td>5</td>\n",
              "      <td>Neutral</td>\n",
              "      <td>1</td>\n",
              "    </tr>\n",
              "    <tr>\n",
              "      <th>4</th>\n",
              "      <td>0310821800</td>\n",
              "      <td>4</td>\n",
              "      <td>Neutral</td>\n",
              "      <td>1</td>\n",
              "    </tr>\n",
              "    <tr>\n",
              "      <th>...</th>\n",
              "      <td>...</td>\n",
              "      <td>...</td>\n",
              "      <td>...</td>\n",
              "      <td>...</td>\n",
              "    </tr>\n",
              "    <tr>\n",
              "      <th>19837</th>\n",
              "      <td>B01HFBS7K6</td>\n",
              "      <td>1</td>\n",
              "      <td>Neutral</td>\n",
              "      <td>1</td>\n",
              "    </tr>\n",
              "    <tr>\n",
              "      <th>19838</th>\n",
              "      <td>B01HFMQA8G</td>\n",
              "      <td>8</td>\n",
              "      <td>Neutral</td>\n",
              "      <td>1</td>\n",
              "    </tr>\n",
              "    <tr>\n",
              "      <th>19839</th>\n",
              "      <td>B01HFW92DG</td>\n",
              "      <td>10</td>\n",
              "      <td>Neutral</td>\n",
              "      <td>4</td>\n",
              "    </tr>\n",
              "    <tr>\n",
              "      <th>19840</th>\n",
              "      <td>B01HFW92DG</td>\n",
              "      <td>11</td>\n",
              "      <td>Neutral</td>\n",
              "      <td>2</td>\n",
              "    </tr>\n",
              "    <tr>\n",
              "      <th>19841</th>\n",
              "      <td>B01HGH3TL6</td>\n",
              "      <td>11</td>\n",
              "      <td>Neutral</td>\n",
              "      <td>2</td>\n",
              "    </tr>\n",
              "  </tbody>\n",
              "</table>\n",
              "<p>19842 rows × 4 columns</p>\n",
              "</div>"
            ],
            "text/plain": [
              "             asin  Month Sentiment  sentiment_count\n",
              "0      0310432065      6   Neutral                2\n",
              "1      0310432065      9   Neutral                2\n",
              "2      0310802636     10   Neutral                2\n",
              "3      0310818621      5   Neutral                1\n",
              "4      0310821800      4   Neutral                1\n",
              "...           ...    ...       ...              ...\n",
              "19837  B01HFBS7K6      1   Neutral                1\n",
              "19838  B01HFMQA8G      8   Neutral                1\n",
              "19839  B01HFW92DG     10   Neutral                4\n",
              "19840  B01HFW92DG     11   Neutral                2\n",
              "19841  B01HGH3TL6     11   Neutral                2\n",
              "\n",
              "[19842 rows x 4 columns]"
            ]
          },
          "execution_count": 60,
          "metadata": {},
          "output_type": "execute_result"
        }
      ],
      "source": [
        "office_neu_count=df_office_neu.groupby(['asin','Month','Sentiment']).size().reset_index(name='sentiment_count')\n",
        "office_neu_count"
      ]
    },
    {
      "cell_type": "code",
      "execution_count": null,
      "id": "829bd123",
      "metadata": {
        "id": "829bd123"
      },
      "outputs": [],
      "source": [
        "office_neu=pd.merge(df_office_neu,office_neu_count)"
      ]
    },
    {
      "cell_type": "code",
      "execution_count": null,
      "id": "ee368673",
      "metadata": {
        "id": "ee368673",
        "outputId": "a4991c0a-2d92-4910-9359-a0c68a335d4e"
      },
      "outputs": [
        {
          "data": {
            "text/html": [
              "<div>\n",
              "<style scoped>\n",
              "    .dataframe tbody tr th:only-of-type {\n",
              "        vertical-align: middle;\n",
              "    }\n",
              "\n",
              "    .dataframe tbody tr th {\n",
              "        vertical-align: top;\n",
              "    }\n",
              "\n",
              "    .dataframe thead th {\n",
              "        text-align: right;\n",
              "    }\n",
              "</style>\n",
              "<table border=\"1\" class=\"dataframe\">\n",
              "  <thead>\n",
              "    <tr style=\"text-align: right;\">\n",
              "      <th></th>\n",
              "      <th>sentiment_count</th>\n",
              "    </tr>\n",
              "    <tr>\n",
              "      <th>date</th>\n",
              "      <th></th>\n",
              "    </tr>\n",
              "  </thead>\n",
              "  <tbody>\n",
              "    <tr>\n",
              "      <th>2000-05-13</th>\n",
              "      <td>1</td>\n",
              "    </tr>\n",
              "    <tr>\n",
              "      <th>2000-05-23</th>\n",
              "      <td>2</td>\n",
              "    </tr>\n",
              "    <tr>\n",
              "      <th>2000-05-23</th>\n",
              "      <td>2</td>\n",
              "    </tr>\n",
              "    <tr>\n",
              "      <th>2000-06-01</th>\n",
              "      <td>2</td>\n",
              "    </tr>\n",
              "    <tr>\n",
              "      <th>2000-06-01</th>\n",
              "      <td>2</td>\n",
              "    </tr>\n",
              "    <tr>\n",
              "      <th>...</th>\n",
              "      <td>...</td>\n",
              "    </tr>\n",
              "    <tr>\n",
              "      <th>2018-09-13</th>\n",
              "      <td>1</td>\n",
              "    </tr>\n",
              "    <tr>\n",
              "      <th>2018-09-20</th>\n",
              "      <td>5</td>\n",
              "    </tr>\n",
              "    <tr>\n",
              "      <th>2018-09-25</th>\n",
              "      <td>1</td>\n",
              "    </tr>\n",
              "    <tr>\n",
              "      <th>2018-09-28</th>\n",
              "      <td>1</td>\n",
              "    </tr>\n",
              "    <tr>\n",
              "      <th>2018-09-29</th>\n",
              "      <td>1</td>\n",
              "    </tr>\n",
              "  </tbody>\n",
              "</table>\n",
              "<p>35000 rows × 1 columns</p>\n",
              "</div>"
            ],
            "text/plain": [
              "            sentiment_count\n",
              "date                       \n",
              "2000-05-13                1\n",
              "2000-05-23                2\n",
              "2000-05-23                2\n",
              "2000-06-01                2\n",
              "2000-06-01                2\n",
              "...                     ...\n",
              "2018-09-13                1\n",
              "2018-09-20                5\n",
              "2018-09-25                1\n",
              "2018-09-28                1\n",
              "2018-09-29                1\n",
              "\n",
              "[35000 rows x 1 columns]"
            ]
          },
          "execution_count": 62,
          "metadata": {},
          "output_type": "execute_result"
        }
      ],
      "source": [
        "office_neu=office_neu[['date','sentiment_count']]\n",
        "office_neu=office_neu.set_index('date')\n",
        "office_neu=office_neu.sort_values(by=['date'])\n",
        "office_neu"
      ]
    },
    {
      "cell_type": "code",
      "execution_count": null,
      "id": "e7256f0e",
      "metadata": {
        "id": "e7256f0e",
        "outputId": "71d7876b-5600-4d0c-cc83-11b94ae9d53e"
      },
      "outputs": [
        {
          "data": {
            "text/html": [
              "<div>\n",
              "<style scoped>\n",
              "    .dataframe tbody tr th:only-of-type {\n",
              "        vertical-align: middle;\n",
              "    }\n",
              "\n",
              "    .dataframe tbody tr th {\n",
              "        vertical-align: top;\n",
              "    }\n",
              "\n",
              "    .dataframe thead th {\n",
              "        text-align: right;\n",
              "    }\n",
              "</style>\n",
              "<table border=\"1\" class=\"dataframe\">\n",
              "  <thead>\n",
              "    <tr style=\"text-align: right;\">\n",
              "      <th></th>\n",
              "      <th>sentiment_count</th>\n",
              "    </tr>\n",
              "    <tr>\n",
              "      <th>date</th>\n",
              "      <th></th>\n",
              "    </tr>\n",
              "  </thead>\n",
              "  <tbody>\n",
              "    <tr>\n",
              "      <th>2000-05-31</th>\n",
              "      <td>1.666667</td>\n",
              "    </tr>\n",
              "    <tr>\n",
              "      <th>2000-06-30</th>\n",
              "      <td>1.666667</td>\n",
              "    </tr>\n",
              "    <tr>\n",
              "      <th>2000-07-31</th>\n",
              "      <td>NaN</td>\n",
              "    </tr>\n",
              "    <tr>\n",
              "      <th>2000-08-31</th>\n",
              "      <td>NaN</td>\n",
              "    </tr>\n",
              "    <tr>\n",
              "      <th>2000-09-30</th>\n",
              "      <td>2.000000</td>\n",
              "    </tr>\n",
              "  </tbody>\n",
              "</table>\n",
              "</div>"
            ],
            "text/plain": [
              "            sentiment_count\n",
              "date                       \n",
              "2000-05-31         1.666667\n",
              "2000-06-30         1.666667\n",
              "2000-07-31              NaN\n",
              "2000-08-31              NaN\n",
              "2000-09-30         2.000000"
            ]
          },
          "execution_count": 63,
          "metadata": {},
          "output_type": "execute_result"
        }
      ],
      "source": [
        "office_neu=office_neu.resample('M').mean()\n",
        "office_neu.head()"
      ]
    },
    {
      "cell_type": "code",
      "execution_count": null,
      "id": "b5e6faa9",
      "metadata": {
        "id": "b5e6faa9",
        "outputId": "75262af4-7244-466d-e98a-c562d28960b9"
      },
      "outputs": [
        {
          "data": {
            "text/plain": [
              "sentiment_count    31\n",
              "dtype: int64"
            ]
          },
          "execution_count": 64,
          "metadata": {},
          "output_type": "execute_result"
        }
      ],
      "source": [
        "office_neu.isnull().sum()"
      ]
    },
    {
      "cell_type": "code",
      "execution_count": null,
      "id": "b3864ddf",
      "metadata": {
        "id": "b3864ddf"
      },
      "outputs": [],
      "source": [
        "office_neu.dropna(inplace=True)"
      ]
    },
    {
      "cell_type": "code",
      "execution_count": null,
      "id": "289a6950",
      "metadata": {
        "id": "289a6950",
        "outputId": "0f56401d-199c-4f12-e4ea-46a584ce2653"
      },
      "outputs": [
        {
          "data": {
            "image/png": "[encoded data removed]",
            "text/plain": [
              "<Figure size 1080x576 with 4 Axes>"
            ]
          },
          "metadata": {},
          "output_type": "display_data"
        }
      ],
      "source": [
        "tsa_comp(office_neu)"
      ]
    },
    {
      "cell_type": "code",
      "execution_count": null,
      "id": "244cb087",
      "metadata": {
        "id": "244cb087",
        "outputId": "3adfbd3d-b908-4ede-fe5b-9de16fed9692"
      },
      "outputs": [
        {
          "name": "stdout",
          "output_type": "stream",
          "text": [
            "pvalue: 0.1204672869215313\n"
          ]
        },
        {
          "data": {
            "text/plain": [
              "' Data is not Stationary. Make the data stationary before model building'"
            ]
          },
          "execution_count": 68,
          "metadata": {},
          "output_type": "execute_result"
        }
      ],
      "source": [
        "checkStationarity(office_neu)"
      ]
    },
    {
      "cell_type": "code",
      "execution_count": null,
      "id": "e61a84cf",
      "metadata": {
        "id": "e61a84cf",
        "outputId": "d4ee429d-944b-4e55-ea62-ada94acd4e93"
      },
      "outputs": [
        {
          "name": "stdout",
          "output_type": "stream",
          "text": [
            "            sentiment_count\n",
            "date                       \n",
            "2000-05-31              NaN\n",
            "2000-06-30         0.000000\n",
            "2000-09-30         0.333333\n",
            "2000-10-31         1.000000\n",
            "2001-02-28        -1.333333\n",
            "...                     ...\n",
            "2018-05-31         0.079908\n",
            "2018-06-30        -0.318184\n",
            "2018-07-31        -0.364335\n",
            "2018-08-31        -0.071818\n",
            "2018-09-30         0.115152\n",
            "\n",
            "[190 rows x 1 columns]\n"
          ]
        }
      ],
      "source": [
        "diff_office_neu = office_neu-office_neu.shift(1)\n",
        "print(diff_office_neu)"
      ]
    },
    {
      "cell_type": "code",
      "execution_count": null,
      "id": "34fae65b",
      "metadata": {
        "id": "34fae65b"
      },
      "outputs": [],
      "source": [
        "diff_office_neu.dropna(inplace=True)"
      ]
    },
    {
      "cell_type": "code",
      "execution_count": null,
      "id": "c5f40d17",
      "metadata": {
        "id": "c5f40d17",
        "outputId": "54ba0627-427e-4e76-9142-5a40aec860fe"
      },
      "outputs": [
        {
          "name": "stdout",
          "output_type": "stream",
          "text": [
            "pvalue: 4.0762493817565416e-10\n"
          ]
        },
        {
          "data": {
            "text/plain": [
              "'Data is Stationary. Proceed to model building'"
            ]
          },
          "execution_count": 71,
          "metadata": {},
          "output_type": "execute_result"
        }
      ],
      "source": [
        "checkStationarity(diff_office_neu)"
      ]
    },
    {
      "cell_type": "code",
      "execution_count": null,
      "id": "ef31e03f",
      "metadata": {
        "id": "ef31e03f",
        "outputId": "92baf4f6-322b-4823-cee8-c52a8099783a"
      },
      "outputs": [
        {
          "name": "stdout",
          "output_type": "stream",
          "text": [
            "Total=190, Train=133, Test=57\n"
          ]
        }
      ],
      "source": [
        "ratio = 0.7\n",
        "rows = int(ratio * len(office_neu))\n",
        "train2 =office_neu[:rows]\n",
        "test2 = office_neu[rows:]\n",
        "\n",
        "print(\"Total={}, Train={}, Test={}\".format(len(office_neu), len(train2), len(test2)))"
      ]
    },
    {
      "cell_type": "code",
      "execution_count": null,
      "id": "96ffb070",
      "metadata": {
        "id": "96ffb070",
        "outputId": "3fb1cdbf-bec0-48b7-c319-95ab2efe7fca"
      },
      "outputs": [
        {
          "data": {
            "image/png": "[encoded data removed]",
            "text/plain": [
              "<Figure size 1080x360 with 2 Axes>"
            ]
          },
          "metadata": {
            "needs_background": "light"
          },
          "output_type": "display_data"
        }
      ],
      "source": [
        "p_and_q(diff_office_neu)"
      ]
    },
    {
      "cell_type": "code",
      "execution_count": null,
      "id": "7dc4041d",
      "metadata": {
        "id": "7dc4041d",
        "outputId": "997855f8-c0cc-4d66-cdfa-c0ef6f548c9b"
      },
      "outputs": [
        {
          "name": "stdout",
          "output_type": "stream",
          "text": [
            "Model 1 Not a good model\n",
            "Model 2 Good model\n",
            "Model 3 Good model\n",
            "Model 4 Good model\n",
            "Model 5 Good model\n",
            "Model 6 Good model\n",
            "Model 7 Good model\n",
            "Model 8 Good model\n",
            "Model 9 Good model\n",
            "Model 10 Good model\n",
            "Model 11 Good model\n",
            "Model 12 Good model\n",
            "Model 13 Good model\n",
            "Model 14 Good model\n",
            "Model 15 Good model\n",
            "Model 16 Good model\n",
            "Model 17 Good model\n",
            "Model 18 Good model\n",
            "Model 19 Good model\n",
            "Model 20 Good model\n",
            "Model 21 Good model\n",
            "Model 22 Good model\n",
            "Model 23 Good model\n",
            "Model 24 Good model\n",
            "Model 25 Good model\n",
            "Model 26 Good model\n",
            "Model 27 Good model\n",
            "Model 28 Good model\n",
            "Model 29 Good model\n",
            "Model 30 Good model\n",
            "Model 31 Good model\n",
            "Model 32 Good model\n",
            "Model 33 Good model\n",
            "Model 34 Good model\n",
            "Model 35 Good model\n"
          ]
        }
      ],
      "source": [
        "d=1;\n",
        "lis=[]\n",
        "for p in range(5):\n",
        "    for q in range(7):\n",
        "        lis.append((p,d,q))\n",
        "\n",
        "# building model\n",
        "model=[]\n",
        "for i in lis:\n",
        "    m =ARIMA(train2, order=i).fit() \n",
        "    model.append(m)\n",
        "\n",
        "# checking model is good or not\n",
        "model_st=[]\n",
        "c=1\n",
        "for i in model:\n",
        "    pvalue = sm.stats.acorr_ljungbox(i.resid, lags=[1], return_df=True)['lb_pvalue'].values\n",
        "    if pvalue < 0.05:\n",
        "        print(f'Model {c} Not a good model')\n",
        "    else:\n",
        "        print(f'Model {c} Good model')\n",
        "    c+=1"
      ]
    },
    {
      "cell_type": "code",
      "execution_count": null,
      "id": "38283d1f",
      "metadata": {
        "id": "38283d1f",
        "outputId": "048dedab-c510-4849-845c-c17def26d8bc"
      },
      "outputs": [
        {
          "data": {
            "text/html": [
              "<div>\n",
              "<style scoped>\n",
              "    .dataframe tbody tr th:only-of-type {\n",
              "        vertical-align: middle;\n",
              "    }\n",
              "\n",
              "    .dataframe tbody tr th {\n",
              "        vertical-align: top;\n",
              "    }\n",
              "\n",
              "    .dataframe thead th {\n",
              "        text-align: right;\n",
              "    }\n",
              "</style>\n",
              "<table border=\"1\" class=\"dataframe\">\n",
              "  <thead>\n",
              "    <tr style=\"text-align: right;\">\n",
              "      <th></th>\n",
              "      <th>Model No.</th>\n",
              "      <th>(p, d, q)</th>\n",
              "      <th>AIC</th>\n",
              "      <th>BIC</th>\n",
              "      <th>MSE</th>\n",
              "      <th>RMSE</th>\n",
              "    </tr>\n",
              "  </thead>\n",
              "  <tbody>\n",
              "    <tr>\n",
              "      <th>0</th>\n",
              "      <td>Model 0</td>\n",
              "      <td>(0, 1, 0)</td>\n",
              "      <td>316.182577</td>\n",
              "      <td>319.065379</td>\n",
              "      <td>0.679948</td>\n",
              "      <td>0.824590</td>\n",
              "    </tr>\n",
              "    <tr>\n",
              "      <th>1</th>\n",
              "      <td>Model 1</td>\n",
              "      <td>(0, 1, 1)</td>\n",
              "      <td>249.237640</td>\n",
              "      <td>255.003243</td>\n",
              "      <td>0.054615</td>\n",
              "      <td>0.233698</td>\n",
              "    </tr>\n",
              "    <tr>\n",
              "      <th>2</th>\n",
              "      <td>Model 2</td>\n",
              "      <td>(0, 1, 2)</td>\n",
              "      <td>249.897367</td>\n",
              "      <td>258.545773</td>\n",
              "      <td>0.054635</td>\n",
              "      <td>0.233742</td>\n",
              "    </tr>\n",
              "    <tr>\n",
              "      <th>3</th>\n",
              "      <td>Model 3</td>\n",
              "      <td>(0, 1, 3)</td>\n",
              "      <td>250.056086</td>\n",
              "      <td>261.587294</td>\n",
              "      <td>0.056836</td>\n",
              "      <td>0.238403</td>\n",
              "    </tr>\n",
              "    <tr>\n",
              "      <th>4</th>\n",
              "      <td>Model 4</td>\n",
              "      <td>(0, 1, 4)</td>\n",
              "      <td>251.498897</td>\n",
              "      <td>265.912907</td>\n",
              "      <td>0.058330</td>\n",
              "      <td>0.241517</td>\n",
              "    </tr>\n",
              "    <tr>\n",
              "      <th>5</th>\n",
              "      <td>Model 5</td>\n",
              "      <td>(0, 1, 5)</td>\n",
              "      <td>251.671211</td>\n",
              "      <td>268.968022</td>\n",
              "      <td>0.056078</td>\n",
              "      <td>0.236808</td>\n",
              "    </tr>\n",
              "    <tr>\n",
              "      <th>6</th>\n",
              "      <td>Model 6</td>\n",
              "      <td>(0, 1, 6)</td>\n",
              "      <td>251.839285</td>\n",
              "      <td>272.018899</td>\n",
              "      <td>0.057510</td>\n",
              "      <td>0.239813</td>\n",
              "    </tr>\n",
              "    <tr>\n",
              "      <th>7</th>\n",
              "      <td>Model 7</td>\n",
              "      <td>(1, 1, 0)</td>\n",
              "      <td>298.267092</td>\n",
              "      <td>304.032696</td>\n",
              "      <td>0.387350</td>\n",
              "      <td>0.622375</td>\n",
              "    </tr>\n",
              "    <tr>\n",
              "      <th>8</th>\n",
              "      <td>Model 8</td>\n",
              "      <td>(1, 1, 1)</td>\n",
              "      <td>250.289713</td>\n",
              "      <td>258.938119</td>\n",
              "      <td>0.054443</td>\n",
              "      <td>0.233330</td>\n",
              "    </tr>\n",
              "    <tr>\n",
              "      <th>9</th>\n",
              "      <td>Model 9</td>\n",
              "      <td>(1, 1, 2)</td>\n",
              "      <td>251.144977</td>\n",
              "      <td>262.676185</td>\n",
              "      <td>0.055228</td>\n",
              "      <td>0.235007</td>\n",
              "    </tr>\n",
              "    <tr>\n",
              "      <th>10</th>\n",
              "      <td>Model 10</td>\n",
              "      <td>(1, 1, 3)</td>\n",
              "      <td>245.271467</td>\n",
              "      <td>259.685477</td>\n",
              "      <td>0.067633</td>\n",
              "      <td>0.260063</td>\n",
              "    </tr>\n",
              "    <tr>\n",
              "      <th>11</th>\n",
              "      <td>Model 11</td>\n",
              "      <td>(1, 1, 4)</td>\n",
              "      <td>252.558494</td>\n",
              "      <td>269.855305</td>\n",
              "      <td>0.058335</td>\n",
              "      <td>0.241526</td>\n",
              "    </tr>\n",
              "    <tr>\n",
              "      <th>12</th>\n",
              "      <td>Model 12</td>\n",
              "      <td>(1, 1, 5)</td>\n",
              "      <td>253.310953</td>\n",
              "      <td>273.490567</td>\n",
              "      <td>0.056148</td>\n",
              "      <td>0.236956</td>\n",
              "    </tr>\n",
              "    <tr>\n",
              "      <th>13</th>\n",
              "      <td>Model 13</td>\n",
              "      <td>(1, 1, 6)</td>\n",
              "      <td>254.757737</td>\n",
              "      <td>277.820152</td>\n",
              "      <td>0.056101</td>\n",
              "      <td>0.236856</td>\n",
              "    </tr>\n",
              "    <tr>\n",
              "      <th>14</th>\n",
              "      <td>Model 14</td>\n",
              "      <td>(2, 1, 0)</td>\n",
              "      <td>278.612997</td>\n",
              "      <td>287.261403</td>\n",
              "      <td>0.197900</td>\n",
              "      <td>0.444860</td>\n",
              "    </tr>\n",
              "    <tr>\n",
              "      <th>15</th>\n",
              "      <td>Model 15</td>\n",
              "      <td>(2, 1, 1)</td>\n",
              "      <td>249.372280</td>\n",
              "      <td>260.903488</td>\n",
              "      <td>0.057773</td>\n",
              "      <td>0.240360</td>\n",
              "    </tr>\n",
              "    <tr>\n",
              "      <th>16</th>\n",
              "      <td>Model 16</td>\n",
              "      <td>(2, 1, 2)</td>\n",
              "      <td>251.362209</td>\n",
              "      <td>265.776219</td>\n",
              "      <td>0.057737</td>\n",
              "      <td>0.240285</td>\n",
              "    </tr>\n",
              "    <tr>\n",
              "      <th>17</th>\n",
              "      <td>Model 17</td>\n",
              "      <td>(2, 1, 3)</td>\n",
              "      <td>243.068221</td>\n",
              "      <td>260.365033</td>\n",
              "      <td>0.057257</td>\n",
              "      <td>0.239284</td>\n",
              "    </tr>\n",
              "    <tr>\n",
              "      <th>18</th>\n",
              "      <td>Model 18</td>\n",
              "      <td>(2, 1, 4)</td>\n",
              "      <td>244.699707</td>\n",
              "      <td>264.879320</td>\n",
              "      <td>0.057588</td>\n",
              "      <td>0.239974</td>\n",
              "    </tr>\n",
              "    <tr>\n",
              "      <th>19</th>\n",
              "      <td>Model 19</td>\n",
              "      <td>(2, 1, 5)</td>\n",
              "      <td>246.061957</td>\n",
              "      <td>269.124373</td>\n",
              "      <td>0.057501</td>\n",
              "      <td>0.239793</td>\n",
              "    </tr>\n",
              "    <tr>\n",
              "      <th>20</th>\n",
              "      <td>Model 20</td>\n",
              "      <td>(2, 1, 6)</td>\n",
              "      <td>247.830923</td>\n",
              "      <td>273.776140</td>\n",
              "      <td>0.058268</td>\n",
              "      <td>0.241388</td>\n",
              "    </tr>\n",
              "    <tr>\n",
              "      <th>21</th>\n",
              "      <td>Model 21</td>\n",
              "      <td>(3, 1, 0)</td>\n",
              "      <td>262.200126</td>\n",
              "      <td>273.731333</td>\n",
              "      <td>0.119115</td>\n",
              "      <td>0.345131</td>\n",
              "    </tr>\n",
              "    <tr>\n",
              "      <th>22</th>\n",
              "      <td>Model 22</td>\n",
              "      <td>(3, 1, 1)</td>\n",
              "      <td>251.343623</td>\n",
              "      <td>265.757633</td>\n",
              "      <td>0.057622</td>\n",
              "      <td>0.240047</td>\n",
              "    </tr>\n",
              "    <tr>\n",
              "      <th>23</th>\n",
              "      <td>Model 23</td>\n",
              "      <td>(3, 1, 2)</td>\n",
              "      <td>252.952611</td>\n",
              "      <td>270.249423</td>\n",
              "      <td>0.058307</td>\n",
              "      <td>0.241469</td>\n",
              "    </tr>\n",
              "    <tr>\n",
              "      <th>24</th>\n",
              "      <td>Model 24</td>\n",
              "      <td>(3, 1, 3)</td>\n",
              "      <td>244.909095</td>\n",
              "      <td>265.088708</td>\n",
              "      <td>0.058626</td>\n",
              "      <td>0.242129</td>\n",
              "    </tr>\n",
              "    <tr>\n",
              "      <th>25</th>\n",
              "      <td>Model 25</td>\n",
              "      <td>(3, 1, 4)</td>\n",
              "      <td>246.737813</td>\n",
              "      <td>269.800228</td>\n",
              "      <td>0.056909</td>\n",
              "      <td>0.238556</td>\n",
              "    </tr>\n",
              "    <tr>\n",
              "      <th>26</th>\n",
              "      <td>Model 26</td>\n",
              "      <td>(3, 1, 5)</td>\n",
              "      <td>247.945046</td>\n",
              "      <td>273.890263</td>\n",
              "      <td>0.058049</td>\n",
              "      <td>0.240933</td>\n",
              "    </tr>\n",
              "    <tr>\n",
              "      <th>27</th>\n",
              "      <td>Model 27</td>\n",
              "      <td>(3, 1, 6)</td>\n",
              "      <td>249.570987</td>\n",
              "      <td>278.399006</td>\n",
              "      <td>0.057360</td>\n",
              "      <td>0.239500</td>\n",
              "    </tr>\n",
              "    <tr>\n",
              "      <th>28</th>\n",
              "      <td>Model 28</td>\n",
              "      <td>(4, 1, 0)</td>\n",
              "      <td>263.556674</td>\n",
              "      <td>277.970684</td>\n",
              "      <td>0.113139</td>\n",
              "      <td>0.336361</td>\n",
              "    </tr>\n",
              "    <tr>\n",
              "      <th>29</th>\n",
              "      <td>Model 29</td>\n",
              "      <td>(4, 1, 1)</td>\n",
              "      <td>250.987096</td>\n",
              "      <td>268.283908</td>\n",
              "      <td>0.057049</td>\n",
              "      <td>0.238850</td>\n",
              "    </tr>\n",
              "    <tr>\n",
              "      <th>30</th>\n",
              "      <td>Model 30</td>\n",
              "      <td>(4, 1, 2)</td>\n",
              "      <td>252.508956</td>\n",
              "      <td>272.688569</td>\n",
              "      <td>0.057238</td>\n",
              "      <td>0.239245</td>\n",
              "    </tr>\n",
              "    <tr>\n",
              "      <th>31</th>\n",
              "      <td>Model 31</td>\n",
              "      <td>(4, 1, 3)</td>\n",
              "      <td>246.906325</td>\n",
              "      <td>269.968740</td>\n",
              "      <td>0.058389</td>\n",
              "      <td>0.241638</td>\n",
              "    </tr>\n",
              "    <tr>\n",
              "      <th>32</th>\n",
              "      <td>Model 32</td>\n",
              "      <td>(4, 1, 4)</td>\n",
              "      <td>248.253675</td>\n",
              "      <td>274.198892</td>\n",
              "      <td>0.056329</td>\n",
              "      <td>0.237338</td>\n",
              "    </tr>\n",
              "    <tr>\n",
              "      <th>33</th>\n",
              "      <td>Model 33</td>\n",
              "      <td>(4, 1, 5)</td>\n",
              "      <td>249.942718</td>\n",
              "      <td>278.770737</td>\n",
              "      <td>0.058071</td>\n",
              "      <td>0.240979</td>\n",
              "    </tr>\n",
              "    <tr>\n",
              "      <th>34</th>\n",
              "      <td>Model 34</td>\n",
              "      <td>(4, 1, 6)</td>\n",
              "      <td>250.588125</td>\n",
              "      <td>282.298946</td>\n",
              "      <td>0.057982</td>\n",
              "      <td>0.240795</td>\n",
              "    </tr>\n",
              "  </tbody>\n",
              "</table>\n",
              "</div>"
            ],
            "text/plain": [
              "   Model No.  (p, d, q)         AIC         BIC       MSE      RMSE\n",
              "0    Model 0  (0, 1, 0)  316.182577  319.065379  0.679948  0.824590\n",
              "1    Model 1  (0, 1, 1)  249.237640  255.003243  0.054615  0.233698\n",
              "2    Model 2  (0, 1, 2)  249.897367  258.545773  0.054635  0.233742\n",
              "3    Model 3  (0, 1, 3)  250.056086  261.587294  0.056836  0.238403\n",
              "4    Model 4  (0, 1, 4)  251.498897  265.912907  0.058330  0.241517\n",
              "5    Model 5  (0, 1, 5)  251.671211  268.968022  0.056078  0.236808\n",
              "6    Model 6  (0, 1, 6)  251.839285  272.018899  0.057510  0.239813\n",
              "7    Model 7  (1, 1, 0)  298.267092  304.032696  0.387350  0.622375\n",
              "8    Model 8  (1, 1, 1)  250.289713  258.938119  0.054443  0.233330\n",
              "9    Model 9  (1, 1, 2)  251.144977  262.676185  0.055228  0.235007\n",
              "10  Model 10  (1, 1, 3)  245.271467  259.685477  0.067633  0.260063\n",
              "11  Model 11  (1, 1, 4)  252.558494  269.855305  0.058335  0.241526\n",
              "12  Model 12  (1, 1, 5)  253.310953  273.490567  0.056148  0.236956\n",
              "13  Model 13  (1, 1, 6)  254.757737  277.820152  0.056101  0.236856\n",
              "14  Model 14  (2, 1, 0)  278.612997  287.261403  0.197900  0.444860\n",
              "15  Model 15  (2, 1, 1)  249.372280  260.903488  0.057773  0.240360\n",
              "16  Model 16  (2, 1, 2)  251.362209  265.776219  0.057737  0.240285\n",
              "17  Model 17  (2, 1, 3)  243.068221  260.365033  0.057257  0.239284\n",
              "18  Model 18  (2, 1, 4)  244.699707  264.879320  0.057588  0.239974\n",
              "19  Model 19  (2, 1, 5)  246.061957  269.124373  0.057501  0.239793\n",
              "20  Model 20  (2, 1, 6)  247.830923  273.776140  0.058268  0.241388\n",
              "21  Model 21  (3, 1, 0)  262.200126  273.731333  0.119115  0.345131\n",
              "22  Model 22  (3, 1, 1)  251.343623  265.757633  0.057622  0.240047\n",
              "23  Model 23  (3, 1, 2)  252.952611  270.249423  0.058307  0.241469\n",
              "24  Model 24  (3, 1, 3)  244.909095  265.088708  0.058626  0.242129\n",
              "25  Model 25  (3, 1, 4)  246.737813  269.800228  0.056909  0.238556\n",
              "26  Model 26  (3, 1, 5)  247.945046  273.890263  0.058049  0.240933\n",
              "27  Model 27  (3, 1, 6)  249.570987  278.399006  0.057360  0.239500\n",
              "28  Model 28  (4, 1, 0)  263.556674  277.970684  0.113139  0.336361\n",
              "29  Model 29  (4, 1, 1)  250.987096  268.283908  0.057049  0.238850\n",
              "30  Model 30  (4, 1, 2)  252.508956  272.688569  0.057238  0.239245\n",
              "31  Model 31  (4, 1, 3)  246.906325  269.968740  0.058389  0.241638\n",
              "32  Model 32  (4, 1, 4)  248.253675  274.198892  0.056329  0.237338\n",
              "33  Model 33  (4, 1, 5)  249.942718  278.770737  0.058071  0.240979\n",
              "34  Model 34  (4, 1, 6)  250.588125  282.298946  0.057982  0.240795"
            ]
          },
          "execution_count": 79,
          "metadata": {},
          "output_type": "execute_result"
        }
      ],
      "source": [
        "aic=[]\n",
        "bic=[]\n",
        "for i in model[0:]:\n",
        "    aic.append(i.aic)\n",
        "    bic.append(i.bic)\n",
        "\n",
        "# predicting values\n",
        "forecast=[]\n",
        "for i in model[0:]:\n",
        "    fcast = i.predict(start=len(train2), end=len(train2)+len(test2)-1)\n",
        "    forecast.append(fcast)\n",
        "\n",
        "# calculating MSE and RMSE score\n",
        "MSE = []\n",
        "RMSE = []\n",
        "for i in forecast:\n",
        "    mse = mean_squared_error(test2, i)\n",
        "    rmse = np.sqrt(mse)\n",
        "    MSE.append(mse)\n",
        "    RMSE.append(rmse)\n",
        "\n",
        "# printing model numbers\n",
        "model_no=[]\n",
        "for i in range(0,len(model)):\n",
        "    model_no.append('Model '+str(i))\n",
        "    \n",
        "# dataframe of all results\n",
        "df_results2 = pd.DataFrame({'Model No.': model_no, '(p, d, q)':lis[0:], 'AIC': aic, 'BIC': bic, 'MSE': MSE, 'RMSE': RMSE})\n",
        "df_results2"
      ]
    },
    {
      "cell_type": "code",
      "execution_count": null,
      "id": "b3734313",
      "metadata": {
        "id": "b3734313",
        "outputId": "725d8303-c2b9-4ca7-d8af-51d0cc52c950"
      },
      "outputs": [
        {
          "name": "stdout",
          "output_type": "stream",
          "text": [
            "Taking model with lowest RMSE score:\n"
          ]
        },
        {
          "data": {
            "text/html": [
              "<div>\n",
              "<style scoped>\n",
              "    .dataframe tbody tr th:only-of-type {\n",
              "        vertical-align: middle;\n",
              "    }\n",
              "\n",
              "    .dataframe tbody tr th {\n",
              "        vertical-align: top;\n",
              "    }\n",
              "\n",
              "    .dataframe thead th {\n",
              "        text-align: right;\n",
              "    }\n",
              "</style>\n",
              "<table border=\"1\" class=\"dataframe\">\n",
              "  <thead>\n",
              "    <tr style=\"text-align: right;\">\n",
              "      <th></th>\n",
              "      <th>Model No.</th>\n",
              "      <th>(p, d, q)</th>\n",
              "      <th>AIC</th>\n",
              "      <th>BIC</th>\n",
              "      <th>MSE</th>\n",
              "      <th>RMSE</th>\n",
              "    </tr>\n",
              "  </thead>\n",
              "  <tbody>\n",
              "    <tr>\n",
              "      <th>8</th>\n",
              "      <td>Model 8</td>\n",
              "      <td>(1, 1, 1)</td>\n",
              "      <td>250.289713</td>\n",
              "      <td>258.938119</td>\n",
              "      <td>0.054443</td>\n",
              "      <td>0.23333</td>\n",
              "    </tr>\n",
              "  </tbody>\n",
              "</table>\n",
              "</div>"
            ],
            "text/plain": [
              "  Model No.  (p, d, q)         AIC         BIC       MSE     RMSE\n",
              "8   Model 8  (1, 1, 1)  250.289713  258.938119  0.054443  0.23333"
            ]
          },
          "execution_count": 80,
          "metadata": {},
          "output_type": "execute_result"
        }
      ],
      "source": [
        "print('Taking model with lowest RMSE score:')\n",
        "df_results2[df_results2.RMSE==df_results2.RMSE.min()]\n"
      ]
    },
    {
      "cell_type": "code",
      "execution_count": null,
      "id": "505df276",
      "metadata": {
        "id": "505df276",
        "outputId": "3b7b373b-47f9-41e4-df8c-ecb95f9fff04"
      },
      "outputs": [
        {
          "name": "stdout",
          "output_type": "stream",
          "text": [
            "Taking model with lowest BIC score:\n"
          ]
        },
        {
          "data": {
            "text/html": [
              "<div>\n",
              "<style scoped>\n",
              "    .dataframe tbody tr th:only-of-type {\n",
              "        vertical-align: middle;\n",
              "    }\n",
              "\n",
              "    .dataframe tbody tr th {\n",
              "        vertical-align: top;\n",
              "    }\n",
              "\n",
              "    .dataframe thead th {\n",
              "        text-align: right;\n",
              "    }\n",
              "</style>\n",
              "<table border=\"1\" class=\"dataframe\">\n",
              "  <thead>\n",
              "    <tr style=\"text-align: right;\">\n",
              "      <th></th>\n",
              "      <th>Model No.</th>\n",
              "      <th>(p, d, q)</th>\n",
              "      <th>AIC</th>\n",
              "      <th>BIC</th>\n",
              "      <th>MSE</th>\n",
              "      <th>RMSE</th>\n",
              "    </tr>\n",
              "  </thead>\n",
              "  <tbody>\n",
              "    <tr>\n",
              "      <th>1</th>\n",
              "      <td>Model 1</td>\n",
              "      <td>(0, 1, 1)</td>\n",
              "      <td>249.23764</td>\n",
              "      <td>255.003243</td>\n",
              "      <td>0.054615</td>\n",
              "      <td>0.233698</td>\n",
              "    </tr>\n",
              "  </tbody>\n",
              "</table>\n",
              "</div>"
            ],
            "text/plain": [
              "  Model No.  (p, d, q)        AIC         BIC       MSE      RMSE\n",
              "1   Model 1  (0, 1, 1)  249.23764  255.003243  0.054615  0.233698"
            ]
          },
          "execution_count": 81,
          "metadata": {},
          "output_type": "execute_result"
        }
      ],
      "source": [
        "print('Taking model with lowest BIC score:')\n",
        "\n",
        "df_results2[df_results2.BIC==df_results2.BIC.min()]"
      ]
    },
    {
      "cell_type": "code",
      "execution_count": null,
      "id": "4d26bd1a",
      "metadata": {
        "id": "4d26bd1a",
        "outputId": "5f326571-9c4b-4493-9b7c-b502b4f28ddc"
      },
      "outputs": [
        {
          "name": "stdout",
          "output_type": "stream",
          "text": [
            "Taking model with lowest AIC score:\n"
          ]
        },
        {
          "data": {
            "text/html": [
              "<div>\n",
              "<style scoped>\n",
              "    .dataframe tbody tr th:only-of-type {\n",
              "        vertical-align: middle;\n",
              "    }\n",
              "\n",
              "    .dataframe tbody tr th {\n",
              "        vertical-align: top;\n",
              "    }\n",
              "\n",
              "    .dataframe thead th {\n",
              "        text-align: right;\n",
              "    }\n",
              "</style>\n",
              "<table border=\"1\" class=\"dataframe\">\n",
              "  <thead>\n",
              "    <tr style=\"text-align: right;\">\n",
              "      <th></th>\n",
              "      <th>Model No.</th>\n",
              "      <th>(p, d, q)</th>\n",
              "      <th>AIC</th>\n",
              "      <th>BIC</th>\n",
              "      <th>MSE</th>\n",
              "      <th>RMSE</th>\n",
              "    </tr>\n",
              "  </thead>\n",
              "  <tbody>\n",
              "    <tr>\n",
              "      <th>17</th>\n",
              "      <td>Model 17</td>\n",
              "      <td>(2, 1, 3)</td>\n",
              "      <td>243.068221</td>\n",
              "      <td>260.365033</td>\n",
              "      <td>0.057257</td>\n",
              "      <td>0.239284</td>\n",
              "    </tr>\n",
              "  </tbody>\n",
              "</table>\n",
              "</div>"
            ],
            "text/plain": [
              "   Model No.  (p, d, q)         AIC         BIC       MSE      RMSE\n",
              "17  Model 17  (2, 1, 3)  243.068221  260.365033  0.057257  0.239284"
            ]
          },
          "execution_count": 82,
          "metadata": {},
          "output_type": "execute_result"
        }
      ],
      "source": [
        "print('Taking model with lowest AIC score:')\n",
        "df_results2[df_results2.AIC==df_results2.AIC.min()]"
      ]
    },
    {
      "cell_type": "code",
      "execution_count": null,
      "id": "af059756",
      "metadata": {
        "id": "af059756",
        "outputId": "37d0355b-95e6-4aaf-9bc8-6011847035c7"
      },
      "outputs": [
        {
          "data": {
            "text/html": [
              "<div>\n",
              "<style scoped>\n",
              "    .dataframe tbody tr th:only-of-type {\n",
              "        vertical-align: middle;\n",
              "    }\n",
              "\n",
              "    .dataframe tbody tr th {\n",
              "        vertical-align: top;\n",
              "    }\n",
              "\n",
              "    .dataframe thead th {\n",
              "        text-align: right;\n",
              "    }\n",
              "</style>\n",
              "<table border=\"1\" class=\"dataframe\">\n",
              "  <thead>\n",
              "    <tr style=\"text-align: right;\">\n",
              "      <th></th>\n",
              "      <th>Model No.</th>\n",
              "      <th>(p, d, q)</th>\n",
              "      <th>AIC</th>\n",
              "      <th>BIC</th>\n",
              "      <th>MSE</th>\n",
              "      <th>RMSE</th>\n",
              "    </tr>\n",
              "  </thead>\n",
              "  <tbody>\n",
              "    <tr>\n",
              "      <th>1</th>\n",
              "      <td>Model 1</td>\n",
              "      <td>(0, 1, 1)</td>\n",
              "      <td>249.237640</td>\n",
              "      <td>255.003243</td>\n",
              "      <td>0.054615</td>\n",
              "      <td>0.233698</td>\n",
              "    </tr>\n",
              "    <tr>\n",
              "      <th>8</th>\n",
              "      <td>Model 8</td>\n",
              "      <td>(1, 1, 1)</td>\n",
              "      <td>250.289713</td>\n",
              "      <td>258.938119</td>\n",
              "      <td>0.054443</td>\n",
              "      <td>0.233330</td>\n",
              "    </tr>\n",
              "    <tr>\n",
              "      <th>17</th>\n",
              "      <td>Model 17</td>\n",
              "      <td>(2, 1, 3)</td>\n",
              "      <td>243.068221</td>\n",
              "      <td>260.365033</td>\n",
              "      <td>0.057257</td>\n",
              "      <td>0.239284</td>\n",
              "    </tr>\n",
              "  </tbody>\n",
              "</table>\n",
              "</div>"
            ],
            "text/plain": [
              "   Model No.  (p, d, q)         AIC         BIC       MSE      RMSE\n",
              "1    Model 1  (0, 1, 1)  249.237640  255.003243  0.054615  0.233698\n",
              "8    Model 8  (1, 1, 1)  250.289713  258.938119  0.054443  0.233330\n",
              "17  Model 17  (2, 1, 3)  243.068221  260.365033  0.057257  0.239284"
            ]
          },
          "execution_count": 101,
          "metadata": {},
          "output_type": "execute_result"
        }
      ],
      "source": [
        "df_results2[(df_results2.AIC==df_results2.AIC.min())|(df_results2.BIC==df_results2.BIC.min())|(df_results2.RMSE==df_results2.RMSE.min())]"
      ]
    },
    {
      "cell_type": "code",
      "execution_count": null,
      "id": "1b730506",
      "metadata": {
        "id": "1b730506",
        "outputId": "620bf939-224e-43d1-e5b0-1906218391cf"
      },
      "outputs": [
        {
          "data": {
            "text/html": [
              "<table class=\"simpletable\">\n",
              "<caption>SARIMAX Results</caption>\n",
              "<tr>\n",
              "  <th>Dep. Variable:</th>            <td>sentiment_count</td>         <th>  No. Observations:  </th>    <td>190</td>  \n",
              "</tr>\n",
              "<tr>\n",
              "  <th>Model:</th>           <td>SARIMAX(2, 1, 3)x(1, 1, [1], 12)</td> <th>  Log Likelihood     </th> <td>-143.141</td>\n",
              "</tr>\n",
              "<tr>\n",
              "  <th>Date:</th>                    <td>Sun, 22 Jan 2023</td>         <th>  AIC                </th>  <td>302.281</td>\n",
              "</tr>\n",
              "<tr>\n",
              "  <th>Time:</th>                        <td>10:53:13</td>             <th>  BIC                </th>  <td>327.691</td>\n",
              "</tr>\n",
              "<tr>\n",
              "  <th>Sample:</th>                          <td>0</td>                <th>  HQIC               </th>  <td>312.586</td>\n",
              "</tr>\n",
              "<tr>\n",
              "  <th></th>                              <td> - 190</td>              <th>                     </th>     <td> </td>   \n",
              "</tr>\n",
              "<tr>\n",
              "  <th>Covariance Type:</th>                <td>opg</td>               <th>                     </th>     <td> </td>   \n",
              "</tr>\n",
              "</table>\n",
              "<table class=\"simpletable\">\n",
              "<tr>\n",
              "      <td></td>        <th>coef</th>     <th>std err</th>      <th>z</th>      <th>P>|z|</th>  <th>[0.025</th>    <th>0.975]</th>  \n",
              "</tr>\n",
              "<tr>\n",
              "  <th>ar.L1</th>    <td>   -0.4623</td> <td>    1.734</td> <td>   -0.267</td> <td> 0.790</td> <td>   -3.860</td> <td>    2.936</td>\n",
              "</tr>\n",
              "<tr>\n",
              "  <th>ar.L2</th>    <td>    0.4376</td> <td>    1.597</td> <td>    0.274</td> <td> 0.784</td> <td>   -2.693</td> <td>    3.569</td>\n",
              "</tr>\n",
              "<tr>\n",
              "  <th>ma.L1</th>    <td>   -0.3818</td> <td>    2.207</td> <td>   -0.173</td> <td> 0.863</td> <td>   -4.708</td> <td>    3.944</td>\n",
              "</tr>\n",
              "<tr>\n",
              "  <th>ma.L2</th>    <td>   -0.9691</td> <td>    1.713</td> <td>   -0.566</td> <td> 0.572</td> <td>   -4.327</td> <td>    2.389</td>\n",
              "</tr>\n",
              "<tr>\n",
              "  <th>ma.L3</th>    <td>    0.4104</td> <td>    1.697</td> <td>    0.242</td> <td> 0.809</td> <td>   -2.916</td> <td>    3.737</td>\n",
              "</tr>\n",
              "<tr>\n",
              "  <th>ar.S.L12</th> <td>    0.0199</td> <td>    0.095</td> <td>    0.210</td> <td> 0.833</td> <td>   -0.165</td> <td>    0.205</td>\n",
              "</tr>\n",
              "<tr>\n",
              "  <th>ma.S.L12</th> <td>   -0.7990</td> <td>    0.135</td> <td>   -5.937</td> <td> 0.000</td> <td>   -1.063</td> <td>   -0.535</td>\n",
              "</tr>\n",
              "<tr>\n",
              "  <th>sigma2</th>   <td>    0.2629</td> <td>    0.311</td> <td>    0.845</td> <td> 0.398</td> <td>   -0.347</td> <td>    0.873</td>\n",
              "</tr>\n",
              "</table>\n",
              "<table class=\"simpletable\">\n",
              "<tr>\n",
              "  <th>Ljung-Box (L1) (Q):</th>     <td>0.14</td> <th>  Jarque-Bera (JB):  </th> <td>5.22</td>\n",
              "</tr>\n",
              "<tr>\n",
              "  <th>Prob(Q):</th>                <td>0.71</td> <th>  Prob(JB):          </th> <td>0.07</td>\n",
              "</tr>\n",
              "<tr>\n",
              "  <th>Heteroskedasticity (H):</th> <td>0.14</td> <th>  Skew:              </th> <td>0.07</td>\n",
              "</tr>\n",
              "<tr>\n",
              "  <th>Prob(H) (two-sided):</th>    <td>0.00</td> <th>  Kurtosis:          </th> <td>3.83</td>\n",
              "</tr>\n",
              "</table><br/><br/>Warnings:<br/>[1] Covariance matrix calculated using the outer product of gradients (complex-step)."
            ],
            "text/plain": [
              "<class 'statsmodels.iolib.summary.Summary'>\n",
              "\"\"\"\n",
              "                                      SARIMAX Results                                       \n",
              "============================================================================================\n",
              "Dep. Variable:                      sentiment_count   No. Observations:                  190\n",
              "Model:             SARIMAX(2, 1, 3)x(1, 1, [1], 12)   Log Likelihood                -143.141\n",
              "Date:                              Sun, 22 Jan 2023   AIC                            302.281\n",
              "Time:                                      10:53:13   BIC                            327.691\n",
              "Sample:                                           0   HQIC                           312.586\n",
              "                                              - 190                                         \n",
              "Covariance Type:                                opg                                         \n",
              "==============================================================================\n",
              "                 coef    std err          z      P>|z|      [0.025      0.975]\n",
              "------------------------------------------------------------------------------\n",
              "ar.L1         -0.4623      1.734     -0.267      0.790      -3.860       2.936\n",
              "ar.L2          0.4376      1.597      0.274      0.784      -2.693       3.569\n",
              "ma.L1         -0.3818      2.207     -0.173      0.863      -4.708       3.944\n",
              "ma.L2         -0.9691      1.713     -0.566      0.572      -4.327       2.389\n",
              "ma.L3          0.4104      1.697      0.242      0.809      -2.916       3.737\n",
              "ar.S.L12       0.0199      0.095      0.210      0.833      -0.165       0.205\n",
              "ma.S.L12      -0.7990      0.135     -5.937      0.000      -1.063      -0.535\n",
              "sigma2         0.2629      0.311      0.845      0.398      -0.347       0.873\n",
              "===================================================================================\n",
              "Ljung-Box (L1) (Q):                   0.14   Jarque-Bera (JB):                 5.22\n",
              "Prob(Q):                              0.71   Prob(JB):                         0.07\n",
              "Heteroskedasticity (H):               0.14   Skew:                             0.07\n",
              "Prob(H) (two-sided):                  0.00   Kurtosis:                         3.83\n",
              "===================================================================================\n",
              "\n",
              "Warnings:\n",
              "[1] Covariance matrix calculated using the outer product of gradients (complex-step).\n",
              "\"\"\""
            ]
          },
          "execution_count": 108,
          "metadata": {},
          "output_type": "execute_result"
        }
      ],
      "source": [
        "p=2;q=3;d=1\n",
        "P=1;Q=1;D=1\n",
        "m2 = sm.tsa.statespace.SARIMAX(office_neu['sentiment_count'],order=(p,d,q),seasonal_order=(P,D,Q,12)).fit()\n",
        "# summarise the model\n",
        "m2.summary()\n"
      ]
    },
    {
      "cell_type": "code",
      "execution_count": null,
      "id": "ffc7cc63",
      "metadata": {
        "id": "ffc7cc63",
        "outputId": "d4f53bca-07e6-470b-e07f-3e949e282832"
      },
      "outputs": [
        {
          "name": "stdout",
          "output_type": "stream",
          "text": [
            "Fail-to-Reject H0. Good model\n"
          ]
        }
      ],
      "source": [
        "# LJung-Box test\n",
        "pvalue = sm.stats.acorr_ljungbox(m2.resid,lags=[1],return_df=True)['lb_pvalue'].values\n",
        "if pvalue < 0.05:\n",
        "    print(\"Reject H0. Bad model\")\n",
        "else:\n",
        "    print(\"Fail-to-Reject H0. Good model\")"
      ]
    },
    {
      "cell_type": "code",
      "execution_count": null,
      "id": "9cb8bfba",
      "metadata": {
        "id": "9cb8bfba",
        "outputId": "9eab6f5f-69a9-4be3-995f-eadd3f96a2bf"
      },
      "outputs": [
        {
          "name": "stdout",
          "output_type": "stream",
          "text": [
            "start = 133, end = 189\n"
          ]
        }
      ],
      "source": [
        "start = len(train2) \n",
        "end = len(train2) + len(test2) - 1\n",
        "\n",
        "print('start = {}, end = {}'.format(start,end))"
      ]
    },
    {
      "cell_type": "code",
      "execution_count": null,
      "id": "d8d6fbed",
      "metadata": {
        "id": "d8d6fbed",
        "outputId": "89a92b4d-dcea-4e90-c3ec-54db58dc6f5e"
      },
      "outputs": [
        {
          "name": "stdout",
          "output_type": "stream",
          "text": [
            "date\n",
            "2014-01-31    2.701458\n",
            "2014-02-28    2.554520\n",
            "2014-03-31    3.077425\n",
            "2014-04-30    2.669681\n",
            "2014-05-31    2.401753\n",
            "Name: predicted_mean, dtype: float64\n"
          ]
        }
      ],
      "source": [
        "predictions = m2.predict(start,end)\n",
        "predictions.index=test2.index\n",
        "print(predictions.head())"
      ]
    },
    {
      "cell_type": "code",
      "execution_count": null,
      "id": "23f0d958",
      "metadata": {
        "id": "23f0d958",
        "outputId": "e4a379b5-a435-4f2b-ae7c-3733f7c2f93f"
      },
      "outputs": [
        {
          "name": "stdout",
          "output_type": "stream",
          "text": [
            "              actual  predicted     error\n",
            "date                                     \n",
            "2014-01-31  2.358166   2.701458 -0.343291\n",
            "2014-02-28  3.020888   2.554520  0.466368\n",
            "2014-03-31  2.716381   3.077425 -0.361044\n",
            "2014-04-30  2.438356   2.669681 -0.231325\n",
            "2014-05-31  2.743017   2.401753  0.341264\n"
          ]
        }
      ],
      "source": [
        "actual = []; pred = []\n",
        "test2.reset_index(drop=True)\n",
        "for i in range(len(predictions)):\n",
        "    actual.append(test2['sentiment_count'][i])\n",
        "    pred.append(predictions[i])\n",
        "\n",
        "df_res2 = pd.DataFrame({'actual':actual, 'predicted':pred})\n",
        "df_res2['error'] = df_res2.actual - df_res2.predicted\n",
        "df_res2.index=test2.index\n",
        "print(df_res2.head())"
      ]
    },
    {
      "cell_type": "code",
      "execution_count": null,
      "id": "57c6ab74",
      "metadata": {
        "id": "57c6ab74",
        "outputId": "d848b7d4-d01f-478f-c418-39236ece2efc"
      },
      "outputs": [
        {
          "name": "stdout",
          "output_type": "stream",
          "text": [
            "mse: 0.06483322445959665\n",
            "rmse: 0.25462369186624534\n"
          ]
        }
      ],
      "source": [
        "mse2=mean_squared_error(df_res2.actual,df_res2.predicted)\n",
        "rmse2=np.sqrt(mse2)\n",
        "print('mse:',mse2)\n",
        "print('rmse:',rmse2)"
      ]
    },
    {
      "cell_type": "code",
      "execution_count": null,
      "id": "6878c0c2",
      "metadata": {
        "id": "6878c0c2",
        "outputId": "ee3a2ab0-d07b-46c7-906d-5c5a844ad67f"
      },
      "outputs": [
        {
          "data": {
            "text/plain": [
              "Text(0.5, 1.0, 'SARIMA Model. Order=(2,1,3)')"
            ]
          },
          "execution_count": 114,
          "metadata": {},
          "output_type": "execute_result"
        },
        {
          "data": {
            "image/png": "[encoded data removed]",
            "text/plain": [
              "<Figure size 720x576 with 1 Axes>"
            ]
          },
          "metadata": {
            "needs_background": "light"
          },
          "output_type": "display_data"
        }
      ],
      "source": [
        "msg = 'SARIMA Model. Order=(' + str(p) + ',' + str(d) + ',' + str(q) + ')'\n",
        "df_res2.actual.plot(figsize=(10,8),legend=True)\n",
        "df_res2.predicted.plot(legend=True)\n",
        "plt.title(msg)"
      ]
    },
    {
      "cell_type": "code",
      "execution_count": null,
      "id": "fc734a48",
      "metadata": {
        "id": "fc734a48",
        "outputId": "31c7a736-22d1-4daf-dbbe-7a4c0c5151a2"
      },
      "outputs": [
        {
          "name": "stdout",
          "output_type": "stream",
          "text": [
            "date\n",
            "2018-10-31    2.495778\n",
            "2018-11-30    2.339591\n",
            "2018-12-31    2.604020\n",
            "2019-01-31    2.388161\n",
            "2019-02-28    2.460459\n",
            "2019-03-31    2.632841\n",
            "2019-04-30    2.486911\n",
            "2019-05-31    2.363863\n",
            "2019-06-30    2.308485\n",
            "2019-07-31    2.210859\n",
            "2019-08-31    2.353569\n",
            "2019-09-30    2.227930\n",
            "2019-10-31    2.511274\n",
            "2019-11-30    2.367789\n",
            "2019-12-31    2.610140\n",
            "2020-01-31    2.400943\n",
            "2020-02-29    2.456696\n",
            "2020-03-31    2.646211\n",
            "2020-04-30    2.484331\n",
            "2020-05-31    2.371528\n",
            "2020-06-30    2.307901\n",
            "2020-07-31    2.228059\n",
            "2020-08-31    2.363369\n",
            "2020-09-30    2.243796\n",
            "2020-10-31    2.511465\n",
            "2020-11-30    2.377663\n",
            "2020-12-31    2.610785\n",
            "2021-01-31    2.409911\n",
            "2021-02-28    2.457702\n",
            "2021-03-31    2.654670\n",
            "2021-04-30    2.485844\n",
            "2021-05-31    2.379423\n",
            "2021-06-30    2.309875\n",
            "2021-07-31    2.235751\n",
            "2021-08-31    2.365915\n",
            "2021-09-30    2.251121\n",
            "2021-10-31    2.514137\n",
            "Name: Forecast, dtype: float64\n"
          ]
        }
      ],
      "source": [
        "fcast2 = m2.predict(start=len(office_neu),end=len(office_neu)+36).rename('Forecast')\n",
        "fcast2.index=future_dates.date\n",
        "print(fcast2)"
      ]
    },
    {
      "cell_type": "code",
      "execution_count": null,
      "id": "064a7731",
      "metadata": {
        "id": "064a7731",
        "outputId": "f8c19af3-49d2-451a-944a-4544119cc1ee"
      },
      "outputs": [
        {
          "data": {
            "text/plain": [
              "<AxesSubplot:xlabel='date', ylabel='count of neutral sentiment'>"
            ]
          },
          "execution_count": 116,
          "metadata": {},
          "output_type": "execute_result"
        },
        {
          "data": {
            "image/png": "[encoded data removed]",
            "text/plain": [
              "<Figure size 720x576 with 1 Axes>"
            ]
          },
          "metadata": {
            "needs_background": "light"
          },
          "output_type": "display_data"
        }
      ],
      "source": [
        "plt.ylabel('count of neutral sentiment')\n",
        "df_res2.actual.plot(figsize=(10,8),legend=True)\n",
        "df_res2.predicted.plot(legend=True)\n",
        "fcast2.plot(legend=True)"
      ]
    },
    {
      "cell_type": "markdown",
      "id": "0e7f08b8",
      "metadata": {
        "id": "0e7f08b8"
      },
      "source": [
        "### Negative"
      ]
    },
    {
      "cell_type": "code",
      "execution_count": null,
      "id": "d8ed6a9b",
      "metadata": {
        "id": "d8ed6a9b",
        "outputId": "3daf66a3-2dcb-46ba-f904-9ebd25a97e8a"
      },
      "outputs": [
        {
          "data": {
            "text/html": [
              "<div>\n",
              "<style scoped>\n",
              "    .dataframe tbody tr th:only-of-type {\n",
              "        vertical-align: middle;\n",
              "    }\n",
              "\n",
              "    .dataframe tbody tr th {\n",
              "        vertical-align: top;\n",
              "    }\n",
              "\n",
              "    .dataframe thead th {\n",
              "        text-align: right;\n",
              "    }\n",
              "</style>\n",
              "<table border=\"1\" class=\"dataframe\">\n",
              "  <thead>\n",
              "    <tr style=\"text-align: right;\">\n",
              "      <th></th>\n",
              "      <th>asin</th>\n",
              "      <th>Month</th>\n",
              "      <th>Sentiment</th>\n",
              "      <th>sentiment_count</th>\n",
              "    </tr>\n",
              "  </thead>\n",
              "  <tbody>\n",
              "    <tr>\n",
              "      <th>0</th>\n",
              "      <td>0310823706</td>\n",
              "      <td>4</td>\n",
              "      <td>Negative</td>\n",
              "      <td>1</td>\n",
              "    </tr>\n",
              "    <tr>\n",
              "      <th>1</th>\n",
              "      <td>0312385331</td>\n",
              "      <td>12</td>\n",
              "      <td>Negative</td>\n",
              "      <td>1</td>\n",
              "    </tr>\n",
              "    <tr>\n",
              "      <th>2</th>\n",
              "      <td>0439499887</td>\n",
              "      <td>9</td>\n",
              "      <td>Negative</td>\n",
              "      <td>2</td>\n",
              "    </tr>\n",
              "    <tr>\n",
              "      <th>3</th>\n",
              "      <td>0439505399</td>\n",
              "      <td>3</td>\n",
              "      <td>Negative</td>\n",
              "      <td>1</td>\n",
              "    </tr>\n",
              "    <tr>\n",
              "      <th>4</th>\n",
              "      <td>0439731771</td>\n",
              "      <td>7</td>\n",
              "      <td>Negative</td>\n",
              "      <td>1</td>\n",
              "    </tr>\n",
              "    <tr>\n",
              "      <th>...</th>\n",
              "      <td>...</td>\n",
              "      <td>...</td>\n",
              "      <td>...</td>\n",
              "      <td>...</td>\n",
              "    </tr>\n",
              "    <tr>\n",
              "      <th>20494</th>\n",
              "      <td>B01HFW92DG</td>\n",
              "      <td>3</td>\n",
              "      <td>Negative</td>\n",
              "      <td>1</td>\n",
              "    </tr>\n",
              "    <tr>\n",
              "      <th>20495</th>\n",
              "      <td>B01HFW92DG</td>\n",
              "      <td>12</td>\n",
              "      <td>Negative</td>\n",
              "      <td>2</td>\n",
              "    </tr>\n",
              "    <tr>\n",
              "      <th>20496</th>\n",
              "      <td>B01HGG9P10</td>\n",
              "      <td>6</td>\n",
              "      <td>Negative</td>\n",
              "      <td>3</td>\n",
              "    </tr>\n",
              "    <tr>\n",
              "      <th>20497</th>\n",
              "      <td>B01HH8E2QA</td>\n",
              "      <td>7</td>\n",
              "      <td>Negative</td>\n",
              "      <td>2</td>\n",
              "    </tr>\n",
              "    <tr>\n",
              "      <th>20498</th>\n",
              "      <td>B01HIL946E</td>\n",
              "      <td>9</td>\n",
              "      <td>Negative</td>\n",
              "      <td>3</td>\n",
              "    </tr>\n",
              "  </tbody>\n",
              "</table>\n",
              "<p>20499 rows × 4 columns</p>\n",
              "</div>"
            ],
            "text/plain": [
              "             asin  Month Sentiment  sentiment_count\n",
              "0      0310823706      4  Negative                1\n",
              "1      0312385331     12  Negative                1\n",
              "2      0439499887      9  Negative                2\n",
              "3      0439505399      3  Negative                1\n",
              "4      0439731771      7  Negative                1\n",
              "...           ...    ...       ...              ...\n",
              "20494  B01HFW92DG      3  Negative                1\n",
              "20495  B01HFW92DG     12  Negative                2\n",
              "20496  B01HGG9P10      6  Negative                3\n",
              "20497  B01HH8E2QA      7  Negative                2\n",
              "20498  B01HIL946E      9  Negative                3\n",
              "\n",
              "[20499 rows x 4 columns]"
            ]
          },
          "execution_count": 120,
          "metadata": {},
          "output_type": "execute_result"
        }
      ],
      "source": [
        "office_neg_count=df_office_neg.groupby(['asin','Month','Sentiment']).size().reset_index(name='sentiment_count')\n",
        "office_neg_count"
      ]
    },
    {
      "cell_type": "code",
      "execution_count": null,
      "id": "0aa6b171",
      "metadata": {
        "id": "0aa6b171"
      },
      "outputs": [],
      "source": [
        "office_neg=pd.merge(df_office_neg,office_neg_count)"
      ]
    },
    {
      "cell_type": "code",
      "execution_count": null,
      "id": "51bd88c2",
      "metadata": {
        "id": "51bd88c2",
        "outputId": "dc15e2bd-4c58-4b04-ba1d-2e912d4762ac"
      },
      "outputs": [
        {
          "data": {
            "text/html": [
              "<div>\n",
              "<style scoped>\n",
              "    .dataframe tbody tr th:only-of-type {\n",
              "        vertical-align: middle;\n",
              "    }\n",
              "\n",
              "    .dataframe tbody tr th {\n",
              "        vertical-align: top;\n",
              "    }\n",
              "\n",
              "    .dataframe thead th {\n",
              "        text-align: right;\n",
              "    }\n",
              "</style>\n",
              "<table border=\"1\" class=\"dataframe\">\n",
              "  <thead>\n",
              "    <tr style=\"text-align: right;\">\n",
              "      <th></th>\n",
              "      <th>sentiment_count</th>\n",
              "    </tr>\n",
              "    <tr>\n",
              "      <th>date</th>\n",
              "      <th></th>\n",
              "    </tr>\n",
              "  </thead>\n",
              "  <tbody>\n",
              "    <tr>\n",
              "      <th>2000-03-18</th>\n",
              "      <td>2</td>\n",
              "    </tr>\n",
              "    <tr>\n",
              "      <th>2000-03-18</th>\n",
              "      <td>2</td>\n",
              "    </tr>\n",
              "    <tr>\n",
              "      <th>2000-04-08</th>\n",
              "      <td>3</td>\n",
              "    </tr>\n",
              "    <tr>\n",
              "      <th>2000-04-08</th>\n",
              "      <td>3</td>\n",
              "    </tr>\n",
              "    <tr>\n",
              "      <th>2000-04-08</th>\n",
              "      <td>3</td>\n",
              "    </tr>\n",
              "    <tr>\n",
              "      <th>...</th>\n",
              "      <td>...</td>\n",
              "    </tr>\n",
              "    <tr>\n",
              "      <th>2018-09-19</th>\n",
              "      <td>3</td>\n",
              "    </tr>\n",
              "    <tr>\n",
              "      <th>2018-09-19</th>\n",
              "      <td>1</td>\n",
              "    </tr>\n",
              "    <tr>\n",
              "      <th>2018-09-19</th>\n",
              "      <td>3</td>\n",
              "    </tr>\n",
              "    <tr>\n",
              "      <th>2018-09-19</th>\n",
              "      <td>3</td>\n",
              "    </tr>\n",
              "    <tr>\n",
              "      <th>2018-09-29</th>\n",
              "      <td>3</td>\n",
              "    </tr>\n",
              "  </tbody>\n",
              "</table>\n",
              "<p>35000 rows × 1 columns</p>\n",
              "</div>"
            ],
            "text/plain": [
              "            sentiment_count\n",
              "date                       \n",
              "2000-03-18                2\n",
              "2000-03-18                2\n",
              "2000-04-08                3\n",
              "2000-04-08                3\n",
              "2000-04-08                3\n",
              "...                     ...\n",
              "2018-09-19                3\n",
              "2018-09-19                1\n",
              "2018-09-19                3\n",
              "2018-09-19                3\n",
              "2018-09-29                3\n",
              "\n",
              "[35000 rows x 1 columns]"
            ]
          },
          "execution_count": 122,
          "metadata": {},
          "output_type": "execute_result"
        }
      ],
      "source": [
        "office_neg=office_neg[['date','sentiment_count']]\n",
        "office_neg=office_neg.set_index('date')\n",
        "office_neg=office_neg.sort_values(by=['date'])\n",
        "office_neg"
      ]
    },
    {
      "cell_type": "code",
      "execution_count": null,
      "id": "1a4cb400",
      "metadata": {
        "id": "1a4cb400",
        "outputId": "3bc45507-7d62-4a5c-8924-5e7651e70a49"
      },
      "outputs": [
        {
          "data": {
            "text/html": [
              "<div>\n",
              "<style scoped>\n",
              "    .dataframe tbody tr th:only-of-type {\n",
              "        vertical-align: middle;\n",
              "    }\n",
              "\n",
              "    .dataframe tbody tr th {\n",
              "        vertical-align: top;\n",
              "    }\n",
              "\n",
              "    .dataframe thead th {\n",
              "        text-align: right;\n",
              "    }\n",
              "</style>\n",
              "<table border=\"1\" class=\"dataframe\">\n",
              "  <thead>\n",
              "    <tr style=\"text-align: right;\">\n",
              "      <th></th>\n",
              "      <th>sentiment_count</th>\n",
              "    </tr>\n",
              "    <tr>\n",
              "      <th>date</th>\n",
              "      <th></th>\n",
              "    </tr>\n",
              "  </thead>\n",
              "  <tbody>\n",
              "    <tr>\n",
              "      <th>2000-03-31</th>\n",
              "      <td>2.000000</td>\n",
              "    </tr>\n",
              "    <tr>\n",
              "      <th>2000-04-30</th>\n",
              "      <td>3.000000</td>\n",
              "    </tr>\n",
              "    <tr>\n",
              "      <th>2000-05-31</th>\n",
              "      <td>1.666667</td>\n",
              "    </tr>\n",
              "    <tr>\n",
              "      <th>2000-06-30</th>\n",
              "      <td>NaN</td>\n",
              "    </tr>\n",
              "    <tr>\n",
              "      <th>2000-07-31</th>\n",
              "      <td>NaN</td>\n",
              "    </tr>\n",
              "  </tbody>\n",
              "</table>\n",
              "</div>"
            ],
            "text/plain": [
              "            sentiment_count\n",
              "date                       \n",
              "2000-03-31         2.000000\n",
              "2000-04-30         3.000000\n",
              "2000-05-31         1.666667\n",
              "2000-06-30              NaN\n",
              "2000-07-31              NaN"
            ]
          },
          "execution_count": 123,
          "metadata": {},
          "output_type": "execute_result"
        }
      ],
      "source": [
        "office_neg=office_neg.resample('M').mean()\n",
        "office_neg.head()"
      ]
    },
    {
      "cell_type": "code",
      "execution_count": null,
      "id": "af66e413",
      "metadata": {
        "id": "af66e413",
        "outputId": "c311afe3-1150-4513-c6be-ea2cae674463"
      },
      "outputs": [
        {
          "data": {
            "text/plain": [
              "sentiment_count    27\n",
              "dtype: int64"
            ]
          },
          "execution_count": 124,
          "metadata": {},
          "output_type": "execute_result"
        }
      ],
      "source": [
        "office_neg.isnull().sum()"
      ]
    },
    {
      "cell_type": "code",
      "execution_count": null,
      "id": "e361a23b",
      "metadata": {
        "id": "e361a23b"
      },
      "outputs": [],
      "source": [
        "office_neg.dropna(inplace=True)"
      ]
    },
    {
      "cell_type": "code",
      "execution_count": null,
      "id": "baaa5975",
      "metadata": {
        "id": "baaa5975",
        "outputId": "cae1d3ea-1cab-4164-cc61-227578100ced"
      },
      "outputs": [
        {
          "name": "stdout",
          "output_type": "stream",
          "text": [
            "pvalue: 0.278698691206986\n"
          ]
        },
        {
          "data": {
            "text/plain": [
              "' Data is not Stationary. Make the data stationary before model building'"
            ]
          },
          "execution_count": 126,
          "metadata": {},
          "output_type": "execute_result"
        }
      ],
      "source": [
        "checkStationarity(office_neg)"
      ]
    },
    {
      "cell_type": "code",
      "execution_count": null,
      "id": "bfa57732",
      "metadata": {
        "id": "bfa57732",
        "outputId": "86284488-fde2-4136-df77-e2b7f435c90a"
      },
      "outputs": [
        {
          "name": "stdout",
          "output_type": "stream",
          "text": [
            "            sentiment_count\n",
            "date                       \n",
            "2000-03-31              NaN\n",
            "2000-04-30         1.000000\n",
            "2000-05-31        -1.333333\n",
            "2001-02-28        -0.666667\n",
            "2001-06-30         0.000000\n",
            "...                     ...\n",
            "2018-05-31        -0.198345\n",
            "2018-06-30        -0.193348\n",
            "2018-07-31         0.208360\n",
            "2018-08-31        -0.041111\n",
            "2018-09-30        -0.089892\n",
            "\n",
            "[196 rows x 1 columns]\n"
          ]
        }
      ],
      "source": [
        "diff_office_neg = office_neg-office_neg.shift(1)\n",
        "print(diff_office_neg)"
      ]
    },
    {
      "cell_type": "code",
      "execution_count": null,
      "id": "41011f09",
      "metadata": {
        "id": "41011f09"
      },
      "outputs": [],
      "source": [
        "diff_office_neg.dropna(inplace=True)"
      ]
    },
    {
      "cell_type": "code",
      "execution_count": null,
      "id": "3b42324f",
      "metadata": {
        "id": "3b42324f",
        "outputId": "cc058162-b022-4d59-b3d1-10a588445482"
      },
      "outputs": [
        {
          "name": "stdout",
          "output_type": "stream",
          "text": [
            "pvalue: 1.8689492339249041e-13\n"
          ]
        },
        {
          "data": {
            "text/plain": [
              "'Data is Stationary. Proceed to model building'"
            ]
          },
          "execution_count": 129,
          "metadata": {},
          "output_type": "execute_result"
        }
      ],
      "source": [
        "checkStationarity(diff_office_neg)"
      ]
    },
    {
      "cell_type": "code",
      "execution_count": null,
      "id": "926d9ed1",
      "metadata": {
        "id": "926d9ed1",
        "outputId": "4f5a5eae-dc52-48d5-e960-18c8d1c8953e"
      },
      "outputs": [
        {
          "name": "stdout",
          "output_type": "stream",
          "text": [
            "Total=196, Train=137, Test=59\n"
          ]
        }
      ],
      "source": [
        "ratio = 0.7\n",
        "rows = int(ratio * len(office_neg))\n",
        "train3 =office_neg[:rows]\n",
        "test3 = office_neg[rows:]\n",
        "\n",
        "print(\"Total={}, Train={}, Test={}\".format(len(office_neg), len(train3), len(test3)))"
      ]
    },
    {
      "cell_type": "code",
      "execution_count": null,
      "id": "8c410f49",
      "metadata": {
        "id": "8c410f49",
        "outputId": "aace8251-d15f-418c-a0e7-7a878e850679"
      },
      "outputs": [
        {
          "data": {
            "image/png": "[encoded data removed]",
            "text/plain": [
              "<Figure size 1080x360 with 2 Axes>"
            ]
          },
          "metadata": {
            "needs_background": "light"
          },
          "output_type": "display_data"
        }
      ],
      "source": [
        "p_and_q(diff_office_neg)"
      ]
    },
    {
      "cell_type": "code",
      "execution_count": null,
      "id": "b49e42b7",
      "metadata": {
        "id": "b49e42b7",
        "outputId": "b8f6b52d-5030-42b6-ef7e-f894c4349782"
      },
      "outputs": [
        {
          "name": "stdout",
          "output_type": "stream",
          "text": [
            "Model 1 Not a good model\n",
            "Model 2 Good model\n",
            "Model 3 Good model\n",
            "Model 4 Good model\n",
            "Model 5 Good model\n",
            "Model 6 Good model\n",
            "Model 7 Good model\n",
            "Model 8 Good model\n",
            "Model 9 Good model\n",
            "Model 10 Good model\n",
            "Model 11 Good model\n",
            "Model 12 Good model\n",
            "Model 13 Good model\n",
            "Model 14 Good model\n",
            "Model 15 Good model\n",
            "Model 16 Good model\n",
            "Model 17 Good model\n",
            "Model 18 Good model\n",
            "Model 19 Good model\n",
            "Model 20 Good model\n",
            "Model 21 Good model\n",
            "Model 22 Good model\n",
            "Model 23 Good model\n",
            "Model 24 Good model\n",
            "Model 25 Good model\n",
            "Model 26 Good model\n",
            "Model 27 Good model\n",
            "Model 28 Good model\n",
            "Model 29 Good model\n",
            "Model 30 Good model\n"
          ]
        }
      ],
      "source": [
        "d=1;\n",
        "lis=[]\n",
        "for p in range(6):\n",
        "    for q in range(5):\n",
        "        lis.append((p,d,q))\n",
        "\n",
        "# building model\n",
        "model=[]\n",
        "for i in lis:\n",
        "    m =ARIMA(train3, order=i).fit() \n",
        "    model.append(m)\n",
        "\n",
        "# checking model is good or not\n",
        "model_st=[]\n",
        "c=1\n",
        "for i in model:\n",
        "    pvalue = sm.stats.acorr_ljungbox(i.resid, lags=[1], return_df=True)['lb_pvalue'].values\n",
        "    if pvalue < 0.05:\n",
        "        print(f'Model {c} Not a good model')\n",
        "    else:\n",
        "        print(f'Model {c} Good model')\n",
        "    c+=1"
      ]
    },
    {
      "cell_type": "code",
      "execution_count": null,
      "id": "380dba5d",
      "metadata": {
        "id": "380dba5d",
        "outputId": "99eefdd7-ed47-4ae0-f845-631acef801eb"
      },
      "outputs": [
        {
          "data": {
            "text/html": [
              "<div>\n",
              "<style scoped>\n",
              "    .dataframe tbody tr th:only-of-type {\n",
              "        vertical-align: middle;\n",
              "    }\n",
              "\n",
              "    .dataframe tbody tr th {\n",
              "        vertical-align: top;\n",
              "    }\n",
              "\n",
              "    .dataframe thead th {\n",
              "        text-align: right;\n",
              "    }\n",
              "</style>\n",
              "<table border=\"1\" class=\"dataframe\">\n",
              "  <thead>\n",
              "    <tr style=\"text-align: right;\">\n",
              "      <th></th>\n",
              "      <th>Model No.</th>\n",
              "      <th>(p, d, q)</th>\n",
              "      <th>AIC</th>\n",
              "      <th>BIC</th>\n",
              "      <th>MSE</th>\n",
              "      <th>RMSE</th>\n",
              "    </tr>\n",
              "  </thead>\n",
              "  <tbody>\n",
              "    <tr>\n",
              "      <th>0</th>\n",
              "      <td>Model 0</td>\n",
              "      <td>(0, 1, 0)</td>\n",
              "      <td>238.638432</td>\n",
              "      <td>241.551087</td>\n",
              "      <td>0.044734</td>\n",
              "      <td>0.211504</td>\n",
              "    </tr>\n",
              "    <tr>\n",
              "      <th>1</th>\n",
              "      <td>Model 1</td>\n",
              "      <td>(0, 1, 1)</td>\n",
              "      <td>167.439587</td>\n",
              "      <td>173.264897</td>\n",
              "      <td>0.047441</td>\n",
              "      <td>0.217809</td>\n",
              "    </tr>\n",
              "    <tr>\n",
              "      <th>2</th>\n",
              "      <td>Model 2</td>\n",
              "      <td>(0, 1, 2)</td>\n",
              "      <td>169.378428</td>\n",
              "      <td>178.116392</td>\n",
              "      <td>0.047404</td>\n",
              "      <td>0.217725</td>\n",
              "    </tr>\n",
              "    <tr>\n",
              "      <th>3</th>\n",
              "      <td>Model 3</td>\n",
              "      <td>(0, 1, 3)</td>\n",
              "      <td>171.124084</td>\n",
              "      <td>182.774704</td>\n",
              "      <td>0.047467</td>\n",
              "      <td>0.217870</td>\n",
              "    </tr>\n",
              "    <tr>\n",
              "      <th>4</th>\n",
              "      <td>Model 4</td>\n",
              "      <td>(0, 1, 4)</td>\n",
              "      <td>173.069239</td>\n",
              "      <td>187.632513</td>\n",
              "      <td>0.047567</td>\n",
              "      <td>0.218098</td>\n",
              "    </tr>\n",
              "    <tr>\n",
              "      <th>5</th>\n",
              "      <td>Model 5</td>\n",
              "      <td>(1, 1, 0)</td>\n",
              "      <td>204.420368</td>\n",
              "      <td>210.245678</td>\n",
              "      <td>0.045551</td>\n",
              "      <td>0.213428</td>\n",
              "    </tr>\n",
              "    <tr>\n",
              "      <th>6</th>\n",
              "      <td>Model 6</td>\n",
              "      <td>(1, 1, 1)</td>\n",
              "      <td>169.383603</td>\n",
              "      <td>178.121568</td>\n",
              "      <td>0.047407</td>\n",
              "      <td>0.217731</td>\n",
              "    </tr>\n",
              "    <tr>\n",
              "      <th>7</th>\n",
              "      <td>Model 7</td>\n",
              "      <td>(1, 1, 2)</td>\n",
              "      <td>171.271649</td>\n",
              "      <td>182.922268</td>\n",
              "      <td>0.047402</td>\n",
              "      <td>0.217719</td>\n",
              "    </tr>\n",
              "    <tr>\n",
              "      <th>8</th>\n",
              "      <td>Model 8</td>\n",
              "      <td>(1, 1, 3)</td>\n",
              "      <td>167.114424</td>\n",
              "      <td>181.677699</td>\n",
              "      <td>0.161300</td>\n",
              "      <td>0.401621</td>\n",
              "    </tr>\n",
              "    <tr>\n",
              "      <th>9</th>\n",
              "      <td>Model 9</td>\n",
              "      <td>(1, 1, 4)</td>\n",
              "      <td>172.922051</td>\n",
              "      <td>190.397980</td>\n",
              "      <td>0.046859</td>\n",
              "      <td>0.216469</td>\n",
              "    </tr>\n",
              "    <tr>\n",
              "      <th>10</th>\n",
              "      <td>Model 10</td>\n",
              "      <td>(2, 1, 0)</td>\n",
              "      <td>190.043775</td>\n",
              "      <td>198.781740</td>\n",
              "      <td>0.045248</td>\n",
              "      <td>0.212717</td>\n",
              "    </tr>\n",
              "    <tr>\n",
              "      <th>11</th>\n",
              "      <td>Model 11</td>\n",
              "      <td>(2, 1, 1)</td>\n",
              "      <td>171.150011</td>\n",
              "      <td>182.800630</td>\n",
              "      <td>0.047453</td>\n",
              "      <td>0.217837</td>\n",
              "    </tr>\n",
              "    <tr>\n",
              "      <th>12</th>\n",
              "      <td>Model 12</td>\n",
              "      <td>(2, 1, 2)</td>\n",
              "      <td>166.186187</td>\n",
              "      <td>180.749461</td>\n",
              "      <td>0.160858</td>\n",
              "      <td>0.401071</td>\n",
              "    </tr>\n",
              "    <tr>\n",
              "      <th>13</th>\n",
              "      <td>Model 13</td>\n",
              "      <td>(2, 1, 3)</td>\n",
              "      <td>173.690924</td>\n",
              "      <td>191.166853</td>\n",
              "      <td>0.047354</td>\n",
              "      <td>0.217609</td>\n",
              "    </tr>\n",
              "    <tr>\n",
              "      <th>14</th>\n",
              "      <td>Model 14</td>\n",
              "      <td>(2, 1, 4)</td>\n",
              "      <td>174.971152</td>\n",
              "      <td>195.359737</td>\n",
              "      <td>0.049370</td>\n",
              "      <td>0.222194</td>\n",
              "    </tr>\n",
              "    <tr>\n",
              "      <th>15</th>\n",
              "      <td>Model 15</td>\n",
              "      <td>(3, 1, 0)</td>\n",
              "      <td>186.355276</td>\n",
              "      <td>198.005896</td>\n",
              "      <td>0.045494</td>\n",
              "      <td>0.213294</td>\n",
              "    </tr>\n",
              "    <tr>\n",
              "      <th>16</th>\n",
              "      <td>Model 16</td>\n",
              "      <td>(3, 1, 1)</td>\n",
              "      <td>173.134477</td>\n",
              "      <td>187.697751</td>\n",
              "      <td>0.047499</td>\n",
              "      <td>0.217942</td>\n",
              "    </tr>\n",
              "    <tr>\n",
              "      <th>17</th>\n",
              "      <td>Model 17</td>\n",
              "      <td>(3, 1, 2)</td>\n",
              "      <td>175.149897</td>\n",
              "      <td>192.625827</td>\n",
              "      <td>0.047452</td>\n",
              "      <td>0.217834</td>\n",
              "    </tr>\n",
              "    <tr>\n",
              "      <th>18</th>\n",
              "      <td>Model 18</td>\n",
              "      <td>(3, 1, 3)</td>\n",
              "      <td>170.212563</td>\n",
              "      <td>190.601147</td>\n",
              "      <td>0.165278</td>\n",
              "      <td>0.406545</td>\n",
              "    </tr>\n",
              "    <tr>\n",
              "      <th>19</th>\n",
              "      <td>Model 19</td>\n",
              "      <td>(3, 1, 4)</td>\n",
              "      <td>172.748623</td>\n",
              "      <td>196.049863</td>\n",
              "      <td>0.047543</td>\n",
              "      <td>0.218045</td>\n",
              "    </tr>\n",
              "    <tr>\n",
              "      <th>20</th>\n",
              "      <td>Model 20</td>\n",
              "      <td>(4, 1, 0)</td>\n",
              "      <td>184.723717</td>\n",
              "      <td>199.286991</td>\n",
              "      <td>0.047563</td>\n",
              "      <td>0.218090</td>\n",
              "    </tr>\n",
              "    <tr>\n",
              "      <th>21</th>\n",
              "      <td>Model 21</td>\n",
              "      <td>(4, 1, 1)</td>\n",
              "      <td>174.739874</td>\n",
              "      <td>192.215804</td>\n",
              "      <td>0.047755</td>\n",
              "      <td>0.218529</td>\n",
              "    </tr>\n",
              "    <tr>\n",
              "      <th>22</th>\n",
              "      <td>Model 22</td>\n",
              "      <td>(4, 1, 2)</td>\n",
              "      <td>167.196481</td>\n",
              "      <td>187.585066</td>\n",
              "      <td>0.113465</td>\n",
              "      <td>0.336845</td>\n",
              "    </tr>\n",
              "    <tr>\n",
              "      <th>23</th>\n",
              "      <td>Model 23</td>\n",
              "      <td>(4, 1, 3)</td>\n",
              "      <td>170.302755</td>\n",
              "      <td>193.603994</td>\n",
              "      <td>0.080549</td>\n",
              "      <td>0.283811</td>\n",
              "    </tr>\n",
              "    <tr>\n",
              "      <th>24</th>\n",
              "      <td>Model 24</td>\n",
              "      <td>(4, 1, 4)</td>\n",
              "      <td>166.351689</td>\n",
              "      <td>192.565583</td>\n",
              "      <td>0.153671</td>\n",
              "      <td>0.392009</td>\n",
              "    </tr>\n",
              "    <tr>\n",
              "      <th>25</th>\n",
              "      <td>Model 25</td>\n",
              "      <td>(5, 1, 0)</td>\n",
              "      <td>183.025503</td>\n",
              "      <td>200.501433</td>\n",
              "      <td>0.049887</td>\n",
              "      <td>0.223354</td>\n",
              "    </tr>\n",
              "    <tr>\n",
              "      <th>26</th>\n",
              "      <td>Model 26</td>\n",
              "      <td>(5, 1, 1)</td>\n",
              "      <td>176.314180</td>\n",
              "      <td>196.702764</td>\n",
              "      <td>0.047599</td>\n",
              "      <td>0.218173</td>\n",
              "    </tr>\n",
              "    <tr>\n",
              "      <th>27</th>\n",
              "      <td>Model 27</td>\n",
              "      <td>(5, 1, 2)</td>\n",
              "      <td>178.131419</td>\n",
              "      <td>201.432658</td>\n",
              "      <td>0.047297</td>\n",
              "      <td>0.217479</td>\n",
              "    </tr>\n",
              "    <tr>\n",
              "      <th>28</th>\n",
              "      <td>Model 28</td>\n",
              "      <td>(5, 1, 3)</td>\n",
              "      <td>168.634503</td>\n",
              "      <td>194.848397</td>\n",
              "      <td>0.107886</td>\n",
              "      <td>0.328460</td>\n",
              "    </tr>\n",
              "    <tr>\n",
              "      <th>29</th>\n",
              "      <td>Model 29</td>\n",
              "      <td>(5, 1, 4)</td>\n",
              "      <td>173.610102</td>\n",
              "      <td>202.736651</td>\n",
              "      <td>0.047904</td>\n",
              "      <td>0.218869</td>\n",
              "    </tr>\n",
              "  </tbody>\n",
              "</table>\n",
              "</div>"
            ],
            "text/plain": [
              "   Model No.  (p, d, q)         AIC         BIC       MSE      RMSE\n",
              "0    Model 0  (0, 1, 0)  238.638432  241.551087  0.044734  0.211504\n",
              "1    Model 1  (0, 1, 1)  167.439587  173.264897  0.047441  0.217809\n",
              "2    Model 2  (0, 1, 2)  169.378428  178.116392  0.047404  0.217725\n",
              "3    Model 3  (0, 1, 3)  171.124084  182.774704  0.047467  0.217870\n",
              "4    Model 4  (0, 1, 4)  173.069239  187.632513  0.047567  0.218098\n",
              "5    Model 5  (1, 1, 0)  204.420368  210.245678  0.045551  0.213428\n",
              "6    Model 6  (1, 1, 1)  169.383603  178.121568  0.047407  0.217731\n",
              "7    Model 7  (1, 1, 2)  171.271649  182.922268  0.047402  0.217719\n",
              "8    Model 8  (1, 1, 3)  167.114424  181.677699  0.161300  0.401621\n",
              "9    Model 9  (1, 1, 4)  172.922051  190.397980  0.046859  0.216469\n",
              "10  Model 10  (2, 1, 0)  190.043775  198.781740  0.045248  0.212717\n",
              "11  Model 11  (2, 1, 1)  171.150011  182.800630  0.047453  0.217837\n",
              "12  Model 12  (2, 1, 2)  166.186187  180.749461  0.160858  0.401071\n",
              "13  Model 13  (2, 1, 3)  173.690924  191.166853  0.047354  0.217609\n",
              "14  Model 14  (2, 1, 4)  174.971152  195.359737  0.049370  0.222194\n",
              "15  Model 15  (3, 1, 0)  186.355276  198.005896  0.045494  0.213294\n",
              "16  Model 16  (3, 1, 1)  173.134477  187.697751  0.047499  0.217942\n",
              "17  Model 17  (3, 1, 2)  175.149897  192.625827  0.047452  0.217834\n",
              "18  Model 18  (3, 1, 3)  170.212563  190.601147  0.165278  0.406545\n",
              "19  Model 19  (3, 1, 4)  172.748623  196.049863  0.047543  0.218045\n",
              "20  Model 20  (4, 1, 0)  184.723717  199.286991  0.047563  0.218090\n",
              "21  Model 21  (4, 1, 1)  174.739874  192.215804  0.047755  0.218529\n",
              "22  Model 22  (4, 1, 2)  167.196481  187.585066  0.113465  0.336845\n",
              "23  Model 23  (4, 1, 3)  170.302755  193.603994  0.080549  0.283811\n",
              "24  Model 24  (4, 1, 4)  166.351689  192.565583  0.153671  0.392009\n",
              "25  Model 25  (5, 1, 0)  183.025503  200.501433  0.049887  0.223354\n",
              "26  Model 26  (5, 1, 1)  176.314180  196.702764  0.047599  0.218173\n",
              "27  Model 27  (5, 1, 2)  178.131419  201.432658  0.047297  0.217479\n",
              "28  Model 28  (5, 1, 3)  168.634503  194.848397  0.107886  0.328460\n",
              "29  Model 29  (5, 1, 4)  173.610102  202.736651  0.047904  0.218869"
            ]
          },
          "execution_count": 133,
          "metadata": {},
          "output_type": "execute_result"
        }
      ],
      "source": [
        "aic=[]\n",
        "bic=[]\n",
        "for i in model[0:]:\n",
        "    aic.append(i.aic)\n",
        "    bic.append(i.bic)\n",
        "\n",
        "# predicting values\n",
        "forecast=[]\n",
        "for i in model[0:]:\n",
        "    fcast = i.predict(start=len(train3), end=len(train3)+len(test3)-1)\n",
        "    forecast.append(fcast)\n",
        "\n",
        "# calculating MSE and RMSE score\n",
        "MSE = []\n",
        "RMSE = []\n",
        "for i in forecast:\n",
        "    mse = mean_squared_error(test3, i)\n",
        "    rmse = np.sqrt(mse)\n",
        "    MSE.append(mse)\n",
        "    RMSE.append(rmse)\n",
        "\n",
        "# printing model numbers\n",
        "model_no=[]\n",
        "for i in range(0,len(model)):\n",
        "    model_no.append('Model '+str(i))\n",
        "    \n",
        "# dataframe of all results\n",
        "df_results3 = pd.DataFrame({'Model No.': model_no, '(p, d, q)':lis[0:], 'AIC': aic, 'BIC': bic, 'MSE': MSE, 'RMSE': RMSE})\n",
        "df_results3"
      ]
    },
    {
      "cell_type": "code",
      "execution_count": null,
      "id": "ed627101",
      "metadata": {
        "id": "ed627101",
        "outputId": "97f30c13-34dd-4db6-89f2-4e0f5802c293"
      },
      "outputs": [
        {
          "name": "stdout",
          "output_type": "stream",
          "text": [
            "Taking model with lowest RMSE score:\n"
          ]
        },
        {
          "data": {
            "text/html": [
              "<div>\n",
              "<style scoped>\n",
              "    .dataframe tbody tr th:only-of-type {\n",
              "        vertical-align: middle;\n",
              "    }\n",
              "\n",
              "    .dataframe tbody tr th {\n",
              "        vertical-align: top;\n",
              "    }\n",
              "\n",
              "    .dataframe thead th {\n",
              "        text-align: right;\n",
              "    }\n",
              "</style>\n",
              "<table border=\"1\" class=\"dataframe\">\n",
              "  <thead>\n",
              "    <tr style=\"text-align: right;\">\n",
              "      <th></th>\n",
              "      <th>Model No.</th>\n",
              "      <th>(p, d, q)</th>\n",
              "      <th>AIC</th>\n",
              "      <th>BIC</th>\n",
              "      <th>MSE</th>\n",
              "      <th>RMSE</th>\n",
              "    </tr>\n",
              "  </thead>\n",
              "  <tbody>\n",
              "    <tr>\n",
              "      <th>0</th>\n",
              "      <td>Model 0</td>\n",
              "      <td>(0, 1, 0)</td>\n",
              "      <td>238.638432</td>\n",
              "      <td>241.551087</td>\n",
              "      <td>0.044734</td>\n",
              "      <td>0.211504</td>\n",
              "    </tr>\n",
              "  </tbody>\n",
              "</table>\n",
              "</div>"
            ],
            "text/plain": [
              "  Model No.  (p, d, q)         AIC         BIC       MSE      RMSE\n",
              "0   Model 0  (0, 1, 0)  238.638432  241.551087  0.044734  0.211504"
            ]
          },
          "execution_count": 134,
          "metadata": {},
          "output_type": "execute_result"
        }
      ],
      "source": [
        "print('Taking model with lowest RMSE score:')\n",
        "df_results3[df_results3.RMSE==df_results3.RMSE.min()]\n"
      ]
    },
    {
      "cell_type": "code",
      "execution_count": null,
      "id": "ddd43724",
      "metadata": {
        "id": "ddd43724",
        "outputId": "8c331931-34ca-4b8b-caef-c4325bb1a76d"
      },
      "outputs": [
        {
          "name": "stdout",
          "output_type": "stream",
          "text": [
            "Taking model with lowest BIC score:\n"
          ]
        },
        {
          "data": {
            "text/html": [
              "<div>\n",
              "<style scoped>\n",
              "    .dataframe tbody tr th:only-of-type {\n",
              "        vertical-align: middle;\n",
              "    }\n",
              "\n",
              "    .dataframe tbody tr th {\n",
              "        vertical-align: top;\n",
              "    }\n",
              "\n",
              "    .dataframe thead th {\n",
              "        text-align: right;\n",
              "    }\n",
              "</style>\n",
              "<table border=\"1\" class=\"dataframe\">\n",
              "  <thead>\n",
              "    <tr style=\"text-align: right;\">\n",
              "      <th></th>\n",
              "      <th>Model No.</th>\n",
              "      <th>(p, d, q)</th>\n",
              "      <th>AIC</th>\n",
              "      <th>BIC</th>\n",
              "      <th>MSE</th>\n",
              "      <th>RMSE</th>\n",
              "    </tr>\n",
              "  </thead>\n",
              "  <tbody>\n",
              "    <tr>\n",
              "      <th>1</th>\n",
              "      <td>Model 1</td>\n",
              "      <td>(0, 1, 1)</td>\n",
              "      <td>167.439587</td>\n",
              "      <td>173.264897</td>\n",
              "      <td>0.047441</td>\n",
              "      <td>0.217809</td>\n",
              "    </tr>\n",
              "  </tbody>\n",
              "</table>\n",
              "</div>"
            ],
            "text/plain": [
              "  Model No.  (p, d, q)         AIC         BIC       MSE      RMSE\n",
              "1   Model 1  (0, 1, 1)  167.439587  173.264897  0.047441  0.217809"
            ]
          },
          "execution_count": 135,
          "metadata": {},
          "output_type": "execute_result"
        }
      ],
      "source": [
        "print('Taking model with lowest BIC score:')\n",
        "\n",
        "df_results3[df_results3.BIC==df_results3.BIC.min()]"
      ]
    },
    {
      "cell_type": "code",
      "execution_count": null,
      "id": "b7a9f092",
      "metadata": {
        "id": "b7a9f092",
        "outputId": "1afe2963-80a7-46d1-b325-3e707ca93b72"
      },
      "outputs": [
        {
          "name": "stdout",
          "output_type": "stream",
          "text": [
            "Taking model with lowest AIC score:\n"
          ]
        },
        {
          "data": {
            "text/html": [
              "<div>\n",
              "<style scoped>\n",
              "    .dataframe tbody tr th:only-of-type {\n",
              "        vertical-align: middle;\n",
              "    }\n",
              "\n",
              "    .dataframe tbody tr th {\n",
              "        vertical-align: top;\n",
              "    }\n",
              "\n",
              "    .dataframe thead th {\n",
              "        text-align: right;\n",
              "    }\n",
              "</style>\n",
              "<table border=\"1\" class=\"dataframe\">\n",
              "  <thead>\n",
              "    <tr style=\"text-align: right;\">\n",
              "      <th></th>\n",
              "      <th>Model No.</th>\n",
              "      <th>(p, d, q)</th>\n",
              "      <th>AIC</th>\n",
              "      <th>BIC</th>\n",
              "      <th>MSE</th>\n",
              "      <th>RMSE</th>\n",
              "    </tr>\n",
              "  </thead>\n",
              "  <tbody>\n",
              "    <tr>\n",
              "      <th>12</th>\n",
              "      <td>Model 12</td>\n",
              "      <td>(2, 1, 2)</td>\n",
              "      <td>166.186187</td>\n",
              "      <td>180.749461</td>\n",
              "      <td>0.160858</td>\n",
              "      <td>0.401071</td>\n",
              "    </tr>\n",
              "  </tbody>\n",
              "</table>\n",
              "</div>"
            ],
            "text/plain": [
              "   Model No.  (p, d, q)         AIC         BIC       MSE      RMSE\n",
              "12  Model 12  (2, 1, 2)  166.186187  180.749461  0.160858  0.401071"
            ]
          },
          "execution_count": 136,
          "metadata": {},
          "output_type": "execute_result"
        }
      ],
      "source": [
        "print('Taking model with lowest AIC score:')\n",
        "df_results3[df_results3.AIC==df_results3.AIC.min()]"
      ]
    },
    {
      "cell_type": "code",
      "execution_count": null,
      "id": "9cc534f1",
      "metadata": {
        "id": "9cc534f1",
        "outputId": "7adfa422-696b-4fbb-930c-9b6c2cafa82c"
      },
      "outputs": [
        {
          "data": {
            "text/html": [
              "<table class=\"simpletable\">\n",
              "<caption>SARIMAX Results</caption>\n",
              "<tr>\n",
              "  <th>Dep. Variable:</th>            <td>sentiment_count</td>         <th>  No. Observations:  </th>   <td>196</td>  \n",
              "</tr>\n",
              "<tr>\n",
              "  <th>Model:</th>           <td>SARIMAX(2, 1, 2)x(1, 1, [1], 12)</td> <th>  Log Likelihood     </th> <td>-98.204</td>\n",
              "</tr>\n",
              "<tr>\n",
              "  <th>Date:</th>                    <td>Sun, 22 Jan 2023</td>         <th>  AIC                </th> <td>210.407</td>\n",
              "</tr>\n",
              "<tr>\n",
              "  <th>Time:</th>                        <td>10:57:35</td>             <th>  BIC                </th> <td>232.874</td>\n",
              "</tr>\n",
              "<tr>\n",
              "  <th>Sample:</th>                          <td>0</td>                <th>  HQIC               </th> <td>219.514</td>\n",
              "</tr>\n",
              "<tr>\n",
              "  <th></th>                              <td> - 196</td>              <th>                     </th>    <td> </td>   \n",
              "</tr>\n",
              "<tr>\n",
              "  <th>Covariance Type:</th>                <td>opg</td>               <th>                     </th>    <td> </td>   \n",
              "</tr>\n",
              "</table>\n",
              "<table class=\"simpletable\">\n",
              "<tr>\n",
              "      <td></td>        <th>coef</th>     <th>std err</th>      <th>z</th>      <th>P>|z|</th>  <th>[0.025</th>    <th>0.975]</th>  \n",
              "</tr>\n",
              "<tr>\n",
              "  <th>ar.L1</th>    <td>   -0.5088</td> <td>    0.531</td> <td>   -0.958</td> <td> 0.338</td> <td>   -1.550</td> <td>    0.533</td>\n",
              "</tr>\n",
              "<tr>\n",
              "  <th>ar.L2</th>    <td>   -0.0341</td> <td>    0.118</td> <td>   -0.290</td> <td> 0.772</td> <td>   -0.265</td> <td>    0.196</td>\n",
              "</tr>\n",
              "<tr>\n",
              "  <th>ma.L1</th>    <td>   -0.3062</td> <td>    0.520</td> <td>   -0.588</td> <td> 0.556</td> <td>   -1.326</td> <td>    0.714</td>\n",
              "</tr>\n",
              "<tr>\n",
              "  <th>ma.L2</th>    <td>   -0.5215</td> <td>    0.470</td> <td>   -1.109</td> <td> 0.268</td> <td>   -1.444</td> <td>    0.400</td>\n",
              "</tr>\n",
              "<tr>\n",
              "  <th>ar.S.L12</th> <td>   -0.1344</td> <td>    0.094</td> <td>   -1.434</td> <td> 0.152</td> <td>   -0.318</td> <td>    0.049</td>\n",
              "</tr>\n",
              "<tr>\n",
              "  <th>ma.S.L12</th> <td>   -0.7758</td> <td>    0.105</td> <td>   -7.399</td> <td> 0.000</td> <td>   -0.981</td> <td>   -0.570</td>\n",
              "</tr>\n",
              "<tr>\n",
              "  <th>sigma2</th>   <td>    0.1572</td> <td>    0.013</td> <td>   12.271</td> <td> 0.000</td> <td>    0.132</td> <td>    0.182</td>\n",
              "</tr>\n",
              "</table>\n",
              "<table class=\"simpletable\">\n",
              "<tr>\n",
              "  <th>Ljung-Box (L1) (Q):</th>     <td>0.05</td> <th>  Jarque-Bera (JB):  </th> <td>178.54</td>\n",
              "</tr>\n",
              "<tr>\n",
              "  <th>Prob(Q):</th>                <td>0.82</td> <th>  Prob(JB):          </th>  <td>0.00</td> \n",
              "</tr>\n",
              "<tr>\n",
              "  <th>Heteroskedasticity (H):</th> <td>0.15</td> <th>  Skew:              </th>  <td>0.87</td> \n",
              "</tr>\n",
              "<tr>\n",
              "  <th>Prob(H) (two-sided):</th>    <td>0.00</td> <th>  Kurtosis:          </th>  <td>7.51</td> \n",
              "</tr>\n",
              "</table><br/><br/>Warnings:<br/>[1] Covariance matrix calculated using the outer product of gradients (complex-step)."
            ],
            "text/plain": [
              "<class 'statsmodels.iolib.summary.Summary'>\n",
              "\"\"\"\n",
              "                                      SARIMAX Results                                       \n",
              "============================================================================================\n",
              "Dep. Variable:                      sentiment_count   No. Observations:                  196\n",
              "Model:             SARIMAX(2, 1, 2)x(1, 1, [1], 12)   Log Likelihood                 -98.204\n",
              "Date:                              Sun, 22 Jan 2023   AIC                            210.407\n",
              "Time:                                      10:57:35   BIC                            232.874\n",
              "Sample:                                           0   HQIC                           219.514\n",
              "                                              - 196                                         \n",
              "Covariance Type:                                opg                                         \n",
              "==============================================================================\n",
              "                 coef    std err          z      P>|z|      [0.025      0.975]\n",
              "------------------------------------------------------------------------------\n",
              "ar.L1         -0.5088      0.531     -0.958      0.338      -1.550       0.533\n",
              "ar.L2         -0.0341      0.118     -0.290      0.772      -0.265       0.196\n",
              "ma.L1         -0.3062      0.520     -0.588      0.556      -1.326       0.714\n",
              "ma.L2         -0.5215      0.470     -1.109      0.268      -1.444       0.400\n",
              "ar.S.L12      -0.1344      0.094     -1.434      0.152      -0.318       0.049\n",
              "ma.S.L12      -0.7758      0.105     -7.399      0.000      -0.981      -0.570\n",
              "sigma2         0.1572      0.013     12.271      0.000       0.132       0.182\n",
              "===================================================================================\n",
              "Ljung-Box (L1) (Q):                   0.05   Jarque-Bera (JB):               178.54\n",
              "Prob(Q):                              0.82   Prob(JB):                         0.00\n",
              "Heteroskedasticity (H):               0.15   Skew:                             0.87\n",
              "Prob(H) (two-sided):                  0.00   Kurtosis:                         7.51\n",
              "===================================================================================\n",
              "\n",
              "Warnings:\n",
              "[1] Covariance matrix calculated using the outer product of gradients (complex-step).\n",
              "\"\"\""
            ]
          },
          "execution_count": 137,
          "metadata": {},
          "output_type": "execute_result"
        }
      ],
      "source": [
        "p=2;q=2;d=1\n",
        "P=1;Q=1;D=1\n",
        "m3 = sm.tsa.statespace.SARIMAX(office_neg['sentiment_count'],order=(p,d,q),seasonal_order=(P,D,Q,12)).fit()\n",
        "# summarise the model\n",
        "m3.summary()\n"
      ]
    },
    {
      "cell_type": "code",
      "execution_count": null,
      "id": "de99208f",
      "metadata": {
        "id": "de99208f",
        "outputId": "e32b6758-aa56-4043-cc43-9c1d33be15e3"
      },
      "outputs": [
        {
          "name": "stdout",
          "output_type": "stream",
          "text": [
            "Fail-to-Reject H0. Good model\n"
          ]
        }
      ],
      "source": [
        "# LJung-Box test\n",
        "pvalue = sm.stats.acorr_ljungbox(m3.resid,lags=[1],return_df=True)['lb_pvalue'].values\n",
        "if pvalue < 0.05:\n",
        "    print(\"Reject H0. Bad model\")\n",
        "else:\n",
        "    print(\"Fail-to-Reject H0. Good model\")"
      ]
    },
    {
      "cell_type": "code",
      "execution_count": null,
      "id": "ef96d268",
      "metadata": {
        "id": "ef96d268",
        "outputId": "9852196e-3da2-4757-8354-69f953d4a28c"
      },
      "outputs": [
        {
          "name": "stdout",
          "output_type": "stream",
          "text": [
            "start = 137, end = 195\n"
          ]
        }
      ],
      "source": [
        "start = len(train3) \n",
        "end = len(train3) + len(test3) - 1\n",
        "\n",
        "print('start = {}, end = {}'.format(start,end))"
      ]
    },
    {
      "cell_type": "code",
      "execution_count": null,
      "id": "1a953889",
      "metadata": {
        "id": "1a953889",
        "outputId": "2317cabe-1602-453e-8551-191eefe41abb"
      },
      "outputs": [
        {
          "name": "stdout",
          "output_type": "stream",
          "text": [
            "date\n",
            "2013-11-30    2.797912\n",
            "2013-12-31    2.542814\n",
            "2014-01-31    2.623581\n",
            "2014-02-28    2.414891\n",
            "2014-03-31    2.470970\n",
            "Name: predicted_mean, dtype: float64\n"
          ]
        }
      ],
      "source": [
        "predictions = m3.predict(start,end)\n",
        "predictions.index=test3.index\n",
        "print(predictions.head())"
      ]
    },
    {
      "cell_type": "code",
      "execution_count": null,
      "id": "fb22d451",
      "metadata": {
        "id": "fb22d451",
        "outputId": "4055d855-05c5-4e8b-f4f1-d1c3fa36e7f0"
      },
      "outputs": [
        {
          "name": "stdout",
          "output_type": "stream",
          "text": [
            "              actual  predicted     error\n",
            "date                                     \n",
            "2013-11-30  2.818182   2.797912  0.020270\n",
            "2013-12-31  2.450549   2.542814 -0.092264\n",
            "2014-01-31  2.610465   2.623581 -0.013116\n",
            "2014-02-28  2.585366   2.414891  0.170475\n",
            "2014-03-31  2.537500   2.470970  0.066530\n"
          ]
        }
      ],
      "source": [
        "actual = []; pred = []\n",
        "test3.reset_index(drop=True)\n",
        "for i in range(len(predictions)):\n",
        "    actual.append(test3['sentiment_count'][i])\n",
        "    pred.append(predictions[i])\n",
        "\n",
        "df_res3 = pd.DataFrame({'actual':actual, 'predicted':pred})\n",
        "df_res3['error'] = df_res3.actual - df_res3.predicted\n",
        "df_res3.index=test3.index\n",
        "print(df_res3.head())"
      ]
    },
    {
      "cell_type": "code",
      "execution_count": null,
      "id": "ff0192d3",
      "metadata": {
        "id": "ff0192d3",
        "outputId": "f36e6f8e-61ad-499f-ed0c-f36afadd8bae"
      },
      "outputs": [
        {
          "name": "stdout",
          "output_type": "stream",
          "text": [
            "mse: 0.04943881217964915\n",
            "rmse: 0.2223484026919221\n"
          ]
        }
      ],
      "source": [
        "mse3=mean_squared_error(df_res3.actual,df_res3.predicted)\n",
        "rmse3=np.sqrt(mse3)\n",
        "print('mse:',mse3)\n",
        "print('rmse:',rmse3)"
      ]
    },
    {
      "cell_type": "code",
      "execution_count": null,
      "id": "861f7083",
      "metadata": {
        "id": "861f7083",
        "outputId": "5d268dce-74d8-41be-f9d1-5089010447a1"
      },
      "outputs": [
        {
          "data": {
            "text/plain": [
              "Text(0.5, 1.0, 'SARIMA Model. Order=(2,1,2)')"
            ]
          },
          "execution_count": 143,
          "metadata": {},
          "output_type": "execute_result"
        },
        {
          "data": {
            "image/png": "[encoded data removed]",
            "text/plain": [
              "<Figure size 720x576 with 1 Axes>"
            ]
          },
          "metadata": {
            "needs_background": "light"
          },
          "output_type": "display_data"
        }
      ],
      "source": [
        "msg = 'SARIMA Model. Order=(' + str(p) + ',' + str(d) + ',' + str(q) + ')'\n",
        "df_res3.actual.plot(figsize=(10,8),legend=True)\n",
        "df_res3.predicted.plot(legend=True)\n",
        "plt.title(msg)"
      ]
    },
    {
      "cell_type": "code",
      "execution_count": null,
      "id": "f4ac5e7f",
      "metadata": {
        "id": "f4ac5e7f",
        "outputId": "85c8ab9e-bc05-466c-f3bb-e1da33e1350b"
      },
      "outputs": [
        {
          "name": "stdout",
          "output_type": "stream",
          "text": [
            "date\n",
            "2018-10-31    2.386463\n",
            "2018-11-30    2.591510\n",
            "2018-12-31    2.382521\n",
            "2019-01-31    2.491707\n",
            "2019-02-28    2.340842\n",
            "Name: Forecast, dtype: float64\n"
          ]
        }
      ],
      "source": [
        "fcast3 = m3.predict(start=len(office_neg),end=len(office_neg)+36).rename('Forecast')\n",
        "fcast3.index=future_dates.date\n",
        "print(fcast3.head())"
      ]
    },
    {
      "cell_type": "code",
      "execution_count": null,
      "id": "6ef95eb6",
      "metadata": {
        "id": "6ef95eb6",
        "outputId": "08638082-78be-43d7-bbd7-aa7878f3760c"
      },
      "outputs": [
        {
          "data": {
            "text/plain": [
              "<AxesSubplot:xlabel='date', ylabel='count of negative sentiment'>"
            ]
          },
          "execution_count": 145,
          "metadata": {},
          "output_type": "execute_result"
        },
        {
          "data": {
            "image/png": "[encoded data removed]",
            "text/plain": [
              "<Figure size 720x576 with 1 Axes>"
            ]
          },
          "metadata": {
            "needs_background": "light"
          },
          "output_type": "display_data"
        }
      ],
      "source": [
        "df_res3.actual.plot(figsize=(10,8),legend=True)\n",
        "df_res3.predicted.plot(legend=True)\n",
        "plt.ylabel('count of negative sentiment')\n",
        "fcast3.plot(legend=True)\n"
      ]
    },
    {
      "cell_type": "code",
      "execution_count": null,
      "id": "80b6fc67",
      "metadata": {
        "id": "80b6fc67"
      },
      "outputs": [],
      "source": []
    }
  ],
  "metadata": {
    "kernelspec": {
      "display_name": "Python 3 (ipykernel)",
      "language": "python",
      "name": "python3"
    },
    "language_info": {
      "codemirror_mode": {
        "name": "ipython",
        "version": 3
      },
      "file_extension": ".py",
      "mimetype": "text/x-python",
      "name": "python",
      "nbconvert_exporter": "python",
      "pygments_lexer": "ipython3",
      "version": "3.9.12"
    },
    "colab": {
      "provenance": []
    }
  },
  "nbformat": 4,
  "nbformat_minor": 5
}